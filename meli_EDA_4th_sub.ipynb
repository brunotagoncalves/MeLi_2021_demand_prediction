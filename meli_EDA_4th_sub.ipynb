{
  "nbformat": 4,
  "nbformat_minor": 0,
  "metadata": {
    "colab": {
      "name": "meli_EDA_2nd_sub.ipynb",
      "provenance": [],
      "mount_file_id": "https://github.com/brunotagoncalves/MeLi_2021_demand_prediction/blob/main/meli_EDA_2nd_sub.ipynb",
      "authorship_tag": "ABX9TyMXZNsmLv2umECT8MlpgwEF",
      "include_colab_link": true
    },
    "kernelspec": {
      "name": "python3",
      "display_name": "Python 3"
    },
    "language_info": {
      "name": "python"
    }
  },
  "cells": [
    {
      "cell_type": "markdown",
      "metadata": {
        "id": "view-in-github",
        "colab_type": "text"
      },
      "source": [
        "<a href=\"https://colab.research.google.com/github/brunotagoncalves/MeLi_2021_demand_prediction/blob/main/meli_EDA_4th_sub.ipynb\" target=\"_parent\"><img src=\"https://colab.research.google.com/assets/colab-badge.svg\" alt=\"Open In Colab\"/></a>"
      ]
    },
    {
      "cell_type": "markdown",
      "metadata": {
        "id": "-ZbsoPU-AJ4N"
      },
      "source": [
        "# Read Data "
      ]
    },
    {
      "cell_type": "code",
      "metadata": {
        "id": "xPnEDAXf5UJt"
      },
      "source": [
        "!wget --help"
      ],
      "execution_count": null,
      "outputs": []
    },
    {
      "cell_type": "code",
      "metadata": {
        "colab": {
          "base_uri": "https://localhost:8080/"
        },
        "id": "37hIzI0UANWB",
        "outputId": "36f047f1-04f0-40d0-dcec-60da6ddc0aad"
      },
      "source": [
        "!wget https://meli-data-challenge.s3.amazonaws.com/2021/test_data.csv -P /drive/MyDrive/MeLi-2021/row/\n",
        "!wget https://meli-data-challenge.s3.amazonaws.com/2021/train_data.parquet -P /drive/MyDrive/MeLi-2021/row/\n",
        "!wget https://meli-data-challenge.s3.amazonaws.com/2021/items_static_metadata_full.jl -P /drive/MyDrive/MeLi-2021/row/\n",
        "!wget https://meli-data-challenge.s3.amazonaws.com/2021/sample_submission.csv.gz -P /drive/MyDrive/MeLi-2021/row/"
      ],
      "execution_count": 2,
      "outputs": [
        {
          "output_type": "stream",
          "text": [
            "--2021-07-24 23:44:46--  https://meli-data-challenge.s3.amazonaws.com/2021/test_data.csv\n",
            "Resolving meli-data-challenge.s3.amazonaws.com (meli-data-challenge.s3.amazonaws.com)... 52.217.102.236\n",
            "Connecting to meli-data-challenge.s3.amazonaws.com (meli-data-challenge.s3.amazonaws.com)|52.217.102.236|:443... connected.\n",
            "HTTP request sent, awaiting response... 200 OK\n",
            "Length: 5075979 (4.8M) [text/csv]\n",
            "Saving to: ‘/drive/MyDrive/MeLi-2021/row/test_data.csv’\n",
            "\n",
            "test_data.csv       100%[===================>]   4.84M  3.30MB/s    in 1.5s    \n",
            "\n",
            "2021-07-24 23:44:49 (3.30 MB/s) - ‘/drive/MyDrive/MeLi-2021/row/test_data.csv’ saved [5075979/5075979]\n",
            "\n",
            "--2021-07-24 23:44:49--  https://meli-data-challenge.s3.amazonaws.com/2021/train_data.parquet\n",
            "Resolving meli-data-challenge.s3.amazonaws.com (meli-data-challenge.s3.amazonaws.com)... 52.217.89.132\n",
            "Connecting to meli-data-challenge.s3.amazonaws.com (meli-data-challenge.s3.amazonaws.com)|52.217.89.132|:443... connected.\n",
            "HTTP request sent, awaiting response... 200 OK\n",
            "Length: 81456239 (78M) [application/x-www-form-urlencoded]\n",
            "Saving to: ‘/drive/MyDrive/MeLi-2021/row/train_data.parquet’\n",
            "\n",
            "train_data.parquet  100%[===================>]  77.68M  15.8MB/s    in 6.3s    \n",
            "\n",
            "2021-07-24 23:44:56 (12.4 MB/s) - ‘/drive/MyDrive/MeLi-2021/row/train_data.parquet’ saved [81456239/81456239]\n",
            "\n",
            "--2021-07-24 23:44:56--  https://meli-data-challenge.s3.amazonaws.com/2021/items_static_metadata_full.jl\n",
            "Resolving meli-data-challenge.s3.amazonaws.com (meli-data-challenge.s3.amazonaws.com)... 52.216.229.195\n",
            "Connecting to meli-data-challenge.s3.amazonaws.com (meli-data-challenge.s3.amazonaws.com)|52.216.229.195|:443... connected.\n",
            "HTTP request sent, awaiting response... 200 OK\n",
            "Length: 135913048 (130M) [application/x-www-form-urlencoded]\n",
            "Saving to: ‘/drive/MyDrive/MeLi-2021/row/items_static_metadata_full.jl’\n",
            "\n",
            "items_static_metada 100%[===================>] 129.62M  14.5MB/s    in 10s     \n",
            "\n",
            "2021-07-24 23:45:07 (12.7 MB/s) - ‘/drive/MyDrive/MeLi-2021/row/items_static_metadata_full.jl’ saved [135913048/135913048]\n",
            "\n",
            "--2021-07-24 23:45:07--  https://meli-data-challenge.s3.amazonaws.com/2021/sample_submission.csv.gz\n",
            "Resolving meli-data-challenge.s3.amazonaws.com (meli-data-challenge.s3.amazonaws.com)... 52.217.94.188\n",
            "Connecting to meli-data-challenge.s3.amazonaws.com (meli-data-challenge.s3.amazonaws.com)|52.217.94.188|:443... connected.\n",
            "HTTP request sent, awaiting response... 200 OK\n",
            "Length: 19776711 (19M) [application/x-gzip]\n",
            "Saving to: ‘/drive/MyDrive/MeLi-2021/row/sample_submission.csv.gz’\n",
            "\n",
            "sample_submission.c 100%[===================>]  18.86M  7.78MB/s    in 2.4s    \n",
            "\n",
            "2021-07-24 23:45:10 (7.78 MB/s) - ‘/drive/MyDrive/MeLi-2021/row/sample_submission.csv.gz’ saved [19776711/19776711]\n",
            "\n"
          ],
          "name": "stdout"
        }
      ]
    },
    {
      "cell_type": "code",
      "metadata": {
        "colab": {
          "base_uri": "https://localhost:8080/"
        },
        "id": "GL6kFn3IcDH1",
        "outputId": "644c981e-97c7-42a7-cc7e-a40583ca974e"
      },
      "source": [
        "!apt-get install openjdk-8-jdk-headless -qq > /dev/null\n",
        "#!wget http://www-eu.apache.org/dist/spark/spark-2.4.8/spark-2.4.8-bin-hadoop2.7.tgz \n",
        "!wget -P spark_tgz/ http://www-eu.apache.org/dist/spark/spark-2.4.8/spark-2.4.8-bin-hadoop2.7.tgz"
      ],
      "execution_count": 3,
      "outputs": [
        {
          "output_type": "stream",
          "text": [
            "--2021-07-24 23:46:25--  http://www-eu.apache.org/dist/spark/spark-2.4.8/spark-2.4.8-bin-hadoop2.7.tgz\n",
            "Resolving www-eu.apache.org (www-eu.apache.org)... 95.216.26.30, 2a01:4f9:2a:1a61::2\n",
            "Connecting to www-eu.apache.org (www-eu.apache.org)|95.216.26.30|:80... connected.\n",
            "HTTP request sent, awaiting response... 302 Found\n",
            "Location: https://downloads.apache.org/spark/spark-2.4.8/spark-2.4.8-bin-hadoop2.7.tgz [following]\n",
            "--2021-07-24 23:46:25--  https://downloads.apache.org/spark/spark-2.4.8/spark-2.4.8-bin-hadoop2.7.tgz\n",
            "Resolving downloads.apache.org (downloads.apache.org)... 88.99.95.219, 135.181.214.104, 135.181.209.10, ...\n",
            "Connecting to downloads.apache.org (downloads.apache.org)|88.99.95.219|:443... connected.\n",
            "HTTP request sent, awaiting response... 200 OK\n",
            "Length: 235899716 (225M) [application/x-gzip]\n",
            "Saving to: ‘spark_tgz/spark-2.4.8-bin-hadoop2.7.tgz’\n",
            "\n",
            "spark-2.4.8-bin-had 100%[===================>] 224.97M  10.3MB/s    in 24s     \n",
            "\n",
            "2021-07-24 23:46:51 (9.27 MB/s) - ‘spark_tgz/spark-2.4.8-bin-hadoop2.7.tgz’ saved [235899716/235899716]\n",
            "\n"
          ],
          "name": "stdout"
        }
      ]
    },
    {
      "cell_type": "code",
      "metadata": {
        "colab": {
          "base_uri": "https://localhost:8080/"
        },
        "id": "MXldW4KjcF8h",
        "outputId": "306a0bd3-d3a7-4c7e-bb00-dc0807ab51d2"
      },
      "source": [
        "!tar -xf spark_tgz/spark-2.4.8-bin-hadoop2.7.tgz -C spark_tgz/\n",
        "!pip install -q findspark\n",
        "!pip install -q pyspark"
      ],
      "execution_count": 4,
      "outputs": [
        {
          "output_type": "stream",
          "text": [
            "\u001b[K     |████████████████████████████████| 212.4 MB 40 kB/s \n",
            "\u001b[K     |████████████████████████████████| 198 kB 50.0 MB/s \n",
            "\u001b[?25h  Building wheel for pyspark (setup.py) ... \u001b[?25l\u001b[?25hdone\n"
          ],
          "name": "stdout"
        }
      ]
    },
    {
      "cell_type": "code",
      "metadata": {
        "id": "DwlQZAD5cJrK"
      },
      "source": [
        "import os\n",
        "os.environ[\"JAVA_HOME\"] = \"/usr/lib/jvm/java-8-openjdk-amd64\"\n",
        "os.environ[\"SPARK_HOME\"] = \"/content/spark_tgz/spark-2.4.8-bin-hadoop2.7\""
      ],
      "execution_count": 5,
      "outputs": []
    },
    {
      "cell_type": "code",
      "metadata": {
        "id": "XjwlnWfvcNyT"
      },
      "source": [
        "import findspark\n",
        "findspark.init()\n",
        "from pyspark.sql import SparkSession\n",
        "spark = SparkSession.builder.master(\"local[*]\").getOrCreate()"
      ],
      "execution_count": 6,
      "outputs": []
    },
    {
      "cell_type": "code",
      "metadata": {
        "id": "NcLjJFcUAVdR"
      },
      "source": [
        "import pandas as pd \n",
        "import numpy as np\n"
      ],
      "execution_count": 7,
      "outputs": []
    },
    {
      "cell_type": "code",
      "metadata": {
        "id": "4nuN_PXPcPcT"
      },
      "source": [
        "df_spark = spark.read.format('parquet').load(\"/drive/MyDrive/MeLi-2021/row/train_data.parquet\")"
      ],
      "execution_count": 7,
      "outputs": []
    },
    {
      "cell_type": "code",
      "metadata": {
        "colab": {
          "base_uri": "https://localhost:8080/"
        },
        "id": "f3Kkho_vcdt-",
        "outputId": "b7cb4a4b-9aef-4340-cb7f-3d356fbc665d"
      },
      "source": [
        "df_spark.count()"
      ],
      "execution_count": 8,
      "outputs": [
        {
          "output_type": "execute_result",
          "data": {
            "text/plain": [
              "37660279"
            ]
          },
          "metadata": {
            "tags": []
          },
          "execution_count": 8
        }
      ]
    },
    {
      "cell_type": "code",
      "metadata": {
        "id": "15mQ-Xwwchv7"
      },
      "source": [
        "df_spark.createOrReplaceTempView('df')"
      ],
      "execution_count": 9,
      "outputs": []
    },
    {
      "cell_type": "code",
      "metadata": {
        "id": "6ff7dxebga47"
      },
      "source": [
        "spark.sql(\"\"\"\n",
        "SELECT df.*\n",
        "  ,minutes_active - lag(minutes_active,1) over (partition by sku order by date asc) diff_minutes_active\n",
        "  ,(CASE WHEN minutes_active - lag(minutes_active,1) over (partition by sku order by date asc) < 0 THEN 'Ruptura'END) Ruptura\n",
        "  ,(CASE WHEN minutes_active - lag(minutes_active,1) over (partition by sku order by date asc) > 0 THEN 'Estoque'END) Estoque\n",
        "  \n",
        "FROM df\n",
        "--where sku = 645793\n",
        "--order by sku, date\n",
        "\"\"\").createOrReplaceTempView('df_re')"
      ],
      "execution_count": 10,
      "outputs": []
    },
    {
      "cell_type": "code",
      "metadata": {
        "id": "nHyIniUBglfx"
      },
      "source": [
        "spark.sql(\"\"\"\n",
        "SELECT df_re.*\n",
        "  ,CASE WHEN Ruptura is null and Estoque is null and minutes_active>0 and diff_minutes_active is null then 'Estoque'\n",
        "        --WHEN Estoque is not null then 'Estoque'\n",
        "        WHEN minutes_active = diff_minutes_active\tand Estoque is not null then 'Estoque'\n",
        "        --WHEN Ruptura is not null and Estoque is null then 'Ruptura'\n",
        "        WHEN Ruptura is not null and Estoque is null and minutes_active=0  then 'Ruptura'\n",
        "        END STATUS_RUPTURA\n",
        "FROM df_re\n",
        "--where sku = 645793\n",
        "--order by sku, date\n",
        "\"\"\").createOrReplaceTempView('df_re')#.toPandas()"
      ],
      "execution_count": 11,
      "outputs": []
    },
    {
      "cell_type": "code",
      "metadata": {
        "id": "J7jz7MUM9QCy"
      },
      "source": [
        "spark.sql(\"\"\"\n",
        "SELECT df_re.*\n",
        "  ,COUNT(CASE WHEN STATUS_RUPTURA IS NOT NULL THEN 1 END) over (partition by sku order by date ) ciclo_ruptura\n",
        "FROM df_re\n",
        "--where sku = 645793\n",
        "--order by sku, date\n",
        "\"\"\").createOrReplaceTempView('df_re')#.toPandas()"
      ],
      "execution_count": 12,
      "outputs": []
    },
    {
      "cell_type": "code",
      "metadata": {
        "id": "fS4JxQefo97e"
      },
      "source": [
        "spark.sql(\"\"\"\n",
        "SELECT df_re.*\n",
        "  ,SUM(sold_quantity) over (partition by sku,ciclo_ruptura order by date desc) sum_sold_quantity \n",
        "  ,sum(case when sold_quantity >0 then current_price*sold_quantity end) over (partition by sku,ciclo_ruptura order by date desc)/SUM(sold_quantity) over (partition by sku,ciclo_ruptura order by date desc) avg_current_price \n",
        "  ,SUM(minutes_active) over (partition by sku,ciclo_ruptura order by date desc)/60/24 days_active_nround\n",
        "  ,round(SUM(minutes_active) over (partition by sku,ciclo_ruptura order by date desc) /60/24 + 0.5,0) days_active \n",
        "FROM df_re\n",
        "--where sku = 645793\n",
        "--order by sku, date\n",
        "\"\"\").createOrReplaceTempView('df_re')#.toPandas()"
      ],
      "execution_count": 13,
      "outputs": []
    },
    {
      "cell_type": "code",
      "metadata": {
        "id": "Bro3AOIrkDQc"
      },
      "source": [
        "spark.sql(\"\"\"\n",
        "SELECT df_re.*  \n",
        "  ,min(days_active_nround) over (partition by sku,ciclo_ruptura order by date desc)>0 FLG_ruptura \n",
        "FROM df_re\n",
        "--where sku = 0\n",
        "--order by sku, date\n",
        "\"\"\").filter('FLG_ruptura=True').drop(*['sold_quantity','minutes_active','diff_minutes_active',\t'Ruptura',\t'Estoque',\t'STATUS_RUPTURA',\t'ciclo_ruptura']).createOrReplaceTempView('df_final')#.toPandas()"
      ],
      "execution_count": 14,
      "outputs": []
    },
    {
      "cell_type": "code",
      "metadata": {
        "id": "OOVZxzIfr9D6",
        "colab": {
          "base_uri": "https://localhost:8080/"
        },
        "outputId": "e775118b-9530-4d99-d631-d224f46bb195"
      },
      "source": [
        "%%time\n",
        "spark.sql(\"\"\"\n",
        "SELECT *\n",
        "FROM df_final\n",
        "\"\"\").write.mode('overwrite').format('parquet').save('data/tabelao/')"
      ],
      "execution_count": 15,
      "outputs": [
        {
          "output_type": "stream",
          "text": [
            "CPU times: user 980 ms, sys: 98.7 ms, total: 1.08 s\n",
            "Wall time: 3min 31s\n"
          ],
          "name": "stdout"
        }
      ]
    },
    {
      "cell_type": "code",
      "metadata": {
        "id": "lWELtLngxNJJ"
      },
      "source": [
        "df = spark.read.format('parquet').load('data/tabelao/')"
      ],
      "execution_count": 16,
      "outputs": []
    },
    {
      "cell_type": "code",
      "metadata": {
        "colab": {
          "base_uri": "https://localhost:8080/"
        },
        "id": "zre2tnJkzomq",
        "outputId": "cd3e6003-f1d3-4d1f-de94-8592ee063c51"
      },
      "source": [
        "df.count()"
      ],
      "execution_count": 17,
      "outputs": [
        {
          "output_type": "execute_result",
          "data": {
            "text/plain": [
              "28096162"
            ]
          },
          "metadata": {
            "tags": []
          },
          "execution_count": 17
        }
      ]
    },
    {
      "cell_type": "code",
      "metadata": {
        "id": "lA9aFdgdCOdE"
      },
      "source": [
        "spark.sql(\"\"\"\n",
        "SELECT sku\n",
        "  , sum(sold_quantity) total_sold_quantity \n",
        "  , max(sold_quantity) max_sold_quantity \n",
        "  , min(case when sold_quantity>0 then sold_quantity end) min_sold_quantity \n",
        "  , avg(case when sold_quantity>0 then sold_quantity end) avg_sold_quantity \n",
        "  , percentile_approx(case when sold_quantity>0 then sold_quantity end,.5) median_sold_quantity \n",
        "  , percentile_approx(case when sold_quantity>0 then sold_quantity end,.25) qt1_sold_quantity \n",
        "  , percentile_approx(case when sold_quantity>0 then sold_quantity end,.75) qt3_sold_quantity \n",
        "\n",
        "  , sum(current_price*sold_quantity) total_fat \n",
        "  , max(current_price*sold_quantity) max_fat  \n",
        "  , min(case when sold_quantity>0 then current_price*sold_quantity end) min_fat \n",
        "  , avg(case when sold_quantity>0 then current_price*sold_quantity end) avg_fat\n",
        "  , percentile_approx(case when sold_quantity>0 then current_price*sold_quantity end,.5) median_fat\n",
        "  , percentile_approx(case when sold_quantity>0 then current_price*sold_quantity end,.25) qt1_fat\n",
        "  , percentile_approx(case when sold_quantity>0 then current_price*sold_quantity end,.75) qt3_fat\n",
        "\n",
        "  , sum(case when sold_quantity>0 then current_price*sold_quantity end)/sum(sold_quantity) avg_price\n",
        "  , percentile_approx(case when sold_quantity>0 then current_price*sold_quantity end,.5)/sum(sold_quantity) median_price\n",
        "  , percentile_approx(case when sold_quantity>0 then current_price*sold_quantity end,.25)/sum(sold_quantity) qt1_price\n",
        "  , percentile_approx(case when sold_quantity>0 then current_price*sold_quantity end,.75)/sum(sold_quantity) qt3_price\n",
        "FROM df\n",
        "GROUP BY sku\n",
        "\"\"\").repartition(1).write.mode('overwrite').format('parquet').save('data/agreg/')"
      ],
      "execution_count": 18,
      "outputs": []
    },
    {
      "cell_type": "code",
      "metadata": {
        "id": "8Wldb2kjtiA3"
      },
      "source": [
        "g_df = spark.read.format('parquet').load('data/agreg/')\n",
        "g_df.createOrReplaceTempView('g_df')"
      ],
      "execution_count": 19,
      "outputs": []
    },
    {
      "cell_type": "code",
      "metadata": {
        "id": "mAtN4YIxvIjT"
      },
      "source": [
        "spark.read.format('json').load('items_static_metadata_full.jl').createOrReplaceTempView('items')"
      ],
      "execution_count": 23,
      "outputs": []
    },
    {
      "cell_type": "code",
      "metadata": {
        "id": "kOMyJpuqtD3K"
      },
      "source": [
        "spark.sql(\"\"\"\n",
        "SELECT df_final.sku ,\n",
        "  date ,\n",
        "  current_price ,\n",
        "  currency ,\n",
        "  listing_type ,\n",
        "  shipping_logistic_type ,\n",
        "  shipping_payment ,\n",
        "  sum_sold_quantity ,\n",
        "  avg_current_price ,\n",
        "  days_active_nround ,\n",
        "  days_active ,\n",
        "  FLG_ruptura ,\n",
        "\n",
        "  total_sold_quantity ,\n",
        "  max_sold_quantity ,\n",
        "  min_sold_quantity ,\n",
        "  avg_sold_quantity ,\n",
        "  median_sold_quantity ,\n",
        "  qt1_sold_quantity ,\n",
        "  qt3_sold_quantity ,\n",
        "  total_fat ,\n",
        "  max_fat ,\n",
        "  min_fat ,\n",
        "  avg_fat ,\n",
        "  median_fat ,\n",
        "  qt1_fat ,\n",
        "  qt3_fat ,\n",
        "  avg_price ,\n",
        "  median_price ,\n",
        "  qt1_price ,\n",
        "  qt3_price ,\n",
        "  item_domain_id ,\n",
        "  item_id ,\n",
        "  item_title ,\n",
        "  product_family_id ,\n",
        "  product_id ,\n",
        "  site_id \n",
        "\n",
        "FROM df_final\n",
        "LEFT JOIN g_df \n",
        "  ON g_df.sku = df_final.sku\n",
        "LEFT JOIN items \n",
        "  ON items.sku = df_final.sku\n",
        "\"\"\").createOrReplaceTempView('df_final_join')"
      ],
      "execution_count": 43,
      "outputs": []
    },
    {
      "cell_type": "code",
      "metadata": {
        "id": "zQeusiqOwB9p"
      },
      "source": [
        "spark.read.option(\"header\",True).format('csv').load('test_data.csv').createOrReplaceTempView('test_data')\n"
      ],
      "execution_count": 47,
      "outputs": []
    },
    {
      "cell_type": "code",
      "metadata": {
        "id": "EZ8kW-kQu3mX"
      },
      "source": [
        "spark.sql(\"\"\"\n",
        "SELECT test_data.sku ,\n",
        "  target_stock ,\n",
        "  total_sold_quantity ,\n",
        "  max_sold_quantity ,\n",
        "  min_sold_quantity ,\n",
        "  avg_sold_quantity ,\n",
        "  median_sold_quantity ,\n",
        "  qt1_sold_quantity ,\n",
        "  qt3_sold_quantity ,\n",
        "  total_fat ,\n",
        "  max_fat ,\n",
        "  min_fat ,\n",
        "  avg_fat ,\n",
        "  median_fat ,\n",
        "  qt1_fat ,\n",
        "  qt3_fat ,\n",
        "  avg_price ,\n",
        "  median_price ,\n",
        "  qt1_price ,\n",
        "  qt3_price ,\n",
        "  item_domain_id ,\n",
        "  item_id ,\n",
        "  item_title ,\n",
        "  product_family_id ,\n",
        "  product_id ,\n",
        "  site_id \n",
        "FROM test_data\n",
        "LEFT JOIN g_df \n",
        "  ON g_df.sku = test_data.sku\n",
        "LEFT JOIN items \n",
        "  ON items.sku = test_data.sku\n",
        "\"\"\").createOrReplaceTempView('test_data_join')"
      ],
      "execution_count": 48,
      "outputs": []
    },
    {
      "cell_type": "code",
      "metadata": {
        "id": "9SuKoRegMvoJ",
        "outputId": "0a63965f-d442-421d-8189-a0564e9a7184",
        "colab": {
          "base_uri": "https://localhost:8080/"
        }
      },
      "source": [
        "%%time\n",
        "spark.sql(\"\"\"\n",
        "SELECT *\n",
        "FROM df_final_join\n",
        "\"\"\").repartition(1).write.mode('overwrite').format('parquet').save('data/df_final_join/')"
      ],
      "execution_count": 49,
      "outputs": [
        {
          "output_type": "stream",
          "text": [
            "CPU times: user 1.74 s, sys: 143 ms, total: 1.88 s\n",
            "Wall time: 6min 33s\n"
          ],
          "name": "stdout"
        }
      ]
    },
    {
      "cell_type": "code",
      "metadata": {
        "id": "uiga4fDSxt5Y",
        "outputId": "678e8dd1-72a4-49a1-bcf4-860b56931a34",
        "colab": {
          "base_uri": "https://localhost:8080/"
        }
      },
      "source": [
        "%%time\n",
        "spark.sql(\"\"\"\n",
        "SELECT *\n",
        "FROM test_data_join\n",
        "\"\"\").repartition(1).write.mode('overwrite').format('parquet').save('data/test_data_join/')"
      ],
      "execution_count": 50,
      "outputs": [
        {
          "output_type": "stream",
          "text": [
            "CPU times: user 71.7 ms, sys: 8.48 ms, total: 80.2 ms\n",
            "Wall time: 16 s\n"
          ],
          "name": "stdout"
        }
      ]
    },
    {
      "cell_type": "code",
      "metadata": {
        "id": "ulSN-TTW24AG"
      },
      "source": [
        "df_train = spark.read.format('parquet').load('data/df_final_join/')\n",
        "df_train = spark.read.format('parquet').load('data/df_final_join/')"
      ],
      "execution_count": null,
      "outputs": []
    },
    {
      "cell_type": "code",
      "metadata": {
        "id": "4pNRaVNnCNuP"
      },
      "source": [
        "from glob import glob \n",
        "loc_parquet = glob('data/tabela_final/*.parquet')\n",
        "df = pd.read_parquet(loc_parquet[0])\n",
        "#pd_df = df.toPandas()"
      ],
      "execution_count": 5,
      "outputs": []
    },
    {
      "cell_type": "code",
      "metadata": {
        "id": "b-cISC0Q0t-Y"
      },
      "source": [
        "df = df.loc[df.loc[:,'sum_sold_quantity']>0,:]"
      ],
      "execution_count": 6,
      "outputs": []
    },
    {
      "cell_type": "code",
      "metadata": {
        "colab": {
          "base_uri": "https://localhost:8080/",
          "height": 206
        },
        "id": "q7At4HCRCWIW",
        "outputId": "8dc6efff-f94b-44c0-e9a0-87c83561f54b"
      },
      "source": [
        "df.head()"
      ],
      "execution_count": 7,
      "outputs": [
        {
          "output_type": "execute_result",
          "data": {
            "text/html": [
              "<div>\n",
              "<style scoped>\n",
              "    .dataframe tbody tr th:only-of-type {\n",
              "        vertical-align: middle;\n",
              "    }\n",
              "\n",
              "    .dataframe tbody tr th {\n",
              "        vertical-align: top;\n",
              "    }\n",
              "\n",
              "    .dataframe thead th {\n",
              "        text-align: right;\n",
              "    }\n",
              "</style>\n",
              "<table border=\"1\" class=\"dataframe\">\n",
              "  <thead>\n",
              "    <tr style=\"text-align: right;\">\n",
              "      <th></th>\n",
              "      <th>sku</th>\n",
              "      <th>date</th>\n",
              "      <th>current_price</th>\n",
              "      <th>currency</th>\n",
              "      <th>listing_type</th>\n",
              "      <th>shipping_logistic_type</th>\n",
              "      <th>shipping_payment</th>\n",
              "      <th>sum_sold_quantity</th>\n",
              "      <th>avg_current_price</th>\n",
              "      <th>days_active_nround</th>\n",
              "      <th>days_active</th>\n",
              "      <th>FLG_ruptura</th>\n",
              "    </tr>\n",
              "  </thead>\n",
              "  <tbody>\n",
              "    <tr>\n",
              "      <th>0</th>\n",
              "      <td>264</td>\n",
              "      <td>2021-03-07</td>\n",
              "      <td>1151.69</td>\n",
              "      <td>MEX</td>\n",
              "      <td>premium</td>\n",
              "      <td>fulfillment</td>\n",
              "      <td>free_shipping</td>\n",
              "      <td>6</td>\n",
              "      <td>1151.690000</td>\n",
              "      <td>0.778449</td>\n",
              "      <td>1.0</td>\n",
              "      <td>True</td>\n",
              "    </tr>\n",
              "    <tr>\n",
              "      <th>1</th>\n",
              "      <td>264</td>\n",
              "      <td>2021-03-06</td>\n",
              "      <td>1151.69</td>\n",
              "      <td>MEX</td>\n",
              "      <td>premium</td>\n",
              "      <td>fulfillment</td>\n",
              "      <td>free_shipping</td>\n",
              "      <td>19</td>\n",
              "      <td>1151.690000</td>\n",
              "      <td>1.778449</td>\n",
              "      <td>2.0</td>\n",
              "      <td>True</td>\n",
              "    </tr>\n",
              "    <tr>\n",
              "      <th>2</th>\n",
              "      <td>264</td>\n",
              "      <td>2021-03-05</td>\n",
              "      <td>1151.69</td>\n",
              "      <td>MEX</td>\n",
              "      <td>premium</td>\n",
              "      <td>fulfillment</td>\n",
              "      <td>free_shipping</td>\n",
              "      <td>24</td>\n",
              "      <td>1151.690000</td>\n",
              "      <td>2.778449</td>\n",
              "      <td>3.0</td>\n",
              "      <td>True</td>\n",
              "    </tr>\n",
              "    <tr>\n",
              "      <th>3</th>\n",
              "      <td>264</td>\n",
              "      <td>2021-03-04</td>\n",
              "      <td>1087.73</td>\n",
              "      <td>MEX</td>\n",
              "      <td>premium</td>\n",
              "      <td>fulfillment</td>\n",
              "      <td>free_shipping</td>\n",
              "      <td>33</td>\n",
              "      <td>1134.246364</td>\n",
              "      <td>3.778449</td>\n",
              "      <td>4.0</td>\n",
              "      <td>True</td>\n",
              "    </tr>\n",
              "    <tr>\n",
              "      <th>4</th>\n",
              "      <td>264</td>\n",
              "      <td>2021-03-03</td>\n",
              "      <td>1095.98</td>\n",
              "      <td>MEX</td>\n",
              "      <td>premium</td>\n",
              "      <td>fulfillment</td>\n",
              "      <td>free_shipping</td>\n",
              "      <td>53</td>\n",
              "      <td>1119.806226</td>\n",
              "      <td>4.778449</td>\n",
              "      <td>5.0</td>\n",
              "      <td>True</td>\n",
              "    </tr>\n",
              "  </tbody>\n",
              "</table>\n",
              "</div>"
            ],
            "text/plain": [
              "   sku        date  current_price  ... days_active_nround days_active FLG_ruptura\n",
              "0  264  2021-03-07        1151.69  ...           0.778449         1.0        True\n",
              "1  264  2021-03-06        1151.69  ...           1.778449         2.0        True\n",
              "2  264  2021-03-05        1151.69  ...           2.778449         3.0        True\n",
              "3  264  2021-03-04        1087.73  ...           3.778449         4.0        True\n",
              "4  264  2021-03-03        1095.98  ...           4.778449         5.0        True\n",
              "\n",
              "[5 rows x 12 columns]"
            ]
          },
          "metadata": {
            "tags": []
          },
          "execution_count": 7
        }
      ]
    },
    {
      "cell_type": "code",
      "metadata": {
        "colab": {
          "base_uri": "https://localhost:8080/"
        },
        "id": "T6awArEvGMdY",
        "outputId": "adf5d281-90d7-41bf-ff8d-76d8e23b6254"
      },
      "source": [
        "df.shape  "
      ],
      "execution_count": 8,
      "outputs": [
        {
          "output_type": "execute_result",
          "data": {
            "text/plain": [
              "(25326463, 12)"
            ]
          },
          "metadata": {
            "tags": []
          },
          "execution_count": 8
        }
      ]
    },
    {
      "cell_type": "code",
      "metadata": {
        "id": "6AIOhPOYVZhi",
        "outputId": "bec26f72-e711-462f-8e12-32c295f37f7b",
        "colab": {
          "base_uri": "https://localhost:8080/",
          "height": 864
        }
      },
      "source": [
        "df.loc[df.sku==961,:]"
      ],
      "execution_count": 9,
      "outputs": [
        {
          "output_type": "execute_result",
          "data": {
            "text/html": [
              "<div>\n",
              "<style scoped>\n",
              "    .dataframe tbody tr th:only-of-type {\n",
              "        vertical-align: middle;\n",
              "    }\n",
              "\n",
              "    .dataframe tbody tr th {\n",
              "        vertical-align: top;\n",
              "    }\n",
              "\n",
              "    .dataframe thead th {\n",
              "        text-align: right;\n",
              "    }\n",
              "</style>\n",
              "<table border=\"1\" class=\"dataframe\">\n",
              "  <thead>\n",
              "    <tr style=\"text-align: right;\">\n",
              "      <th></th>\n",
              "      <th>sku</th>\n",
              "      <th>date</th>\n",
              "      <th>current_price</th>\n",
              "      <th>currency</th>\n",
              "      <th>listing_type</th>\n",
              "      <th>shipping_logistic_type</th>\n",
              "      <th>shipping_payment</th>\n",
              "      <th>sum_sold_quantity</th>\n",
              "      <th>avg_current_price</th>\n",
              "      <th>days_active_nround</th>\n",
              "      <th>days_active</th>\n",
              "      <th>FLG_ruptura</th>\n",
              "    </tr>\n",
              "  </thead>\n",
              "  <tbody>\n",
              "    <tr>\n",
              "      <th>163</th>\n",
              "      <td>961</td>\n",
              "      <td>2021-02-26</td>\n",
              "      <td>65.0</td>\n",
              "      <td>MEX</td>\n",
              "      <td>premium</td>\n",
              "      <td>fulfillment</td>\n",
              "      <td>paid_shipping</td>\n",
              "      <td>1</td>\n",
              "      <td>65.0</td>\n",
              "      <td>0.520315</td>\n",
              "      <td>1.0</td>\n",
              "      <td>True</td>\n",
              "    </tr>\n",
              "    <tr>\n",
              "      <th>164</th>\n",
              "      <td>961</td>\n",
              "      <td>2021-02-25</td>\n",
              "      <td>65.0</td>\n",
              "      <td>MEX</td>\n",
              "      <td>premium</td>\n",
              "      <td>fulfillment</td>\n",
              "      <td>paid_shipping</td>\n",
              "      <td>1</td>\n",
              "      <td>65.0</td>\n",
              "      <td>1.520315</td>\n",
              "      <td>2.0</td>\n",
              "      <td>True</td>\n",
              "    </tr>\n",
              "    <tr>\n",
              "      <th>165</th>\n",
              "      <td>961</td>\n",
              "      <td>2021-02-24</td>\n",
              "      <td>65.0</td>\n",
              "      <td>MEX</td>\n",
              "      <td>premium</td>\n",
              "      <td>fulfillment</td>\n",
              "      <td>paid_shipping</td>\n",
              "      <td>1</td>\n",
              "      <td>65.0</td>\n",
              "      <td>2.520315</td>\n",
              "      <td>3.0</td>\n",
              "      <td>True</td>\n",
              "    </tr>\n",
              "    <tr>\n",
              "      <th>166</th>\n",
              "      <td>961</td>\n",
              "      <td>2021-02-23</td>\n",
              "      <td>65.0</td>\n",
              "      <td>MEX</td>\n",
              "      <td>premium</td>\n",
              "      <td>fulfillment</td>\n",
              "      <td>paid_shipping</td>\n",
              "      <td>6</td>\n",
              "      <td>65.0</td>\n",
              "      <td>3.520315</td>\n",
              "      <td>4.0</td>\n",
              "      <td>True</td>\n",
              "    </tr>\n",
              "    <tr>\n",
              "      <th>167</th>\n",
              "      <td>961</td>\n",
              "      <td>2021-02-22</td>\n",
              "      <td>65.0</td>\n",
              "      <td>MEX</td>\n",
              "      <td>premium</td>\n",
              "      <td>fulfillment</td>\n",
              "      <td>paid_shipping</td>\n",
              "      <td>8</td>\n",
              "      <td>65.0</td>\n",
              "      <td>4.520315</td>\n",
              "      <td>5.0</td>\n",
              "      <td>True</td>\n",
              "    </tr>\n",
              "    <tr>\n",
              "      <th>168</th>\n",
              "      <td>961</td>\n",
              "      <td>2021-02-21</td>\n",
              "      <td>65.0</td>\n",
              "      <td>MEX</td>\n",
              "      <td>premium</td>\n",
              "      <td>fulfillment</td>\n",
              "      <td>paid_shipping</td>\n",
              "      <td>8</td>\n",
              "      <td>65.0</td>\n",
              "      <td>5.520315</td>\n",
              "      <td>6.0</td>\n",
              "      <td>True</td>\n",
              "    </tr>\n",
              "    <tr>\n",
              "      <th>169</th>\n",
              "      <td>961</td>\n",
              "      <td>2021-02-20</td>\n",
              "      <td>65.0</td>\n",
              "      <td>MEX</td>\n",
              "      <td>premium</td>\n",
              "      <td>fulfillment</td>\n",
              "      <td>paid_shipping</td>\n",
              "      <td>9</td>\n",
              "      <td>65.0</td>\n",
              "      <td>6.520315</td>\n",
              "      <td>7.0</td>\n",
              "      <td>True</td>\n",
              "    </tr>\n",
              "    <tr>\n",
              "      <th>170</th>\n",
              "      <td>961</td>\n",
              "      <td>2021-02-19</td>\n",
              "      <td>65.0</td>\n",
              "      <td>MEX</td>\n",
              "      <td>premium</td>\n",
              "      <td>fulfillment</td>\n",
              "      <td>paid_shipping</td>\n",
              "      <td>9</td>\n",
              "      <td>65.0</td>\n",
              "      <td>7.520315</td>\n",
              "      <td>8.0</td>\n",
              "      <td>True</td>\n",
              "    </tr>\n",
              "    <tr>\n",
              "      <th>171</th>\n",
              "      <td>961</td>\n",
              "      <td>2021-02-18</td>\n",
              "      <td>65.0</td>\n",
              "      <td>MEX</td>\n",
              "      <td>premium</td>\n",
              "      <td>fulfillment</td>\n",
              "      <td>paid_shipping</td>\n",
              "      <td>12</td>\n",
              "      <td>65.0</td>\n",
              "      <td>8.520315</td>\n",
              "      <td>9.0</td>\n",
              "      <td>True</td>\n",
              "    </tr>\n",
              "    <tr>\n",
              "      <th>172</th>\n",
              "      <td>961</td>\n",
              "      <td>2021-02-17</td>\n",
              "      <td>65.0</td>\n",
              "      <td>MEX</td>\n",
              "      <td>premium</td>\n",
              "      <td>fulfillment</td>\n",
              "      <td>paid_shipping</td>\n",
              "      <td>13</td>\n",
              "      <td>65.0</td>\n",
              "      <td>9.520315</td>\n",
              "      <td>10.0</td>\n",
              "      <td>True</td>\n",
              "    </tr>\n",
              "    <tr>\n",
              "      <th>173</th>\n",
              "      <td>961</td>\n",
              "      <td>2021-02-16</td>\n",
              "      <td>65.0</td>\n",
              "      <td>MEX</td>\n",
              "      <td>premium</td>\n",
              "      <td>fulfillment</td>\n",
              "      <td>paid_shipping</td>\n",
              "      <td>13</td>\n",
              "      <td>65.0</td>\n",
              "      <td>10.520315</td>\n",
              "      <td>11.0</td>\n",
              "      <td>True</td>\n",
              "    </tr>\n",
              "    <tr>\n",
              "      <th>174</th>\n",
              "      <td>961</td>\n",
              "      <td>2021-02-15</td>\n",
              "      <td>65.0</td>\n",
              "      <td>MEX</td>\n",
              "      <td>premium</td>\n",
              "      <td>fulfillment</td>\n",
              "      <td>paid_shipping</td>\n",
              "      <td>13</td>\n",
              "      <td>65.0</td>\n",
              "      <td>11.520315</td>\n",
              "      <td>12.0</td>\n",
              "      <td>True</td>\n",
              "    </tr>\n",
              "    <tr>\n",
              "      <th>175</th>\n",
              "      <td>961</td>\n",
              "      <td>2021-02-14</td>\n",
              "      <td>65.0</td>\n",
              "      <td>MEX</td>\n",
              "      <td>premium</td>\n",
              "      <td>fulfillment</td>\n",
              "      <td>paid_shipping</td>\n",
              "      <td>13</td>\n",
              "      <td>65.0</td>\n",
              "      <td>12.520315</td>\n",
              "      <td>13.0</td>\n",
              "      <td>True</td>\n",
              "    </tr>\n",
              "    <tr>\n",
              "      <th>176</th>\n",
              "      <td>961</td>\n",
              "      <td>2021-02-13</td>\n",
              "      <td>65.0</td>\n",
              "      <td>MEX</td>\n",
              "      <td>premium</td>\n",
              "      <td>fulfillment</td>\n",
              "      <td>paid_shipping</td>\n",
              "      <td>14</td>\n",
              "      <td>65.0</td>\n",
              "      <td>13.520315</td>\n",
              "      <td>14.0</td>\n",
              "      <td>True</td>\n",
              "    </tr>\n",
              "    <tr>\n",
              "      <th>177</th>\n",
              "      <td>961</td>\n",
              "      <td>2021-02-12</td>\n",
              "      <td>65.0</td>\n",
              "      <td>MEX</td>\n",
              "      <td>premium</td>\n",
              "      <td>fulfillment</td>\n",
              "      <td>paid_shipping</td>\n",
              "      <td>14</td>\n",
              "      <td>65.0</td>\n",
              "      <td>14.520315</td>\n",
              "      <td>15.0</td>\n",
              "      <td>True</td>\n",
              "    </tr>\n",
              "    <tr>\n",
              "      <th>178</th>\n",
              "      <td>961</td>\n",
              "      <td>2021-02-11</td>\n",
              "      <td>65.0</td>\n",
              "      <td>MEX</td>\n",
              "      <td>premium</td>\n",
              "      <td>fulfillment</td>\n",
              "      <td>paid_shipping</td>\n",
              "      <td>14</td>\n",
              "      <td>65.0</td>\n",
              "      <td>15.520315</td>\n",
              "      <td>16.0</td>\n",
              "      <td>True</td>\n",
              "    </tr>\n",
              "    <tr>\n",
              "      <th>179</th>\n",
              "      <td>961</td>\n",
              "      <td>2021-02-10</td>\n",
              "      <td>65.0</td>\n",
              "      <td>MEX</td>\n",
              "      <td>premium</td>\n",
              "      <td>fulfillment</td>\n",
              "      <td>paid_shipping</td>\n",
              "      <td>14</td>\n",
              "      <td>65.0</td>\n",
              "      <td>16.520315</td>\n",
              "      <td>17.0</td>\n",
              "      <td>True</td>\n",
              "    </tr>\n",
              "    <tr>\n",
              "      <th>180</th>\n",
              "      <td>961</td>\n",
              "      <td>2021-02-09</td>\n",
              "      <td>65.0</td>\n",
              "      <td>MEX</td>\n",
              "      <td>premium</td>\n",
              "      <td>fulfillment</td>\n",
              "      <td>paid_shipping</td>\n",
              "      <td>15</td>\n",
              "      <td>65.0</td>\n",
              "      <td>17.520315</td>\n",
              "      <td>18.0</td>\n",
              "      <td>True</td>\n",
              "    </tr>\n",
              "    <tr>\n",
              "      <th>181</th>\n",
              "      <td>961</td>\n",
              "      <td>2021-02-08</td>\n",
              "      <td>65.0</td>\n",
              "      <td>MEX</td>\n",
              "      <td>premium</td>\n",
              "      <td>fulfillment</td>\n",
              "      <td>paid_shipping</td>\n",
              "      <td>16</td>\n",
              "      <td>65.0</td>\n",
              "      <td>18.520315</td>\n",
              "      <td>19.0</td>\n",
              "      <td>True</td>\n",
              "    </tr>\n",
              "    <tr>\n",
              "      <th>182</th>\n",
              "      <td>961</td>\n",
              "      <td>2021-02-07</td>\n",
              "      <td>65.0</td>\n",
              "      <td>MEX</td>\n",
              "      <td>premium</td>\n",
              "      <td>fulfillment</td>\n",
              "      <td>paid_shipping</td>\n",
              "      <td>16</td>\n",
              "      <td>65.0</td>\n",
              "      <td>19.520315</td>\n",
              "      <td>20.0</td>\n",
              "      <td>True</td>\n",
              "    </tr>\n",
              "    <tr>\n",
              "      <th>183</th>\n",
              "      <td>961</td>\n",
              "      <td>2021-02-06</td>\n",
              "      <td>65.0</td>\n",
              "      <td>MEX</td>\n",
              "      <td>premium</td>\n",
              "      <td>fulfillment</td>\n",
              "      <td>paid_shipping</td>\n",
              "      <td>16</td>\n",
              "      <td>65.0</td>\n",
              "      <td>20.520315</td>\n",
              "      <td>21.0</td>\n",
              "      <td>True</td>\n",
              "    </tr>\n",
              "    <tr>\n",
              "      <th>184</th>\n",
              "      <td>961</td>\n",
              "      <td>2021-02-05</td>\n",
              "      <td>65.0</td>\n",
              "      <td>MEX</td>\n",
              "      <td>premium</td>\n",
              "      <td>fulfillment</td>\n",
              "      <td>paid_shipping</td>\n",
              "      <td>16</td>\n",
              "      <td>65.0</td>\n",
              "      <td>21.520315</td>\n",
              "      <td>22.0</td>\n",
              "      <td>True</td>\n",
              "    </tr>\n",
              "    <tr>\n",
              "      <th>185</th>\n",
              "      <td>961</td>\n",
              "      <td>2021-02-04</td>\n",
              "      <td>65.0</td>\n",
              "      <td>MEX</td>\n",
              "      <td>premium</td>\n",
              "      <td>fulfillment</td>\n",
              "      <td>paid_shipping</td>\n",
              "      <td>16</td>\n",
              "      <td>65.0</td>\n",
              "      <td>22.520315</td>\n",
              "      <td>23.0</td>\n",
              "      <td>True</td>\n",
              "    </tr>\n",
              "    <tr>\n",
              "      <th>186</th>\n",
              "      <td>961</td>\n",
              "      <td>2021-02-03</td>\n",
              "      <td>65.0</td>\n",
              "      <td>MEX</td>\n",
              "      <td>premium</td>\n",
              "      <td>fulfillment</td>\n",
              "      <td>paid_shipping</td>\n",
              "      <td>16</td>\n",
              "      <td>65.0</td>\n",
              "      <td>23.520315</td>\n",
              "      <td>24.0</td>\n",
              "      <td>True</td>\n",
              "    </tr>\n",
              "    <tr>\n",
              "      <th>187</th>\n",
              "      <td>961</td>\n",
              "      <td>2021-02-02</td>\n",
              "      <td>65.0</td>\n",
              "      <td>MEX</td>\n",
              "      <td>premium</td>\n",
              "      <td>fulfillment</td>\n",
              "      <td>paid_shipping</td>\n",
              "      <td>16</td>\n",
              "      <td>65.0</td>\n",
              "      <td>24.520315</td>\n",
              "      <td>25.0</td>\n",
              "      <td>True</td>\n",
              "    </tr>\n",
              "    <tr>\n",
              "      <th>188</th>\n",
              "      <td>961</td>\n",
              "      <td>2021-02-01</td>\n",
              "      <td>65.0</td>\n",
              "      <td>MEX</td>\n",
              "      <td>premium</td>\n",
              "      <td>fulfillment</td>\n",
              "      <td>paid_shipping</td>\n",
              "      <td>16</td>\n",
              "      <td>65.0</td>\n",
              "      <td>25.520315</td>\n",
              "      <td>26.0</td>\n",
              "      <td>True</td>\n",
              "    </tr>\n",
              "  </tbody>\n",
              "</table>\n",
              "</div>"
            ],
            "text/plain": [
              "     sku        date  ...  days_active FLG_ruptura\n",
              "163  961  2021-02-26  ...          1.0        True\n",
              "164  961  2021-02-25  ...          2.0        True\n",
              "165  961  2021-02-24  ...          3.0        True\n",
              "166  961  2021-02-23  ...          4.0        True\n",
              "167  961  2021-02-22  ...          5.0        True\n",
              "168  961  2021-02-21  ...          6.0        True\n",
              "169  961  2021-02-20  ...          7.0        True\n",
              "170  961  2021-02-19  ...          8.0        True\n",
              "171  961  2021-02-18  ...          9.0        True\n",
              "172  961  2021-02-17  ...         10.0        True\n",
              "173  961  2021-02-16  ...         11.0        True\n",
              "174  961  2021-02-15  ...         12.0        True\n",
              "175  961  2021-02-14  ...         13.0        True\n",
              "176  961  2021-02-13  ...         14.0        True\n",
              "177  961  2021-02-12  ...         15.0        True\n",
              "178  961  2021-02-11  ...         16.0        True\n",
              "179  961  2021-02-10  ...         17.0        True\n",
              "180  961  2021-02-09  ...         18.0        True\n",
              "181  961  2021-02-08  ...         19.0        True\n",
              "182  961  2021-02-07  ...         20.0        True\n",
              "183  961  2021-02-06  ...         21.0        True\n",
              "184  961  2021-02-05  ...         22.0        True\n",
              "185  961  2021-02-04  ...         23.0        True\n",
              "186  961  2021-02-03  ...         24.0        True\n",
              "187  961  2021-02-02  ...         25.0        True\n",
              "188  961  2021-02-01  ...         26.0        True\n",
              "\n",
              "[26 rows x 12 columns]"
            ]
          },
          "metadata": {
            "tags": []
          },
          "execution_count": 9
        }
      ]
    },
    {
      "cell_type": "code",
      "metadata": {
        "id": "rzeqUexTU7FS"
      },
      "source": [
        "df_test = pd.read_csv('test_data.csv')"
      ],
      "execution_count": 10,
      "outputs": []
    },
    {
      "cell_type": "code",
      "metadata": {
        "colab": {
          "base_uri": "https://localhost:8080/"
        },
        "id": "XGsVMA6wzcyK",
        "outputId": "f0d49b87-4985-48cd-a3fc-3dce36c2017b"
      },
      "source": [
        "!pip install catboost"
      ],
      "execution_count": 27,
      "outputs": [
        {
          "output_type": "stream",
          "text": [
            "Collecting catboost\n",
            "  Downloading catboost-0.26-cp37-none-manylinux1_x86_64.whl (69.2 MB)\n",
            "\u001b[K     |████████████████████████████████| 69.2 MB 18 kB/s \n",
            "\u001b[?25hRequirement already satisfied: six in /usr/local/lib/python3.7/dist-packages (from catboost) (1.15.0)\n",
            "Requirement already satisfied: plotly in /usr/local/lib/python3.7/dist-packages (from catboost) (4.4.1)\n",
            "Requirement already satisfied: pandas>=0.24.0 in /usr/local/lib/python3.7/dist-packages (from catboost) (1.1.5)\n",
            "Requirement already satisfied: graphviz in /usr/local/lib/python3.7/dist-packages (from catboost) (0.10.1)\n",
            "Requirement already satisfied: scipy in /usr/local/lib/python3.7/dist-packages (from catboost) (1.4.1)\n",
            "Requirement already satisfied: numpy>=1.16.0 in /usr/local/lib/python3.7/dist-packages (from catboost) (1.19.5)\n",
            "Requirement already satisfied: matplotlib in /usr/local/lib/python3.7/dist-packages (from catboost) (3.2.2)\n",
            "Requirement already satisfied: python-dateutil>=2.7.3 in /usr/local/lib/python3.7/dist-packages (from pandas>=0.24.0->catboost) (2.8.1)\n",
            "Requirement already satisfied: pytz>=2017.2 in /usr/local/lib/python3.7/dist-packages (from pandas>=0.24.0->catboost) (2018.9)\n",
            "Requirement already satisfied: kiwisolver>=1.0.1 in /usr/local/lib/python3.7/dist-packages (from matplotlib->catboost) (1.3.1)\n",
            "Requirement already satisfied: cycler>=0.10 in /usr/local/lib/python3.7/dist-packages (from matplotlib->catboost) (0.10.0)\n",
            "Requirement already satisfied: pyparsing!=2.0.4,!=2.1.2,!=2.1.6,>=2.0.1 in /usr/local/lib/python3.7/dist-packages (from matplotlib->catboost) (2.4.7)\n",
            "Requirement already satisfied: retrying>=1.3.3 in /usr/local/lib/python3.7/dist-packages (from plotly->catboost) (1.3.3)\n",
            "Installing collected packages: catboost\n",
            "Successfully installed catboost-0.26\n"
          ],
          "name": "stdout"
        }
      ]
    },
    {
      "cell_type": "code",
      "metadata": {
        "id": "-b0XxqtOzUT_"
      },
      "source": [
        "from catboost import Pool, CatBoostClassifier"
      ],
      "execution_count": 11,
      "outputs": []
    },
    {
      "cell_type": "code",
      "metadata": {
        "id": "PczvuvFFVBiw"
      },
      "source": [
        "vars = ['sku',\n",
        " 'sum_sold_quantity'\n",
        " ]\n",
        "cat_vars =  ['sku'\n",
        " ]"
      ],
      "execution_count": 12,
      "outputs": []
    },
    {
      "cell_type": "code",
      "metadata": {
        "id": "x-sLOQ1TYpC-"
      },
      "source": [
        "from sklearn.model_selection import train_test_split"
      ],
      "execution_count": 13,
      "outputs": []
    },
    {
      "cell_type": "code",
      "metadata": {
        "id": "DRR9yMtG6qBx"
      },
      "source": [
        "train_data,test_data,train_label,test_label = train_test_split(df,df.days_active,train_size=.01,test_size=.01)"
      ],
      "execution_count": 14,
      "outputs": []
    },
    {
      "cell_type": "code",
      "metadata": {
        "colab": {
          "base_uri": "https://localhost:8080/",
          "height": 830
        },
        "id": "EoM4ZSXgD569",
        "outputId": "bd45e9b3-1877-4e2f-a03b-c12d4f7d8c95"
      },
      "source": [
        "# initialize data\n",
        "#train_data = g_df.loc[:,vars].sample(frac=.01,random_state=123)\n",
        "#train_label = g_df.loc[:,'days_active'].apply(lambda x : x if x<30. else 30.).round().astype(int).sample(frac=.01,random_state=123)\n",
        "#test_data = g_df.loc[~g_df.sku.isnull(),'current_price_count':'shipping_payment_shipping_payment']#.sample(frac=.1,random_state=1234)\n",
        "# initialize Pool\n",
        "train_pool = Pool(train_data.loc[:,vars], \n",
        "                  train_label, \n",
        "                  cat_features=cat_vars)\n",
        "test_pool = Pool(test_data.loc[:,vars], \n",
        "                  test_label, \n",
        "                  cat_features=cat_vars)\n",
        "\n",
        "# specify the training parameters \n",
        "model = CatBoostClassifier(n_estimators=100,learning_rate=0.1)\n",
        "#train the model\n",
        "model.fit(train_pool)\n",
        "# make the prediction using the resulting model"
      ],
      "execution_count": 15,
      "outputs": [
        {
          "output_type": "stream",
          "text": [
            "0:\tlearn: 4.0359576\ttotal: 31.9s\tremaining: 52m 40s\n",
            "1:\tlearn: 3.9991516\ttotal: 1m 3s\tremaining: 51m 34s\n",
            "2:\tlearn: 3.9707702\ttotal: 1m 34s\tremaining: 51m 4s\n",
            "3:\tlearn: 3.9481829\ttotal: 2m 6s\tremaining: 50m 24s\n",
            "4:\tlearn: 3.9298043\ttotal: 2m 37s\tremaining: 49m 48s\n",
            "5:\tlearn: 3.9144096\ttotal: 3m 8s\tremaining: 49m 17s\n",
            "6:\tlearn: 3.9018846\ttotal: 3m 40s\tremaining: 48m 43s\n",
            "7:\tlearn: 3.8911548\ttotal: 4m 11s\tremaining: 48m 8s\n",
            "8:\tlearn: 3.8824909\ttotal: 4m 42s\tremaining: 47m 34s\n",
            "9:\tlearn: 3.8750649\ttotal: 5m 13s\tremaining: 47m 2s\n",
            "10:\tlearn: 3.8688938\ttotal: 5m 40s\tremaining: 45m 51s\n",
            "11:\tlearn: 3.8635385\ttotal: 6m 12s\tremaining: 45m 31s\n",
            "12:\tlearn: 3.8573374\ttotal: 6m 45s\tremaining: 45m 13s\n",
            "13:\tlearn: 3.8523261\ttotal: 7m 17s\tremaining: 44m 44s\n",
            "14:\tlearn: 3.8479791\ttotal: 7m 48s\tremaining: 44m 16s\n",
            "15:\tlearn: 3.8446745\ttotal: 8m 21s\tremaining: 43m 51s\n",
            "16:\tlearn: 3.8415831\ttotal: 8m 53s\tremaining: 43m 23s\n",
            "17:\tlearn: 3.8386414\ttotal: 9m 24s\tremaining: 42m 51s\n",
            "18:\tlearn: 3.8360826\ttotal: 9m 57s\tremaining: 42m 25s\n",
            "19:\tlearn: 3.8338592\ttotal: 10m 29s\tremaining: 41m 56s\n",
            "20:\tlearn: 3.8319350\ttotal: 11m\tremaining: 41m 26s\n",
            "21:\tlearn: 3.8304691\ttotal: 11m 33s\tremaining: 40m 58s\n",
            "22:\tlearn: 3.8289177\ttotal: 12m 6s\tremaining: 40m 31s\n"
          ],
          "name": "stdout"
        },
        {
          "output_type": "error",
          "ename": "KeyboardInterrupt",
          "evalue": "ignored",
          "traceback": [
            "\u001b[0;31m---------------------------------------------------------------------------\u001b[0m",
            "\u001b[0;31mKeyboardInterrupt\u001b[0m                         Traceback (most recent call last)",
            "\u001b[0;32m<ipython-input-15-5508e92b3911>\u001b[0m in \u001b[0;36m<module>\u001b[0;34m()\u001b[0m\n\u001b[1;32m     14\u001b[0m \u001b[0mmodel\u001b[0m \u001b[0;34m=\u001b[0m \u001b[0mCatBoostClassifier\u001b[0m\u001b[0;34m(\u001b[0m\u001b[0mn_estimators\u001b[0m\u001b[0;34m=\u001b[0m\u001b[0;36m100\u001b[0m\u001b[0;34m,\u001b[0m\u001b[0mlearning_rate\u001b[0m\u001b[0;34m=\u001b[0m\u001b[0;36m0.1\u001b[0m\u001b[0;34m)\u001b[0m\u001b[0;34m\u001b[0m\u001b[0;34m\u001b[0m\u001b[0m\n\u001b[1;32m     15\u001b[0m \u001b[0;31m#train the model\u001b[0m\u001b[0;34m\u001b[0m\u001b[0;34m\u001b[0m\u001b[0;34m\u001b[0m\u001b[0m\n\u001b[0;32m---> 16\u001b[0;31m \u001b[0mmodel\u001b[0m\u001b[0;34m.\u001b[0m\u001b[0mfit\u001b[0m\u001b[0;34m(\u001b[0m\u001b[0mtrain_pool\u001b[0m\u001b[0;34m)\u001b[0m\u001b[0;34m\u001b[0m\u001b[0;34m\u001b[0m\u001b[0m\n\u001b[0m\u001b[1;32m     17\u001b[0m \u001b[0;31m# make the prediction using the resulting model\u001b[0m\u001b[0;34m\u001b[0m\u001b[0;34m\u001b[0m\u001b[0;34m\u001b[0m\u001b[0m\n",
            "\u001b[0;32m/usr/local/lib/python3.7/dist-packages/catboost/core.py\u001b[0m in \u001b[0;36mfit\u001b[0;34m(self, X, y, cat_features, text_features, embedding_features, sample_weight, baseline, use_best_model, eval_set, verbose, logging_level, plot, column_description, verbose_eval, metric_period, silent, early_stopping_rounds, save_snapshot, snapshot_file, snapshot_interval, init_model, callbacks, log_cout, log_cerr)\u001b[0m\n\u001b[1;32m   4673\u001b[0m         self._fit(X, y, cat_features, text_features, embedding_features, None, sample_weight, None, None, None, None, baseline, use_best_model,\n\u001b[1;32m   4674\u001b[0m                   \u001b[0meval_set\u001b[0m\u001b[0;34m,\u001b[0m \u001b[0mverbose\u001b[0m\u001b[0;34m,\u001b[0m \u001b[0mlogging_level\u001b[0m\u001b[0;34m,\u001b[0m \u001b[0mplot\u001b[0m\u001b[0;34m,\u001b[0m \u001b[0mcolumn_description\u001b[0m\u001b[0;34m,\u001b[0m \u001b[0mverbose_eval\u001b[0m\u001b[0;34m,\u001b[0m \u001b[0mmetric_period\u001b[0m\u001b[0;34m,\u001b[0m\u001b[0;34m\u001b[0m\u001b[0;34m\u001b[0m\u001b[0m\n\u001b[0;32m-> 4675\u001b[0;31m                   silent, early_stopping_rounds, save_snapshot, snapshot_file, snapshot_interval, init_model, callbacks, log_cout, log_cerr)\n\u001b[0m\u001b[1;32m   4676\u001b[0m         \u001b[0;32mreturn\u001b[0m \u001b[0mself\u001b[0m\u001b[0;34m\u001b[0m\u001b[0;34m\u001b[0m\u001b[0m\n\u001b[1;32m   4677\u001b[0m \u001b[0;34m\u001b[0m\u001b[0m\n",
            "\u001b[0;32m/usr/local/lib/python3.7/dist-packages/catboost/core.py\u001b[0m in \u001b[0;36m_fit\u001b[0;34m(self, X, y, cat_features, text_features, embedding_features, pairs, sample_weight, group_id, group_weight, subgroup_id, pairs_weight, baseline, use_best_model, eval_set, verbose, logging_level, plot, column_description, verbose_eval, metric_period, silent, early_stopping_rounds, save_snapshot, snapshot_file, snapshot_interval, init_model, callbacks, log_cout, log_cerr)\u001b[0m\n\u001b[1;32m   1997\u001b[0m                 \u001b[0mparams\u001b[0m\u001b[0;34m,\u001b[0m\u001b[0;34m\u001b[0m\u001b[0;34m\u001b[0m\u001b[0m\n\u001b[1;32m   1998\u001b[0m                 \u001b[0mallow_clear_pool\u001b[0m\u001b[0;34m,\u001b[0m\u001b[0;34m\u001b[0m\u001b[0;34m\u001b[0m\u001b[0m\n\u001b[0;32m-> 1999\u001b[0;31m                 \u001b[0mtrain_params\u001b[0m\u001b[0;34m[\u001b[0m\u001b[0;34m\"init_model\"\u001b[0m\u001b[0;34m]\u001b[0m\u001b[0;34m\u001b[0m\u001b[0;34m\u001b[0m\u001b[0m\n\u001b[0m\u001b[1;32m   2000\u001b[0m             )\n\u001b[1;32m   2001\u001b[0m \u001b[0;34m\u001b[0m\u001b[0m\n",
            "\u001b[0;32m/usr/local/lib/python3.7/dist-packages/catboost/core.py\u001b[0m in \u001b[0;36m_train\u001b[0;34m(self, train_pool, test_pool, params, allow_clear_pool, init_model)\u001b[0m\n\u001b[1;32m   1423\u001b[0m \u001b[0;34m\u001b[0m\u001b[0m\n\u001b[1;32m   1424\u001b[0m     \u001b[0;32mdef\u001b[0m \u001b[0m_train\u001b[0m\u001b[0;34m(\u001b[0m\u001b[0mself\u001b[0m\u001b[0;34m,\u001b[0m \u001b[0mtrain_pool\u001b[0m\u001b[0;34m,\u001b[0m \u001b[0mtest_pool\u001b[0m\u001b[0;34m,\u001b[0m \u001b[0mparams\u001b[0m\u001b[0;34m,\u001b[0m \u001b[0mallow_clear_pool\u001b[0m\u001b[0;34m,\u001b[0m \u001b[0minit_model\u001b[0m\u001b[0;34m)\u001b[0m\u001b[0;34m:\u001b[0m\u001b[0;34m\u001b[0m\u001b[0;34m\u001b[0m\u001b[0m\n\u001b[0;32m-> 1425\u001b[0;31m         \u001b[0mself\u001b[0m\u001b[0;34m.\u001b[0m\u001b[0m_object\u001b[0m\u001b[0;34m.\u001b[0m\u001b[0m_train\u001b[0m\u001b[0;34m(\u001b[0m\u001b[0mtrain_pool\u001b[0m\u001b[0;34m,\u001b[0m \u001b[0mtest_pool\u001b[0m\u001b[0;34m,\u001b[0m \u001b[0mparams\u001b[0m\u001b[0;34m,\u001b[0m \u001b[0mallow_clear_pool\u001b[0m\u001b[0;34m,\u001b[0m \u001b[0minit_model\u001b[0m\u001b[0;34m.\u001b[0m\u001b[0m_object\u001b[0m \u001b[0;32mif\u001b[0m \u001b[0minit_model\u001b[0m \u001b[0;32melse\u001b[0m \u001b[0;32mNone\u001b[0m\u001b[0;34m)\u001b[0m\u001b[0;34m\u001b[0m\u001b[0;34m\u001b[0m\u001b[0m\n\u001b[0m\u001b[1;32m   1426\u001b[0m         \u001b[0mself\u001b[0m\u001b[0;34m.\u001b[0m\u001b[0m_set_trained_model_attributes\u001b[0m\u001b[0;34m(\u001b[0m\u001b[0;34m)\u001b[0m\u001b[0;34m\u001b[0m\u001b[0;34m\u001b[0m\u001b[0m\n\u001b[1;32m   1427\u001b[0m \u001b[0;34m\u001b[0m\u001b[0m\n",
            "\u001b[0;32m_catboost.pyx\u001b[0m in \u001b[0;36m_catboost._CatBoost._train\u001b[0;34m()\u001b[0m\n",
            "\u001b[0;32m_catboost.pyx\u001b[0m in \u001b[0;36m_catboost._CatBoost._train\u001b[0;34m()\u001b[0m\n",
            "\u001b[0;31mKeyboardInterrupt\u001b[0m: "
          ]
        }
      ]
    },
    {
      "cell_type": "code",
      "metadata": {
        "colab": {
          "base_uri": "https://localhost:8080/"
        },
        "id": "ltOIjuO-EJ6c",
        "outputId": "a9acc7ae-e8ca-4c37-c26c-cbb60e318afc"
      },
      "source": [
        "model.score(test_pool),model.score(train_pool)"
      ],
      "execution_count": 53,
      "outputs": [
        {
          "output_type": "execute_result",
          "data": {
            "text/plain": [
              "(0.04253647365407774, 0.04928454103228252)"
            ]
          },
          "metadata": {
            "tags": []
          },
          "execution_count": 53
        }
      ]
    },
    {
      "cell_type": "code",
      "metadata": {
        "id": "XYisxSiXqG6A",
        "outputId": "71e55a24-bdb0-4b5d-c4c7-aeec3cecca3d",
        "colab": {
          "base_uri": "https://localhost:8080/"
        }
      },
      "source": [
        "test_label.nunique()"
      ],
      "execution_count": 54,
      "outputs": [
        {
          "output_type": "execute_result",
          "data": {
            "text/plain": [
              "60"
            ]
          },
          "metadata": {
            "tags": []
          },
          "execution_count": 54
        }
      ]
    },
    {
      "cell_type": "code",
      "metadata": {
        "id": "iXmZqPnaHqEU"
      },
      "source": [
        "def rps(predictions, observed):\n",
        "  ncat = 60\n",
        "  npred = len(predictions)\n",
        "  rps = np.zeros(npred)\n",
        "\n",
        "  for x in range(0, npred):\n",
        "    obsvec = np.zeros(ncat)\n",
        "    obsvec[int(observed.iloc[x]-1)] = 1\n",
        "    cumulative = 0\n",
        "    for i in range(1, ncat):\n",
        "      cumulative += (sum(predictions.iloc[x, 0:i]) - sum(obsvec[0:i])) ** 2\n",
        "      rps[x] = cumulative / (ncat-1)\n",
        "  return rps"
      ],
      "execution_count": 58,
      "outputs": []
    },
    {
      "cell_type": "code",
      "metadata": {
        "id": "iaSa8_nyKtaG",
        "outputId": "57cb31b0-6363-48aa-cc36-cd7cd3d8d830",
        "colab": {
          "base_uri": "https://localhost:8080/"
        }
      },
      "source": [
        "probs=model.predict_proba(test_data.loc[:,vars].iloc[:100,:])\n",
        "probs"
      ],
      "execution_count": 59,
      "outputs": [
        {
          "output_type": "execute_result",
          "data": {
            "text/plain": [
              "array([[5.32573102e-04, 3.70157514e-03, 6.77507104e-03, ...,\n",
              "        1.28320124e-02, 1.86713287e-02, 1.22596771e-02],\n",
              "       [1.55557152e-04, 7.34056350e-04, 3.21595448e-04, ...,\n",
              "        1.00420683e-02, 2.14414204e-02, 9.00016870e-03],\n",
              "       [7.98456827e-02, 8.02318518e-02, 7.08264279e-02, ...,\n",
              "        3.06730538e-04, 2.74312853e-03, 5.73992975e-05],\n",
              "       ...,\n",
              "       [1.47708923e-03, 4.50209070e-03, 1.13467865e-02, ...,\n",
              "        7.54654987e-03, 6.51116437e-03, 5.36881790e-03],\n",
              "       [1.45306537e-03, 1.49297415e-03, 1.46622736e-03, ...,\n",
              "        8.25726591e-03, 1.05186611e-02, 3.85783345e-03],\n",
              "       [4.17545897e-02, 6.72582371e-02, 6.49721590e-02, ...,\n",
              "        4.93326239e-04, 6.26258973e-04, 6.26482394e-04]])"
            ]
          },
          "metadata": {
            "tags": []
          },
          "execution_count": 59
        }
      ]
    },
    {
      "cell_type": "code",
      "metadata": {
        "id": "zzLDfslvI2uy",
        "outputId": "65e8b0c9-65b8-4f02-f147-fb4a733dcdbb",
        "colab": {
          "base_uri": "https://localhost:8080/"
        }
      },
      "source": [
        "sum(rps(pd.DataFrame(probs),test_label.iloc[:100]))"
      ],
      "execution_count": 60,
      "outputs": [
        {
          "output_type": "execute_result",
          "data": {
            "text/plain": [
              "12.803582784208983"
            ]
          },
          "metadata": {
            "tags": []
          },
          "execution_count": 60
        }
      ]
    },
    {
      "cell_type": "code",
      "metadata": {
        "id": "kOgjTs3nKWne",
        "outputId": "c062ded7-60cc-4932-ab70-b6cada458596",
        "colab": {
          "base_uri": "https://localhost:8080/",
          "height": 293
        }
      },
      "source": [
        "np.log1p(df.sum_sold_quantity).hist(bins=100)"
      ],
      "execution_count": 36,
      "outputs": [
        {
          "output_type": "execute_result",
          "data": {
            "text/plain": [
              "<matplotlib.axes._subplots.AxesSubplot at 0x7f50e6f2d2d0>"
            ]
          },
          "metadata": {
            "tags": []
          },
          "execution_count": 36
        },
        {
          "output_type": "display_data",
          "data": {
            "image/png": "[encoded data removed]",
            "text/plain": [
              "<Figure size 432x288 with 1 Axes>"
            ]
          },
          "metadata": {
            "tags": [],
            "needs_background": "light"
          }
        }
      ]
    },
    {
      "cell_type": "code",
      "metadata": {
        "id": "DgQL7GZ2YnSa",
        "outputId": "d4ad19f4-d175-4892-c4ce-38692baee2ba",
        "colab": {
          "base_uri": "https://localhost:8080/",
          "height": 424
        }
      },
      "source": [
        "df.loc[df.sum_sold_quantity==0,:]\n"
      ],
      "execution_count": 38,
      "outputs": [
        {
          "output_type": "execute_result",
          "data": {
            "text/html": [
              "<div>\n",
              "<style scoped>\n",
              "    .dataframe tbody tr th:only-of-type {\n",
              "        vertical-align: middle;\n",
              "    }\n",
              "\n",
              "    .dataframe tbody tr th {\n",
              "        vertical-align: top;\n",
              "    }\n",
              "\n",
              "    .dataframe thead th {\n",
              "        text-align: right;\n",
              "    }\n",
              "</style>\n",
              "<table border=\"1\" class=\"dataframe\">\n",
              "  <thead>\n",
              "    <tr style=\"text-align: right;\">\n",
              "      <th></th>\n",
              "      <th>sku</th>\n",
              "      <th>date</th>\n",
              "      <th>current_price</th>\n",
              "      <th>currency</th>\n",
              "      <th>listing_type</th>\n",
              "      <th>shipping_logistic_type</th>\n",
              "      <th>shipping_payment</th>\n",
              "      <th>sum_sold_quantity</th>\n",
              "      <th>avg_current_price</th>\n",
              "      <th>days_active_nround</th>\n",
              "      <th>days_active</th>\n",
              "      <th>FLG_ruptura</th>\n",
              "    </tr>\n",
              "  </thead>\n",
              "  <tbody>\n",
              "    <tr>\n",
              "      <th>189</th>\n",
              "      <td>961</td>\n",
              "      <td>2021-03-31</td>\n",
              "      <td>75.0</td>\n",
              "      <td>MEX</td>\n",
              "      <td>premium</td>\n",
              "      <td>fulfillment</td>\n",
              "      <td>paid_shipping</td>\n",
              "      <td>0</td>\n",
              "      <td>NaN</td>\n",
              "      <td>1.000000</td>\n",
              "      <td>2.0</td>\n",
              "      <td>True</td>\n",
              "    </tr>\n",
              "    <tr>\n",
              "      <th>190</th>\n",
              "      <td>961</td>\n",
              "      <td>2021-03-30</td>\n",
              "      <td>75.0</td>\n",
              "      <td>MEX</td>\n",
              "      <td>premium</td>\n",
              "      <td>fulfillment</td>\n",
              "      <td>paid_shipping</td>\n",
              "      <td>0</td>\n",
              "      <td>NaN</td>\n",
              "      <td>2.000000</td>\n",
              "      <td>3.0</td>\n",
              "      <td>True</td>\n",
              "    </tr>\n",
              "    <tr>\n",
              "      <th>191</th>\n",
              "      <td>961</td>\n",
              "      <td>2021-03-29</td>\n",
              "      <td>75.0</td>\n",
              "      <td>MEX</td>\n",
              "      <td>premium</td>\n",
              "      <td>fulfillment</td>\n",
              "      <td>paid_shipping</td>\n",
              "      <td>0</td>\n",
              "      <td>NaN</td>\n",
              "      <td>3.000000</td>\n",
              "      <td>4.0</td>\n",
              "      <td>True</td>\n",
              "    </tr>\n",
              "    <tr>\n",
              "      <th>192</th>\n",
              "      <td>961</td>\n",
              "      <td>2021-03-28</td>\n",
              "      <td>75.0</td>\n",
              "      <td>MEX</td>\n",
              "      <td>premium</td>\n",
              "      <td>fulfillment</td>\n",
              "      <td>paid_shipping</td>\n",
              "      <td>0</td>\n",
              "      <td>NaN</td>\n",
              "      <td>4.000000</td>\n",
              "      <td>5.0</td>\n",
              "      <td>True</td>\n",
              "    </tr>\n",
              "    <tr>\n",
              "      <th>193</th>\n",
              "      <td>961</td>\n",
              "      <td>2021-03-27</td>\n",
              "      <td>75.0</td>\n",
              "      <td>MEX</td>\n",
              "      <td>premium</td>\n",
              "      <td>fulfillment</td>\n",
              "      <td>paid_shipping</td>\n",
              "      <td>0</td>\n",
              "      <td>NaN</td>\n",
              "      <td>5.000000</td>\n",
              "      <td>6.0</td>\n",
              "      <td>True</td>\n",
              "    </tr>\n",
              "    <tr>\n",
              "      <th>...</th>\n",
              "      <td>...</td>\n",
              "      <td>...</td>\n",
              "      <td>...</td>\n",
              "      <td>...</td>\n",
              "      <td>...</td>\n",
              "      <td>...</td>\n",
              "      <td>...</td>\n",
              "      <td>...</td>\n",
              "      <td>...</td>\n",
              "      <td>...</td>\n",
              "      <td>...</td>\n",
              "      <td>...</td>\n",
              "    </tr>\n",
              "    <tr>\n",
              "      <th>28096102</th>\n",
              "      <td>660831</td>\n",
              "      <td>2021-03-14</td>\n",
              "      <td>113.5</td>\n",
              "      <td>REA</td>\n",
              "      <td>classic</td>\n",
              "      <td>drop_off</td>\n",
              "      <td>free_shipping</td>\n",
              "      <td>0</td>\n",
              "      <td>NaN</td>\n",
              "      <td>17.236343</td>\n",
              "      <td>18.0</td>\n",
              "      <td>True</td>\n",
              "    </tr>\n",
              "    <tr>\n",
              "      <th>28096103</th>\n",
              "      <td>660886</td>\n",
              "      <td>2021-03-31</td>\n",
              "      <td>52.0</td>\n",
              "      <td>REA</td>\n",
              "      <td>classic</td>\n",
              "      <td>fulfillment</td>\n",
              "      <td>paid_shipping</td>\n",
              "      <td>0</td>\n",
              "      <td>NaN</td>\n",
              "      <td>1.000000</td>\n",
              "      <td>2.0</td>\n",
              "      <td>True</td>\n",
              "    </tr>\n",
              "    <tr>\n",
              "      <th>28096104</th>\n",
              "      <td>660886</td>\n",
              "      <td>2021-03-30</td>\n",
              "      <td>52.0</td>\n",
              "      <td>REA</td>\n",
              "      <td>classic</td>\n",
              "      <td>fulfillment</td>\n",
              "      <td>paid_shipping</td>\n",
              "      <td>0</td>\n",
              "      <td>NaN</td>\n",
              "      <td>2.000000</td>\n",
              "      <td>3.0</td>\n",
              "      <td>True</td>\n",
              "    </tr>\n",
              "    <tr>\n",
              "      <th>28096105</th>\n",
              "      <td>660886</td>\n",
              "      <td>2021-03-29</td>\n",
              "      <td>52.0</td>\n",
              "      <td>REA</td>\n",
              "      <td>classic</td>\n",
              "      <td>fulfillment</td>\n",
              "      <td>paid_shipping</td>\n",
              "      <td>0</td>\n",
              "      <td>NaN</td>\n",
              "      <td>3.000000</td>\n",
              "      <td>4.0</td>\n",
              "      <td>True</td>\n",
              "    </tr>\n",
              "    <tr>\n",
              "      <th>28096106</th>\n",
              "      <td>660886</td>\n",
              "      <td>2021-03-28</td>\n",
              "      <td>52.0</td>\n",
              "      <td>REA</td>\n",
              "      <td>classic</td>\n",
              "      <td>fulfillment</td>\n",
              "      <td>paid_shipping</td>\n",
              "      <td>0</td>\n",
              "      <td>NaN</td>\n",
              "      <td>4.000000</td>\n",
              "      <td>5.0</td>\n",
              "      <td>True</td>\n",
              "    </tr>\n",
              "  </tbody>\n",
              "</table>\n",
              "<p>2769699 rows × 12 columns</p>\n",
              "</div>"
            ],
            "text/plain": [
              "             sku        date  ...  days_active FLG_ruptura\n",
              "189          961  2021-03-31  ...          2.0        True\n",
              "190          961  2021-03-30  ...          3.0        True\n",
              "191          961  2021-03-29  ...          4.0        True\n",
              "192          961  2021-03-28  ...          5.0        True\n",
              "193          961  2021-03-27  ...          6.0        True\n",
              "...          ...         ...  ...          ...         ...\n",
              "28096102  660831  2021-03-14  ...         18.0        True\n",
              "28096103  660886  2021-03-31  ...          2.0        True\n",
              "28096104  660886  2021-03-30  ...          3.0        True\n",
              "28096105  660886  2021-03-29  ...          4.0        True\n",
              "28096106  660886  2021-03-28  ...          5.0        True\n",
              "\n",
              "[2769699 rows x 12 columns]"
            ]
          },
          "metadata": {
            "tags": []
          },
          "execution_count": 38
        }
      ]
    },
    {
      "cell_type": "code",
      "metadata": {
        "id": "brisoaVhjFCI"
      },
      "source": [
        "df"
      ],
      "execution_count": null,
      "outputs": []
    },
    {
      "cell_type": "code",
      "metadata": {
        "id": "7d6YVfb0Yd9V",
        "outputId": "91557861-10c8-436f-f342-5afabdc7d2d2",
        "colab": {
          "base_uri": "https://localhost:8080/"
        }
      },
      "source": [
        "df.sum_sold_quantity.value_counts()"
      ],
      "execution_count": 39,
      "outputs": [
        {
          "output_type": "execute_result",
          "data": {
            "text/plain": [
              "0        2769699\n",
              "1        1820181\n",
              "2        1654962\n",
              "3        1548618\n",
              "4        1468748\n",
              "          ...   \n",
              "6285           1\n",
              "18628          1\n",
              "6290           1\n",
              "6294           1\n",
              "16361          1\n",
              "Name: sum_sold_quantity, Length: 8241, dtype: int64"
            ]
          },
          "metadata": {
            "tags": []
          },
          "execution_count": 39
        }
      ]
    },
    {
      "cell_type": "code",
      "metadata": {
        "id": "6xWqyKSQXjm4",
        "outputId": "e130c012-c11b-4c26-b434-b723f1420334",
        "colab": {
          "base_uri": "https://localhost:8080/",
          "height": 282
        }
      },
      "source": [
        "df_test.loc[:,'sum_sold_quantity'] = df_test.target_stock\n",
        "np.log1p(df_test.sum_sold_quantity).hist(bins=100)"
      ],
      "execution_count": 41,
      "outputs": [
        {
          "output_type": "execute_result",
          "data": {
            "text/plain": [
              "<matplotlib.axes._subplots.AxesSubplot at 0x7f50e6daa550>"
            ]
          },
          "metadata": {
            "tags": []
          },
          "execution_count": 41
        },
        {
          "output_type": "display_data",
          "data": {
            "image/png": "[encoded data removed]",
            "text/plain": [
              "<Figure size 432x288 with 1 Axes>"
            ]
          },
          "metadata": {
            "tags": [],
            "needs_background": "light"
          }
        }
      ]
    },
    {
      "cell_type": "code",
      "metadata": {
        "id": "m9SWD6tHXuh8"
      },
      "source": [
        "df_test.sum_sold_quantity.describe(),df.sum_sold_quantity.describe()"
      ],
      "execution_count": null,
      "outputs": []
    },
    {
      "cell_type": "code",
      "metadata": {
        "id": "XgbeOOMEeFe5"
      },
      "source": [
        "df_test.loc[:,'sum_sold_quantity'] = df_test.target_stock\n",
        "test_data = df_test.loc[:,vars]\n",
        "test_pool = Pool(test_data,\n",
        "                 cat_features=cat_vars) \n"
      ],
      "execution_count": null,
      "outputs": []
    },
    {
      "cell_type": "code",
      "metadata": {
        "id": "WK8KYe1846YC"
      },
      "source": [
        "pd.DataFrame(model.predict(test_data)).describe()#.hist()"
      ],
      "execution_count": null,
      "outputs": []
    },
    {
      "cell_type": "code",
      "metadata": {
        "id": "C44mz6xFF01G"
      },
      "source": [
        "pd.DataFrame(model.predict(test_data)).hist()"
      ],
      "execution_count": null,
      "outputs": []
    },
    {
      "cell_type": "code",
      "metadata": {
        "id": "XDZsKkBM_DeR"
      },
      "source": [
        "pd.DataFrame(model.predict(test_data)).apply(lambda x : x[0] if x[0]<30 else 30,axis=1).hist()"
      ],
      "execution_count": null,
      "outputs": []
    },
    {
      "cell_type": "code",
      "metadata": {
        "id": "wJdV89FQ-spU"
      },
      "source": [
        "result = pd.DataFrame(model.predict_proba(test_data)).round(4)#.to_csv(\"test_inner.csv.gz\",compression='gzip',index=False,header=False)"
      ],
      "execution_count": null,
      "outputs": []
    },
    {
      "cell_type": "code",
      "metadata": {
        "id": "RqxIen69-AuD"
      },
      "source": [
        "result.loc[:,29] = result.loc[:,29:].sum(axis=1)"
      ],
      "execution_count": null,
      "outputs": []
    },
    {
      "cell_type": "code",
      "metadata": {
        "id": "WgrVe4Zy-hDX"
      },
      "source": [
        "result.loc[:,:29].to_csv(\"test_inner.csv.gz\",compression='gzip',index=False,header=False)"
      ],
      "execution_count": null,
      "outputs": []
    },
    {
      "cell_type": "code",
      "metadata": {
        "id": "tKgGh6ELhTdj"
      },
      "source": [
        ""
      ],
      "execution_count": null,
      "outputs": []
    }
  ]
}
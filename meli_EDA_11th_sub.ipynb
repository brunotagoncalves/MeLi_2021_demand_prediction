{
  "nbformat": 4,
  "nbformat_minor": 0,
  "metadata": {
    "colab": {
      "name": "meli_EDA_2nd_sub.ipynb",
      "provenance": [],
      "mount_file_id": "https://github.com/brunotagoncalves/MeLi_2021_demand_prediction/blob/main/meli_EDA_4th_sub.ipynb",
      "authorship_tag": "ABX9TyPGLpjtr4my38xon7quY3TU",
      "include_colab_link": true
    },
    "kernelspec": {
      "name": "python3",
      "display_name": "Python 3"
    },
    "language_info": {
      "name": "python"
    }
  },
  "cells": [
    {
      "cell_type": "markdown",
      "metadata": {
        "id": "view-in-github",
        "colab_type": "text"
      },
      "source": [
        "<a href=\"https://colab.research.google.com/github/brunotagoncalves/MeLi_2021_demand_prediction/blob/main/meli_EDA_11th_sub.ipynb\" target=\"_parent\"><img src=\"https://colab.research.google.com/assets/colab-badge.svg\" alt=\"Open In Colab\"/></a>"
      ]
    },
    {
      "cell_type": "markdown",
      "metadata": {
        "id": "-ZbsoPU-AJ4N"
      },
      "source": [
        "# Read Data "
      ]
    },
    {
      "cell_type": "code",
      "metadata": {
        "colab": {
          "base_uri": "https://localhost:8080/"
        },
        "id": "iFJbX7UCbXfq",
        "outputId": "ba2b2cb4-e1b7-46a6-bbb2-0a3c7fb0a613"
      },
      "source": [
        "from google.colab import drive\n",
        "drive.mount('/content/drive')"
      ],
      "execution_count": 1,
      "outputs": [
        {
          "output_type": "stream",
          "text": [
            "Drive already mounted at /content/drive; to attempt to forcibly remount, call drive.mount(\"/content/drive\", force_remount=True).\n"
          ],
          "name": "stdout"
        }
      ]
    },
    {
      "cell_type": "code",
      "metadata": {
        "id": "xPnEDAXf5UJt",
        "colab": {
          "base_uri": "https://localhost:8080/"
        },
        "outputId": "dc2f9704-0e71-4f9e-8ccf-0d6a1c3052fa"
      },
      "source": [
        "!pip install catboost"
      ],
      "execution_count": 2,
      "outputs": [
        {
          "output_type": "stream",
          "text": [
            "Collecting catboost\n",
            "  Downloading catboost-0.26-cp37-none-manylinux1_x86_64.whl (69.2 MB)\n",
            "\u001b[K     |████████████████████████████████| 69.2 MB 4.8 kB/s \n",
            "\u001b[?25hRequirement already satisfied: scipy in /usr/local/lib/python3.7/dist-packages (from catboost) (1.4.1)\n",
            "Requirement already satisfied: six in /usr/local/lib/python3.7/dist-packages (from catboost) (1.15.0)\n",
            "Requirement already satisfied: graphviz in /usr/local/lib/python3.7/dist-packages (from catboost) (0.10.1)\n",
            "Requirement already satisfied: pandas>=0.24.0 in /usr/local/lib/python3.7/dist-packages (from catboost) (1.1.5)\n",
            "Requirement already satisfied: plotly in /usr/local/lib/python3.7/dist-packages (from catboost) (4.4.1)\n",
            "Requirement already satisfied: numpy>=1.16.0 in /usr/local/lib/python3.7/dist-packages (from catboost) (1.19.5)\n",
            "Requirement already satisfied: matplotlib in /usr/local/lib/python3.7/dist-packages (from catboost) (3.2.2)\n",
            "Requirement already satisfied: pytz>=2017.2 in /usr/local/lib/python3.7/dist-packages (from pandas>=0.24.0->catboost) (2018.9)\n",
            "Requirement already satisfied: python-dateutil>=2.7.3 in /usr/local/lib/python3.7/dist-packages (from pandas>=0.24.0->catboost) (2.8.1)\n",
            "Requirement already satisfied: pyparsing!=2.0.4,!=2.1.2,!=2.1.6,>=2.0.1 in /usr/local/lib/python3.7/dist-packages (from matplotlib->catboost) (2.4.7)\n",
            "Requirement already satisfied: kiwisolver>=1.0.1 in /usr/local/lib/python3.7/dist-packages (from matplotlib->catboost) (1.3.1)\n",
            "Requirement already satisfied: cycler>=0.10 in /usr/local/lib/python3.7/dist-packages (from matplotlib->catboost) (0.10.0)\n",
            "Requirement already satisfied: retrying>=1.3.3 in /usr/local/lib/python3.7/dist-packages (from plotly->catboost) (1.3.3)\n",
            "Installing collected packages: catboost\n",
            "Successfully installed catboost-0.26\n"
          ],
          "name": "stdout"
        }
      ]
    },
    {
      "cell_type": "code",
      "metadata": {
        "id": "37hIzI0UANWB"
      },
      "source": [
        "#!wget https://meli-data-challenge.s3.amazonaws.com/2021/test_data.csv -P drive/MyDrive/MeLi-2021/row/\n",
        "#!wget https://meli-data-challenge.s3.amazonaws.com/2021/train_data.parquet -P drive/MyDrive/MeLi-2021/row/\n",
        "#!wget https://meli-data-challenge.s3.amazonaws.com/2021/items_static_metadata_full.jl -P drive/MyDrive/MeLi-2021/row/\n",
        "#!wget https://meli-data-challenge.s3.amazonaws.com/2021/sample_submission.csv.gz -P drive/MyDrive/MeLi-2021/row/"
      ],
      "execution_count": 3,
      "outputs": []
    },
    {
      "cell_type": "code",
      "metadata": {
        "colab": {
          "base_uri": "https://localhost:8080/"
        },
        "id": "GL6kFn3IcDH1",
        "outputId": "b5a0c240-f89d-43c9-c4e1-8ba5d2f6e1c3"
      },
      "source": [
        "!apt-get install openjdk-8-jdk-headless -qq > /dev/null\n",
        "#!wget http://www-eu.apache.org/dist/spark/spark-2.4.8/spark-2.4.8-bin-hadoop2.7.tgz \n",
        "!wget -P spark_tgz/ http://www-eu.apache.org/dist/spark/spark-2.4.8/spark-2.4.8-bin-hadoop2.7.tgz"
      ],
      "execution_count": 4,
      "outputs": [
        {
          "output_type": "stream",
          "text": [
            "--2021-08-03 17:23:32--  http://www-eu.apache.org/dist/spark/spark-2.4.8/spark-2.4.8-bin-hadoop2.7.tgz\n",
            "Resolving www-eu.apache.org (www-eu.apache.org)... 95.216.26.30, 2a01:4f9:2a:1a61::2\n",
            "Connecting to www-eu.apache.org (www-eu.apache.org)|95.216.26.30|:80... connected.\n",
            "HTTP request sent, awaiting response... 302 Found\n",
            "Location: https://downloads.apache.org/spark/spark-2.4.8/spark-2.4.8-bin-hadoop2.7.tgz [following]\n",
            "--2021-08-03 17:23:32--  https://downloads.apache.org/spark/spark-2.4.8/spark-2.4.8-bin-hadoop2.7.tgz\n",
            "Resolving downloads.apache.org (downloads.apache.org)... 135.181.214.104, 135.181.209.10, 88.99.95.219, ...\n",
            "Connecting to downloads.apache.org (downloads.apache.org)|135.181.214.104|:443... connected.\n",
            "HTTP request sent, awaiting response... 200 OK\n",
            "Length: 235899716 (225M) [application/x-gzip]\n",
            "Saving to: ‘spark_tgz/spark-2.4.8-bin-hadoop2.7.tgz’\n",
            "\n",
            "spark-2.4.8-bin-had 100%[===================>] 224.97M  24.9MB/s    in 9.8s    \n",
            "\n",
            "2021-08-03 17:23:42 (23.0 MB/s) - ‘spark_tgz/spark-2.4.8-bin-hadoop2.7.tgz’ saved [235899716/235899716]\n",
            "\n"
          ],
          "name": "stdout"
        }
      ]
    },
    {
      "cell_type": "code",
      "metadata": {
        "colab": {
          "base_uri": "https://localhost:8080/"
        },
        "id": "MXldW4KjcF8h",
        "outputId": "91f6fbe5-fd56-45e6-e71f-181772d8ebc3"
      },
      "source": [
        "!tar -xf spark_tgz/spark-2.4.8-bin-hadoop2.7.tgz -C spark_tgz/\n",
        "!pip install -q findspark\n",
        "!pip install -q pyspark"
      ],
      "execution_count": 5,
      "outputs": [
        {
          "output_type": "stream",
          "text": [
            "\u001b[K     |████████████████████████████████| 212.4 MB 41 kB/s \n",
            "\u001b[K     |████████████████████████████████| 198 kB 50.1 MB/s \n",
            "\u001b[?25h  Building wheel for pyspark (setup.py) ... \u001b[?25l\u001b[?25hdone\n"
          ],
          "name": "stdout"
        }
      ]
    },
    {
      "cell_type": "code",
      "metadata": {
        "id": "DwlQZAD5cJrK"
      },
      "source": [
        "import os\n",
        "os.environ[\"JAVA_HOME\"] = \"/usr/lib/jvm/java-8-openjdk-amd64\"\n",
        "os.environ[\"SPARK_HOME\"] = \"/content/spark_tgz/spark-2.4.8-bin-hadoop2.7\""
      ],
      "execution_count": 6,
      "outputs": []
    },
    {
      "cell_type": "code",
      "metadata": {
        "id": "XjwlnWfvcNyT"
      },
      "source": [
        "import findspark\n",
        "findspark.init()\n",
        "from pyspark.sql import SparkSession\n",
        "spark = SparkSession.builder.master(\"local[*]\").getOrCreate()\n"
      ],
      "execution_count": 7,
      "outputs": []
    },
    {
      "cell_type": "code",
      "metadata": {
        "id": "dfMcGqorv3l5"
      },
      "source": [
        "import pyspark.sql.functions  as F\n",
        "from pyspark.sql.window import *"
      ],
      "execution_count": 8,
      "outputs": []
    },
    {
      "cell_type": "code",
      "metadata": {
        "id": "NcLjJFcUAVdR"
      },
      "source": [
        "import pandas as pd \n",
        "import numpy as np\n"
      ],
      "execution_count": 9,
      "outputs": []
    },
    {
      "cell_type": "code",
      "metadata": {
        "id": "4nuN_PXPcPcT"
      },
      "source": [
        "df_spark = spark.read.format('parquet').load(\"drive/MyDrive/MeLi-2021/row/train_data.parquet\")#.filter('sku=26')\n",
        "df_spark.createOrReplaceTempView('df')"
      ],
      "execution_count": 10,
      "outputs": []
    },
    {
      "cell_type": "code",
      "metadata": {
        "colab": {
          "base_uri": "https://localhost:8080/"
        },
        "id": "BDgJEEpiSsRp",
        "outputId": "3b4f14b8-b009-4dcf-ced2-a775cde0039c"
      },
      "source": [
        "%%time\n",
        "df_spark = spark.read.format('parquet').load(\"drive/MyDrive/MeLi-2021/row/train_data.parquet\")#.filter('sku=26')\n",
        "df_spark = df_spark.withColumn('row_sku',F.row_number().over(Window.partitionBy(\"sku\").orderBy(\"date\")))\n",
        "df_spark = df_spark.withColumn('sold_quantity',F.when(F.col('minutes_active')>=1440.000000*8/24,F.col('sold_quantity')).otherwise(None))\n",
        "for i in range(1,31):\n",
        "  df_spark = df_spark.withColumn('lag_'+str(i)+'_sold_quantity',F.lag('sold_quantity',i).over(Window.partitionBy(\"sku\").orderBy(\"date\")))\n",
        "df_spark = df_spark.filter('row_sku>=30')\n",
        "df_spark = df_spark.withColumn('sum_sold_quantity',F.sum(F.col('sold_quantity')).over(Window.partitionBy(\"sku\").orderBy(\"date\")))\n",
        "df_spark = df_spark.withColumn('sum_days_active',(F.sum(F.col('minutes_active')).over(Window.partitionBy(\"sku\").orderBy(\"date\"))/24/60).cast('int'))\n",
        "df_spark = df_spark.filter('sold_quantity is not null ')\n",
        "df_spark = df_spark.filter('sum_days_active > 0 or sum_sold_quantity> 0 ')\n",
        "df_spark.repartition(1).write.mode('overwrite').format('parquet').save('drive/MyDrive/MeLi-2021/final/lag_vars/')"
      ],
      "execution_count": 11,
      "outputs": [
        {
          "output_type": "stream",
          "text": [
            "CPU times: user 1.5 s, sys: 182 ms, total: 1.68 s\n",
            "Wall time: 4min 25s\n"
          ],
          "name": "stdout"
        }
      ]
    },
    {
      "cell_type": "code",
      "metadata": {
        "id": "f3Kkho_vcdt-"
      },
      "source": [
        "df = spark.read.format('parquet').load('drive/MyDrive/MeLi-2021/final/lag_vars/')\n",
        "#df.describe('')#.toPandas()"
      ],
      "execution_count": 12,
      "outputs": []
    },
    {
      "cell_type": "code",
      "metadata": {
        "id": "_zRk76xa59tG"
      },
      "source": [
        "df.createOrReplaceTempView('df_lags')"
      ],
      "execution_count": 13,
      "outputs": []
    },
    {
      "cell_type": "code",
      "metadata": {
        "colab": {
          "base_uri": "https://localhost:8080/"
        },
        "id": "fXfkrOsSrD9t",
        "outputId": "c21fb6dd-12b1-4ceb-976c-c94e731f814c"
      },
      "source": [
        "#df.filter('sum_minutes_active=29').limit(10).toPandas()\n",
        "#df.filter('sku=474').toPandas()\n",
        "df.count()"
      ],
      "execution_count": 14,
      "outputs": [
        {
          "output_type": "execute_result",
          "data": {
            "text/plain": [
              "13549689"
            ]
          },
          "metadata": {
            "tags": []
          },
          "execution_count": 14
        }
      ]
    },
    {
      "cell_type": "code",
      "metadata": {
        "id": "ZftTe1KZvfTA"
      },
      "source": [
        "spark.sql(\"\"\" \n",
        "SELECT sku\n",
        "  , sum(sold_quantity) sum_sold_quantity\n",
        "  , max(sold_quantity) max_sold_quantity \n",
        "  , min(case when sold_quantity>0 then sold_quantity end) min_sold_quantity \n",
        "  , avg(case when sold_quantity>0 then sold_quantity end) avg_sold_quantity \n",
        "  , percentile_approx(case when sold_quantity>0 then sold_quantity end,.5) median_sold_quantity \n",
        "  , percentile_approx(case when sold_quantity>0 then sold_quantity end,.25) qt1_sold_quantity \n",
        "  , percentile_approx(case when sold_quantity>0 then sold_quantity end,.75) qt3_sold_quantity \n",
        "\n",
        "  , sum(current_price*sold_quantity) total_fat \n",
        "  , max(current_price*sold_quantity) max_fat  \n",
        "  , min(case when sold_quantity>0 then current_price*sold_quantity end) min_fat \n",
        "  , avg(case when sold_quantity>0 then current_price*sold_quantity end) avg_fat\n",
        "  , percentile_approx(case when sold_quantity>0 then current_price*sold_quantity end,.5) median_fat\n",
        "  , percentile_approx(case when sold_quantity>0 then current_price*sold_quantity end,.25) qt1_fat\n",
        "  , percentile_approx(case when sold_quantity>0 then current_price*sold_quantity end,.75) qt3_fat\n",
        "\n",
        "  , sum(case when sold_quantity>0 then current_price*sold_quantity end)/sum(sold_quantity) avg_price\n",
        "  , percentile_approx(case when sold_quantity>0 then current_price*sold_quantity end,.5)/sum(sold_quantity) median_price\n",
        "  , percentile_approx(case when sold_quantity>0 then current_price*sold_quantity end,.25)/sum(sold_quantity) qt1_price\n",
        "  , percentile_approx(case when sold_quantity>0 then current_price*sold_quantity end,.75)/sum(sold_quantity) qt3_price\n",
        "  , sum(sold_quantity)/sum(minutes_active/60/24) tx_sell\n",
        "FROM df\n",
        "GROUP BY sku\n",
        "\"\"\").createOrReplaceTempView('df_final')"
      ],
      "execution_count": 15,
      "outputs": []
    },
    {
      "cell_type": "code",
      "metadata": {
        "id": "zAMlvqKv3-r5"
      },
      "source": [
        "spark.read.format('json').load('drive/MyDrive/MeLi-2021/row/items_static_metadata_full.jl').createOrReplaceTempView('items')\n"
      ],
      "execution_count": 16,
      "outputs": []
    },
    {
      "cell_type": "code",
      "metadata": {
        "id": "kOMyJpuqtD3K"
      },
      "source": [
        "spark.sql(\"\"\"\n",
        "SELECT df_lags.*,\n",
        "  max_sold_quantity,\n",
        "  min_sold_quantity,\n",
        "  avg_sold_quantity,\n",
        "  median_sold_quantity,\n",
        "  qt1_sold_quantity,\n",
        "  qt3_sold_quantity,\n",
        "  total_fat,\n",
        "  max_fat,\n",
        "  min_fat,\n",
        "  avg_fat,\n",
        "  median_fat,\n",
        "  qt1_fat,\n",
        "  qt3_fat,\n",
        "  avg_price,\n",
        "  median_price,\n",
        "  qt1_price,\n",
        "  qt3_price,\n",
        "  item_domain_id ,\n",
        "  item_id ,\n",
        "  item_title ,\n",
        "  product_family_id ,\n",
        "  product_id ,\n",
        "  site_id \n",
        "\n",
        "FROM df_lags\n",
        "LEFT JOIN df_final \n",
        "  ON df_lags.sku = df_final.sku\n",
        "LEFT JOIN items \n",
        "  ON items.sku = df_lags.sku\n",
        "\"\"\").createOrReplaceTempView('df_final_join')"
      ],
      "execution_count": 17,
      "outputs": []
    },
    {
      "cell_type": "code",
      "metadata": {
        "colab": {
          "base_uri": "https://localhost:8080/",
          "height": 1000
        },
        "id": "DGC3oAP893Z9",
        "outputId": "77cd07cb-9993-42b5-b443-5714a1e45b22"
      },
      "source": [
        "spark.sql(\"\"\"select * from df_final_join\"\"\").limit(10).toPandas()"
      ],
      "execution_count": 18,
      "outputs": [
        {
          "output_type": "execute_result",
          "data": {
            "text/html": [
              "<div>\n",
              "<style scoped>\n",
              "    .dataframe tbody tr th:only-of-type {\n",
              "        vertical-align: middle;\n",
              "    }\n",
              "\n",
              "    .dataframe tbody tr th {\n",
              "        vertical-align: top;\n",
              "    }\n",
              "\n",
              "    .dataframe thead th {\n",
              "        text-align: right;\n",
              "    }\n",
              "</style>\n",
              "<table border=\"1\" class=\"dataframe\">\n",
              "  <thead>\n",
              "    <tr style=\"text-align: right;\">\n",
              "      <th></th>\n",
              "      <th>sku</th>\n",
              "      <th>date</th>\n",
              "      <th>sold_quantity</th>\n",
              "      <th>current_price</th>\n",
              "      <th>currency</th>\n",
              "      <th>listing_type</th>\n",
              "      <th>shipping_logistic_type</th>\n",
              "      <th>shipping_payment</th>\n",
              "      <th>minutes_active</th>\n",
              "      <th>row_sku</th>\n",
              "      <th>lag_1_sold_quantity</th>\n",
              "      <th>lag_2_sold_quantity</th>\n",
              "      <th>lag_3_sold_quantity</th>\n",
              "      <th>lag_4_sold_quantity</th>\n",
              "      <th>lag_5_sold_quantity</th>\n",
              "      <th>lag_6_sold_quantity</th>\n",
              "      <th>lag_7_sold_quantity</th>\n",
              "      <th>lag_8_sold_quantity</th>\n",
              "      <th>lag_9_sold_quantity</th>\n",
              "      <th>lag_10_sold_quantity</th>\n",
              "      <th>lag_11_sold_quantity</th>\n",
              "      <th>lag_12_sold_quantity</th>\n",
              "      <th>lag_13_sold_quantity</th>\n",
              "      <th>lag_14_sold_quantity</th>\n",
              "      <th>lag_15_sold_quantity</th>\n",
              "      <th>lag_16_sold_quantity</th>\n",
              "      <th>lag_17_sold_quantity</th>\n",
              "      <th>lag_18_sold_quantity</th>\n",
              "      <th>lag_19_sold_quantity</th>\n",
              "      <th>lag_20_sold_quantity</th>\n",
              "      <th>lag_21_sold_quantity</th>\n",
              "      <th>lag_22_sold_quantity</th>\n",
              "      <th>lag_23_sold_quantity</th>\n",
              "      <th>lag_24_sold_quantity</th>\n",
              "      <th>lag_25_sold_quantity</th>\n",
              "      <th>lag_26_sold_quantity</th>\n",
              "      <th>lag_27_sold_quantity</th>\n",
              "      <th>lag_28_sold_quantity</th>\n",
              "      <th>lag_29_sold_quantity</th>\n",
              "      <th>lag_30_sold_quantity</th>\n",
              "      <th>sum_sold_quantity</th>\n",
              "      <th>sum_days_active</th>\n",
              "      <th>max_sold_quantity</th>\n",
              "      <th>min_sold_quantity</th>\n",
              "      <th>avg_sold_quantity</th>\n",
              "      <th>median_sold_quantity</th>\n",
              "      <th>qt1_sold_quantity</th>\n",
              "      <th>qt3_sold_quantity</th>\n",
              "      <th>total_fat</th>\n",
              "      <th>max_fat</th>\n",
              "      <th>min_fat</th>\n",
              "      <th>avg_fat</th>\n",
              "      <th>median_fat</th>\n",
              "      <th>qt1_fat</th>\n",
              "      <th>qt3_fat</th>\n",
              "      <th>avg_price</th>\n",
              "      <th>median_price</th>\n",
              "      <th>qt1_price</th>\n",
              "      <th>qt3_price</th>\n",
              "      <th>item_domain_id</th>\n",
              "      <th>item_id</th>\n",
              "      <th>item_title</th>\n",
              "      <th>product_family_id</th>\n",
              "      <th>product_id</th>\n",
              "      <th>site_id</th>\n",
              "    </tr>\n",
              "  </thead>\n",
              "  <tbody>\n",
              "    <tr>\n",
              "      <th>0</th>\n",
              "      <td>26</td>\n",
              "      <td>2021-03-02</td>\n",
              "      <td>22</td>\n",
              "      <td>6.9</td>\n",
              "      <td>REA</td>\n",
              "      <td>classic</td>\n",
              "      <td>fulfillment</td>\n",
              "      <td>paid_shipping</td>\n",
              "      <td>1440.000000</td>\n",
              "      <td>30</td>\n",
              "      <td>0.0</td>\n",
              "      <td>0.0</td>\n",
              "      <td>9.0</td>\n",
              "      <td>9.0</td>\n",
              "      <td>6.0</td>\n",
              "      <td>28.0</td>\n",
              "      <td>5.0</td>\n",
              "      <td>9.0</td>\n",
              "      <td>0.0</td>\n",
              "      <td>0.0</td>\n",
              "      <td>0.0</td>\n",
              "      <td>0.0</td>\n",
              "      <td>0.0</td>\n",
              "      <td>0.0</td>\n",
              "      <td>0.0</td>\n",
              "      <td>0.0</td>\n",
              "      <td>0.0</td>\n",
              "      <td>0.0</td>\n",
              "      <td>0.0</td>\n",
              "      <td>0.0</td>\n",
              "      <td>0.0</td>\n",
              "      <td>0</td>\n",
              "      <td>0</td>\n",
              "      <td>0</td>\n",
              "      <td>0</td>\n",
              "      <td>0</td>\n",
              "      <td>NaN</td>\n",
              "      <td>0.0</td>\n",
              "      <td>0.0</td>\n",
              "      <td>NaN</td>\n",
              "      <td>22</td>\n",
              "      <td>1</td>\n",
              "      <td>28</td>\n",
              "      <td>5</td>\n",
              "      <td>11.0</td>\n",
              "      <td>9</td>\n",
              "      <td>6</td>\n",
              "      <td>10</td>\n",
              "      <td>732.6</td>\n",
              "      <td>182.0</td>\n",
              "      <td>32.5</td>\n",
              "      <td>73.26</td>\n",
              "      <td>58.5</td>\n",
              "      <td>39.0</td>\n",
              "      <td>69.0</td>\n",
              "      <td>6.66</td>\n",
              "      <td>0.531818</td>\n",
              "      <td>0.354545</td>\n",
              "      <td>0.627273</td>\n",
              "      <td>MLB-BEAUTY_AND_PERSONAL_CARE_SUPPLIES</td>\n",
              "      <td>144191</td>\n",
              "      <td>Porta Alcool Gel Frasco Mochila Chaveiro Com M...</td>\n",
              "      <td>None</td>\n",
              "      <td>None</td>\n",
              "      <td>MLB</td>\n",
              "    </tr>\n",
              "    <tr>\n",
              "      <th>1</th>\n",
              "      <td>26</td>\n",
              "      <td>2021-03-03</td>\n",
              "      <td>10</td>\n",
              "      <td>6.9</td>\n",
              "      <td>REA</td>\n",
              "      <td>classic</td>\n",
              "      <td>fulfillment</td>\n",
              "      <td>paid_shipping</td>\n",
              "      <td>1440.000000</td>\n",
              "      <td>31</td>\n",
              "      <td>22.0</td>\n",
              "      <td>0.0</td>\n",
              "      <td>0.0</td>\n",
              "      <td>9.0</td>\n",
              "      <td>9.0</td>\n",
              "      <td>6.0</td>\n",
              "      <td>28.0</td>\n",
              "      <td>5.0</td>\n",
              "      <td>9.0</td>\n",
              "      <td>0.0</td>\n",
              "      <td>0.0</td>\n",
              "      <td>0.0</td>\n",
              "      <td>0.0</td>\n",
              "      <td>0.0</td>\n",
              "      <td>0.0</td>\n",
              "      <td>0.0</td>\n",
              "      <td>0.0</td>\n",
              "      <td>0.0</td>\n",
              "      <td>0.0</td>\n",
              "      <td>0.0</td>\n",
              "      <td>0.0</td>\n",
              "      <td>0</td>\n",
              "      <td>0</td>\n",
              "      <td>0</td>\n",
              "      <td>0</td>\n",
              "      <td>0</td>\n",
              "      <td>0.0</td>\n",
              "      <td>NaN</td>\n",
              "      <td>0.0</td>\n",
              "      <td>0.0</td>\n",
              "      <td>32</td>\n",
              "      <td>2</td>\n",
              "      <td>28</td>\n",
              "      <td>5</td>\n",
              "      <td>11.0</td>\n",
              "      <td>9</td>\n",
              "      <td>6</td>\n",
              "      <td>10</td>\n",
              "      <td>732.6</td>\n",
              "      <td>182.0</td>\n",
              "      <td>32.5</td>\n",
              "      <td>73.26</td>\n",
              "      <td>58.5</td>\n",
              "      <td>39.0</td>\n",
              "      <td>69.0</td>\n",
              "      <td>6.66</td>\n",
              "      <td>0.531818</td>\n",
              "      <td>0.354545</td>\n",
              "      <td>0.627273</td>\n",
              "      <td>MLB-BEAUTY_AND_PERSONAL_CARE_SUPPLIES</td>\n",
              "      <td>144191</td>\n",
              "      <td>Porta Alcool Gel Frasco Mochila Chaveiro Com M...</td>\n",
              "      <td>None</td>\n",
              "      <td>None</td>\n",
              "      <td>MLB</td>\n",
              "    </tr>\n",
              "    <tr>\n",
              "      <th>2</th>\n",
              "      <td>26</td>\n",
              "      <td>2021-03-04</td>\n",
              "      <td>5</td>\n",
              "      <td>6.9</td>\n",
              "      <td>REA</td>\n",
              "      <td>classic</td>\n",
              "      <td>fulfillment</td>\n",
              "      <td>paid_shipping</td>\n",
              "      <td>1440.000000</td>\n",
              "      <td>32</td>\n",
              "      <td>10.0</td>\n",
              "      <td>22.0</td>\n",
              "      <td>0.0</td>\n",
              "      <td>0.0</td>\n",
              "      <td>9.0</td>\n",
              "      <td>9.0</td>\n",
              "      <td>6.0</td>\n",
              "      <td>28.0</td>\n",
              "      <td>5.0</td>\n",
              "      <td>9.0</td>\n",
              "      <td>0.0</td>\n",
              "      <td>0.0</td>\n",
              "      <td>0.0</td>\n",
              "      <td>0.0</td>\n",
              "      <td>0.0</td>\n",
              "      <td>0.0</td>\n",
              "      <td>0.0</td>\n",
              "      <td>0.0</td>\n",
              "      <td>0.0</td>\n",
              "      <td>0.0</td>\n",
              "      <td>0.0</td>\n",
              "      <td>0</td>\n",
              "      <td>0</td>\n",
              "      <td>0</td>\n",
              "      <td>0</td>\n",
              "      <td>0</td>\n",
              "      <td>0.0</td>\n",
              "      <td>0.0</td>\n",
              "      <td>NaN</td>\n",
              "      <td>0.0</td>\n",
              "      <td>37</td>\n",
              "      <td>3</td>\n",
              "      <td>28</td>\n",
              "      <td>5</td>\n",
              "      <td>11.0</td>\n",
              "      <td>9</td>\n",
              "      <td>6</td>\n",
              "      <td>10</td>\n",
              "      <td>732.6</td>\n",
              "      <td>182.0</td>\n",
              "      <td>32.5</td>\n",
              "      <td>73.26</td>\n",
              "      <td>58.5</td>\n",
              "      <td>39.0</td>\n",
              "      <td>69.0</td>\n",
              "      <td>6.66</td>\n",
              "      <td>0.531818</td>\n",
              "      <td>0.354545</td>\n",
              "      <td>0.627273</td>\n",
              "      <td>MLB-BEAUTY_AND_PERSONAL_CARE_SUPPLIES</td>\n",
              "      <td>144191</td>\n",
              "      <td>Porta Alcool Gel Frasco Mochila Chaveiro Com M...</td>\n",
              "      <td>None</td>\n",
              "      <td>None</td>\n",
              "      <td>MLB</td>\n",
              "    </tr>\n",
              "    <tr>\n",
              "      <th>3</th>\n",
              "      <td>26</td>\n",
              "      <td>2021-03-05</td>\n",
              "      <td>7</td>\n",
              "      <td>6.9</td>\n",
              "      <td>REA</td>\n",
              "      <td>classic</td>\n",
              "      <td>fulfillment</td>\n",
              "      <td>paid_shipping</td>\n",
              "      <td>597.583333</td>\n",
              "      <td>33</td>\n",
              "      <td>5.0</td>\n",
              "      <td>10.0</td>\n",
              "      <td>22.0</td>\n",
              "      <td>0.0</td>\n",
              "      <td>0.0</td>\n",
              "      <td>9.0</td>\n",
              "      <td>9.0</td>\n",
              "      <td>6.0</td>\n",
              "      <td>28.0</td>\n",
              "      <td>5.0</td>\n",
              "      <td>9.0</td>\n",
              "      <td>0.0</td>\n",
              "      <td>0.0</td>\n",
              "      <td>0.0</td>\n",
              "      <td>0.0</td>\n",
              "      <td>0.0</td>\n",
              "      <td>0.0</td>\n",
              "      <td>0.0</td>\n",
              "      <td>0.0</td>\n",
              "      <td>0.0</td>\n",
              "      <td>0.0</td>\n",
              "      <td>0</td>\n",
              "      <td>0</td>\n",
              "      <td>0</td>\n",
              "      <td>0</td>\n",
              "      <td>0</td>\n",
              "      <td>0.0</td>\n",
              "      <td>0.0</td>\n",
              "      <td>0.0</td>\n",
              "      <td>NaN</td>\n",
              "      <td>44</td>\n",
              "      <td>3</td>\n",
              "      <td>28</td>\n",
              "      <td>5</td>\n",
              "      <td>11.0</td>\n",
              "      <td>9</td>\n",
              "      <td>6</td>\n",
              "      <td>10</td>\n",
              "      <td>732.6</td>\n",
              "      <td>182.0</td>\n",
              "      <td>32.5</td>\n",
              "      <td>73.26</td>\n",
              "      <td>58.5</td>\n",
              "      <td>39.0</td>\n",
              "      <td>69.0</td>\n",
              "      <td>6.66</td>\n",
              "      <td>0.531818</td>\n",
              "      <td>0.354545</td>\n",
              "      <td>0.627273</td>\n",
              "      <td>MLB-BEAUTY_AND_PERSONAL_CARE_SUPPLIES</td>\n",
              "      <td>144191</td>\n",
              "      <td>Porta Alcool Gel Frasco Mochila Chaveiro Com M...</td>\n",
              "      <td>None</td>\n",
              "      <td>None</td>\n",
              "      <td>MLB</td>\n",
              "    </tr>\n",
              "    <tr>\n",
              "      <th>4</th>\n",
              "      <td>26</td>\n",
              "      <td>2021-03-22</td>\n",
              "      <td>0</td>\n",
              "      <td>6.9</td>\n",
              "      <td>REA</td>\n",
              "      <td>classic</td>\n",
              "      <td>cross_docking</td>\n",
              "      <td>paid_shipping</td>\n",
              "      <td>538.129750</td>\n",
              "      <td>50</td>\n",
              "      <td>NaN</td>\n",
              "      <td>NaN</td>\n",
              "      <td>NaN</td>\n",
              "      <td>NaN</td>\n",
              "      <td>NaN</td>\n",
              "      <td>NaN</td>\n",
              "      <td>NaN</td>\n",
              "      <td>NaN</td>\n",
              "      <td>NaN</td>\n",
              "      <td>NaN</td>\n",
              "      <td>NaN</td>\n",
              "      <td>NaN</td>\n",
              "      <td>NaN</td>\n",
              "      <td>NaN</td>\n",
              "      <td>NaN</td>\n",
              "      <td>NaN</td>\n",
              "      <td>7.0</td>\n",
              "      <td>5.0</td>\n",
              "      <td>10.0</td>\n",
              "      <td>22.0</td>\n",
              "      <td>0.0</td>\n",
              "      <td>0</td>\n",
              "      <td>9</td>\n",
              "      <td>9</td>\n",
              "      <td>6</td>\n",
              "      <td>28</td>\n",
              "      <td>5.0</td>\n",
              "      <td>9.0</td>\n",
              "      <td>0.0</td>\n",
              "      <td>0.0</td>\n",
              "      <td>44</td>\n",
              "      <td>3</td>\n",
              "      <td>28</td>\n",
              "      <td>5</td>\n",
              "      <td>11.0</td>\n",
              "      <td>9</td>\n",
              "      <td>6</td>\n",
              "      <td>10</td>\n",
              "      <td>732.6</td>\n",
              "      <td>182.0</td>\n",
              "      <td>32.5</td>\n",
              "      <td>73.26</td>\n",
              "      <td>58.5</td>\n",
              "      <td>39.0</td>\n",
              "      <td>69.0</td>\n",
              "      <td>6.66</td>\n",
              "      <td>0.531818</td>\n",
              "      <td>0.354545</td>\n",
              "      <td>0.627273</td>\n",
              "      <td>MLB-BEAUTY_AND_PERSONAL_CARE_SUPPLIES</td>\n",
              "      <td>144191</td>\n",
              "      <td>Porta Alcool Gel Frasco Mochila Chaveiro Com M...</td>\n",
              "      <td>None</td>\n",
              "      <td>None</td>\n",
              "      <td>MLB</td>\n",
              "    </tr>\n",
              "    <tr>\n",
              "      <th>5</th>\n",
              "      <td>26</td>\n",
              "      <td>2021-03-23</td>\n",
              "      <td>0</td>\n",
              "      <td>5.9</td>\n",
              "      <td>REA</td>\n",
              "      <td>classic</td>\n",
              "      <td>cross_docking</td>\n",
              "      <td>paid_shipping</td>\n",
              "      <td>1440.000000</td>\n",
              "      <td>51</td>\n",
              "      <td>0.0</td>\n",
              "      <td>NaN</td>\n",
              "      <td>NaN</td>\n",
              "      <td>NaN</td>\n",
              "      <td>NaN</td>\n",
              "      <td>NaN</td>\n",
              "      <td>NaN</td>\n",
              "      <td>NaN</td>\n",
              "      <td>NaN</td>\n",
              "      <td>NaN</td>\n",
              "      <td>NaN</td>\n",
              "      <td>NaN</td>\n",
              "      <td>NaN</td>\n",
              "      <td>NaN</td>\n",
              "      <td>NaN</td>\n",
              "      <td>NaN</td>\n",
              "      <td>NaN</td>\n",
              "      <td>7.0</td>\n",
              "      <td>5.0</td>\n",
              "      <td>10.0</td>\n",
              "      <td>22.0</td>\n",
              "      <td>0</td>\n",
              "      <td>0</td>\n",
              "      <td>9</td>\n",
              "      <td>9</td>\n",
              "      <td>6</td>\n",
              "      <td>28.0</td>\n",
              "      <td>5.0</td>\n",
              "      <td>9.0</td>\n",
              "      <td>0.0</td>\n",
              "      <td>44</td>\n",
              "      <td>4</td>\n",
              "      <td>28</td>\n",
              "      <td>5</td>\n",
              "      <td>11.0</td>\n",
              "      <td>9</td>\n",
              "      <td>6</td>\n",
              "      <td>10</td>\n",
              "      <td>732.6</td>\n",
              "      <td>182.0</td>\n",
              "      <td>32.5</td>\n",
              "      <td>73.26</td>\n",
              "      <td>58.5</td>\n",
              "      <td>39.0</td>\n",
              "      <td>69.0</td>\n",
              "      <td>6.66</td>\n",
              "      <td>0.531818</td>\n",
              "      <td>0.354545</td>\n",
              "      <td>0.627273</td>\n",
              "      <td>MLB-BEAUTY_AND_PERSONAL_CARE_SUPPLIES</td>\n",
              "      <td>144191</td>\n",
              "      <td>Porta Alcool Gel Frasco Mochila Chaveiro Com M...</td>\n",
              "      <td>None</td>\n",
              "      <td>None</td>\n",
              "      <td>MLB</td>\n",
              "    </tr>\n",
              "    <tr>\n",
              "      <th>6</th>\n",
              "      <td>26</td>\n",
              "      <td>2021-03-24</td>\n",
              "      <td>0</td>\n",
              "      <td>5.9</td>\n",
              "      <td>REA</td>\n",
              "      <td>classic</td>\n",
              "      <td>cross_docking</td>\n",
              "      <td>paid_shipping</td>\n",
              "      <td>1440.000000</td>\n",
              "      <td>52</td>\n",
              "      <td>0.0</td>\n",
              "      <td>0.0</td>\n",
              "      <td>NaN</td>\n",
              "      <td>NaN</td>\n",
              "      <td>NaN</td>\n",
              "      <td>NaN</td>\n",
              "      <td>NaN</td>\n",
              "      <td>NaN</td>\n",
              "      <td>NaN</td>\n",
              "      <td>NaN</td>\n",
              "      <td>NaN</td>\n",
              "      <td>NaN</td>\n",
              "      <td>NaN</td>\n",
              "      <td>NaN</td>\n",
              "      <td>NaN</td>\n",
              "      <td>NaN</td>\n",
              "      <td>NaN</td>\n",
              "      <td>NaN</td>\n",
              "      <td>7.0</td>\n",
              "      <td>5.0</td>\n",
              "      <td>10.0</td>\n",
              "      <td>22</td>\n",
              "      <td>0</td>\n",
              "      <td>0</td>\n",
              "      <td>9</td>\n",
              "      <td>9</td>\n",
              "      <td>6.0</td>\n",
              "      <td>28.0</td>\n",
              "      <td>5.0</td>\n",
              "      <td>9.0</td>\n",
              "      <td>44</td>\n",
              "      <td>5</td>\n",
              "      <td>28</td>\n",
              "      <td>5</td>\n",
              "      <td>11.0</td>\n",
              "      <td>9</td>\n",
              "      <td>6</td>\n",
              "      <td>10</td>\n",
              "      <td>732.6</td>\n",
              "      <td>182.0</td>\n",
              "      <td>32.5</td>\n",
              "      <td>73.26</td>\n",
              "      <td>58.5</td>\n",
              "      <td>39.0</td>\n",
              "      <td>69.0</td>\n",
              "      <td>6.66</td>\n",
              "      <td>0.531818</td>\n",
              "      <td>0.354545</td>\n",
              "      <td>0.627273</td>\n",
              "      <td>MLB-BEAUTY_AND_PERSONAL_CARE_SUPPLIES</td>\n",
              "      <td>144191</td>\n",
              "      <td>Porta Alcool Gel Frasco Mochila Chaveiro Com M...</td>\n",
              "      <td>None</td>\n",
              "      <td>None</td>\n",
              "      <td>MLB</td>\n",
              "    </tr>\n",
              "    <tr>\n",
              "      <th>7</th>\n",
              "      <td>26</td>\n",
              "      <td>2021-03-25</td>\n",
              "      <td>0</td>\n",
              "      <td>5.9</td>\n",
              "      <td>REA</td>\n",
              "      <td>classic</td>\n",
              "      <td>cross_docking</td>\n",
              "      <td>paid_shipping</td>\n",
              "      <td>1440.000000</td>\n",
              "      <td>53</td>\n",
              "      <td>0.0</td>\n",
              "      <td>0.0</td>\n",
              "      <td>0.0</td>\n",
              "      <td>NaN</td>\n",
              "      <td>NaN</td>\n",
              "      <td>NaN</td>\n",
              "      <td>NaN</td>\n",
              "      <td>NaN</td>\n",
              "      <td>NaN</td>\n",
              "      <td>NaN</td>\n",
              "      <td>NaN</td>\n",
              "      <td>NaN</td>\n",
              "      <td>NaN</td>\n",
              "      <td>NaN</td>\n",
              "      <td>NaN</td>\n",
              "      <td>NaN</td>\n",
              "      <td>NaN</td>\n",
              "      <td>NaN</td>\n",
              "      <td>NaN</td>\n",
              "      <td>7.0</td>\n",
              "      <td>5.0</td>\n",
              "      <td>10</td>\n",
              "      <td>22</td>\n",
              "      <td>0</td>\n",
              "      <td>0</td>\n",
              "      <td>9</td>\n",
              "      <td>9.0</td>\n",
              "      <td>6.0</td>\n",
              "      <td>28.0</td>\n",
              "      <td>5.0</td>\n",
              "      <td>44</td>\n",
              "      <td>6</td>\n",
              "      <td>28</td>\n",
              "      <td>5</td>\n",
              "      <td>11.0</td>\n",
              "      <td>9</td>\n",
              "      <td>6</td>\n",
              "      <td>10</td>\n",
              "      <td>732.6</td>\n",
              "      <td>182.0</td>\n",
              "      <td>32.5</td>\n",
              "      <td>73.26</td>\n",
              "      <td>58.5</td>\n",
              "      <td>39.0</td>\n",
              "      <td>69.0</td>\n",
              "      <td>6.66</td>\n",
              "      <td>0.531818</td>\n",
              "      <td>0.354545</td>\n",
              "      <td>0.627273</td>\n",
              "      <td>MLB-BEAUTY_AND_PERSONAL_CARE_SUPPLIES</td>\n",
              "      <td>144191</td>\n",
              "      <td>Porta Alcool Gel Frasco Mochila Chaveiro Com M...</td>\n",
              "      <td>None</td>\n",
              "      <td>None</td>\n",
              "      <td>MLB</td>\n",
              "    </tr>\n",
              "    <tr>\n",
              "      <th>8</th>\n",
              "      <td>26</td>\n",
              "      <td>2021-03-26</td>\n",
              "      <td>0</td>\n",
              "      <td>5.9</td>\n",
              "      <td>REA</td>\n",
              "      <td>classic</td>\n",
              "      <td>cross_docking</td>\n",
              "      <td>paid_shipping</td>\n",
              "      <td>1440.000000</td>\n",
              "      <td>54</td>\n",
              "      <td>0.0</td>\n",
              "      <td>0.0</td>\n",
              "      <td>0.0</td>\n",
              "      <td>0.0</td>\n",
              "      <td>NaN</td>\n",
              "      <td>NaN</td>\n",
              "      <td>NaN</td>\n",
              "      <td>NaN</td>\n",
              "      <td>NaN</td>\n",
              "      <td>NaN</td>\n",
              "      <td>NaN</td>\n",
              "      <td>NaN</td>\n",
              "      <td>NaN</td>\n",
              "      <td>NaN</td>\n",
              "      <td>NaN</td>\n",
              "      <td>NaN</td>\n",
              "      <td>NaN</td>\n",
              "      <td>NaN</td>\n",
              "      <td>NaN</td>\n",
              "      <td>NaN</td>\n",
              "      <td>7.0</td>\n",
              "      <td>5</td>\n",
              "      <td>10</td>\n",
              "      <td>22</td>\n",
              "      <td>0</td>\n",
              "      <td>0</td>\n",
              "      <td>9.0</td>\n",
              "      <td>9.0</td>\n",
              "      <td>6.0</td>\n",
              "      <td>28.0</td>\n",
              "      <td>44</td>\n",
              "      <td>7</td>\n",
              "      <td>28</td>\n",
              "      <td>5</td>\n",
              "      <td>11.0</td>\n",
              "      <td>9</td>\n",
              "      <td>6</td>\n",
              "      <td>10</td>\n",
              "      <td>732.6</td>\n",
              "      <td>182.0</td>\n",
              "      <td>32.5</td>\n",
              "      <td>73.26</td>\n",
              "      <td>58.5</td>\n",
              "      <td>39.0</td>\n",
              "      <td>69.0</td>\n",
              "      <td>6.66</td>\n",
              "      <td>0.531818</td>\n",
              "      <td>0.354545</td>\n",
              "      <td>0.627273</td>\n",
              "      <td>MLB-BEAUTY_AND_PERSONAL_CARE_SUPPLIES</td>\n",
              "      <td>144191</td>\n",
              "      <td>Porta Alcool Gel Frasco Mochila Chaveiro Com M...</td>\n",
              "      <td>None</td>\n",
              "      <td>None</td>\n",
              "      <td>MLB</td>\n",
              "    </tr>\n",
              "    <tr>\n",
              "      <th>9</th>\n",
              "      <td>26</td>\n",
              "      <td>2021-03-27</td>\n",
              "      <td>0</td>\n",
              "      <td>5.9</td>\n",
              "      <td>REA</td>\n",
              "      <td>classic</td>\n",
              "      <td>cross_docking</td>\n",
              "      <td>paid_shipping</td>\n",
              "      <td>1440.000000</td>\n",
              "      <td>55</td>\n",
              "      <td>0.0</td>\n",
              "      <td>0.0</td>\n",
              "      <td>0.0</td>\n",
              "      <td>0.0</td>\n",
              "      <td>0.0</td>\n",
              "      <td>NaN</td>\n",
              "      <td>NaN</td>\n",
              "      <td>NaN</td>\n",
              "      <td>NaN</td>\n",
              "      <td>NaN</td>\n",
              "      <td>NaN</td>\n",
              "      <td>NaN</td>\n",
              "      <td>NaN</td>\n",
              "      <td>NaN</td>\n",
              "      <td>NaN</td>\n",
              "      <td>NaN</td>\n",
              "      <td>NaN</td>\n",
              "      <td>NaN</td>\n",
              "      <td>NaN</td>\n",
              "      <td>NaN</td>\n",
              "      <td>NaN</td>\n",
              "      <td>7</td>\n",
              "      <td>5</td>\n",
              "      <td>10</td>\n",
              "      <td>22</td>\n",
              "      <td>0</td>\n",
              "      <td>0.0</td>\n",
              "      <td>9.0</td>\n",
              "      <td>9.0</td>\n",
              "      <td>6.0</td>\n",
              "      <td>44</td>\n",
              "      <td>8</td>\n",
              "      <td>28</td>\n",
              "      <td>5</td>\n",
              "      <td>11.0</td>\n",
              "      <td>9</td>\n",
              "      <td>6</td>\n",
              "      <td>10</td>\n",
              "      <td>732.6</td>\n",
              "      <td>182.0</td>\n",
              "      <td>32.5</td>\n",
              "      <td>73.26</td>\n",
              "      <td>58.5</td>\n",
              "      <td>39.0</td>\n",
              "      <td>69.0</td>\n",
              "      <td>6.66</td>\n",
              "      <td>0.531818</td>\n",
              "      <td>0.354545</td>\n",
              "      <td>0.627273</td>\n",
              "      <td>MLB-BEAUTY_AND_PERSONAL_CARE_SUPPLIES</td>\n",
              "      <td>144191</td>\n",
              "      <td>Porta Alcool Gel Frasco Mochila Chaveiro Com M...</td>\n",
              "      <td>None</td>\n",
              "      <td>None</td>\n",
              "      <td>MLB</td>\n",
              "    </tr>\n",
              "  </tbody>\n",
              "</table>\n",
              "</div>"
            ],
            "text/plain": [
              "   sku        date  sold_quantity  ...  product_family_id product_id site_id\n",
              "0   26  2021-03-02             22  ...               None       None     MLB\n",
              "1   26  2021-03-03             10  ...               None       None     MLB\n",
              "2   26  2021-03-04              5  ...               None       None     MLB\n",
              "3   26  2021-03-05              7  ...               None       None     MLB\n",
              "4   26  2021-03-22              0  ...               None       None     MLB\n",
              "5   26  2021-03-23              0  ...               None       None     MLB\n",
              "6   26  2021-03-24              0  ...               None       None     MLB\n",
              "7   26  2021-03-25              0  ...               None       None     MLB\n",
              "8   26  2021-03-26              0  ...               None       None     MLB\n",
              "9   26  2021-03-27              0  ...               None       None     MLB\n",
              "\n",
              "[10 rows x 65 columns]"
            ]
          },
          "metadata": {
            "tags": []
          },
          "execution_count": 18
        }
      ]
    },
    {
      "cell_type": "markdown",
      "metadata": {
        "id": "UcYxuJtb9pqF"
      },
      "source": [
        "modifcanco dados de submissão\n"
      ]
    },
    {
      "cell_type": "code",
      "metadata": {
        "id": "zQeusiqOwB9p"
      },
      "source": [
        "spark.read.option(\"header\",True).format('csv').load('drive/MyDrive/MeLi-2021/row/test_data.csv').createOrReplaceTempView('test_data')\n"
      ],
      "execution_count": 19,
      "outputs": []
    },
    {
      "cell_type": "code",
      "metadata": {
        "id": "EZ8kW-kQu3mX"
      },
      "source": [
        "spark.sql(\"\"\"\n",
        "SELECT \n",
        "  '2021-04-01' date,\n",
        "  target_stock ,\n",
        "  df_final.*,\n",
        "  item_domain_id ,\n",
        "  item_id ,\n",
        "  item_title ,\n",
        "  product_family_id ,\n",
        "  product_id ,\n",
        "  site_id \n",
        "FROM test_data\n",
        "LEFT JOIN df_final \n",
        "  ON df_final .sku = test_data.sku\n",
        "LEFT JOIN items \n",
        "  ON items.sku = test_data.sku\n",
        "\"\"\").createOrReplaceTempView('test_data_join')"
      ],
      "execution_count": 20,
      "outputs": []
    },
    {
      "cell_type": "code",
      "metadata": {
        "id": "Wp8cKY7j_49f"
      },
      "source": [
        "df_spark_submit = spark.sql(\"\"\"\n",
        "select * from df\n",
        "union all \n",
        "SELECT test_data.sku,\n",
        "  '2021-04-01' date,\n",
        "  target_stock sold_quantity,\n",
        "  df.current_price,\n",
        "  df.currency,\n",
        "  df.listing_type,\n",
        "  df.shipping_logistic_type,\n",
        "  df.shipping_payment,\n",
        "  1440.0 minutes_active\n",
        "FROM test_data\n",
        "LEFT JOIN (select * from df where date='2021-03-31') df\n",
        "  on df.sku  = test_data.sku  \n",
        "\"\"\")#.filter('sku=100010')"
      ],
      "execution_count": 21,
      "outputs": []
    },
    {
      "cell_type": "code",
      "metadata": {
        "colab": {
          "base_uri": "https://localhost:8080/"
        },
        "id": "j2KrORlQEU91",
        "outputId": "198a52a2-30b6-4f71-933a-cf4ff7ffe513"
      },
      "source": [
        "%%time\n",
        "#df_spark = spark.read.format('parquet').load(\"drive/MyDrive/MeLi-2021/row/train_data.parquet\")#.filter('sku=26')\n",
        "df_spark_submit = df_spark_submit.withColumn('row_sku',F.row_number().over(Window.partitionBy(\"sku\").orderBy(\"date\")))\n",
        "df_spark_submit = df_spark_submit.withColumn('sold_quantity',F.when(F.col('minutes_active')>=1440.000000*8/24,F.col('sold_quantity')).otherwise(None))\n",
        "for i in range(1,31):\n",
        "  df_spark_submit = df_spark_submit.withColumn('lag_'+str(i)+'_sold_quantity',F.lag('sold_quantity',i).over(Window.partitionBy(\"sku\").orderBy(\"date\")))\n",
        "df_spark_submit = df_spark_submit.filter(\"date='2021-04-01'\")\n",
        "df_spark_submit = df_spark_submit.withColumn('sum_sold_quantity',F.sum(F.col('sold_quantity')).over(Window.partitionBy(\"sku\").orderBy(\"date\")))\n",
        "df_spark_submit = df_spark_submit.withColumn('sum_days_active',(F.sum(F.col('minutes_active')).over(Window.partitionBy(\"sku\").orderBy(\"date\"))/24/60).cast('int'))\n",
        "df_spark_submit = df_spark_submit.filter('sold_quantity is not null ')\n",
        "df_spark_submit = df_spark_submit.filter('sum_days_active > 0 or sum_sold_quantity> 0 ')\n",
        "df_spark_submit.repartition(1).write.mode('overwrite').format('parquet').save('drive/MyDrive/MeLi-2021/final/submit_lag_vars/')"
      ],
      "execution_count": 22,
      "outputs": [
        {
          "output_type": "stream",
          "text": [
            "CPU times: user 1.22 s, sys: 117 ms, total: 1.34 s\n",
            "Wall time: 3min 33s\n"
          ],
          "name": "stdout"
        }
      ]
    },
    {
      "cell_type": "code",
      "metadata": {
        "colab": {
          "base_uri": "https://localhost:8080/",
          "height": 556
        },
        "id": "wCkzlMJgFZng",
        "outputId": "d7db197d-e913-4a44-c2e5-46e61639c6f0"
      },
      "source": [
        "submit_data = spark.read.format('parquet').load('drive/MyDrive/MeLi-2021/final/submit_lag_vars/')\n",
        "submit_data.limit(10).toPandas()"
      ],
      "execution_count": 23,
      "outputs": [
        {
          "output_type": "execute_result",
          "data": {
            "text/html": [
              "<div>\n",
              "<style scoped>\n",
              "    .dataframe tbody tr th:only-of-type {\n",
              "        vertical-align: middle;\n",
              "    }\n",
              "\n",
              "    .dataframe tbody tr th {\n",
              "        vertical-align: top;\n",
              "    }\n",
              "\n",
              "    .dataframe thead th {\n",
              "        text-align: right;\n",
              "    }\n",
              "</style>\n",
              "<table border=\"1\" class=\"dataframe\">\n",
              "  <thead>\n",
              "    <tr style=\"text-align: right;\">\n",
              "      <th></th>\n",
              "      <th>sku</th>\n",
              "      <th>date</th>\n",
              "      <th>sold_quantity</th>\n",
              "      <th>current_price</th>\n",
              "      <th>currency</th>\n",
              "      <th>listing_type</th>\n",
              "      <th>shipping_logistic_type</th>\n",
              "      <th>shipping_payment</th>\n",
              "      <th>minutes_active</th>\n",
              "      <th>row_sku</th>\n",
              "      <th>lag_1_sold_quantity</th>\n",
              "      <th>lag_2_sold_quantity</th>\n",
              "      <th>lag_3_sold_quantity</th>\n",
              "      <th>lag_4_sold_quantity</th>\n",
              "      <th>lag_5_sold_quantity</th>\n",
              "      <th>lag_6_sold_quantity</th>\n",
              "      <th>lag_7_sold_quantity</th>\n",
              "      <th>lag_8_sold_quantity</th>\n",
              "      <th>lag_9_sold_quantity</th>\n",
              "      <th>lag_10_sold_quantity</th>\n",
              "      <th>lag_11_sold_quantity</th>\n",
              "      <th>lag_12_sold_quantity</th>\n",
              "      <th>lag_13_sold_quantity</th>\n",
              "      <th>lag_14_sold_quantity</th>\n",
              "      <th>lag_15_sold_quantity</th>\n",
              "      <th>lag_16_sold_quantity</th>\n",
              "      <th>lag_17_sold_quantity</th>\n",
              "      <th>lag_18_sold_quantity</th>\n",
              "      <th>lag_19_sold_quantity</th>\n",
              "      <th>lag_20_sold_quantity</th>\n",
              "      <th>lag_21_sold_quantity</th>\n",
              "      <th>lag_22_sold_quantity</th>\n",
              "      <th>lag_23_sold_quantity</th>\n",
              "      <th>lag_24_sold_quantity</th>\n",
              "      <th>lag_25_sold_quantity</th>\n",
              "      <th>lag_26_sold_quantity</th>\n",
              "      <th>lag_27_sold_quantity</th>\n",
              "      <th>lag_28_sold_quantity</th>\n",
              "      <th>lag_29_sold_quantity</th>\n",
              "      <th>lag_30_sold_quantity</th>\n",
              "      <th>sum_sold_quantity</th>\n",
              "      <th>sum_days_active</th>\n",
              "    </tr>\n",
              "  </thead>\n",
              "  <tbody>\n",
              "    <tr>\n",
              "      <th>0</th>\n",
              "      <td>100010</td>\n",
              "      <td>2021-04-01</td>\n",
              "      <td>4</td>\n",
              "      <td>115.00</td>\n",
              "      <td>MEX</td>\n",
              "      <td>classic</td>\n",
              "      <td>fulfillment</td>\n",
              "      <td>paid_shipping</td>\n",
              "      <td>1440.0</td>\n",
              "      <td>60</td>\n",
              "      <td>0</td>\n",
              "      <td>1</td>\n",
              "      <td>0</td>\n",
              "      <td>0</td>\n",
              "      <td>0</td>\n",
              "      <td>0</td>\n",
              "      <td>1</td>\n",
              "      <td>0</td>\n",
              "      <td>0</td>\n",
              "      <td>0</td>\n",
              "      <td>0</td>\n",
              "      <td>0</td>\n",
              "      <td>1</td>\n",
              "      <td>0</td>\n",
              "      <td>0</td>\n",
              "      <td>0</td>\n",
              "      <td>2</td>\n",
              "      <td>0</td>\n",
              "      <td>0</td>\n",
              "      <td>0</td>\n",
              "      <td>0</td>\n",
              "      <td>0</td>\n",
              "      <td>0</td>\n",
              "      <td>1</td>\n",
              "      <td>0</td>\n",
              "      <td>1</td>\n",
              "      <td>0</td>\n",
              "      <td>0</td>\n",
              "      <td>0</td>\n",
              "      <td>0</td>\n",
              "      <td>4.0</td>\n",
              "      <td>1</td>\n",
              "    </tr>\n",
              "    <tr>\n",
              "      <th>1</th>\n",
              "      <td>100140</td>\n",
              "      <td>2021-04-01</td>\n",
              "      <td>10</td>\n",
              "      <td>24819.00</td>\n",
              "      <td>ARG</td>\n",
              "      <td>premium</td>\n",
              "      <td>fulfillment</td>\n",
              "      <td>free_shipping</td>\n",
              "      <td>1440.0</td>\n",
              "      <td>60</td>\n",
              "      <td>0</td>\n",
              "      <td>0</td>\n",
              "      <td>0</td>\n",
              "      <td>0</td>\n",
              "      <td>0</td>\n",
              "      <td>0</td>\n",
              "      <td>0</td>\n",
              "      <td>0</td>\n",
              "      <td>0</td>\n",
              "      <td>0</td>\n",
              "      <td>0</td>\n",
              "      <td>0</td>\n",
              "      <td>0</td>\n",
              "      <td>0</td>\n",
              "      <td>0</td>\n",
              "      <td>0</td>\n",
              "      <td>0</td>\n",
              "      <td>0</td>\n",
              "      <td>0</td>\n",
              "      <td>0</td>\n",
              "      <td>0</td>\n",
              "      <td>0</td>\n",
              "      <td>0</td>\n",
              "      <td>0</td>\n",
              "      <td>0</td>\n",
              "      <td>0</td>\n",
              "      <td>0</td>\n",
              "      <td>0</td>\n",
              "      <td>0</td>\n",
              "      <td>0</td>\n",
              "      <td>10.0</td>\n",
              "      <td>1</td>\n",
              "    </tr>\n",
              "    <tr>\n",
              "      <th>2</th>\n",
              "      <td>100227</td>\n",
              "      <td>2021-04-01</td>\n",
              "      <td>6</td>\n",
              "      <td>439.00</td>\n",
              "      <td>MEX</td>\n",
              "      <td>classic</td>\n",
              "      <td>fulfillment</td>\n",
              "      <td>free_shipping</td>\n",
              "      <td>1440.0</td>\n",
              "      <td>60</td>\n",
              "      <td>0</td>\n",
              "      <td>0</td>\n",
              "      <td>0</td>\n",
              "      <td>0</td>\n",
              "      <td>1</td>\n",
              "      <td>0</td>\n",
              "      <td>0</td>\n",
              "      <td>0</td>\n",
              "      <td>0</td>\n",
              "      <td>0</td>\n",
              "      <td>0</td>\n",
              "      <td>1</td>\n",
              "      <td>0</td>\n",
              "      <td>0</td>\n",
              "      <td>0</td>\n",
              "      <td>0</td>\n",
              "      <td>0</td>\n",
              "      <td>1</td>\n",
              "      <td>0</td>\n",
              "      <td>0</td>\n",
              "      <td>0</td>\n",
              "      <td>0</td>\n",
              "      <td>0</td>\n",
              "      <td>0</td>\n",
              "      <td>1</td>\n",
              "      <td>0</td>\n",
              "      <td>1</td>\n",
              "      <td>0</td>\n",
              "      <td>0</td>\n",
              "      <td>0</td>\n",
              "      <td>6.0</td>\n",
              "      <td>1</td>\n",
              "    </tr>\n",
              "    <tr>\n",
              "      <th>3</th>\n",
              "      <td>100263</td>\n",
              "      <td>2021-04-01</td>\n",
              "      <td>1</td>\n",
              "      <td>149.90</td>\n",
              "      <td>REA</td>\n",
              "      <td>classic</td>\n",
              "      <td>fulfillment</td>\n",
              "      <td>free_shipping</td>\n",
              "      <td>1440.0</td>\n",
              "      <td>60</td>\n",
              "      <td>1</td>\n",
              "      <td>2</td>\n",
              "      <td>1</td>\n",
              "      <td>0</td>\n",
              "      <td>0</td>\n",
              "      <td>1</td>\n",
              "      <td>0</td>\n",
              "      <td>0</td>\n",
              "      <td>0</td>\n",
              "      <td>0</td>\n",
              "      <td>0</td>\n",
              "      <td>0</td>\n",
              "      <td>0</td>\n",
              "      <td>0</td>\n",
              "      <td>0</td>\n",
              "      <td>1</td>\n",
              "      <td>0</td>\n",
              "      <td>1</td>\n",
              "      <td>0</td>\n",
              "      <td>0</td>\n",
              "      <td>0</td>\n",
              "      <td>1</td>\n",
              "      <td>0</td>\n",
              "      <td>0</td>\n",
              "      <td>1</td>\n",
              "      <td>1</td>\n",
              "      <td>2</td>\n",
              "      <td>0</td>\n",
              "      <td>0</td>\n",
              "      <td>1</td>\n",
              "      <td>1.0</td>\n",
              "      <td>1</td>\n",
              "    </tr>\n",
              "    <tr>\n",
              "      <th>4</th>\n",
              "      <td>100320</td>\n",
              "      <td>2021-04-01</td>\n",
              "      <td>2</td>\n",
              "      <td>192.00</td>\n",
              "      <td>MEX</td>\n",
              "      <td>premium</td>\n",
              "      <td>fulfillment</td>\n",
              "      <td>paid_shipping</td>\n",
              "      <td>1440.0</td>\n",
              "      <td>60</td>\n",
              "      <td>2</td>\n",
              "      <td>0</td>\n",
              "      <td>1</td>\n",
              "      <td>0</td>\n",
              "      <td>0</td>\n",
              "      <td>0</td>\n",
              "      <td>0</td>\n",
              "      <td>0</td>\n",
              "      <td>0</td>\n",
              "      <td>0</td>\n",
              "      <td>0</td>\n",
              "      <td>0</td>\n",
              "      <td>0</td>\n",
              "      <td>0</td>\n",
              "      <td>0</td>\n",
              "      <td>1</td>\n",
              "      <td>0</td>\n",
              "      <td>0</td>\n",
              "      <td>0</td>\n",
              "      <td>3</td>\n",
              "      <td>1</td>\n",
              "      <td>0</td>\n",
              "      <td>1</td>\n",
              "      <td>0</td>\n",
              "      <td>0</td>\n",
              "      <td>2</td>\n",
              "      <td>0</td>\n",
              "      <td>0</td>\n",
              "      <td>0</td>\n",
              "      <td>0</td>\n",
              "      <td>2.0</td>\n",
              "      <td>1</td>\n",
              "    </tr>\n",
              "    <tr>\n",
              "      <th>5</th>\n",
              "      <td>100704</td>\n",
              "      <td>2021-04-01</td>\n",
              "      <td>4</td>\n",
              "      <td>64.90</td>\n",
              "      <td>MEX</td>\n",
              "      <td>classic</td>\n",
              "      <td>fulfillment</td>\n",
              "      <td>paid_shipping</td>\n",
              "      <td>1440.0</td>\n",
              "      <td>60</td>\n",
              "      <td>1</td>\n",
              "      <td>1</td>\n",
              "      <td>1</td>\n",
              "      <td>0</td>\n",
              "      <td>1</td>\n",
              "      <td>1</td>\n",
              "      <td>1</td>\n",
              "      <td>None</td>\n",
              "      <td>None</td>\n",
              "      <td>None</td>\n",
              "      <td>None</td>\n",
              "      <td>None</td>\n",
              "      <td>None</td>\n",
              "      <td>None</td>\n",
              "      <td>None</td>\n",
              "      <td>None</td>\n",
              "      <td>None</td>\n",
              "      <td>None</td>\n",
              "      <td>None</td>\n",
              "      <td>None</td>\n",
              "      <td>None</td>\n",
              "      <td>None</td>\n",
              "      <td>None</td>\n",
              "      <td>1</td>\n",
              "      <td>0</td>\n",
              "      <td>1</td>\n",
              "      <td>2</td>\n",
              "      <td>0</td>\n",
              "      <td>1</td>\n",
              "      <td>1</td>\n",
              "      <td>4.0</td>\n",
              "      <td>1</td>\n",
              "    </tr>\n",
              "    <tr>\n",
              "      <th>6</th>\n",
              "      <td>100735</td>\n",
              "      <td>2021-04-01</td>\n",
              "      <td>5</td>\n",
              "      <td>61.75</td>\n",
              "      <td>REA</td>\n",
              "      <td>classic</td>\n",
              "      <td>fulfillment</td>\n",
              "      <td>paid_shipping</td>\n",
              "      <td>1440.0</td>\n",
              "      <td>60</td>\n",
              "      <td>None</td>\n",
              "      <td>None</td>\n",
              "      <td>None</td>\n",
              "      <td>0</td>\n",
              "      <td>0</td>\n",
              "      <td>0</td>\n",
              "      <td>1</td>\n",
              "      <td>0</td>\n",
              "      <td>1</td>\n",
              "      <td>0</td>\n",
              "      <td>0</td>\n",
              "      <td>0</td>\n",
              "      <td>0</td>\n",
              "      <td>0</td>\n",
              "      <td>0</td>\n",
              "      <td>0</td>\n",
              "      <td>0</td>\n",
              "      <td>0</td>\n",
              "      <td>0</td>\n",
              "      <td>1</td>\n",
              "      <td>0</td>\n",
              "      <td>0</td>\n",
              "      <td>0</td>\n",
              "      <td>0</td>\n",
              "      <td>0</td>\n",
              "      <td>0</td>\n",
              "      <td>0</td>\n",
              "      <td>0</td>\n",
              "      <td>0</td>\n",
              "      <td>0</td>\n",
              "      <td>5.0</td>\n",
              "      <td>1</td>\n",
              "    </tr>\n",
              "    <tr>\n",
              "      <th>7</th>\n",
              "      <td>10096</td>\n",
              "      <td>2021-04-01</td>\n",
              "      <td>13</td>\n",
              "      <td>55.90</td>\n",
              "      <td>REA</td>\n",
              "      <td>classic</td>\n",
              "      <td>fulfillment</td>\n",
              "      <td>paid_shipping</td>\n",
              "      <td>1440.0</td>\n",
              "      <td>60</td>\n",
              "      <td>4</td>\n",
              "      <td>2</td>\n",
              "      <td>1</td>\n",
              "      <td>2</td>\n",
              "      <td>2</td>\n",
              "      <td>0</td>\n",
              "      <td>1</td>\n",
              "      <td>4</td>\n",
              "      <td>2</td>\n",
              "      <td>1</td>\n",
              "      <td>2</td>\n",
              "      <td>4</td>\n",
              "      <td>2</td>\n",
              "      <td>4</td>\n",
              "      <td>2</td>\n",
              "      <td>3</td>\n",
              "      <td>2</td>\n",
              "      <td>2</td>\n",
              "      <td>0</td>\n",
              "      <td>4</td>\n",
              "      <td>5</td>\n",
              "      <td>1</td>\n",
              "      <td>2</td>\n",
              "      <td>0</td>\n",
              "      <td>0</td>\n",
              "      <td>6</td>\n",
              "      <td>0</td>\n",
              "      <td>2</td>\n",
              "      <td>1</td>\n",
              "      <td>1</td>\n",
              "      <td>13.0</td>\n",
              "      <td>1</td>\n",
              "    </tr>\n",
              "    <tr>\n",
              "      <th>8</th>\n",
              "      <td>100964</td>\n",
              "      <td>2021-04-01</td>\n",
              "      <td>1</td>\n",
              "      <td>161.41</td>\n",
              "      <td>REA</td>\n",
              "      <td>classic</td>\n",
              "      <td>cross_docking</td>\n",
              "      <td>free_shipping</td>\n",
              "      <td>1440.0</td>\n",
              "      <td>60</td>\n",
              "      <td>0</td>\n",
              "      <td>0</td>\n",
              "      <td>0</td>\n",
              "      <td>None</td>\n",
              "      <td>None</td>\n",
              "      <td>None</td>\n",
              "      <td>None</td>\n",
              "      <td>None</td>\n",
              "      <td>None</td>\n",
              "      <td>None</td>\n",
              "      <td>None</td>\n",
              "      <td>None</td>\n",
              "      <td>None</td>\n",
              "      <td>None</td>\n",
              "      <td>None</td>\n",
              "      <td>None</td>\n",
              "      <td>None</td>\n",
              "      <td>None</td>\n",
              "      <td>None</td>\n",
              "      <td>None</td>\n",
              "      <td>0</td>\n",
              "      <td>1</td>\n",
              "      <td>0</td>\n",
              "      <td>0</td>\n",
              "      <td>0</td>\n",
              "      <td>1</td>\n",
              "      <td>2</td>\n",
              "      <td>1</td>\n",
              "      <td>0</td>\n",
              "      <td>0</td>\n",
              "      <td>1.0</td>\n",
              "      <td>1</td>\n",
              "    </tr>\n",
              "    <tr>\n",
              "      <th>9</th>\n",
              "      <td>101021</td>\n",
              "      <td>2021-04-01</td>\n",
              "      <td>5</td>\n",
              "      <td>69.99</td>\n",
              "      <td>REA</td>\n",
              "      <td>classic</td>\n",
              "      <td>fulfillment</td>\n",
              "      <td>paid_shipping</td>\n",
              "      <td>1440.0</td>\n",
              "      <td>60</td>\n",
              "      <td>1</td>\n",
              "      <td>1</td>\n",
              "      <td>4</td>\n",
              "      <td>0</td>\n",
              "      <td>2</td>\n",
              "      <td>0</td>\n",
              "      <td>1</td>\n",
              "      <td>0</td>\n",
              "      <td>None</td>\n",
              "      <td>None</td>\n",
              "      <td>None</td>\n",
              "      <td>None</td>\n",
              "      <td>None</td>\n",
              "      <td>None</td>\n",
              "      <td>0</td>\n",
              "      <td>0</td>\n",
              "      <td>1</td>\n",
              "      <td>1</td>\n",
              "      <td>1</td>\n",
              "      <td>0</td>\n",
              "      <td>2</td>\n",
              "      <td>0</td>\n",
              "      <td>1</td>\n",
              "      <td>1</td>\n",
              "      <td>0</td>\n",
              "      <td>0</td>\n",
              "      <td>0</td>\n",
              "      <td>1</td>\n",
              "      <td>0</td>\n",
              "      <td>1</td>\n",
              "      <td>5.0</td>\n",
              "      <td>1</td>\n",
              "    </tr>\n",
              "  </tbody>\n",
              "</table>\n",
              "</div>"
            ],
            "text/plain": [
              "      sku        date  ... sum_sold_quantity  sum_days_active\n",
              "0  100010  2021-04-01  ...               4.0                1\n",
              "1  100140  2021-04-01  ...              10.0                1\n",
              "2  100227  2021-04-01  ...               6.0                1\n",
              "3  100263  2021-04-01  ...               1.0                1\n",
              "4  100320  2021-04-01  ...               2.0                1\n",
              "5  100704  2021-04-01  ...               4.0                1\n",
              "6  100735  2021-04-01  ...               5.0                1\n",
              "7   10096  2021-04-01  ...              13.0                1\n",
              "8  100964  2021-04-01  ...               1.0                1\n",
              "9  101021  2021-04-01  ...               5.0                1\n",
              "\n",
              "[10 rows x 42 columns]"
            ]
          },
          "metadata": {
            "tags": []
          },
          "execution_count": 23
        }
      ]
    },
    {
      "cell_type": "code",
      "metadata": {
        "id": "9SuKoRegMvoJ",
        "colab": {
          "base_uri": "https://localhost:8080/"
        },
        "outputId": "4134a28d-9384-4847-a6c6-a955edc32623"
      },
      "source": [
        "%%time\n",
        "spark.sql(\"\"\"\n",
        "SELECT *\n",
        "FROM df_final_join\n",
        "\"\"\").repartition(1).write.mode('overwrite').format('parquet').save('drive/MyDrive/MeLi-2021/final/df_final_lags/')"
      ],
      "execution_count": 24,
      "outputs": [
        {
          "output_type": "stream",
          "text": [
            "CPU times: user 2.04 s, sys: 213 ms, total: 2.26 s\n",
            "Wall time: 6min 44s\n"
          ],
          "name": "stdout"
        }
      ]
    },
    {
      "cell_type": "code",
      "metadata": {
        "id": "uiga4fDSxt5Y",
        "colab": {
          "base_uri": "https://localhost:8080/"
        },
        "outputId": "e4ca561e-6a29-4da1-db7f-6eef62467a11"
      },
      "source": [
        "%%time\n",
        "submit_data.createOrReplaceTempView('submit_data_join')\n",
        "spark.sql(\"\"\"\n",
        "SELECT submit_data_join.*,\n",
        "  max_sold_quantity,\n",
        "  min_sold_quantity,\n",
        "  avg_sold_quantity,\n",
        "  median_sold_quantity,\n",
        "  qt1_sold_quantity,\n",
        "  qt3_sold_quantity,\n",
        "  total_fat,\n",
        "  max_fat,\n",
        "  min_fat,\n",
        "  avg_fat,\n",
        "  median_fat,\n",
        "  qt1_fat,\n",
        "  qt3_fat,\n",
        "  avg_price,\n",
        "  median_price,\n",
        "  qt1_price,\n",
        "  qt3_price,\n",
        "  item_domain_id ,\n",
        "  item_id ,\n",
        "  item_title ,\n",
        "  product_family_id ,\n",
        "  product_id ,\n",
        "  site_id \n",
        "\n",
        "FROM submit_data_join\n",
        "LEFT JOIN df_final \n",
        "  ON submit_data_join.sku = df_final.sku\n",
        "LEFT JOIN items \n",
        "  ON items.sku = submit_data_join.sku\n",
        "\"\"\").repartition(1).write.mode('overwrite').format('parquet').save('drive/MyDrive/MeLi-2021/final/submit_data_join/')"
      ],
      "execution_count": 25,
      "outputs": [
        {
          "output_type": "stream",
          "text": [
            "CPU times: user 765 ms, sys: 77 ms, total: 842 ms\n",
            "Wall time: 2min 35s\n"
          ],
          "name": "stdout"
        }
      ]
    },
    {
      "cell_type": "code",
      "metadata": {
        "id": "ulSN-TTW24AG"
      },
      "source": [
        "df_final = spark.read.format('parquet').load('drive/MyDrive/MeLi-2021/final/df_final_lags/')\n",
        "submit_data = spark.read.format('parquet').load('drive/MyDrive/MeLi-2021/final/submit_data_join/')\n"
      ],
      "execution_count": 10,
      "outputs": []
    },
    {
      "cell_type": "code",
      "metadata": {
        "id": "aF4igUnCcsRf",
        "outputId": "1e564c2a-5b18-4782-a27d-96c492d6de92",
        "colab": {
          "base_uri": "https://localhost:8080/"
        }
      },
      "source": [
        "df_final.count()"
      ],
      "execution_count": 11,
      "outputs": [
        {
          "output_type": "execute_result",
          "data": {
            "text/plain": [
              "13549689"
            ]
          },
          "metadata": {
            "tags": []
          },
          "execution_count": 11
        }
      ]
    },
    {
      "cell_type": "code",
      "metadata": {
        "id": "OuFP23K5WcIz"
      },
      "source": [
        "df_final = df_final.join(submit_data.select(*['sku','sum_sold_quantity']).withColumnRenamed('sum_sold_quantity','target_stock'),how='inner',on=['sku'])"
      ],
      "execution_count": 12,
      "outputs": []
    },
    {
      "cell_type": "code",
      "metadata": {
        "id": "uFzOBEuDcwdF",
        "outputId": "6b8dcc49-964b-483c-e919-24515462fa8d",
        "colab": {
          "base_uri": "https://localhost:8080/"
        }
      },
      "source": [
        "df_final.count()"
      ],
      "execution_count": 13,
      "outputs": [
        {
          "output_type": "execute_result",
          "data": {
            "text/plain": [
              "12059207"
            ]
          },
          "metadata": {
            "tags": []
          },
          "execution_count": 13
        }
      ]
    },
    {
      "cell_type": "code",
      "metadata": {
        "id": "CW98TksfC0dk",
        "outputId": "a10b6f23-ee79-4974-a906-4a48c30b1c1a",
        "colab": {
          "base_uri": "https://localhost:8080/",
          "height": 1000
        }
      },
      "source": [
        "df_final.filter(\"abs(sold_quantity/target_stock-1)<=.3\").limit(10).toPandas()"
      ],
      "execution_count": 15,
      "outputs": [
        {
          "output_type": "execute_result",
          "data": {
            "text/html": [
              "<div>\n",
              "<style scoped>\n",
              "    .dataframe tbody tr th:only-of-type {\n",
              "        vertical-align: middle;\n",
              "    }\n",
              "\n",
              "    .dataframe tbody tr th {\n",
              "        vertical-align: top;\n",
              "    }\n",
              "\n",
              "    .dataframe thead th {\n",
              "        text-align: right;\n",
              "    }\n",
              "</style>\n",
              "<table border=\"1\" class=\"dataframe\">\n",
              "  <thead>\n",
              "    <tr style=\"text-align: right;\">\n",
              "      <th></th>\n",
              "      <th>sku</th>\n",
              "      <th>date</th>\n",
              "      <th>sold_quantity</th>\n",
              "      <th>current_price</th>\n",
              "      <th>currency</th>\n",
              "      <th>listing_type</th>\n",
              "      <th>shipping_logistic_type</th>\n",
              "      <th>shipping_payment</th>\n",
              "      <th>minutes_active</th>\n",
              "      <th>row_sku</th>\n",
              "      <th>lag_1_sold_quantity</th>\n",
              "      <th>lag_2_sold_quantity</th>\n",
              "      <th>lag_3_sold_quantity</th>\n",
              "      <th>lag_4_sold_quantity</th>\n",
              "      <th>lag_5_sold_quantity</th>\n",
              "      <th>lag_6_sold_quantity</th>\n",
              "      <th>lag_7_sold_quantity</th>\n",
              "      <th>lag_8_sold_quantity</th>\n",
              "      <th>lag_9_sold_quantity</th>\n",
              "      <th>lag_10_sold_quantity</th>\n",
              "      <th>lag_11_sold_quantity</th>\n",
              "      <th>lag_12_sold_quantity</th>\n",
              "      <th>lag_13_sold_quantity</th>\n",
              "      <th>lag_14_sold_quantity</th>\n",
              "      <th>lag_15_sold_quantity</th>\n",
              "      <th>lag_16_sold_quantity</th>\n",
              "      <th>lag_17_sold_quantity</th>\n",
              "      <th>lag_18_sold_quantity</th>\n",
              "      <th>lag_19_sold_quantity</th>\n",
              "      <th>lag_20_sold_quantity</th>\n",
              "      <th>lag_21_sold_quantity</th>\n",
              "      <th>lag_22_sold_quantity</th>\n",
              "      <th>lag_23_sold_quantity</th>\n",
              "      <th>lag_24_sold_quantity</th>\n",
              "      <th>lag_25_sold_quantity</th>\n",
              "      <th>lag_26_sold_quantity</th>\n",
              "      <th>lag_27_sold_quantity</th>\n",
              "      <th>lag_28_sold_quantity</th>\n",
              "      <th>lag_29_sold_quantity</th>\n",
              "      <th>lag_30_sold_quantity</th>\n",
              "      <th>sum_sold_quantity</th>\n",
              "      <th>sum_days_active</th>\n",
              "      <th>max_sold_quantity</th>\n",
              "      <th>min_sold_quantity</th>\n",
              "      <th>avg_sold_quantity</th>\n",
              "      <th>median_sold_quantity</th>\n",
              "      <th>qt1_sold_quantity</th>\n",
              "      <th>qt3_sold_quantity</th>\n",
              "      <th>total_fat</th>\n",
              "      <th>max_fat</th>\n",
              "      <th>min_fat</th>\n",
              "      <th>avg_fat</th>\n",
              "      <th>median_fat</th>\n",
              "      <th>qt1_fat</th>\n",
              "      <th>qt3_fat</th>\n",
              "      <th>avg_price</th>\n",
              "      <th>median_price</th>\n",
              "      <th>qt1_price</th>\n",
              "      <th>qt3_price</th>\n",
              "      <th>item_domain_id</th>\n",
              "      <th>item_id</th>\n",
              "      <th>item_title</th>\n",
              "      <th>product_family_id</th>\n",
              "      <th>product_id</th>\n",
              "      <th>site_id</th>\n",
              "      <th>target_stock</th>\n",
              "    </tr>\n",
              "  </thead>\n",
              "  <tbody>\n",
              "    <tr>\n",
              "      <th>0</th>\n",
              "      <td>1677</td>\n",
              "      <td>2021-03-26</td>\n",
              "      <td>3</td>\n",
              "      <td>19.99</td>\n",
              "      <td>REA</td>\n",
              "      <td>premium</td>\n",
              "      <td>fulfillment</td>\n",
              "      <td>paid_shipping</td>\n",
              "      <td>1440.000000</td>\n",
              "      <td>54</td>\n",
              "      <td>2</td>\n",
              "      <td>0</td>\n",
              "      <td>0</td>\n",
              "      <td>0</td>\n",
              "      <td>1.0</td>\n",
              "      <td>0.0</td>\n",
              "      <td>0.0</td>\n",
              "      <td>0.0</td>\n",
              "      <td>0.0</td>\n",
              "      <td>1.0</td>\n",
              "      <td>0.0</td>\n",
              "      <td>0.0</td>\n",
              "      <td>0.0</td>\n",
              "      <td>0.0</td>\n",
              "      <td>0.0</td>\n",
              "      <td>1.0</td>\n",
              "      <td>2.0</td>\n",
              "      <td>0.0</td>\n",
              "      <td>0.0</td>\n",
              "      <td>0.0</td>\n",
              "      <td>0.0</td>\n",
              "      <td>1.0</td>\n",
              "      <td>0.0</td>\n",
              "      <td>0.0</td>\n",
              "      <td>0.0</td>\n",
              "      <td>0.0</td>\n",
              "      <td>0.0</td>\n",
              "      <td>0.0</td>\n",
              "      <td>1.0</td>\n",
              "      <td>0.0</td>\n",
              "      <td>11</td>\n",
              "      <td>25</td>\n",
              "      <td>3</td>\n",
              "      <td>1</td>\n",
              "      <td>1.363636</td>\n",
              "      <td>1</td>\n",
              "      <td>1</td>\n",
              "      <td>2</td>\n",
              "      <td>310.38</td>\n",
              "      <td>59.97</td>\n",
              "      <td>19.99</td>\n",
              "      <td>28.216364</td>\n",
              "      <td>23.5</td>\n",
              "      <td>19.99</td>\n",
              "      <td>39.98</td>\n",
              "      <td>20.692000</td>\n",
              "      <td>1.566667</td>\n",
              "      <td>1.332667</td>\n",
              "      <td>2.665333</td>\n",
              "      <td>MLB-AUTOMOTIVE_CELLPHONE_AND_GPS_MOUNTS</td>\n",
              "      <td>345474</td>\n",
              "      <td>Suporte Jogos On Line De Mão Celular Gamepad A...</td>\n",
              "      <td>None</td>\n",
              "      <td>None</td>\n",
              "      <td>MLB</td>\n",
              "      <td>4.0</td>\n",
              "    </tr>\n",
              "    <tr>\n",
              "      <th>1</th>\n",
              "      <td>1697</td>\n",
              "      <td>2021-03-13</td>\n",
              "      <td>2</td>\n",
              "      <td>399.00</td>\n",
              "      <td>MEX</td>\n",
              "      <td>classic</td>\n",
              "      <td>fulfillment</td>\n",
              "      <td>free_shipping</td>\n",
              "      <td>1440.000000</td>\n",
              "      <td>41</td>\n",
              "      <td>0</td>\n",
              "      <td>0</td>\n",
              "      <td>0</td>\n",
              "      <td>0</td>\n",
              "      <td>0.0</td>\n",
              "      <td>0.0</td>\n",
              "      <td>0.0</td>\n",
              "      <td>0.0</td>\n",
              "      <td>0.0</td>\n",
              "      <td>0.0</td>\n",
              "      <td>0.0</td>\n",
              "      <td>1.0</td>\n",
              "      <td>0.0</td>\n",
              "      <td>0.0</td>\n",
              "      <td>1.0</td>\n",
              "      <td>0.0</td>\n",
              "      <td>1.0</td>\n",
              "      <td>1.0</td>\n",
              "      <td>1.0</td>\n",
              "      <td>1.0</td>\n",
              "      <td>1.0</td>\n",
              "      <td>0.0</td>\n",
              "      <td>0.0</td>\n",
              "      <td>0.0</td>\n",
              "      <td>0.0</td>\n",
              "      <td>1.0</td>\n",
              "      <td>1.0</td>\n",
              "      <td>0.0</td>\n",
              "      <td>0.0</td>\n",
              "      <td>0.0</td>\n",
              "      <td>2</td>\n",
              "      <td>12</td>\n",
              "      <td>2</td>\n",
              "      <td>1</td>\n",
              "      <td>1.125000</td>\n",
              "      <td>1</td>\n",
              "      <td>1</td>\n",
              "      <td>1</td>\n",
              "      <td>7182.00</td>\n",
              "      <td>798.00</td>\n",
              "      <td>399.00</td>\n",
              "      <td>448.875000</td>\n",
              "      <td>399.0</td>\n",
              "      <td>399.00</td>\n",
              "      <td>399.00</td>\n",
              "      <td>399.000000</td>\n",
              "      <td>22.166667</td>\n",
              "      <td>22.166667</td>\n",
              "      <td>22.166667</td>\n",
              "      <td>MLM-GUN_HOLSTERS</td>\n",
              "      <td>42407</td>\n",
              "      <td>Sobaquera Funda Porta Pistola Y Cargadores Tac...</td>\n",
              "      <td>None</td>\n",
              "      <td>None</td>\n",
              "      <td>MLM</td>\n",
              "      <td>2.0</td>\n",
              "    </tr>\n",
              "    <tr>\n",
              "      <th>2</th>\n",
              "      <td>1697</td>\n",
              "      <td>2021-03-24</td>\n",
              "      <td>2</td>\n",
              "      <td>399.00</td>\n",
              "      <td>MEX</td>\n",
              "      <td>classic</td>\n",
              "      <td>fulfillment</td>\n",
              "      <td>free_shipping</td>\n",
              "      <td>1440.000000</td>\n",
              "      <td>52</td>\n",
              "      <td>0</td>\n",
              "      <td>0</td>\n",
              "      <td>0</td>\n",
              "      <td>0</td>\n",
              "      <td>1.0</td>\n",
              "      <td>1.0</td>\n",
              "      <td>0.0</td>\n",
              "      <td>0.0</td>\n",
              "      <td>0.0</td>\n",
              "      <td>1.0</td>\n",
              "      <td>2.0</td>\n",
              "      <td>0.0</td>\n",
              "      <td>0.0</td>\n",
              "      <td>0.0</td>\n",
              "      <td>0.0</td>\n",
              "      <td>0.0</td>\n",
              "      <td>0.0</td>\n",
              "      <td>0.0</td>\n",
              "      <td>0.0</td>\n",
              "      <td>0.0</td>\n",
              "      <td>0.0</td>\n",
              "      <td>0.0</td>\n",
              "      <td>1.0</td>\n",
              "      <td>0.0</td>\n",
              "      <td>0.0</td>\n",
              "      <td>1.0</td>\n",
              "      <td>0.0</td>\n",
              "      <td>1.0</td>\n",
              "      <td>1.0</td>\n",
              "      <td>1.0</td>\n",
              "      <td>7</td>\n",
              "      <td>23</td>\n",
              "      <td>2</td>\n",
              "      <td>1</td>\n",
              "      <td>1.125000</td>\n",
              "      <td>1</td>\n",
              "      <td>1</td>\n",
              "      <td>1</td>\n",
              "      <td>7182.00</td>\n",
              "      <td>798.00</td>\n",
              "      <td>399.00</td>\n",
              "      <td>448.875000</td>\n",
              "      <td>399.0</td>\n",
              "      <td>399.00</td>\n",
              "      <td>399.00</td>\n",
              "      <td>399.000000</td>\n",
              "      <td>22.166667</td>\n",
              "      <td>22.166667</td>\n",
              "      <td>22.166667</td>\n",
              "      <td>MLM-GUN_HOLSTERS</td>\n",
              "      <td>42407</td>\n",
              "      <td>Sobaquera Funda Porta Pistola Y Cargadores Tac...</td>\n",
              "      <td>None</td>\n",
              "      <td>None</td>\n",
              "      <td>MLM</td>\n",
              "      <td>2.0</td>\n",
              "    </tr>\n",
              "    <tr>\n",
              "      <th>3</th>\n",
              "      <td>1950</td>\n",
              "      <td>2021-03-08</td>\n",
              "      <td>3</td>\n",
              "      <td>91.98</td>\n",
              "      <td>REA</td>\n",
              "      <td>classic</td>\n",
              "      <td>fulfillment</td>\n",
              "      <td>paid_shipping</td>\n",
              "      <td>1375.633333</td>\n",
              "      <td>36</td>\n",
              "      <td>1</td>\n",
              "      <td>1</td>\n",
              "      <td>2</td>\n",
              "      <td>1</td>\n",
              "      <td>0.0</td>\n",
              "      <td>1.0</td>\n",
              "      <td>5.0</td>\n",
              "      <td>1.0</td>\n",
              "      <td>1.0</td>\n",
              "      <td>0.0</td>\n",
              "      <td>NaN</td>\n",
              "      <td>NaN</td>\n",
              "      <td>NaN</td>\n",
              "      <td>NaN</td>\n",
              "      <td>NaN</td>\n",
              "      <td>NaN</td>\n",
              "      <td>NaN</td>\n",
              "      <td>NaN</td>\n",
              "      <td>1.0</td>\n",
              "      <td>1.0</td>\n",
              "      <td>0.0</td>\n",
              "      <td>0.0</td>\n",
              "      <td>0.0</td>\n",
              "      <td>0.0</td>\n",
              "      <td>1.0</td>\n",
              "      <td>0.0</td>\n",
              "      <td>0.0</td>\n",
              "      <td>0.0</td>\n",
              "      <td>2.0</td>\n",
              "      <td>0.0</td>\n",
              "      <td>9</td>\n",
              "      <td>6</td>\n",
              "      <td>5</td>\n",
              "      <td>1</td>\n",
              "      <td>1.370370</td>\n",
              "      <td>1</td>\n",
              "      <td>1</td>\n",
              "      <td>1</td>\n",
              "      <td>3683.84</td>\n",
              "      <td>494.50</td>\n",
              "      <td>91.98</td>\n",
              "      <td>136.438519</td>\n",
              "      <td>103.9</td>\n",
              "      <td>98.00</td>\n",
              "      <td>108.90</td>\n",
              "      <td>99.563243</td>\n",
              "      <td>2.808108</td>\n",
              "      <td>2.648649</td>\n",
              "      <td>2.943243</td>\n",
              "      <td>MLB-SUPPLEMENTS</td>\n",
              "      <td>368716</td>\n",
              "      <td>Creatina Pura 300g + L - Glutamina 300g - Prob...</td>\n",
              "      <td>None</td>\n",
              "      <td>None</td>\n",
              "      <td>MLB</td>\n",
              "      <td>4.0</td>\n",
              "    </tr>\n",
              "    <tr>\n",
              "      <th>4</th>\n",
              "      <td>2250</td>\n",
              "      <td>2021-03-04</td>\n",
              "      <td>1</td>\n",
              "      <td>139.90</td>\n",
              "      <td>REA</td>\n",
              "      <td>classic</td>\n",
              "      <td>fulfillment</td>\n",
              "      <td>free_shipping</td>\n",
              "      <td>1440.000000</td>\n",
              "      <td>32</td>\n",
              "      <td>0</td>\n",
              "      <td>0</td>\n",
              "      <td>0</td>\n",
              "      <td>0</td>\n",
              "      <td>NaN</td>\n",
              "      <td>NaN</td>\n",
              "      <td>NaN</td>\n",
              "      <td>NaN</td>\n",
              "      <td>NaN</td>\n",
              "      <td>NaN</td>\n",
              "      <td>NaN</td>\n",
              "      <td>NaN</td>\n",
              "      <td>NaN</td>\n",
              "      <td>NaN</td>\n",
              "      <td>NaN</td>\n",
              "      <td>NaN</td>\n",
              "      <td>NaN</td>\n",
              "      <td>NaN</td>\n",
              "      <td>NaN</td>\n",
              "      <td>NaN</td>\n",
              "      <td>NaN</td>\n",
              "      <td>NaN</td>\n",
              "      <td>NaN</td>\n",
              "      <td>NaN</td>\n",
              "      <td>NaN</td>\n",
              "      <td>1.0</td>\n",
              "      <td>1.0</td>\n",
              "      <td>1.0</td>\n",
              "      <td>2.0</td>\n",
              "      <td>4.0</td>\n",
              "      <td>1</td>\n",
              "      <td>3</td>\n",
              "      <td>4</td>\n",
              "      <td>1</td>\n",
              "      <td>1.625000</td>\n",
              "      <td>1</td>\n",
              "      <td>1</td>\n",
              "      <td>2</td>\n",
              "      <td>5456.10</td>\n",
              "      <td>559.60</td>\n",
              "      <td>139.90</td>\n",
              "      <td>227.337500</td>\n",
              "      <td>139.9</td>\n",
              "      <td>139.90</td>\n",
              "      <td>279.80</td>\n",
              "      <td>139.900000</td>\n",
              "      <td>3.587179</td>\n",
              "      <td>3.587179</td>\n",
              "      <td>7.174359</td>\n",
              "      <td>MLB-SWIMMING_FINS</td>\n",
              "      <td>442627</td>\n",
              "      <td>Nadadeira Seasub Pé De Pato Mergulho Custo Bar...</td>\n",
              "      <td>None</td>\n",
              "      <td>None</td>\n",
              "      <td>MLB</td>\n",
              "      <td>1.0</td>\n",
              "    </tr>\n",
              "    <tr>\n",
              "      <th>5</th>\n",
              "      <td>2250</td>\n",
              "      <td>2021-03-05</td>\n",
              "      <td>1</td>\n",
              "      <td>139.90</td>\n",
              "      <td>REA</td>\n",
              "      <td>classic</td>\n",
              "      <td>fulfillment</td>\n",
              "      <td>free_shipping</td>\n",
              "      <td>1440.000000</td>\n",
              "      <td>33</td>\n",
              "      <td>1</td>\n",
              "      <td>0</td>\n",
              "      <td>0</td>\n",
              "      <td>0</td>\n",
              "      <td>0.0</td>\n",
              "      <td>NaN</td>\n",
              "      <td>NaN</td>\n",
              "      <td>NaN</td>\n",
              "      <td>NaN</td>\n",
              "      <td>NaN</td>\n",
              "      <td>NaN</td>\n",
              "      <td>NaN</td>\n",
              "      <td>NaN</td>\n",
              "      <td>NaN</td>\n",
              "      <td>NaN</td>\n",
              "      <td>NaN</td>\n",
              "      <td>NaN</td>\n",
              "      <td>NaN</td>\n",
              "      <td>NaN</td>\n",
              "      <td>NaN</td>\n",
              "      <td>NaN</td>\n",
              "      <td>NaN</td>\n",
              "      <td>NaN</td>\n",
              "      <td>NaN</td>\n",
              "      <td>NaN</td>\n",
              "      <td>NaN</td>\n",
              "      <td>1.0</td>\n",
              "      <td>1.0</td>\n",
              "      <td>1.0</td>\n",
              "      <td>2.0</td>\n",
              "      <td>2</td>\n",
              "      <td>4</td>\n",
              "      <td>4</td>\n",
              "      <td>1</td>\n",
              "      <td>1.625000</td>\n",
              "      <td>1</td>\n",
              "      <td>1</td>\n",
              "      <td>2</td>\n",
              "      <td>5456.10</td>\n",
              "      <td>559.60</td>\n",
              "      <td>139.90</td>\n",
              "      <td>227.337500</td>\n",
              "      <td>139.9</td>\n",
              "      <td>139.90</td>\n",
              "      <td>279.80</td>\n",
              "      <td>139.900000</td>\n",
              "      <td>3.587179</td>\n",
              "      <td>3.587179</td>\n",
              "      <td>7.174359</td>\n",
              "      <td>MLB-SWIMMING_FINS</td>\n",
              "      <td>442627</td>\n",
              "      <td>Nadadeira Seasub Pé De Pato Mergulho Custo Bar...</td>\n",
              "      <td>None</td>\n",
              "      <td>None</td>\n",
              "      <td>MLB</td>\n",
              "      <td>1.0</td>\n",
              "    </tr>\n",
              "    <tr>\n",
              "      <th>6</th>\n",
              "      <td>2250</td>\n",
              "      <td>2021-03-06</td>\n",
              "      <td>1</td>\n",
              "      <td>139.90</td>\n",
              "      <td>REA</td>\n",
              "      <td>classic</td>\n",
              "      <td>fulfillment</td>\n",
              "      <td>free_shipping</td>\n",
              "      <td>1440.000000</td>\n",
              "      <td>34</td>\n",
              "      <td>1</td>\n",
              "      <td>1</td>\n",
              "      <td>0</td>\n",
              "      <td>0</td>\n",
              "      <td>0.0</td>\n",
              "      <td>0.0</td>\n",
              "      <td>NaN</td>\n",
              "      <td>NaN</td>\n",
              "      <td>NaN</td>\n",
              "      <td>NaN</td>\n",
              "      <td>NaN</td>\n",
              "      <td>NaN</td>\n",
              "      <td>NaN</td>\n",
              "      <td>NaN</td>\n",
              "      <td>NaN</td>\n",
              "      <td>NaN</td>\n",
              "      <td>NaN</td>\n",
              "      <td>NaN</td>\n",
              "      <td>NaN</td>\n",
              "      <td>NaN</td>\n",
              "      <td>NaN</td>\n",
              "      <td>NaN</td>\n",
              "      <td>NaN</td>\n",
              "      <td>NaN</td>\n",
              "      <td>NaN</td>\n",
              "      <td>NaN</td>\n",
              "      <td>NaN</td>\n",
              "      <td>1.0</td>\n",
              "      <td>1.0</td>\n",
              "      <td>1.0</td>\n",
              "      <td>3</td>\n",
              "      <td>5</td>\n",
              "      <td>4</td>\n",
              "      <td>1</td>\n",
              "      <td>1.625000</td>\n",
              "      <td>1</td>\n",
              "      <td>1</td>\n",
              "      <td>2</td>\n",
              "      <td>5456.10</td>\n",
              "      <td>559.60</td>\n",
              "      <td>139.90</td>\n",
              "      <td>227.337500</td>\n",
              "      <td>139.9</td>\n",
              "      <td>139.90</td>\n",
              "      <td>279.80</td>\n",
              "      <td>139.900000</td>\n",
              "      <td>3.587179</td>\n",
              "      <td>3.587179</td>\n",
              "      <td>7.174359</td>\n",
              "      <td>MLB-SWIMMING_FINS</td>\n",
              "      <td>442627</td>\n",
              "      <td>Nadadeira Seasub Pé De Pato Mergulho Custo Bar...</td>\n",
              "      <td>None</td>\n",
              "      <td>None</td>\n",
              "      <td>MLB</td>\n",
              "      <td>1.0</td>\n",
              "    </tr>\n",
              "    <tr>\n",
              "      <th>7</th>\n",
              "      <td>2250</td>\n",
              "      <td>2021-03-10</td>\n",
              "      <td>1</td>\n",
              "      <td>139.90</td>\n",
              "      <td>REA</td>\n",
              "      <td>classic</td>\n",
              "      <td>fulfillment</td>\n",
              "      <td>free_shipping</td>\n",
              "      <td>1440.000000</td>\n",
              "      <td>38</td>\n",
              "      <td>0</td>\n",
              "      <td>0</td>\n",
              "      <td>0</td>\n",
              "      <td>1</td>\n",
              "      <td>1.0</td>\n",
              "      <td>1.0</td>\n",
              "      <td>0.0</td>\n",
              "      <td>0.0</td>\n",
              "      <td>0.0</td>\n",
              "      <td>0.0</td>\n",
              "      <td>NaN</td>\n",
              "      <td>NaN</td>\n",
              "      <td>NaN</td>\n",
              "      <td>NaN</td>\n",
              "      <td>NaN</td>\n",
              "      <td>NaN</td>\n",
              "      <td>NaN</td>\n",
              "      <td>NaN</td>\n",
              "      <td>NaN</td>\n",
              "      <td>NaN</td>\n",
              "      <td>NaN</td>\n",
              "      <td>NaN</td>\n",
              "      <td>NaN</td>\n",
              "      <td>NaN</td>\n",
              "      <td>NaN</td>\n",
              "      <td>NaN</td>\n",
              "      <td>NaN</td>\n",
              "      <td>NaN</td>\n",
              "      <td>NaN</td>\n",
              "      <td>NaN</td>\n",
              "      <td>4</td>\n",
              "      <td>9</td>\n",
              "      <td>4</td>\n",
              "      <td>1</td>\n",
              "      <td>1.625000</td>\n",
              "      <td>1</td>\n",
              "      <td>1</td>\n",
              "      <td>2</td>\n",
              "      <td>5456.10</td>\n",
              "      <td>559.60</td>\n",
              "      <td>139.90</td>\n",
              "      <td>227.337500</td>\n",
              "      <td>139.9</td>\n",
              "      <td>139.90</td>\n",
              "      <td>279.80</td>\n",
              "      <td>139.900000</td>\n",
              "      <td>3.587179</td>\n",
              "      <td>3.587179</td>\n",
              "      <td>7.174359</td>\n",
              "      <td>MLB-SWIMMING_FINS</td>\n",
              "      <td>442627</td>\n",
              "      <td>Nadadeira Seasub Pé De Pato Mergulho Custo Bar...</td>\n",
              "      <td>None</td>\n",
              "      <td>None</td>\n",
              "      <td>MLB</td>\n",
              "      <td>1.0</td>\n",
              "    </tr>\n",
              "    <tr>\n",
              "      <th>8</th>\n",
              "      <td>2250</td>\n",
              "      <td>2021-03-16</td>\n",
              "      <td>1</td>\n",
              "      <td>139.90</td>\n",
              "      <td>REA</td>\n",
              "      <td>classic</td>\n",
              "      <td>fulfillment</td>\n",
              "      <td>free_shipping</td>\n",
              "      <td>1440.000000</td>\n",
              "      <td>44</td>\n",
              "      <td>0</td>\n",
              "      <td>2</td>\n",
              "      <td>0</td>\n",
              "      <td>3</td>\n",
              "      <td>0.0</td>\n",
              "      <td>1.0</td>\n",
              "      <td>0.0</td>\n",
              "      <td>0.0</td>\n",
              "      <td>0.0</td>\n",
              "      <td>1.0</td>\n",
              "      <td>1.0</td>\n",
              "      <td>1.0</td>\n",
              "      <td>0.0</td>\n",
              "      <td>0.0</td>\n",
              "      <td>0.0</td>\n",
              "      <td>0.0</td>\n",
              "      <td>NaN</td>\n",
              "      <td>NaN</td>\n",
              "      <td>NaN</td>\n",
              "      <td>NaN</td>\n",
              "      <td>NaN</td>\n",
              "      <td>NaN</td>\n",
              "      <td>NaN</td>\n",
              "      <td>NaN</td>\n",
              "      <td>NaN</td>\n",
              "      <td>NaN</td>\n",
              "      <td>NaN</td>\n",
              "      <td>NaN</td>\n",
              "      <td>NaN</td>\n",
              "      <td>NaN</td>\n",
              "      <td>10</td>\n",
              "      <td>15</td>\n",
              "      <td>4</td>\n",
              "      <td>1</td>\n",
              "      <td>1.625000</td>\n",
              "      <td>1</td>\n",
              "      <td>1</td>\n",
              "      <td>2</td>\n",
              "      <td>5456.10</td>\n",
              "      <td>559.60</td>\n",
              "      <td>139.90</td>\n",
              "      <td>227.337500</td>\n",
              "      <td>139.9</td>\n",
              "      <td>139.90</td>\n",
              "      <td>279.80</td>\n",
              "      <td>139.900000</td>\n",
              "      <td>3.587179</td>\n",
              "      <td>3.587179</td>\n",
              "      <td>7.174359</td>\n",
              "      <td>MLB-SWIMMING_FINS</td>\n",
              "      <td>442627</td>\n",
              "      <td>Nadadeira Seasub Pé De Pato Mergulho Custo Bar...</td>\n",
              "      <td>None</td>\n",
              "      <td>None</td>\n",
              "      <td>MLB</td>\n",
              "      <td>1.0</td>\n",
              "    </tr>\n",
              "    <tr>\n",
              "      <th>9</th>\n",
              "      <td>2250</td>\n",
              "      <td>2021-03-19</td>\n",
              "      <td>1</td>\n",
              "      <td>139.90</td>\n",
              "      <td>REA</td>\n",
              "      <td>classic</td>\n",
              "      <td>fulfillment</td>\n",
              "      <td>free_shipping</td>\n",
              "      <td>1440.000000</td>\n",
              "      <td>47</td>\n",
              "      <td>2</td>\n",
              "      <td>0</td>\n",
              "      <td>1</td>\n",
              "      <td>0</td>\n",
              "      <td>2.0</td>\n",
              "      <td>0.0</td>\n",
              "      <td>3.0</td>\n",
              "      <td>0.0</td>\n",
              "      <td>1.0</td>\n",
              "      <td>0.0</td>\n",
              "      <td>0.0</td>\n",
              "      <td>0.0</td>\n",
              "      <td>1.0</td>\n",
              "      <td>1.0</td>\n",
              "      <td>1.0</td>\n",
              "      <td>0.0</td>\n",
              "      <td>0.0</td>\n",
              "      <td>0.0</td>\n",
              "      <td>0.0</td>\n",
              "      <td>NaN</td>\n",
              "      <td>NaN</td>\n",
              "      <td>NaN</td>\n",
              "      <td>NaN</td>\n",
              "      <td>NaN</td>\n",
              "      <td>NaN</td>\n",
              "      <td>NaN</td>\n",
              "      <td>NaN</td>\n",
              "      <td>NaN</td>\n",
              "      <td>NaN</td>\n",
              "      <td>NaN</td>\n",
              "      <td>13</td>\n",
              "      <td>18</td>\n",
              "      <td>4</td>\n",
              "      <td>1</td>\n",
              "      <td>1.625000</td>\n",
              "      <td>1</td>\n",
              "      <td>1</td>\n",
              "      <td>2</td>\n",
              "      <td>5456.10</td>\n",
              "      <td>559.60</td>\n",
              "      <td>139.90</td>\n",
              "      <td>227.337500</td>\n",
              "      <td>139.9</td>\n",
              "      <td>139.90</td>\n",
              "      <td>279.80</td>\n",
              "      <td>139.900000</td>\n",
              "      <td>3.587179</td>\n",
              "      <td>3.587179</td>\n",
              "      <td>7.174359</td>\n",
              "      <td>MLB-SWIMMING_FINS</td>\n",
              "      <td>442627</td>\n",
              "      <td>Nadadeira Seasub Pé De Pato Mergulho Custo Bar...</td>\n",
              "      <td>None</td>\n",
              "      <td>None</td>\n",
              "      <td>MLB</td>\n",
              "      <td>1.0</td>\n",
              "    </tr>\n",
              "  </tbody>\n",
              "</table>\n",
              "</div>"
            ],
            "text/plain": [
              "    sku        date  sold_quantity  ...  product_id site_id target_stock\n",
              "0  1677  2021-03-26              3  ...        None     MLB          4.0\n",
              "1  1697  2021-03-13              2  ...        None     MLM          2.0\n",
              "2  1697  2021-03-24              2  ...        None     MLM          2.0\n",
              "3  1950  2021-03-08              3  ...        None     MLB          4.0\n",
              "4  2250  2021-03-04              1  ...        None     MLB          1.0\n",
              "5  2250  2021-03-05              1  ...        None     MLB          1.0\n",
              "6  2250  2021-03-06              1  ...        None     MLB          1.0\n",
              "7  2250  2021-03-10              1  ...        None     MLB          1.0\n",
              "8  2250  2021-03-16              1  ...        None     MLB          1.0\n",
              "9  2250  2021-03-19              1  ...        None     MLB          1.0\n",
              "\n",
              "[10 rows x 66 columns]"
            ]
          },
          "metadata": {
            "tags": []
          },
          "execution_count": 15
        }
      ]
    },
    {
      "cell_type": "code",
      "metadata": {
        "id": "U51SHmWLqP7u"
      },
      "source": [
        "df_final = df_final.withColumn('lag_semana_1_sold_quantity',np.sum([F.coalesce(F.col('lag_'+str(i)+'_sold_quantity'),F.lit(0)) for i in range(1,8)]))\n",
        "df_final = df_final.withColumn('lag_semana_2_sold_quantity',np.sum([F.coalesce(F.col('lag_'+str(i)+'_sold_quantity'),F.lit(0)) for i in range(8,15)]))\n",
        "df_final = df_final.withColumn('lag_semana_3_sold_quantity',np.sum([F.coalesce(F.col('lag_'+str(i)+'_sold_quantity'),F.lit(0)) for i in range(15,21)]))\n",
        "df_final = df_final.withColumn('lag_semana_4_sold_quantity',np.sum([F.coalesce(F.col('lag_'+str(i)+'_sold_quantity'),F.lit(0)) for i in range(21,28)]))\n",
        "\n",
        "df_final = df_final.withColumn('lag_quinzena_1_sold_quantity',F.col('lag_semana_1_sold_quantity')+F.col('lag_semana_2_sold_quantity'))\n",
        "df_final = df_final.withColumn('lag_quinzena_2_sold_quantity',F.col('lag_semana_3_sold_quantity')+F.col('lag_semana_4_sold_quantity'))\n",
        "\n",
        "df_final = df_final.withColumn('item_domain_id',F.regexp_replace(F.col('item_domain_id'),'-|_',' '))"
      ],
      "execution_count": 33,
      "outputs": []
    },
    {
      "cell_type": "code",
      "metadata": {
        "id": "gP_krDcFtQY4"
      },
      "source": [
        "submit_data = submit_data.withColumn('lag_semana_1_sold_quantity',np.sum([F.coalesce(F.col('lag_'+str(i)+'_sold_quantity'),F.lit(0)) for i in range(1,8)]))\n",
        "submit_data = submit_data.withColumn('lag_semana_2_sold_quantity',np.sum([F.coalesce(F.col('lag_'+str(i)+'_sold_quantity'),F.lit(0)) for i in range(8,15)]))\n",
        "submit_data = submit_data.withColumn('lag_semana_3_sold_quantity',np.sum([F.coalesce(F.col('lag_'+str(i)+'_sold_quantity'),F.lit(0)) for i in range(15,21)]))\n",
        "submit_data = submit_data.withColumn('lag_semana_4_sold_quantity',np.sum([F.coalesce(F.col('lag_'+str(i)+'_sold_quantity'),F.lit(0)) for i in range(21,28)]))\n",
        "\n",
        "submit_data = submit_data.withColumn('lag_quinzena_1_sold_quantity',F.col('lag_semana_1_sold_quantity')+F.col('lag_semana_2_sold_quantity'))\n",
        "submit_data = submit_data.withColumn('lag_quinzena_2_sold_quantity',F.col('lag_semana_3_sold_quantity')+F.col('lag_semana_4_sold_quantity'))\n",
        "\n",
        "submit_data = submit_data.withColumn('item_domain_id',F.regexp_replace(F.col('item_domain_id'),'-|_',' '))"
      ],
      "execution_count": 34,
      "outputs": []
    },
    {
      "cell_type": "code",
      "metadata": {
        "id": "iR66XUW0W0VW"
      },
      "source": [
        "df_final =  df_final.withColumn('sum_days_active',F.when(F.col('sum_days_active')<1,1).otherwise(F.col('sum_days_active')))"
      ],
      "execution_count": 35,
      "outputs": []
    },
    {
      "cell_type": "code",
      "metadata": {
        "id": "FnDzeyHYUIha",
        "outputId": "91ad2627-7472-4832-939e-ef169dac9be2",
        "colab": {
          "base_uri": "https://localhost:8080/",
          "height": 69
        }
      },
      "source": [
        "df_final.filter('sku=9458').limit(10).toPandas()"
      ],
      "execution_count": 36,
      "outputs": [
        {
          "output_type": "execute_result",
          "data": {
            "text/html": [
              "<div>\n",
              "<style scoped>\n",
              "    .dataframe tbody tr th:only-of-type {\n",
              "        vertical-align: middle;\n",
              "    }\n",
              "\n",
              "    .dataframe tbody tr th {\n",
              "        vertical-align: top;\n",
              "    }\n",
              "\n",
              "    .dataframe thead th {\n",
              "        text-align: right;\n",
              "    }\n",
              "</style>\n",
              "<table border=\"1\" class=\"dataframe\">\n",
              "  <thead>\n",
              "    <tr style=\"text-align: right;\">\n",
              "      <th></th>\n",
              "      <th>sku</th>\n",
              "      <th>date</th>\n",
              "      <th>sold_quantity</th>\n",
              "      <th>current_price</th>\n",
              "      <th>currency</th>\n",
              "      <th>listing_type</th>\n",
              "      <th>shipping_logistic_type</th>\n",
              "      <th>shipping_payment</th>\n",
              "      <th>minutes_active</th>\n",
              "      <th>row_sku</th>\n",
              "      <th>lag_1_sold_quantity</th>\n",
              "      <th>lag_2_sold_quantity</th>\n",
              "      <th>lag_3_sold_quantity</th>\n",
              "      <th>lag_4_sold_quantity</th>\n",
              "      <th>lag_5_sold_quantity</th>\n",
              "      <th>lag_6_sold_quantity</th>\n",
              "      <th>lag_7_sold_quantity</th>\n",
              "      <th>lag_8_sold_quantity</th>\n",
              "      <th>lag_9_sold_quantity</th>\n",
              "      <th>lag_10_sold_quantity</th>\n",
              "      <th>lag_11_sold_quantity</th>\n",
              "      <th>lag_12_sold_quantity</th>\n",
              "      <th>lag_13_sold_quantity</th>\n",
              "      <th>lag_14_sold_quantity</th>\n",
              "      <th>lag_15_sold_quantity</th>\n",
              "      <th>lag_16_sold_quantity</th>\n",
              "      <th>lag_17_sold_quantity</th>\n",
              "      <th>lag_18_sold_quantity</th>\n",
              "      <th>lag_19_sold_quantity</th>\n",
              "      <th>lag_20_sold_quantity</th>\n",
              "      <th>lag_21_sold_quantity</th>\n",
              "      <th>lag_22_sold_quantity</th>\n",
              "      <th>lag_23_sold_quantity</th>\n",
              "      <th>lag_24_sold_quantity</th>\n",
              "      <th>lag_25_sold_quantity</th>\n",
              "      <th>lag_26_sold_quantity</th>\n",
              "      <th>lag_27_sold_quantity</th>\n",
              "      <th>lag_28_sold_quantity</th>\n",
              "      <th>lag_29_sold_quantity</th>\n",
              "      <th>lag_30_sold_quantity</th>\n",
              "      <th>sum_sold_quantity</th>\n",
              "      <th>sum_days_active</th>\n",
              "      <th>max_sold_quantity</th>\n",
              "      <th>min_sold_quantity</th>\n",
              "      <th>avg_sold_quantity</th>\n",
              "      <th>median_sold_quantity</th>\n",
              "      <th>qt1_sold_quantity</th>\n",
              "      <th>qt3_sold_quantity</th>\n",
              "      <th>total_fat</th>\n",
              "      <th>max_fat</th>\n",
              "      <th>min_fat</th>\n",
              "      <th>avg_fat</th>\n",
              "      <th>median_fat</th>\n",
              "      <th>qt1_fat</th>\n",
              "      <th>qt3_fat</th>\n",
              "      <th>avg_price</th>\n",
              "      <th>median_price</th>\n",
              "      <th>qt1_price</th>\n",
              "      <th>qt3_price</th>\n",
              "      <th>item_domain_id</th>\n",
              "      <th>item_id</th>\n",
              "      <th>item_title</th>\n",
              "      <th>product_family_id</th>\n",
              "      <th>product_id</th>\n",
              "      <th>site_id</th>\n",
              "      <th>target_stock</th>\n",
              "      <th>lag_semana_1_sold_quantity</th>\n",
              "      <th>lag_semana_2_sold_quantity</th>\n",
              "      <th>lag_semana_3_sold_quantity</th>\n",
              "      <th>lag_semana_4_sold_quantity</th>\n",
              "      <th>lag_quinzena_1_sold_quantity</th>\n",
              "      <th>lag_quinzena_2_sold_quantity</th>\n",
              "    </tr>\n",
              "  </thead>\n",
              "  <tbody>\n",
              "  </tbody>\n",
              "</table>\n",
              "</div>"
            ],
            "text/plain": [
              "Empty DataFrame\n",
              "Columns: [sku, date, sold_quantity, current_price, currency, listing_type, shipping_logistic_type, shipping_payment, minutes_active, row_sku, lag_1_sold_quantity, lag_2_sold_quantity, lag_3_sold_quantity, lag_4_sold_quantity, lag_5_sold_quantity, lag_6_sold_quantity, lag_7_sold_quantity, lag_8_sold_quantity, lag_9_sold_quantity, lag_10_sold_quantity, lag_11_sold_quantity, lag_12_sold_quantity, lag_13_sold_quantity, lag_14_sold_quantity, lag_15_sold_quantity, lag_16_sold_quantity, lag_17_sold_quantity, lag_18_sold_quantity, lag_19_sold_quantity, lag_20_sold_quantity, lag_21_sold_quantity, lag_22_sold_quantity, lag_23_sold_quantity, lag_24_sold_quantity, lag_25_sold_quantity, lag_26_sold_quantity, lag_27_sold_quantity, lag_28_sold_quantity, lag_29_sold_quantity, lag_30_sold_quantity, sum_sold_quantity, sum_days_active, max_sold_quantity, min_sold_quantity, avg_sold_quantity, median_sold_quantity, qt1_sold_quantity, qt3_sold_quantity, total_fat, max_fat, min_fat, avg_fat, median_fat, qt1_fat, qt3_fat, avg_price, median_price, qt1_price, qt3_price, item_domain_id, item_id, item_title, product_family_id, product_id, site_id, target_stock, lag_semana_1_sold_quantity, lag_semana_2_sold_quantity, lag_semana_3_sold_quantity, lag_semana_4_sold_quantity, lag_quinzena_1_sold_quantity, lag_quinzena_2_sold_quantity]\n",
              "Index: []"
            ]
          },
          "metadata": {
            "tags": []
          },
          "execution_count": 36
        }
      ]
    },
    {
      "cell_type": "code",
      "metadata": {
        "id": "5R_GkOT5LRBl"
      },
      "source": [
        "from catboost import Pool, CatBoostClassifier, CatBoostRegressor\n",
        "from catboost import CatBoostRegressor, Pool, EShapCalcType, EFeaturesSelectionAlgorithm"
      ],
      "execution_count": 37,
      "outputs": []
    },
    {
      "cell_type": "code",
      "metadata": {
        "id": "8RHsoZmo9UWo"
      },
      "source": [
        "fractions = df_final.groupby('sum_days_active').count().toPandas()"
      ],
      "execution_count": 38,
      "outputs": []
    },
    {
      "cell_type": "code",
      "metadata": {
        "id": "0aBiIk849k1U"
      },
      "source": [
        "fractions = fractions.set_index('sum_days_active').sort_values('count').sort_values('count')\n",
        "fractions = (fractions.min()/fractions).to_dict()['count']"
      ],
      "execution_count": 39,
      "outputs": []
    },
    {
      "cell_type": "code",
      "metadata": {
        "id": "wX_lMBcM_AQt",
        "outputId": "1486113f-2ef0-490f-cb2c-2f95785a9ad2",
        "colab": {
          "base_uri": "https://localhost:8080/"
        }
      },
      "source": [
        "df_final.sampleBy('sum_days_active',fractions=fractions).count()"
      ],
      "execution_count": 40,
      "outputs": [
        {
          "output_type": "execute_result",
          "data": {
            "text/plain": [
              "6031673"
            ]
          },
          "metadata": {
            "tags": []
          },
          "execution_count": 40
        }
      ]
    },
    {
      "cell_type": "code",
      "metadata": {
        "id": "GOeUTKzKMTOE"
      },
      "source": [
        "df_train, df_test = df_final.sampleBy('sum_days_active',fractions=fractions,seed=123).sample(fraction=0.05,seed=123).randomSplit([3.,1.],seed=123)"
      ],
      "execution_count": 41,
      "outputs": []
    },
    {
      "cell_type": "code",
      "metadata": {
        "id": "R5A706hfdsKQ",
        "outputId": "cd52b126-918f-46f9-f205-7240b27890f1",
        "colab": {
          "base_uri": "https://localhost:8080/"
        }
      },
      "source": [
        "df_train.select('sku').distinct().count() , df_test.select('sku').distinct().count()"
      ],
      "execution_count": 42,
      "outputs": [
        {
          "output_type": "execute_result",
          "data": {
            "text/plain": [
              "(178642, 69336)"
            ]
          },
          "metadata": {
            "tags": []
          },
          "execution_count": 42
        }
      ]
    },
    {
      "cell_type": "code",
      "metadata": {
        "colab": {
          "base_uri": "https://localhost:8080/"
        },
        "id": "HtuYR6YePiVC",
        "outputId": "fec49460-51d5-462f-83a2-777f0522f19b"
      },
      "source": [
        "df_train.count(), df_test.count()"
      ],
      "execution_count": 43,
      "outputs": [
        {
          "output_type": "execute_result",
          "data": {
            "text/plain": [
              "(226178, 75140)"
            ]
          },
          "metadata": {
            "tags": []
          },
          "execution_count": 43
        }
      ]
    },
    {
      "cell_type": "code",
      "metadata": {
        "id": "NNaHuG6b1vmP"
      },
      "source": [
        "vars = ['site_id','product_family_id','item_domain_id'] + [i for i in df_train.columns if i[-len('_sold_quantity'):]=='_sold_quantity'] + [i for i in df_train.columns if i[-5:]=='price'] + ['item_title']\n",
        " \n",
        "cat_vars =  ['site_id','product_family_id','item_domain_id'\n",
        " ]\n",
        "text_vars =['item_title']"
      ],
      "execution_count": 44,
      "outputs": []
    },
    {
      "cell_type": "code",
      "metadata": {
        "id": "9aGOjAkVLVu3"
      },
      "source": [
        "df_train = df_train.fillna('sem_id', subset=cat_vars+text_vars)\n",
        "df_test = df_test.fillna('sem_id', subset=cat_vars+text_vars) \n",
        "submit_data = submit_data.fillna('sem_id', subset=cat_vars+text_vars)\n",
        "\n",
        "train_data = df_train.select(*vars+['sum_days_active']).toPandas()\n",
        "test_data = df_test.select(*vars+['sum_days_active']).toPandas()\n",
        "train_label = train_data.sum_days_active\n",
        "test_label = test_data.sum_days_active"
      ],
      "execution_count": 45,
      "outputs": []
    },
    {
      "cell_type": "code",
      "metadata": {
        "id": "eH6v64aU9cSk",
        "outputId": "59437fc3-4c81-41fc-d402-506ff7c307f9",
        "colab": {
          "base_uri": "https://localhost:8080/"
        }
      },
      "source": [
        "train_data.shape"
      ],
      "execution_count": 46,
      "outputs": [
        {
          "output_type": "execute_result",
          "data": {
            "text/plain": [
              "(226178, 53)"
            ]
          },
          "metadata": {
            "tags": []
          },
          "execution_count": 46
        }
      ]
    },
    {
      "cell_type": "code",
      "metadata": {
        "colab": {
          "base_uri": "https://localhost:8080/"
        },
        "id": "KaXGnzTSMz6S",
        "outputId": "5ae1dfdd-99f4-456d-fc37-2ff56b1fe19a"
      },
      "source": [
        "# initialize data\n",
        "#train_data = g_df.loc[:,vars].sample(frac=.01,random_state=123)\n",
        "#train_label = g_df.loc[:,'days_active'].apply(lambda x : x if x<30. else 30.).round().astype(int).sample(frac=.01,random_state=123)\n",
        "#test_data = g_df.loc[~g_df.sku.isnull(),'current_price_count':'shipping_payment_shipping_payment']#.sample(frac=.1,random_state=1234)\n",
        "# initialize Pool\n",
        "train_pool = Pool(train_data.loc[:,vars], \n",
        "                  train_label, \n",
        "                  cat_features=cat_vars,\n",
        "                  text_features = text_vars)\n",
        "test_pool = Pool(test_data.loc[:,vars], \n",
        "                  test_label, \n",
        "                  cat_features=cat_vars,\n",
        "                 text_features = text_vars)\n",
        "\n",
        "# specify the training parameters \n",
        "model = CatBoostClassifier(metric_period=100,task_type='GPU',use_best_model=True,\n",
        "                           iterations=2000,learning_rate=.005,loss_function='MultiClass')\n",
        "#train the model\n",
        "model.fit(train_pool,eval_set=test_pool)\n",
        "#model.select_features(\n",
        "#    train_pool,\n",
        "#    eval_set=test_pool,\n",
        "#    features_for_select=vars,\n",
        "#    num_features_to_select=20,\n",
        "#    steps=10,\n",
        "#    algorithm=EFeaturesSelectionAlgorithm.RecursiveByShapValues,\n",
        "#    shap_calc_type=EShapCalcType.Regular,\n",
        "#    train_final_model=True\n",
        "    #logging_level='Silent',\n",
        "    #plot=True\n",
        "#)\n",
        "# make the prediction using the resulting model"
      ],
      "execution_count": 47,
      "outputs": [
        {
          "output_type": "stream",
          "text": [
            "0:\tlearn: 3.4001146\ttest: 3.4001630\tbest: 3.4001630 (0)\ttotal: 233ms\tremaining: 7m 46s\n",
            "100:\tlearn: 3.1838090\ttest: 3.1858816\tbest: 3.1858816 (100)\ttotal: 19.4s\tremaining: 6m 5s\n",
            "200:\tlearn: 3.0638452\ttest: 3.0667670\tbest: 3.0667670 (200)\ttotal: 39.2s\tremaining: 5m 50s\n",
            "300:\tlearn: 2.9817409\ttest: 2.9856462\tbest: 2.9856462 (300)\ttotal: 58.1s\tremaining: 5m 27s\n",
            "400:\tlearn: 2.9211641\ttest: 2.9258621\tbest: 2.9258621 (400)\ttotal: 1m 16s\tremaining: 5m 3s\n",
            "500:\tlearn: 2.8734194\ttest: 2.8790256\tbest: 2.8790256 (500)\ttotal: 1m 33s\tremaining: 4m 41s\n",
            "600:\tlearn: 2.8353034\ttest: 2.8417279\tbest: 2.8417279 (600)\ttotal: 1m 51s\tremaining: 4m 20s\n",
            "700:\tlearn: 2.8012812\ttest: 2.8085461\tbest: 2.8085461 (700)\ttotal: 2m 9s\tremaining: 3m 59s\n",
            "800:\tlearn: 2.7713797\ttest: 2.7796912\tbest: 2.7796912 (800)\ttotal: 2m 26s\tremaining: 3m 39s\n",
            "900:\tlearn: 2.7469278\ttest: 2.7562015\tbest: 2.7562015 (900)\ttotal: 2m 43s\tremaining: 3m 19s\n",
            "1000:\tlearn: 2.7240133\ttest: 2.7343226\tbest: 2.7343226 (1000)\ttotal: 3m\tremaining: 3m\n",
            "1100:\tlearn: 2.7033128\ttest: 2.7147154\tbest: 2.7147154 (1100)\ttotal: 3m 18s\tremaining: 2m 41s\n",
            "1200:\tlearn: 2.6835888\ttest: 2.6962466\tbest: 2.6962466 (1200)\ttotal: 3m 35s\tremaining: 2m 23s\n",
            "1300:\tlearn: 2.6666130\ttest: 2.6804866\tbest: 2.6804866 (1300)\ttotal: 3m 53s\tremaining: 2m 5s\n",
            "1400:\tlearn: 2.6512766\ttest: 2.6664844\tbest: 2.6664844 (1400)\ttotal: 4m 11s\tremaining: 1m 47s\n",
            "1500:\tlearn: 2.6361475\ttest: 2.6526432\tbest: 2.6526432 (1500)\ttotal: 4m 29s\tremaining: 1m 29s\n",
            "1600:\tlearn: 2.6229330\ttest: 2.6408128\tbest: 2.6408128 (1600)\ttotal: 4m 47s\tremaining: 1m 11s\n",
            "1700:\tlearn: 2.6104561\ttest: 2.6297280\tbest: 2.6297280 (1700)\ttotal: 5m 5s\tremaining: 53.8s\n",
            "1800:\tlearn: 2.5987679\ttest: 2.6193302\tbest: 2.6193302 (1800)\ttotal: 5m 23s\tremaining: 35.8s\n",
            "1900:\tlearn: 2.5885716\ttest: 2.6105823\tbest: 2.6105823 (1900)\ttotal: 5m 41s\tremaining: 17.8s\n",
            "1999:\tlearn: 2.5786328\ttest: 2.6020898\tbest: 2.6020898 (1999)\ttotal: 6m\tremaining: 0us\n",
            "bestTest = 2.602089849\n",
            "bestIteration = 1999\n"
          ],
          "name": "stdout"
        },
        {
          "output_type": "execute_result",
          "data": {
            "text/plain": [
              "<catboost.core.CatBoostClassifier at 0x7fe891e637d0>"
            ]
          },
          "metadata": {
            "tags": []
          },
          "execution_count": 47
        }
      ]
    },
    {
      "cell_type": "code",
      "metadata": {
        "id": "S5LBenj8GYSH"
      },
      "source": [
        "eliminated_features_names"
      ],
      "execution_count": null,
      "outputs": []
    },
    {
      "cell_type": "code",
      "metadata": {
        "id": "8sZ8VpsxisMD",
        "outputId": "dd324f55-b924-4c27-f7e0-4a4a9012a8d8",
        "colab": {
          "base_uri": "https://localhost:8080/"
        }
      },
      "source": [
        "pd.Series(model.feature_importances_,model.feature_names_).sort_values(ascending=False)#.cumsum()\n"
      ],
      "execution_count": 106,
      "outputs": [
        {
          "output_type": "execute_result",
          "data": {
            "text/plain": [
              "sum_sold_quantity               40.250668\n",
              "lag_quinzena_1_sold_quantity    15.230894\n",
              "lag_30_sold_quantity             4.708828\n",
              "lag_semana_1_sold_quantity       4.521700\n",
              "lag_quinzena_2_sold_quantity     2.533682\n",
              "lag_semana_3_sold_quantity       1.801086\n",
              "lag_11_sold_quantity             1.385857\n",
              "lag_13_sold_quantity             1.332515\n",
              "lag_10_sold_quantity             1.267835\n",
              "lag_14_sold_quantity             1.251671\n",
              "avg_sold_quantity                1.241137\n",
              "lag_18_sold_quantity             1.227777\n",
              "lag_3_sold_quantity              1.204110\n",
              "lag_7_sold_quantity              1.158310\n",
              "lag_17_sold_quantity             1.145902\n",
              "lag_12_sold_quantity             1.118205\n",
              "lag_6_sold_quantity              1.056035\n",
              "lag_5_sold_quantity              1.042215\n",
              "lag_9_sold_quantity              1.036585\n",
              "lag_8_sold_quantity              1.026801\n",
              "lag_16_sold_quantity             1.025223\n",
              "lag_29_sold_quantity             1.018585\n",
              "lag_20_sold_quantity             1.015163\n",
              "lag_2_sold_quantity              0.987590\n",
              "lag_15_sold_quantity             0.984146\n",
              "max_sold_quantity                0.969016\n",
              "lag_19_sold_quantity             0.935152\n",
              "lag_21_sold_quantity             0.915101\n",
              "lag_4_sold_quantity              0.898000\n",
              "lag_22_sold_quantity             0.863671\n",
              "lag_1_sold_quantity              0.762898\n",
              "lag_23_sold_quantity             0.746833\n",
              "lag_24_sold_quantity             0.743814\n",
              "median_sold_quantity             0.467513\n",
              "lag_26_sold_quantity             0.382302\n",
              "lag_25_sold_quantity             0.348869\n",
              "qt3_sold_quantity                0.339163\n",
              "lag_semana_2_sold_quantity       0.293628\n",
              "lag_27_sold_quantity             0.264516\n",
              "lag_28_sold_quantity             0.238581\n",
              "lag_semana_4_sold_quantity       0.088378\n",
              "qt1_sold_quantity                0.048810\n",
              "avg_price                        0.030013\n",
              "item_domain_id                   0.024084\n",
              "item_title                       0.019270\n",
              "median_price                     0.018551\n",
              "qt3_price                        0.011630\n",
              "qt1_price                        0.010026\n",
              "min_sold_quantity                0.002925\n",
              "site_id                          0.002010\n",
              "product_family_id                0.001383\n",
              "current_price                    0.001344\n",
              "dtype: float64"
            ]
          },
          "metadata": {
            "tags": []
          },
          "execution_count": 106
        }
      ]
    },
    {
      "cell_type": "code",
      "metadata": {
        "id": "2MQDTvjU5o3F"
      },
      "source": [
        "from sklearn.metrics import confusion_matrix, ConfusionMatrixDisplay\n",
        "\n",
        "predictions = model.predict(test_pool)\n",
        "cm = confusion_matrix(test_label, predictions, labels=model.classes_,normalize='true',)\n",
        "disp = ConfusionMatrixDisplay(confusion_matrix=cm,\n",
        "                            display_labels=model.classes_)"
      ],
      "execution_count": 107,
      "outputs": []
    },
    {
      "cell_type": "code",
      "metadata": {
        "id": "W934b8aW6e1i",
        "outputId": "2566fea2-b0b8-4c49-d1e1-e3675491ac35",
        "colab": {
          "base_uri": "https://localhost:8080/",
          "height": 1000
        }
      },
      "source": [
        "import matplotlib.pyplot as plt\n",
        "fig, ax = plt.subplots(figsize=(35,35))\n",
        "disp.plot(ax = ax)"
      ],
      "execution_count": 108,
      "outputs": [
        {
          "output_type": "execute_result",
          "data": {
            "text/plain": [
              "<sklearn.metrics._plot.confusion_matrix.ConfusionMatrixDisplay at 0x7f36a9c0d450>"
            ]
          },
          "metadata": {
            "tags": []
          },
          "execution_count": 108
        },
        {
          "output_type": "display_data",
          "data": {
            "image/png": "[encoded data removed]",
            "text/plain": [
              "<Figure size 2520x2520 with 2 Axes>"
            ]
          },
          "metadata": {
            "tags": [],
            "needs_background": "light"
          }
        }
      ]
    },
    {
      "cell_type": "code",
      "metadata": {
        "id": "q_YmHFKhTULf",
        "outputId": "de23ac71-195a-4f5c-e83e-f355aa9b5711",
        "colab": {
          "base_uri": "https://localhost:8080/"
        }
      },
      "source": [
        "train_label.describe()"
      ],
      "execution_count": 109,
      "outputs": [
        {
          "output_type": "execute_result",
          "data": {
            "text/plain": [
              "count    230161.000000\n",
              "mean         15.505094\n",
              "std           8.661000\n",
              "min           1.000000\n",
              "25%           8.000000\n",
              "50%          15.000000\n",
              "75%          23.000000\n",
              "max          30.000000\n",
              "Name: sum_days_active, dtype: float64"
            ]
          },
          "metadata": {
            "tags": []
          },
          "execution_count": 109
        }
      ]
    },
    {
      "cell_type": "code",
      "metadata": {
        "id": "S5tr9MFpfP8w",
        "outputId": "86210b5e-ab8e-42e1-ebc1-51fa6ed7f8a0",
        "colab": {
          "base_uri": "https://localhost:8080/",
          "height": 282
        }
      },
      "source": [
        "train_label.hist(bins=15)"
      ],
      "execution_count": 110,
      "outputs": [
        {
          "output_type": "execute_result",
          "data": {
            "text/plain": [
              "<matplotlib.axes._subplots.AxesSubplot at 0x7f36a4f247d0>"
            ]
          },
          "metadata": {
            "tags": []
          },
          "execution_count": 110
        },
        {
          "output_type": "display_data",
          "data": {
            "image/png": "[encoded data removed]",
            "text/plain": [
              "<Figure size 432x288 with 1 Axes>"
            ]
          },
          "metadata": {
            "tags": [],
            "needs_background": "light"
          }
        }
      ]
    },
    {
      "cell_type": "code",
      "metadata": {
        "id": "GiV7_jiQffCw"
      },
      "source": [
        "submit_pool = Pool(submit_data.select(*vars).toPandas(),\n",
        "                 cat_features=cat_vars,\n",
        "                 text_features=text_vars,\n",
        "                 )"
      ],
      "execution_count": 111,
      "outputs": []
    },
    {
      "cell_type": "code",
      "metadata": {
        "id": "EULAbEL0f-Lc",
        "outputId": "694a3eee-4812-4f60-b3cd-7de0a47560e9",
        "colab": {
          "base_uri": "https://localhost:8080/",
          "height": 300
        }
      },
      "source": [
        "preds= model.predict(submit_pool)\n",
        "pd.DataFrame(preds).describe()#.hist()"
      ],
      "execution_count": 112,
      "outputs": [
        {
          "output_type": "execute_result",
          "data": {
            "text/html": [
              "<div>\n",
              "<style scoped>\n",
              "    .dataframe tbody tr th:only-of-type {\n",
              "        vertical-align: middle;\n",
              "    }\n",
              "\n",
              "    .dataframe tbody tr th {\n",
              "        vertical-align: top;\n",
              "    }\n",
              "\n",
              "    .dataframe thead th {\n",
              "        text-align: right;\n",
              "    }\n",
              "</style>\n",
              "<table border=\"1\" class=\"dataframe\">\n",
              "  <thead>\n",
              "    <tr style=\"text-align: right;\">\n",
              "      <th></th>\n",
              "      <th>0</th>\n",
              "    </tr>\n",
              "  </thead>\n",
              "  <tbody>\n",
              "    <tr>\n",
              "      <th>count</th>\n",
              "      <td>551472.000000</td>\n",
              "    </tr>\n",
              "    <tr>\n",
              "      <th>mean</th>\n",
              "      <td>12.892234</td>\n",
              "    </tr>\n",
              "    <tr>\n",
              "      <th>std</th>\n",
              "      <td>10.452480</td>\n",
              "    </tr>\n",
              "    <tr>\n",
              "      <th>min</th>\n",
              "      <td>1.000000</td>\n",
              "    </tr>\n",
              "    <tr>\n",
              "      <th>25%</th>\n",
              "      <td>3.000000</td>\n",
              "    </tr>\n",
              "    <tr>\n",
              "      <th>50%</th>\n",
              "      <td>10.000000</td>\n",
              "    </tr>\n",
              "    <tr>\n",
              "      <th>75%</th>\n",
              "      <td>22.000000</td>\n",
              "    </tr>\n",
              "    <tr>\n",
              "      <th>max</th>\n",
              "      <td>30.000000</td>\n",
              "    </tr>\n",
              "  </tbody>\n",
              "</table>\n",
              "</div>"
            ],
            "text/plain": [
              "                   0\n",
              "count  551472.000000\n",
              "mean       12.892234\n",
              "std        10.452480\n",
              "min         1.000000\n",
              "25%         3.000000\n",
              "50%        10.000000\n",
              "75%        22.000000\n",
              "max        30.000000"
            ]
          },
          "metadata": {
            "tags": []
          },
          "execution_count": 112
        }
      ]
    },
    {
      "cell_type": "code",
      "metadata": {
        "id": "FL_cVzOCgD4_",
        "outputId": "620dde3f-3cb7-4e60-9013-9689bf9ee951",
        "colab": {
          "base_uri": "https://localhost:8080/",
          "height": 316
        }
      },
      "source": [
        "pd.DataFrame(preds).hist(bins=30)"
      ],
      "execution_count": 113,
      "outputs": [
        {
          "output_type": "execute_result",
          "data": {
            "text/plain": [
              "array([[<matplotlib.axes._subplots.AxesSubplot object at 0x7f3652535590>]],\n",
              "      dtype=object)"
            ]
          },
          "metadata": {
            "tags": []
          },
          "execution_count": 113
        },
        {
          "output_type": "display_data",
          "data": {
            "image/png": "[encoded data removed]",
            "text/plain": [
              "<Figure size 432x288 with 1 Axes>"
            ]
          },
          "metadata": {
            "tags": [],
            "needs_background": "light"
          }
        }
      ]
    },
    {
      "cell_type": "code",
      "metadata": {
        "id": "-ItKxvlnDewZ"
      },
      "source": [
        "result = pd.DataFrame(model.predict_proba(submit_pool))#.round(4)#.to_csv(\"test_inner.csv.gz\",compression='gzip',index=False,header=False)\n"
      ],
      "execution_count": 114,
      "outputs": []
    },
    {
      "cell_type": "code",
      "metadata": {
        "colab": {
          "base_uri": "https://localhost:8080/"
        },
        "id": "6TbL23zAFT2M",
        "outputId": "d186a85f-0709-4a25-c7f3-eb6290a89354"
      },
      "source": [
        "result.shape"
      ],
      "execution_count": 115,
      "outputs": [
        {
          "output_type": "execute_result",
          "data": {
            "text/plain": [
              "(551472, 30)"
            ]
          },
          "metadata": {
            "tags": []
          },
          "execution_count": 115
        }
      ]
    },
    {
      "cell_type": "code",
      "metadata": {
        "id": "86ReFWUsDt0B"
      },
      "source": [
        "result.loc[:,:29].round(4).to_csv(\"drive/MyDrive/MeLi-2021/results/challenger.csv.gz\",compression='gzip',index=False,header=False)\n"
      ],
      "execution_count": 116,
      "outputs": []
    },
    {
      "cell_type": "code",
      "metadata": {
        "id": "BhgL54ZS2sv1"
      },
      "source": [
        "result = pd.read_csv(\"drive/MyDrive/MeLi-2021/results/challenger.csv.gz\",header=None)\n",
        "winner = pd.read_csv(\"drive/MyDrive/MeLi-2021/results/test_inner (16).csv.gz\",header=None)"
      ],
      "execution_count": 117,
      "outputs": []
    },
    {
      "cell_type": "code",
      "metadata": {
        "colab": {
          "base_uri": "https://localhost:8080/"
        },
        "id": "NA-c3wKopKbA",
        "outputId": "6a8bfaa1-458a-4b48-8aca-8dadfa648303"
      },
      "source": [
        "result.idxmax(axis=1).describe()"
      ],
      "execution_count": 118,
      "outputs": [
        {
          "output_type": "execute_result",
          "data": {
            "text/plain": [
              "count    551472.000000\n",
              "mean         11.886779\n",
              "std          10.450049\n",
              "min           0.000000\n",
              "25%           2.000000\n",
              "50%           9.000000\n",
              "75%          21.000000\n",
              "max          29.000000\n",
              "dtype: float64"
            ]
          },
          "metadata": {
            "tags": []
          },
          "execution_count": 118
        }
      ]
    },
    {
      "cell_type": "code",
      "metadata": {
        "colab": {
          "base_uri": "https://localhost:8080/"
        },
        "id": "cOygfQkrqNsG",
        "outputId": "0d01b85e-4821-4b23-8ef9-617e83cdf56a"
      },
      "source": [
        "winner.idxmax(axis=1).describe()"
      ],
      "execution_count": 119,
      "outputs": [
        {
          "output_type": "execute_result",
          "data": {
            "text/plain": [
              "count    551472.000000\n",
              "mean         19.563399\n",
              "std          12.809139\n",
              "min           0.000000\n",
              "25%           3.000000\n",
              "50%          29.000000\n",
              "75%          29.000000\n",
              "max          29.000000\n",
              "dtype: float64"
            ]
          },
          "metadata": {
            "tags": []
          },
          "execution_count": 119
        }
      ]
    },
    {
      "cell_type": "code",
      "metadata": {
        "colab": {
          "base_uri": "https://localhost:8080/",
          "height": 282
        },
        "id": "t3s1hEKCqO7p",
        "outputId": "53f34896-d3f4-4525-8ed8-3b2185dba490"
      },
      "source": [
        "result.idxmax(axis=1).hist()\n",
        "winner.idxmax(axis=1).hist(alpha=0.5)"
      ],
      "execution_count": 120,
      "outputs": [
        {
          "output_type": "execute_result",
          "data": {
            "text/plain": [
              "<matplotlib.axes._subplots.AxesSubplot at 0x7f363d260710>"
            ]
          },
          "metadata": {
            "tags": []
          },
          "execution_count": 120
        },
        {
          "output_type": "display_data",
          "data": {
            "image/png": "[encoded data removed]",
            "text/plain": [
              "<Figure size 432x288 with 1 Axes>"
            ]
          },
          "metadata": {
            "tags": [],
            "needs_background": "light"
          }
        }
      ]
    },
    {
      "cell_type": "code",
      "metadata": {
        "colab": {
          "base_uri": "https://localhost:8080/"
        },
        "id": "fs4KrvrMq2ur",
        "outputId": "68fb2631-6378-4ba3-ba15-087616b76d87"
      },
      "source": [
        "np.corrcoef(result.idxmax(axis=1),winner.idxmax(axis=1))"
      ],
      "execution_count": 121,
      "outputs": [
        {
          "output_type": "execute_result",
          "data": {
            "text/plain": [
              "array([[1.        , 0.44831588],\n",
              "       [0.44831588, 1.        ]])"
            ]
          },
          "metadata": {
            "tags": []
          },
          "execution_count": 121
        }
      ]
    },
    {
      "cell_type": "code",
      "metadata": {
        "id": "WXKAr_XNhvEk"
      },
      "source": [
        ""
      ],
      "execution_count": 213,
      "outputs": []
    }
  ]
}
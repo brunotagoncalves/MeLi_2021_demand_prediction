{
  "nbformat": 4,
  "nbformat_minor": 0,
  "metadata": {
    "colab": {
      "name": "meli_EDA_2nd_sub.ipynb",
      "provenance": [],
      "mount_file_id": "https://github.com/brunotagoncalves/MeLi_2021_demand_prediction/blob/main/meli_EDA_4th_sub.ipynb",
      "authorship_tag": "ABX9TyNw7RHmmw/1ZPH+K5catSiX",
      "include_colab_link": true
    },
    "kernelspec": {
      "name": "python3",
      "display_name": "Python 3"
    },
    "language_info": {
      "name": "python"
    },
    "accelerator": "GPU"
  },
  "cells": [
    {
      "cell_type": "markdown",
      "metadata": {
        "id": "view-in-github",
        "colab_type": "text"
      },
      "source": [
        "<a href=\"https://colab.research.google.com/github/brunotagoncalves/MeLi_2021_demand_prediction/blob/main/meli_EDA_5th_sub.ipynb\" target=\"_parent\"><img src=\"https://colab.research.google.com/assets/colab-badge.svg\" alt=\"Open In Colab\"/></a>"
      ]
    },
    {
      "cell_type": "markdown",
      "metadata": {
        "id": "-ZbsoPU-AJ4N"
      },
      "source": [
        "# Read Data "
      ]
    },
    {
      "cell_type": "code",
      "metadata": {
        "id": "xPnEDAXf5UJt",
        "outputId": "8ea97020-bab0-4e26-9a50-367cde8095ef",
        "colab": {
          "base_uri": "https://localhost:8080/"
        }
      },
      "source": [
        "!pip install catboost"
      ],
      "execution_count": 5,
      "outputs": [
        {
          "output_type": "stream",
          "text": [
            "Collecting catboost\n",
            "  Downloading catboost-0.26-cp37-none-manylinux1_x86_64.whl (69.2 MB)\n",
            "\u001b[K     |████████████████████████████████| 69.2 MB 5.6 kB/s \n",
            "\u001b[?25hRequirement already satisfied: plotly in /usr/local/lib/python3.7/dist-packages (from catboost) (4.4.1)\n",
            "Requirement already satisfied: matplotlib in /usr/local/lib/python3.7/dist-packages (from catboost) (3.2.2)\n",
            "Requirement already satisfied: six in /usr/local/lib/python3.7/dist-packages (from catboost) (1.15.0)\n",
            "Requirement already satisfied: numpy>=1.16.0 in /usr/local/lib/python3.7/dist-packages (from catboost) (1.19.5)\n",
            "Requirement already satisfied: pandas>=0.24.0 in /usr/local/lib/python3.7/dist-packages (from catboost) (1.1.5)\n",
            "Requirement already satisfied: scipy in /usr/local/lib/python3.7/dist-packages (from catboost) (1.4.1)\n",
            "Requirement already satisfied: graphviz in /usr/local/lib/python3.7/dist-packages (from catboost) (0.10.1)\n",
            "Requirement already satisfied: pytz>=2017.2 in /usr/local/lib/python3.7/dist-packages (from pandas>=0.24.0->catboost) (2018.9)\n",
            "Requirement already satisfied: python-dateutil>=2.7.3 in /usr/local/lib/python3.7/dist-packages (from pandas>=0.24.0->catboost) (2.8.1)\n",
            "Requirement already satisfied: pyparsing!=2.0.4,!=2.1.2,!=2.1.6,>=2.0.1 in /usr/local/lib/python3.7/dist-packages (from matplotlib->catboost) (2.4.7)\n",
            "Requirement already satisfied: cycler>=0.10 in /usr/local/lib/python3.7/dist-packages (from matplotlib->catboost) (0.10.0)\n",
            "Requirement already satisfied: kiwisolver>=1.0.1 in /usr/local/lib/python3.7/dist-packages (from matplotlib->catboost) (1.3.1)\n",
            "Requirement already satisfied: retrying>=1.3.3 in /usr/local/lib/python3.7/dist-packages (from plotly->catboost) (1.3.3)\n",
            "Installing collected packages: catboost\n",
            "Successfully installed catboost-0.26\n"
          ],
          "name": "stdout"
        }
      ]
    },
    {
      "cell_type": "code",
      "metadata": {
        "id": "37hIzI0UANWB"
      },
      "source": [
        "!wget https://meli-data-challenge.s3.amazonaws.com/2021/test_data.csv -P drive/MyDrive/MeLi-2021/row/\n",
        "!wget https://meli-data-challenge.s3.amazonaws.com/2021/train_data.parquet -P drive/MyDrive/MeLi-2021/row/\n",
        "!wget https://meli-data-challenge.s3.amazonaws.com/2021/items_static_metadata_full.jl -P drive/MyDrive/MeLi-2021/row/\n",
        "!wget https://meli-data-challenge.s3.amazonaws.com/2021/sample_submission.csv.gz -P drive/MyDrive/MeLi-2021/row/"
      ],
      "execution_count": null,
      "outputs": []
    },
    {
      "cell_type": "code",
      "metadata": {
        "colab": {
          "base_uri": "https://localhost:8080/"
        },
        "id": "GL6kFn3IcDH1",
        "outputId": "5f0b36ce-07fa-4395-add1-5162b518faea"
      },
      "source": [
        "!apt-get install openjdk-8-jdk-headless -qq > /dev/null\n",
        "#!wget http://www-eu.apache.org/dist/spark/spark-2.4.8/spark-2.4.8-bin-hadoop2.7.tgz \n",
        "!wget -P spark_tgz/ http://www-eu.apache.org/dist/spark/spark-2.4.8/spark-2.4.8-bin-hadoop2.7.tgz"
      ],
      "execution_count": 6,
      "outputs": [
        {
          "output_type": "stream",
          "text": [
            "--2021-07-25 02:38:39--  http://www-eu.apache.org/dist/spark/spark-2.4.8/spark-2.4.8-bin-hadoop2.7.tgz\n",
            "Resolving www-eu.apache.org (www-eu.apache.org)... 95.216.26.30, 2a01:4f9:2a:1a61::2\n",
            "Connecting to www-eu.apache.org (www-eu.apache.org)|95.216.26.30|:80... connected.\n",
            "HTTP request sent, awaiting response... 302 Found\n",
            "Location: https://downloads.apache.org/spark/spark-2.4.8/spark-2.4.8-bin-hadoop2.7.tgz [following]\n",
            "--2021-07-25 02:38:39--  https://downloads.apache.org/spark/spark-2.4.8/spark-2.4.8-bin-hadoop2.7.tgz\n",
            "Resolving downloads.apache.org (downloads.apache.org)... 135.181.209.10, 88.99.95.219, 135.181.214.104, ...\n",
            "Connecting to downloads.apache.org (downloads.apache.org)|135.181.209.10|:443... connected.\n",
            "HTTP request sent, awaiting response... 200 OK\n",
            "Length: 235899716 (225M) [application/x-gzip]\n",
            "Saving to: ‘spark_tgz/spark-2.4.8-bin-hadoop2.7.tgz’\n",
            "\n",
            "spark-2.4.8-bin-had 100%[===================>] 224.97M  18.3MB/s    in 13s     \n",
            "\n",
            "2021-07-25 02:38:53 (16.8 MB/s) - ‘spark_tgz/spark-2.4.8-bin-hadoop2.7.tgz’ saved [235899716/235899716]\n",
            "\n"
          ],
          "name": "stdout"
        }
      ]
    },
    {
      "cell_type": "code",
      "metadata": {
        "colab": {
          "base_uri": "https://localhost:8080/"
        },
        "id": "MXldW4KjcF8h",
        "outputId": "43756901-f8d1-48ca-b721-5af0088e2cad"
      },
      "source": [
        "!tar -xf spark_tgz/spark-2.4.8-bin-hadoop2.7.tgz -C spark_tgz/\n",
        "!pip install -q findspark\n",
        "!pip install -q pyspark"
      ],
      "execution_count": 7,
      "outputs": [
        {
          "output_type": "stream",
          "text": [
            "\u001b[K     |████████████████████████████████| 212.4 MB 56 kB/s \n",
            "\u001b[K     |████████████████████████████████| 198 kB 49.2 MB/s \n",
            "\u001b[?25h  Building wheel for pyspark (setup.py) ... \u001b[?25l\u001b[?25hdone\n"
          ],
          "name": "stdout"
        }
      ]
    },
    {
      "cell_type": "code",
      "metadata": {
        "id": "DwlQZAD5cJrK"
      },
      "source": [
        "import os\n",
        "os.environ[\"JAVA_HOME\"] = \"/usr/lib/jvm/java-8-openjdk-amd64\"\n",
        "os.environ[\"SPARK_HOME\"] = \"/content/spark_tgz/spark-2.4.8-bin-hadoop2.7\""
      ],
      "execution_count": 8,
      "outputs": []
    },
    {
      "cell_type": "code",
      "metadata": {
        "id": "XjwlnWfvcNyT"
      },
      "source": [
        "import findspark\n",
        "findspark.init()\n",
        "from pyspark.sql import SparkSession\n",
        "spark = SparkSession.builder.master(\"local[*]\").getOrCreate()\n"
      ],
      "execution_count": 9,
      "outputs": []
    },
    {
      "cell_type": "code",
      "metadata": {
        "id": "dfMcGqorv3l5"
      },
      "source": [
        "import pyspark.sql.functions  as F"
      ],
      "execution_count": 102,
      "outputs": []
    },
    {
      "cell_type": "code",
      "metadata": {
        "id": "NcLjJFcUAVdR"
      },
      "source": [
        "import pandas as pd \n",
        "import numpy as np\n"
      ],
      "execution_count": 10,
      "outputs": []
    },
    {
      "cell_type": "code",
      "metadata": {
        "id": "4nuN_PXPcPcT"
      },
      "source": [
        "df_spark = spark.read.format('parquet').load(\"drive/MyDrive/MeLi-2021/row/train_data.parquet\")"
      ],
      "execution_count": 7,
      "outputs": []
    },
    {
      "cell_type": "code",
      "metadata": {
        "colab": {
          "base_uri": "https://localhost:8080/"
        },
        "id": "f3Kkho_vcdt-",
        "outputId": "924ae206-8acb-42b7-b10a-3ca15d705907"
      },
      "source": [
        "df_spark.count()"
      ],
      "execution_count": 8,
      "outputs": [
        {
          "output_type": "execute_result",
          "data": {
            "text/plain": [
              "37660279"
            ]
          },
          "metadata": {
            "tags": []
          },
          "execution_count": 8
        }
      ]
    },
    {
      "cell_type": "code",
      "metadata": {
        "id": "15mQ-Xwwchv7"
      },
      "source": [
        "df_spark.createOrReplaceTempView('df')"
      ],
      "execution_count": 9,
      "outputs": []
    },
    {
      "cell_type": "code",
      "metadata": {
        "id": "6ff7dxebga47"
      },
      "source": [
        "spark.sql(\"\"\"\n",
        "SELECT df.*\n",
        "  ,minutes_active - lag(minutes_active,1) over (partition by sku order by date asc) diff_minutes_active\n",
        "  ,(CASE WHEN minutes_active - lag(minutes_active,1) over (partition by sku order by date asc) < 0 THEN 'Ruptura'END) Ruptura\n",
        "  ,(CASE WHEN minutes_active - lag(minutes_active,1) over (partition by sku order by date asc) > 0 THEN 'Estoque'END) Estoque\n",
        "  \n",
        "FROM df\n",
        "--where sku = 645793\n",
        "--order by sku, date\n",
        "\"\"\").createOrReplaceTempView('df_re')"
      ],
      "execution_count": 10,
      "outputs": []
    },
    {
      "cell_type": "code",
      "metadata": {
        "id": "nHyIniUBglfx"
      },
      "source": [
        "spark.sql(\"\"\"\n",
        "SELECT df_re.*\n",
        "  ,CASE WHEN Ruptura is null and Estoque is null and minutes_active>0 and diff_minutes_active is null then 'Estoque'\n",
        "        --WHEN Estoque is not null then 'Estoque'\n",
        "        WHEN minutes_active = diff_minutes_active\tand Estoque is not null then 'Estoque'\n",
        "        --WHEN Ruptura is not null and Estoque is null then 'Ruptura'\n",
        "        WHEN Ruptura is not null and Estoque is null and minutes_active=0  then 'Ruptura'\n",
        "        END STATUS_RUPTURA\n",
        "FROM df_re\n",
        "--where sku = 645793\n",
        "--order by sku, date\n",
        "\"\"\").createOrReplaceTempView('df_re')#.toPandas()"
      ],
      "execution_count": 11,
      "outputs": []
    },
    {
      "cell_type": "code",
      "metadata": {
        "id": "J7jz7MUM9QCy"
      },
      "source": [
        "spark.sql(\"\"\"\n",
        "SELECT df_re.*\n",
        "  ,COUNT(CASE WHEN STATUS_RUPTURA IS NOT NULL THEN 1 END) over (partition by sku order by date ) ciclo_ruptura\n",
        "FROM df_re\n",
        "--where sku = 645793\n",
        "--order by sku, date\n",
        "\"\"\").createOrReplaceTempView('df_re')#.toPandas()"
      ],
      "execution_count": 12,
      "outputs": []
    },
    {
      "cell_type": "code",
      "metadata": {
        "id": "fS4JxQefo97e"
      },
      "source": [
        "spark.sql(\"\"\"\n",
        "SELECT df_re.*\n",
        "  ,SUM(sold_quantity) over (partition by sku,ciclo_ruptura order by date desc) sum_sold_quantity \n",
        "  ,sum(case when sold_quantity >0 then current_price*sold_quantity end) over (partition by sku,ciclo_ruptura order by date desc)/SUM(sold_quantity) over (partition by sku,ciclo_ruptura order by date desc) avg_current_price \n",
        "  ,SUM(minutes_active) over (partition by sku,ciclo_ruptura order by date desc)/60/24 days_active_nround\n",
        "  ,round(SUM(minutes_active) over (partition by sku,ciclo_ruptura order by date desc) /60/24 + 0.5,0) days_active \n",
        "FROM df_re\n",
        "--where sku = 645793\n",
        "--order by sku, date\n",
        "\"\"\").createOrReplaceTempView('df_re')#.toPandas()"
      ],
      "execution_count": 13,
      "outputs": []
    },
    {
      "cell_type": "code",
      "metadata": {
        "id": "Bro3AOIrkDQc"
      },
      "source": [
        "spark.sql(\"\"\"\n",
        "SELECT df_re.*  \n",
        "  ,min(days_active_nround) over (partition by sku,ciclo_ruptura order by date desc)>0 FLG_ruptura \n",
        "FROM df_re\n",
        "--where sku = 0\n",
        "--order by sku, date\n",
        "\"\"\").filter('FLG_ruptura=True').drop(*['sold_quantity','minutes_active','diff_minutes_active',\t'Ruptura',\t'Estoque',\t'STATUS_RUPTURA',\t'ciclo_ruptura']).createOrReplaceTempView('df_final')#.toPandas()"
      ],
      "execution_count": 14,
      "outputs": []
    },
    {
      "cell_type": "code",
      "metadata": {
        "id": "OOVZxzIfr9D6",
        "colab": {
          "base_uri": "https://localhost:8080/"
        },
        "outputId": "b73fb86e-37ca-469c-8be9-aca3a1c3192f"
      },
      "source": [
        "%%time\n",
        "spark.sql(\"\"\"\n",
        "SELECT *\n",
        "FROM df_final\n",
        "\"\"\").repartition(1).write.mode('overwrite').format('parquet').save('drive/MyDrive/MeLi-2021/refine/df_final/')"
      ],
      "execution_count": 15,
      "outputs": [
        {
          "output_type": "stream",
          "text": [
            "CPU times: user 1.32 s, sys: 152 ms, total: 1.47 s\n",
            "Wall time: 3min 54s\n"
          ],
          "name": "stdout"
        }
      ]
    },
    {
      "cell_type": "code",
      "metadata": {
        "id": "lWELtLngxNJJ"
      },
      "source": [
        "df = spark.read.format('parquet').load('drive/MyDrive/MeLi-2021/refine/df_final/')"
      ],
      "execution_count": 16,
      "outputs": []
    },
    {
      "cell_type": "code",
      "metadata": {
        "colab": {
          "base_uri": "https://localhost:8080/"
        },
        "id": "zre2tnJkzomq",
        "outputId": "5e338963-2357-47d2-df63-08e010d9a837"
      },
      "source": [
        "df.count()"
      ],
      "execution_count": 17,
      "outputs": [
        {
          "output_type": "execute_result",
          "data": {
            "text/plain": [
              "28096162"
            ]
          },
          "metadata": {
            "tags": []
          },
          "execution_count": 17
        }
      ]
    },
    {
      "cell_type": "code",
      "metadata": {
        "id": "lA9aFdgdCOdE"
      },
      "source": [
        "spark.sql(\"\"\"\n",
        "SELECT sku\n",
        "  , sum(sold_quantity) total_sold_quantity \n",
        "  , max(sold_quantity) max_sold_quantity \n",
        "  , min(case when sold_quantity>0 then sold_quantity end) min_sold_quantity \n",
        "  , avg(case when sold_quantity>0 then sold_quantity end) avg_sold_quantity \n",
        "  , percentile_approx(case when sold_quantity>0 then sold_quantity end,.5) median_sold_quantity \n",
        "  , percentile_approx(case when sold_quantity>0 then sold_quantity end,.25) qt1_sold_quantity \n",
        "  , percentile_approx(case when sold_quantity>0 then sold_quantity end,.75) qt3_sold_quantity \n",
        "\n",
        "  , sum(current_price*sold_quantity) total_fat \n",
        "  , max(current_price*sold_quantity) max_fat  \n",
        "  , min(case when sold_quantity>0 then current_price*sold_quantity end) min_fat \n",
        "  , avg(case when sold_quantity>0 then current_price*sold_quantity end) avg_fat\n",
        "  , percentile_approx(case when sold_quantity>0 then current_price*sold_quantity end,.5) median_fat\n",
        "  , percentile_approx(case when sold_quantity>0 then current_price*sold_quantity end,.25) qt1_fat\n",
        "  , percentile_approx(case when sold_quantity>0 then current_price*sold_quantity end,.75) qt3_fat\n",
        "\n",
        "  , sum(case when sold_quantity>0 then current_price*sold_quantity end)/sum(sold_quantity) avg_price\n",
        "  , percentile_approx(case when sold_quantity>0 then current_price*sold_quantity end,.5)/sum(sold_quantity) median_price\n",
        "  , percentile_approx(case when sold_quantity>0 then current_price*sold_quantity end,.25)/sum(sold_quantity) qt1_price\n",
        "  , percentile_approx(case when sold_quantity>0 then current_price*sold_quantity end,.75)/sum(sold_quantity) qt3_price\n",
        "FROM df\n",
        "GROUP BY sku\n",
        "\"\"\").repartition(1).write.mode('overwrite').format('parquet').save('drive/MyDrive/MeLi-2021/refine/agreg/')"
      ],
      "execution_count": 18,
      "outputs": []
    },
    {
      "cell_type": "code",
      "metadata": {
        "id": "8Wldb2kjtiA3"
      },
      "source": [
        "g_df = spark.read.format('parquet').load('drive/MyDrive/MeLi-2021/refine/agreg/')\n",
        "g_df.createOrReplaceTempView('g_df')"
      ],
      "execution_count": 19,
      "outputs": []
    },
    {
      "cell_type": "code",
      "metadata": {
        "id": "mAtN4YIxvIjT"
      },
      "source": [
        "spark.read.format('json').load('drive/MyDrive/MeLi-2021/row/items_static_metadata_full.jl').createOrReplaceTempView('items')"
      ],
      "execution_count": 20,
      "outputs": []
    },
    {
      "cell_type": "code",
      "metadata": {
        "id": "kOMyJpuqtD3K"
      },
      "source": [
        "spark.sql(\"\"\"\n",
        "SELECT df_final.sku ,\n",
        "  date ,\n",
        "  current_price ,\n",
        "  currency ,\n",
        "  listing_type ,\n",
        "  shipping_logistic_type ,\n",
        "  shipping_payment ,\n",
        "  sum_sold_quantity ,\n",
        "  avg_current_price ,\n",
        "  days_active_nround ,\n",
        "  days_active ,\n",
        "  FLG_ruptura ,\n",
        "\n",
        "  total_sold_quantity ,\n",
        "  max_sold_quantity ,\n",
        "  min_sold_quantity ,\n",
        "  avg_sold_quantity ,\n",
        "  median_sold_quantity ,\n",
        "  qt1_sold_quantity ,\n",
        "  qt3_sold_quantity ,\n",
        "  total_fat ,\n",
        "  max_fat ,\n",
        "  min_fat ,\n",
        "  avg_fat ,\n",
        "  median_fat ,\n",
        "  qt1_fat ,\n",
        "  qt3_fat ,\n",
        "  avg_price ,\n",
        "  median_price ,\n",
        "  qt1_price ,\n",
        "  qt3_price ,\n",
        "  item_domain_id ,\n",
        "  item_id ,\n",
        "  item_title ,\n",
        "  product_family_id ,\n",
        "  product_id ,\n",
        "  site_id \n",
        "\n",
        "FROM df_final\n",
        "LEFT JOIN g_df \n",
        "  ON g_df.sku = df_final.sku\n",
        "LEFT JOIN items \n",
        "  ON items.sku = df_final.sku\n",
        "\"\"\").createOrReplaceTempView('df_final_join')"
      ],
      "execution_count": 21,
      "outputs": []
    },
    {
      "cell_type": "code",
      "metadata": {
        "id": "zQeusiqOwB9p"
      },
      "source": [
        "spark.read.option(\"header\",True).format('csv').load('drive/MyDrive/MeLi-2021/row/test_data.csv').createOrReplaceTempView('test_data')\n"
      ],
      "execution_count": 22,
      "outputs": []
    },
    {
      "cell_type": "code",
      "metadata": {
        "id": "EZ8kW-kQu3mX"
      },
      "source": [
        "spark.sql(\"\"\"\n",
        "SELECT test_data.sku ,\n",
        "  target_stock ,\n",
        "  total_sold_quantity ,\n",
        "  max_sold_quantity ,\n",
        "  min_sold_quantity ,\n",
        "  avg_sold_quantity ,\n",
        "  median_sold_quantity ,\n",
        "  qt1_sold_quantity ,\n",
        "  qt3_sold_quantity ,\n",
        "  total_fat ,\n",
        "  max_fat ,\n",
        "  min_fat ,\n",
        "  avg_fat ,\n",
        "  median_fat ,\n",
        "  qt1_fat ,\n",
        "  qt3_fat ,\n",
        "  avg_price ,\n",
        "  median_price ,\n",
        "  qt1_price ,\n",
        "  qt3_price ,\n",
        "  item_domain_id ,\n",
        "  item_id ,\n",
        "  item_title ,\n",
        "  product_family_id ,\n",
        "  product_id ,\n",
        "  site_id \n",
        "FROM test_data\n",
        "LEFT JOIN g_df \n",
        "  ON g_df.sku = test_data.sku\n",
        "LEFT JOIN items \n",
        "  ON items.sku = test_data.sku\n",
        "\"\"\").createOrReplaceTempView('test_data_join')"
      ],
      "execution_count": 23,
      "outputs": []
    },
    {
      "cell_type": "code",
      "metadata": {
        "id": "9SuKoRegMvoJ",
        "colab": {
          "base_uri": "https://localhost:8080/"
        },
        "outputId": "bc94cfd6-86b1-45cf-c739-eaffc18395e8"
      },
      "source": [
        "%%time\n",
        "spark.sql(\"\"\"\n",
        "SELECT *\n",
        "FROM df_final_join\n",
        "\"\"\").repartition(1).write.mode('overwrite').format('parquet').save('drive/MyDrive/MeLi-2021/final/df_final_join/')"
      ],
      "execution_count": 24,
      "outputs": [
        {
          "output_type": "stream",
          "text": [
            "CPU times: user 2.48 s, sys: 287 ms, total: 2.77 s\n",
            "Wall time: 7min 13s\n"
          ],
          "name": "stdout"
        }
      ]
    },
    {
      "cell_type": "code",
      "metadata": {
        "id": "uiga4fDSxt5Y",
        "colab": {
          "base_uri": "https://localhost:8080/"
        },
        "outputId": "cfcfff8c-2654-47a7-e749-1bc656f0f2a5"
      },
      "source": [
        "%%time\n",
        "spark.sql(\"\"\"\n",
        "SELECT *\n",
        "FROM test_data_join\n",
        "\"\"\").repartition(1).write.mode('overwrite').format('parquet').save('drive/MyDrive/MeLi-2021/final/test_data_join/')"
      ],
      "execution_count": 25,
      "outputs": [
        {
          "output_type": "stream",
          "text": [
            "CPU times: user 117 ms, sys: 10 ms, total: 127 ms\n",
            "Wall time: 21.3 s\n"
          ],
          "name": "stdout"
        }
      ]
    },
    {
      "cell_type": "code",
      "metadata": {
        "id": "ulSN-TTW24AG"
      },
      "source": [
        "df_final = spark.read.format('parquet').load('drive/MyDrive/MeLi-2021/final/df_final_join/')\n",
        "submit_data = spark.read.format('parquet').load('drive/MyDrive/MeLi-2021/final/test_data_join/')"
      ],
      "execution_count": 157,
      "outputs": []
    },
    {
      "cell_type": "code",
      "metadata": {
        "id": "a7lVKdAXR0Oy"
      },
      "source": [
        "submit_data = submit_data.withColumn('sum_sold_quantity',submit_data.target_stock)\n",
        "#df_final = df_final.withColumn('target_stock',df_final.sum_sold_quantity)"
      ],
      "execution_count": 158,
      "outputs": []
    },
    {
      "cell_type": "code",
      "metadata": {
        "id": "DE85O6zyUvub"
      },
      "source": [
        "df_final = df_final.filter(\"sum_sold_quantity>0\") # estou na dúvida se deveriamos considerar como days como 30 nesse caso \n",
        "df_final = df_final.join(submit_data.select('sku','target_stock'),on='sku',how='inner')"
      ],
      "execution_count": 159,
      "outputs": []
    },
    {
      "cell_type": "code",
      "metadata": {
        "id": "RntFdcLBvrOg"
      },
      "source": [
        "df_final = df_final.filter(F.expr(\"(sum_sold_quantity/target_stock-1)<=0.5\"))\n",
        "#df_final = df_final.withColumn('target_stock',df_final.sum_sold_quantity)"
      ],
      "execution_count": 160,
      "outputs": []
    },
    {
      "cell_type": "code",
      "metadata": {
        "id": "ePY34cwsXusx",
        "outputId": "617dbb5f-ef54-4ed8-af88-91d2d28702f6",
        "colab": {
          "base_uri": "https://localhost:8080/"
        }
      },
      "source": [
        "df_final.count()"
      ],
      "execution_count": 161,
      "outputs": [
        {
          "output_type": "execute_result",
          "data": {
            "text/plain": [
              "10840251"
            ]
          },
          "metadata": {
            "tags": []
          },
          "execution_count": 161
        }
      ]
    },
    {
      "cell_type": "code",
      "metadata": {
        "id": "dn6_eNucyrXg",
        "outputId": "410a426b-8bf8-4da2-d5cb-ed20a447b306",
        "colab": {
          "base_uri": "https://localhost:8080/",
          "height": 206
        }
      },
      "source": [
        "df_final.select(F.col('sum_sold_quantity').cast('float')).describe().toPandas()"
      ],
      "execution_count": 162,
      "outputs": [
        {
          "output_type": "execute_result",
          "data": {
            "text/html": [
              "<div>\n",
              "<style scoped>\n",
              "    .dataframe tbody tr th:only-of-type {\n",
              "        vertical-align: middle;\n",
              "    }\n",
              "\n",
              "    .dataframe tbody tr th {\n",
              "        vertical-align: top;\n",
              "    }\n",
              "\n",
              "    .dataframe thead th {\n",
              "        text-align: right;\n",
              "    }\n",
              "</style>\n",
              "<table border=\"1\" class=\"dataframe\">\n",
              "  <thead>\n",
              "    <tr style=\"text-align: right;\">\n",
              "      <th></th>\n",
              "      <th>summary</th>\n",
              "      <th>sum_sold_quantity</th>\n",
              "    </tr>\n",
              "  </thead>\n",
              "  <tbody>\n",
              "    <tr>\n",
              "      <th>0</th>\n",
              "      <td>count</td>\n",
              "      <td>10840251</td>\n",
              "    </tr>\n",
              "    <tr>\n",
              "      <th>1</th>\n",
              "      <td>mean</td>\n",
              "      <td>15.315803665431732</td>\n",
              "    </tr>\n",
              "    <tr>\n",
              "      <th>2</th>\n",
              "      <td>stddev</td>\n",
              "      <td>110.03755871602117</td>\n",
              "    </tr>\n",
              "    <tr>\n",
              "      <th>3</th>\n",
              "      <td>min</td>\n",
              "      <td>1.0</td>\n",
              "    </tr>\n",
              "    <tr>\n",
              "      <th>4</th>\n",
              "      <td>max</td>\n",
              "      <td>44456.0</td>\n",
              "    </tr>\n",
              "  </tbody>\n",
              "</table>\n",
              "</div>"
            ],
            "text/plain": [
              "  summary   sum_sold_quantity\n",
              "0   count            10840251\n",
              "1    mean  15.315803665431732\n",
              "2  stddev  110.03755871602117\n",
              "3     min                 1.0\n",
              "4     max             44456.0"
            ]
          },
          "metadata": {
            "tags": []
          },
          "execution_count": 162
        }
      ]
    },
    {
      "cell_type": "code",
      "metadata": {
        "id": "BCg8vrCqyb6S",
        "outputId": "76d03048-031b-455e-9e5b-c31117088e4a",
        "colab": {
          "base_uri": "https://localhost:8080/",
          "height": 206
        }
      },
      "source": [
        "submit_data.select(F.col('target_stock').cast('float')).describe().toPandas()"
      ],
      "execution_count": 163,
      "outputs": [
        {
          "output_type": "execute_result",
          "data": {
            "text/html": [
              "<div>\n",
              "<style scoped>\n",
              "    .dataframe tbody tr th:only-of-type {\n",
              "        vertical-align: middle;\n",
              "    }\n",
              "\n",
              "    .dataframe tbody tr th {\n",
              "        vertical-align: top;\n",
              "    }\n",
              "\n",
              "    .dataframe thead th {\n",
              "        text-align: right;\n",
              "    }\n",
              "</style>\n",
              "<table border=\"1\" class=\"dataframe\">\n",
              "  <thead>\n",
              "    <tr style=\"text-align: right;\">\n",
              "      <th></th>\n",
              "      <th>summary</th>\n",
              "      <th>target_stock</th>\n",
              "    </tr>\n",
              "  </thead>\n",
              "  <tbody>\n",
              "    <tr>\n",
              "      <th>0</th>\n",
              "      <td>count</td>\n",
              "      <td>551472</td>\n",
              "    </tr>\n",
              "    <tr>\n",
              "      <th>1</th>\n",
              "      <td>mean</td>\n",
              "      <td>18.06947224881771</td>\n",
              "    </tr>\n",
              "    <tr>\n",
              "      <th>2</th>\n",
              "      <td>stddev</td>\n",
              "      <td>122.71115112132418</td>\n",
              "    </tr>\n",
              "    <tr>\n",
              "      <th>3</th>\n",
              "      <td>min</td>\n",
              "      <td>1.0</td>\n",
              "    </tr>\n",
              "    <tr>\n",
              "      <th>4</th>\n",
              "      <td>max</td>\n",
              "      <td>32710.0</td>\n",
              "    </tr>\n",
              "  </tbody>\n",
              "</table>\n",
              "</div>"
            ],
            "text/plain": [
              "  summary        target_stock\n",
              "0   count              551472\n",
              "1    mean   18.06947224881771\n",
              "2  stddev  122.71115112132418\n",
              "3     min                 1.0\n",
              "4     max             32710.0"
            ]
          },
          "metadata": {
            "tags": []
          },
          "execution_count": 163
        }
      ]
    },
    {
      "cell_type": "code",
      "metadata": {
        "id": "pDgA5aQaW-2V"
      },
      "source": [
        "df_train, df_test = df_final.sample(fraction=300000/df_final.count(),seed=123).randomSplit([2.,1.],seed=123)"
      ],
      "execution_count": 164,
      "outputs": []
    },
    {
      "cell_type": "code",
      "metadata": {
        "id": "-b0XxqtOzUT_"
      },
      "source": [
        "from catboost import Pool, CatBoostClassifier"
      ],
      "execution_count": 165,
      "outputs": []
    },
    {
      "cell_type": "code",
      "metadata": {
        "id": "PczvuvFFVBiw"
      },
      "source": [
        "vars = ['sku',\n",
        " 'sum_sold_quantity','avg_price','total_sold_quantity','max_sold_quantity'\n",
        " ]\n",
        "cat_vars =  ['sku'\n",
        " ]"
      ],
      "execution_count": 166,
      "outputs": []
    },
    {
      "cell_type": "code",
      "metadata": {
        "id": "m3WTgheKda5i"
      },
      "source": [
        "train_data = df_train.select(*vars+['days_active']).toPandas()\n",
        "test_data = df_test.select(*vars+['days_active']).toPandas()\n",
        "train_label = train_data.days_active\n",
        "test_label = test_data.days_active"
      ],
      "execution_count": 167,
      "outputs": []
    },
    {
      "cell_type": "code",
      "metadata": {
        "colab": {
          "base_uri": "https://localhost:8080/"
        },
        "id": "EoM4ZSXgD569",
        "outputId": "78f21013-817c-4015-a6cd-8f5f85ac2dc7"
      },
      "source": [
        "# initialize data\n",
        "#train_data = g_df.loc[:,vars].sample(frac=.01,random_state=123)\n",
        "#train_label = g_df.loc[:,'days_active'].apply(lambda x : x if x<30. else 30.).round().astype(int).sample(frac=.01,random_state=123)\n",
        "#test_data = g_df.loc[~g_df.sku.isnull(),'current_price_count':'shipping_payment_shipping_payment']#.sample(frac=.1,random_state=1234)\n",
        "# initialize Pool\n",
        "train_pool = Pool(train_data.loc[:,vars], \n",
        "                  train_label, \n",
        "                  cat_features=cat_vars)\n",
        "test_pool = Pool(test_data.loc[:,vars], \n",
        "                  test_label, \n",
        "                  cat_features=cat_vars)\n",
        "\n",
        "# specify the training parameters \n",
        "model = CatBoostClassifier(task_type='GPU',metric_period=100,learning_rate=0.05)\n",
        "#train the model\n",
        "model.fit(train_pool,eval_set=test_pool)\n",
        "# make the prediction using the resulting model"
      ],
      "execution_count": 168,
      "outputs": [
        {
          "output_type": "stream",
          "text": [
            "0:\tlearn: 4.0345364\ttest: 4.0484276\tbest: 4.0484276 (0)\ttotal: 303ms\tremaining: 5m 2s\n",
            "100:\tlearn: 3.3558862\ttest: 3.3722550\tbest: 3.3722550 (100)\ttotal: 24.6s\tremaining: 3m 39s\n",
            "200:\tlearn: 3.3119103\ttest: 3.3436723\tbest: 3.3436723 (200)\ttotal: 48.9s\tremaining: 3m 14s\n",
            "300:\tlearn: 3.2874637\ttest: 3.3335771\tbest: 3.3335771 (300)\ttotal: 1m 13s\tremaining: 2m 50s\n",
            "400:\tlearn: 3.2704426\ttest: 3.3297027\tbest: 3.3297027 (400)\ttotal: 1m 38s\tremaining: 2m 26s\n",
            "500:\tlearn: 3.2548943\ttest: 3.3270325\tbest: 3.3270325 (500)\ttotal: 2m 3s\tremaining: 2m 2s\n",
            "600:\tlearn: 3.2406503\ttest: 3.3254220\tbest: 3.3254220 (600)\ttotal: 2m 28s\tremaining: 1m 38s\n",
            "700:\tlearn: 3.2289827\ttest: 3.3248861\tbest: 3.3248861 (700)\ttotal: 2m 53s\tremaining: 1m 14s\n",
            "800:\tlearn: 3.2161283\ttest: 3.3249462\tbest: 3.3248861 (700)\ttotal: 3m 19s\tremaining: 49.5s\n",
            "900:\tlearn: 3.2045633\ttest: 3.3254357\tbest: 3.3248861 (700)\ttotal: 3m 44s\tremaining: 24.6s\n",
            "999:\tlearn: 3.1932786\ttest: 3.3257245\tbest: 3.3248861 (700)\ttotal: 4m 9s\tremaining: 0us\n",
            "bestTest = 3.324886053\n",
            "bestIteration = 700\n",
            "Shrink model to first 701 iterations.\n"
          ],
          "name": "stdout"
        },
        {
          "output_type": "execute_result",
          "data": {
            "text/plain": [
              "<catboost.core.CatBoostClassifier at 0x7f7bbfa85390>"
            ]
          },
          "metadata": {
            "tags": []
          },
          "execution_count": 168
        }
      ]
    },
    {
      "cell_type": "code",
      "metadata": {
        "id": "rBNrJ-QDo5OW",
        "outputId": "93adc122-b886-4472-c563-0e34a8bc3fbc",
        "colab": {
          "base_uri": "https://localhost:8080/"
        }
      },
      "source": [
        "pd.Series(model.feature_importances_,model.feature_names_).sort_values()"
      ],
      "execution_count": 169,
      "outputs": [
        {
          "output_type": "execute_result",
          "data": {
            "text/plain": [
              "avg_price               6.340867\n",
              "sku                     9.176952\n",
              "max_sold_quantity      12.440219\n",
              "total_sold_quantity    29.144596\n",
              "sum_sold_quantity      42.897366\n",
              "dtype: float64"
            ]
          },
          "metadata": {
            "tags": []
          },
          "execution_count": 169
        }
      ]
    },
    {
      "cell_type": "code",
      "metadata": {
        "id": "gKxfo2DXo1nj",
        "outputId": "bb9b2a9e-911e-47fd-dd4f-d44feb6c7db6",
        "colab": {
          "base_uri": "https://localhost:8080/"
        }
      },
      "source": [
        "model.score(test_pool),model.score(train_pool)"
      ],
      "execution_count": 170,
      "outputs": [
        {
          "output_type": "execute_result",
          "data": {
            "text/plain": [
              "(0.08060377661067233, 0.10321321321321321)"
            ]
          },
          "metadata": {
            "tags": []
          },
          "execution_count": 170
        }
      ]
    },
    {
      "cell_type": "code",
      "metadata": {
        "id": "xOkK0kqNo4db",
        "outputId": "e95957c3-b334-4756-e5c9-a56020b14eb1",
        "colab": {
          "base_uri": "https://localhost:8080/"
        }
      },
      "source": [
        "model.score(test_pool),model.score(train_pool)"
      ],
      "execution_count": 133,
      "outputs": [
        {
          "output_type": "execute_result",
          "data": {
            "text/plain": [
              "(0.058695020393438026, 0.09590788999639727)"
            ]
          },
          "metadata": {
            "tags": []
          },
          "execution_count": 133
        }
      ]
    },
    {
      "cell_type": "code",
      "metadata": {
        "colab": {
          "base_uri": "https://localhost:8080/"
        },
        "id": "ltOIjuO-EJ6c",
        "outputId": "9e043378-7995-4bfd-dee2-7491dd6e7e11"
      },
      "source": [
        "model.score(test_pool),model.score(train_pool)"
      ],
      "execution_count": 67,
      "outputs": [
        {
          "output_type": "execute_result",
          "data": {
            "text/plain": [
              "(0.06427292879242286, 0.09400369222030248)"
            ]
          },
          "metadata": {
            "tags": []
          },
          "execution_count": 67
        }
      ]
    },
    {
      "cell_type": "code",
      "metadata": {
        "id": "nEJhAlNMkmyh",
        "outputId": "486ae101-460a-473c-9c4a-b3af309ac9a2",
        "colab": {
          "base_uri": "https://localhost:8080/",
          "height": 282
        }
      },
      "source": [
        "list_pd = [pd.DataFrame.from_dict(model.evals_result_[i]) for i in model.evals_result_]\n",
        "\n",
        "list_pd = pd.concat(list_pd,axis=1)\n",
        "list_pd.columns=[i for i in model.evals_result_]\n",
        "list_pd.plot()\n"
      ],
      "execution_count": 171,
      "outputs": [
        {
          "output_type": "execute_result",
          "data": {
            "text/plain": [
              "<matplotlib.axes._subplots.AxesSubplot at 0x7f7bc82bdc90>"
            ]
          },
          "metadata": {
            "tags": []
          },
          "execution_count": 171
        },
        {
          "output_type": "display_data",
          "data": {
            "image/png": "[encoded data removed]",
            "text/plain": [
              "<Figure size 432x288 with 1 Axes>"
            ]
          },
          "metadata": {
            "tags": [],
            "needs_background": "light"
          }
        }
      ]
    },
    {
      "cell_type": "code",
      "metadata": {
        "id": "XgbeOOMEeFe5"
      },
      "source": [
        "\n",
        "submit_pool = Pool(submit_data.select(*vars).toPandas(),\n",
        "                 cat_features=cat_vars) \n"
      ],
      "execution_count": 172,
      "outputs": []
    },
    {
      "cell_type": "code",
      "metadata": {
        "id": "WK8KYe1846YC",
        "outputId": "ece7c99b-4f8c-432f-fce4-9be197cf1e4c",
        "colab": {
          "base_uri": "https://localhost:8080/",
          "height": 300
        }
      },
      "source": [
        "preds= model.predict(submit_pool)\n",
        "pd.DataFrame(preds).describe()#.hist()"
      ],
      "execution_count": 173,
      "outputs": [
        {
          "output_type": "execute_result",
          "data": {
            "text/html": [
              "<div>\n",
              "<style scoped>\n",
              "    .dataframe tbody tr th:only-of-type {\n",
              "        vertical-align: middle;\n",
              "    }\n",
              "\n",
              "    .dataframe tbody tr th {\n",
              "        vertical-align: top;\n",
              "    }\n",
              "\n",
              "    .dataframe thead th {\n",
              "        text-align: right;\n",
              "    }\n",
              "</style>\n",
              "<table border=\"1\" class=\"dataframe\">\n",
              "  <thead>\n",
              "    <tr style=\"text-align: right;\">\n",
              "      <th></th>\n",
              "      <th>0</th>\n",
              "    </tr>\n",
              "  </thead>\n",
              "  <tbody>\n",
              "    <tr>\n",
              "      <th>count</th>\n",
              "      <td>551472.000000</td>\n",
              "    </tr>\n",
              "    <tr>\n",
              "      <th>mean</th>\n",
              "      <td>15.800191</td>\n",
              "    </tr>\n",
              "    <tr>\n",
              "      <th>std</th>\n",
              "      <td>18.282859</td>\n",
              "    </tr>\n",
              "    <tr>\n",
              "      <th>min</th>\n",
              "      <td>1.000000</td>\n",
              "    </tr>\n",
              "    <tr>\n",
              "      <th>25%</th>\n",
              "      <td>3.000000</td>\n",
              "    </tr>\n",
              "    <tr>\n",
              "      <th>50%</th>\n",
              "      <td>8.000000</td>\n",
              "    </tr>\n",
              "    <tr>\n",
              "      <th>75%</th>\n",
              "      <td>20.000000</td>\n",
              "    </tr>\n",
              "    <tr>\n",
              "      <th>max</th>\n",
              "      <td>60.000000</td>\n",
              "    </tr>\n",
              "  </tbody>\n",
              "</table>\n",
              "</div>"
            ],
            "text/plain": [
              "                   0\n",
              "count  551472.000000\n",
              "mean       15.800191\n",
              "std        18.282859\n",
              "min         1.000000\n",
              "25%         3.000000\n",
              "50%         8.000000\n",
              "75%        20.000000\n",
              "max        60.000000"
            ]
          },
          "metadata": {
            "tags": []
          },
          "execution_count": 173
        }
      ]
    },
    {
      "cell_type": "code",
      "metadata": {
        "id": "C44mz6xFF01G",
        "outputId": "2eb2af75-6ba8-4dbb-afb4-c113990d30f4",
        "colab": {
          "base_uri": "https://localhost:8080/",
          "height": 316
        }
      },
      "source": [
        "pd.DataFrame(preds).hist()"
      ],
      "execution_count": 175,
      "outputs": [
        {
          "output_type": "execute_result",
          "data": {
            "text/plain": [
              "array([[<matplotlib.axes._subplots.AxesSubplot object at 0x7f7bc51e6ad0>]],\n",
              "      dtype=object)"
            ]
          },
          "metadata": {
            "tags": []
          },
          "execution_count": 175
        },
        {
          "output_type": "display_data",
          "data": {
            "image/png": "[encoded data removed]",
            "text/plain": [
              "<Figure size 432x288 with 1 Axes>"
            ]
          },
          "metadata": {
            "tags": [],
            "needs_background": "light"
          }
        }
      ]
    },
    {
      "cell_type": "code",
      "metadata": {
        "id": "XDZsKkBM_DeR",
        "outputId": "07c3ca34-65d0-4f98-a865-841caf2a1600",
        "colab": {
          "base_uri": "https://localhost:8080/",
          "height": 285
        }
      },
      "source": [
        "pd.DataFrame(preds).apply(lambda x : x[0] if x[0]<30 else 30,axis=1).hist()"
      ],
      "execution_count": 176,
      "outputs": [
        {
          "output_type": "execute_result",
          "data": {
            "text/plain": [
              "<matplotlib.axes._subplots.AxesSubplot at 0x7f7bc32ff750>"
            ]
          },
          "metadata": {
            "tags": []
          },
          "execution_count": 176
        },
        {
          "output_type": "display_data",
          "data": {
            "image/png": "[encoded data removed]",
            "text/plain": [
              "<Figure size 432x288 with 1 Axes>"
            ]
          },
          "metadata": {
            "tags": [],
            "needs_background": "light"
          }
        }
      ]
    },
    {
      "cell_type": "code",
      "metadata": {
        "id": "wJdV89FQ-spU"
      },
      "source": [
        "result = pd.DataFrame(model.predict_proba(submit_pool))#.round(4)#.to_csv(\"test_inner.csv.gz\",compression='gzip',index=False,header=False)"
      ],
      "execution_count": 177,
      "outputs": []
    },
    {
      "cell_type": "code",
      "metadata": {
        "id": "RqxIen69-AuD"
      },
      "source": [
        "result.loc[:,29] = result.loc[:,29:].sum(axis=1)#.apply(lambda x : x if x<1. else 1. )"
      ],
      "execution_count": 178,
      "outputs": []
    },
    {
      "cell_type": "code",
      "metadata": {
        "id": "zYNiCZmctEty",
        "outputId": "65e59f84-e234-42a3-bfad-9187812b9fb3",
        "colab": {
          "base_uri": "https://localhost:8080/"
        }
      },
      "source": [
        "(result.loc[:,:29].round(4)>1).any(axis=1).sum()"
      ],
      "execution_count": 92,
      "outputs": [
        {
          "output_type": "execute_result",
          "data": {
            "text/plain": [
              "0"
            ]
          },
          "metadata": {
            "tags": []
          },
          "execution_count": 92
        }
      ]
    },
    {
      "cell_type": "code",
      "metadata": {
        "id": "WgrVe4Zy-hDX"
      },
      "source": [
        "result.loc[:,:29].round(4).to_csv(\"test_inner.csv.gz\",compression='gzip',index=False,header=False)"
      ],
      "execution_count": 179,
      "outputs": []
    },
    {
      "cell_type": "code",
      "metadata": {
        "id": "BhgL54ZS2sv1"
      },
      "source": [
        ""
      ],
      "execution_count": null,
      "outputs": []
    }
  ]
}
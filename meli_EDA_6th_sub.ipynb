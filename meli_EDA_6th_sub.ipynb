{
  "nbformat": 4,
  "nbformat_minor": 0,
  "metadata": {
    "colab": {
      "name": "meli_EDA_2nd_sub.ipynb",
      "provenance": [],
      "mount_file_id": "https://github.com/brunotagoncalves/MeLi_2021_demand_prediction/blob/main/meli_EDA_4th_sub.ipynb",
      "authorship_tag": "ABX9TyO5HMD7YgdHwNR3vrdAGvGI",
      "include_colab_link": true
    },
    "kernelspec": {
      "name": "python3",
      "display_name": "Python 3"
    },
    "language_info": {
      "name": "python"
    },
    "accelerator": "GPU"
  },
  "cells": [
    {
      "cell_type": "markdown",
      "metadata": {
        "id": "view-in-github",
        "colab_type": "text"
      },
      "source": [
        "<a href=\"https://colab.research.google.com/github/brunotagoncalves/MeLi_2021_demand_prediction/blob/main/meli_EDA_6th_sub.ipynb\" target=\"_parent\"><img src=\"https://colab.research.google.com/assets/colab-badge.svg\" alt=\"Open In Colab\"/></a>"
      ]
    },
    {
      "cell_type": "markdown",
      "metadata": {
        "id": "-ZbsoPU-AJ4N"
      },
      "source": [
        "# Read Data "
      ]
    },
    {
      "cell_type": "code",
      "metadata": {
        "id": "xPnEDAXf5UJt",
        "colab": {
          "base_uri": "https://localhost:8080/"
        },
        "outputId": "5078877d-500d-406b-b838-75c4f18e6ba5"
      },
      "source": [
        "!pip install catboost"
      ],
      "execution_count": 1,
      "outputs": [
        {
          "output_type": "stream",
          "text": [
            "Collecting catboost\n",
            "  Downloading catboost-0.26-cp37-none-manylinux1_x86_64.whl (69.2 MB)\n",
            "\u001b[K     |████████████████████████████████| 69.2 MB 5.0 kB/s \n",
            "\u001b[?25hRequirement already satisfied: six in /usr/local/lib/python3.7/dist-packages (from catboost) (1.15.0)\n",
            "Requirement already satisfied: pandas>=0.24.0 in /usr/local/lib/python3.7/dist-packages (from catboost) (1.1.5)\n",
            "Requirement already satisfied: numpy>=1.16.0 in /usr/local/lib/python3.7/dist-packages (from catboost) (1.19.5)\n",
            "Requirement already satisfied: matplotlib in /usr/local/lib/python3.7/dist-packages (from catboost) (3.2.2)\n",
            "Requirement already satisfied: plotly in /usr/local/lib/python3.7/dist-packages (from catboost) (4.4.1)\n",
            "Requirement already satisfied: scipy in /usr/local/lib/python3.7/dist-packages (from catboost) (1.4.1)\n",
            "Requirement already satisfied: graphviz in /usr/local/lib/python3.7/dist-packages (from catboost) (0.10.1)\n",
            "Requirement already satisfied: python-dateutil>=2.7.3 in /usr/local/lib/python3.7/dist-packages (from pandas>=0.24.0->catboost) (2.8.1)\n",
            "Requirement already satisfied: pytz>=2017.2 in /usr/local/lib/python3.7/dist-packages (from pandas>=0.24.0->catboost) (2018.9)\n",
            "Requirement already satisfied: kiwisolver>=1.0.1 in /usr/local/lib/python3.7/dist-packages (from matplotlib->catboost) (1.3.1)\n",
            "Requirement already satisfied: pyparsing!=2.0.4,!=2.1.2,!=2.1.6,>=2.0.1 in /usr/local/lib/python3.7/dist-packages (from matplotlib->catboost) (2.4.7)\n",
            "Requirement already satisfied: cycler>=0.10 in /usr/local/lib/python3.7/dist-packages (from matplotlib->catboost) (0.10.0)\n",
            "Requirement already satisfied: retrying>=1.3.3 in /usr/local/lib/python3.7/dist-packages (from plotly->catboost) (1.3.3)\n",
            "Installing collected packages: catboost\n",
            "Successfully installed catboost-0.26\n"
          ],
          "name": "stdout"
        }
      ]
    },
    {
      "cell_type": "code",
      "metadata": {
        "id": "37hIzI0UANWB"
      },
      "source": [
        "!wget https://meli-data-challenge.s3.amazonaws.com/2021/test_data.csv -P drive/MyDrive/MeLi-2021/row/\n",
        "!wget https://meli-data-challenge.s3.amazonaws.com/2021/train_data.parquet -P drive/MyDrive/MeLi-2021/row/\n",
        "!wget https://meli-data-challenge.s3.amazonaws.com/2021/items_static_metadata_full.jl -P drive/MyDrive/MeLi-2021/row/\n",
        "!wget https://meli-data-challenge.s3.amazonaws.com/2021/sample_submission.csv.gz -P drive/MyDrive/MeLi-2021/row/"
      ],
      "execution_count": null,
      "outputs": []
    },
    {
      "cell_type": "code",
      "metadata": {
        "colab": {
          "base_uri": "https://localhost:8080/"
        },
        "id": "GL6kFn3IcDH1",
        "outputId": "82245a8e-d04a-44b5-c98a-3949d9c7b033"
      },
      "source": [
        "!apt-get install openjdk-8-jdk-headless -qq > /dev/null\n",
        "#!wget http://www-eu.apache.org/dist/spark/spark-2.4.8/spark-2.4.8-bin-hadoop2.7.tgz \n",
        "!wget -P spark_tgz/ http://www-eu.apache.org/dist/spark/spark-2.4.8/spark-2.4.8-bin-hadoop2.7.tgz"
      ],
      "execution_count": 3,
      "outputs": [
        {
          "output_type": "stream",
          "text": [
            "--2021-07-27 01:29:46--  http://www-eu.apache.org/dist/spark/spark-2.4.8/spark-2.4.8-bin-hadoop2.7.tgz\n",
            "Resolving www-eu.apache.org (www-eu.apache.org)... 95.216.26.30, 2a01:4f9:2a:1a61::2\n",
            "Connecting to www-eu.apache.org (www-eu.apache.org)|95.216.26.30|:80... connected.\n",
            "HTTP request sent, awaiting response... 302 Found\n",
            "Location: https://downloads.apache.org/spark/spark-2.4.8/spark-2.4.8-bin-hadoop2.7.tgz [following]\n",
            "--2021-07-27 01:29:47--  https://downloads.apache.org/spark/spark-2.4.8/spark-2.4.8-bin-hadoop2.7.tgz\n",
            "Resolving downloads.apache.org (downloads.apache.org)... 135.181.209.10, 135.181.214.104, 88.99.95.219, ...\n",
            "Connecting to downloads.apache.org (downloads.apache.org)|135.181.209.10|:443... connected.\n",
            "HTTP request sent, awaiting response... 200 OK\n",
            "Length: 235899716 (225M) [application/x-gzip]\n",
            "Saving to: ‘spark_tgz/spark-2.4.8-bin-hadoop2.7.tgz’\n",
            "\n",
            "spark-2.4.8-bin-had 100%[===================>] 224.97M  18.6MB/s    in 13s     \n",
            "\n",
            "2021-07-27 01:30:01 (16.8 MB/s) - ‘spark_tgz/spark-2.4.8-bin-hadoop2.7.tgz’ saved [235899716/235899716]\n",
            "\n"
          ],
          "name": "stdout"
        }
      ]
    },
    {
      "cell_type": "code",
      "metadata": {
        "id": "MXldW4KjcF8h"
      },
      "source": [
        "!tar -xf spark_tgz/spark-2.4.8-bin-hadoop2.7.tgz -C spark_tgz/\n",
        "!pip install -q findspark\n",
        "!pip install -q pyspark"
      ],
      "execution_count": 4,
      "outputs": []
    },
    {
      "cell_type": "code",
      "metadata": {
        "id": "DwlQZAD5cJrK"
      },
      "source": [
        "import os\n",
        "os.environ[\"JAVA_HOME\"] = \"/usr/lib/jvm/java-8-openjdk-amd64\"\n",
        "os.environ[\"SPARK_HOME\"] = \"/content/spark_tgz/spark-2.4.8-bin-hadoop2.7\""
      ],
      "execution_count": 5,
      "outputs": []
    },
    {
      "cell_type": "code",
      "metadata": {
        "id": "XjwlnWfvcNyT"
      },
      "source": [
        "import findspark\n",
        "findspark.init()\n",
        "from pyspark.sql import SparkSession\n",
        "spark = SparkSession.builder.master(\"local[*]\").getOrCreate()\n"
      ],
      "execution_count": 6,
      "outputs": []
    },
    {
      "cell_type": "code",
      "metadata": {
        "id": "dfMcGqorv3l5"
      },
      "source": [
        "import pyspark.sql.functions  as F"
      ],
      "execution_count": 7,
      "outputs": []
    },
    {
      "cell_type": "code",
      "metadata": {
        "id": "NcLjJFcUAVdR"
      },
      "source": [
        "import pandas as pd \n",
        "import numpy as np\n"
      ],
      "execution_count": 8,
      "outputs": []
    },
    {
      "cell_type": "code",
      "metadata": {
        "id": "4nuN_PXPcPcT"
      },
      "source": [
        "df_spark = spark.read.format('parquet').load(\"drive/MyDrive/MeLi-2021/row/train_data.parquet\")"
      ],
      "execution_count": 18,
      "outputs": []
    },
    {
      "cell_type": "code",
      "metadata": {
        "colab": {
          "base_uri": "https://localhost:8080/"
        },
        "id": "f3Kkho_vcdt-",
        "outputId": "0735dd64-220d-40ad-c367-c1c21940ebd9"
      },
      "source": [
        "df_spark.count()"
      ],
      "execution_count": 19,
      "outputs": [
        {
          "output_type": "execute_result",
          "data": {
            "text/plain": [
              "37660279"
            ]
          },
          "metadata": {
            "tags": []
          },
          "execution_count": 19
        }
      ]
    },
    {
      "cell_type": "code",
      "metadata": {
        "id": "15mQ-Xwwchv7"
      },
      "source": [
        "df_spark.createOrReplaceTempView('df')"
      ],
      "execution_count": 20,
      "outputs": []
    },
    {
      "cell_type": "code",
      "metadata": {
        "id": "6ff7dxebga47"
      },
      "source": [
        "spark.sql(\"\"\"\n",
        "SELECT df.*\n",
        "  ,minutes_active - lag(minutes_active,1) over (partition by sku order by date asc) diff_minutes_active\n",
        "  ,(CASE WHEN minutes_active - lag(minutes_active,1) over (partition by sku order by date asc) < 0 THEN 'Ruptura'END) Ruptura\n",
        "  ,(CASE WHEN minutes_active - lag(minutes_active,1) over (partition by sku order by date asc) > 0 THEN 'Estoque'END) Estoque\n",
        "  \n",
        "FROM df\n",
        "--where sku = 645793\n",
        "--order by sku, date\n",
        "\"\"\").createOrReplaceTempView('df_re')"
      ],
      "execution_count": 21,
      "outputs": []
    },
    {
      "cell_type": "code",
      "metadata": {
        "id": "nHyIniUBglfx"
      },
      "source": [
        "spark.sql(\"\"\"\n",
        "SELECT df_re.*\n",
        "  ,CASE WHEN Ruptura is null and Estoque is null and minutes_active>0 and diff_minutes_active is null then 'Estoque'\n",
        "        --WHEN Estoque is not null then 'Estoque'\n",
        "        WHEN minutes_active = diff_minutes_active\tand Estoque is not null then 'Estoque'\n",
        "        --WHEN Ruptura is not null and Estoque is null then 'Ruptura'\n",
        "        WHEN Ruptura is not null and Estoque is null and minutes_active=0  then 'Ruptura'\n",
        "        END STATUS_RUPTURA\n",
        "FROM df_re\n",
        "--where sku = 645793\n",
        "--order by sku, date\n",
        "\"\"\").createOrReplaceTempView('df_re')#.toPandas()"
      ],
      "execution_count": 22,
      "outputs": []
    },
    {
      "cell_type": "code",
      "metadata": {
        "id": "J7jz7MUM9QCy"
      },
      "source": [
        "spark.sql(\"\"\"\n",
        "SELECT df_re.*\n",
        "  ,COUNT(CASE WHEN STATUS_RUPTURA IS NOT NULL THEN 1 END) over (partition by sku order by date ) ciclo_ruptura\n",
        "FROM df_re\n",
        "--where sku = 645793\n",
        "--order by sku, date\n",
        "\"\"\").createOrReplaceTempView('df_re')#.toPandas()"
      ],
      "execution_count": 23,
      "outputs": []
    },
    {
      "cell_type": "code",
      "metadata": {
        "id": "fS4JxQefo97e"
      },
      "source": [
        "spark.sql(\"\"\"\n",
        "SELECT df_re.*\n",
        "  ,SUM(sold_quantity) over (partition by sku,ciclo_ruptura order by date desc) sum_sold_quantity \n",
        "  ,sum(case when sold_quantity >0 then current_price*sold_quantity end) over (partition by sku,ciclo_ruptura order by date desc)/SUM(sold_quantity) over (partition by sku,ciclo_ruptura order by date desc) avg_current_price \n",
        "  ,SUM(minutes_active) over (partition by sku,ciclo_ruptura order by date desc)/60/24 days_active_nround\n",
        "  ,round(SUM(minutes_active) over (partition by sku,ciclo_ruptura order by date desc) /60/24 + 0.5,0) days_active \n",
        "FROM df_re\n",
        "--where sku = 645793\n",
        "--order by sku, date\n",
        "\"\"\").createOrReplaceTempView('df_re')#.toPandas()"
      ],
      "execution_count": 24,
      "outputs": []
    },
    {
      "cell_type": "code",
      "metadata": {
        "id": "Bro3AOIrkDQc"
      },
      "source": [
        "spark.sql(\"\"\"\n",
        "SELECT df_re.*  \n",
        "  ,min(days_active_nround) over (partition by sku,ciclo_ruptura order by date desc)>0 FLG_ruptura \n",
        "FROM df_re\n",
        "--where sku = 0\n",
        "--order by sku, date\n",
        "\"\"\").filter('FLG_ruptura=True').drop(*['sold_quantity','minutes_active','diff_minutes_active',\t'Ruptura',\t'Estoque',\t'STATUS_RUPTURA',\t'ciclo_ruptura']).createOrReplaceTempView('df_final')#.toPandas()"
      ],
      "execution_count": 25,
      "outputs": []
    },
    {
      "cell_type": "code",
      "metadata": {
        "id": "OOVZxzIfr9D6",
        "colab": {
          "base_uri": "https://localhost:8080/"
        },
        "outputId": "f107f967-1dc9-4201-f57c-eae7c2dc90e9"
      },
      "source": [
        "%%time\n",
        "spark.sql(\"\"\"\n",
        "SELECT *\n",
        "FROM df_final\n",
        "\"\"\").repartition(1).write.mode('overwrite').format('parquet').save('drive/MyDrive/MeLi-2021/refine/df_final/')"
      ],
      "execution_count": 26,
      "outputs": [
        {
          "output_type": "stream",
          "text": [
            "CPU times: user 886 ms, sys: 99.2 ms, total: 986 ms\n",
            "Wall time: 3min 20s\n"
          ],
          "name": "stdout"
        }
      ]
    },
    {
      "cell_type": "code",
      "metadata": {
        "id": "lWELtLngxNJJ"
      },
      "source": [
        "df = spark.read.format('parquet').load('drive/MyDrive/MeLi-2021/refine/df_final/')"
      ],
      "execution_count": 5,
      "outputs": []
    },
    {
      "cell_type": "code",
      "metadata": {
        "colab": {
          "base_uri": "https://localhost:8080/"
        },
        "id": "zre2tnJkzomq",
        "outputId": "4d4c7a5e-c562-4f04-8e16-68927d0a6be7"
      },
      "source": [
        "df.count()"
      ],
      "execution_count": 6,
      "outputs": [
        {
          "output_type": "execute_result",
          "data": {
            "text/plain": [
              "28096162"
            ]
          },
          "metadata": {
            "tags": []
          },
          "execution_count": 6
        }
      ]
    },
    {
      "cell_type": "code",
      "metadata": {
        "id": "lA9aFdgdCOdE"
      },
      "source": [
        "spark.sql(\"\"\"\n",
        "SELECT sku\n",
        "  , sum(sold_quantity) total_sold_quantity \n",
        "  , max(sold_quantity) max_sold_quantity \n",
        "  , min(case when sold_quantity>0 then sold_quantity end) min_sold_quantity \n",
        "  , avg(case when sold_quantity>0 then sold_quantity end) avg_sold_quantity \n",
        "  , percentile_approx(case when sold_quantity>0 then sold_quantity end,.5) median_sold_quantity \n",
        "  , percentile_approx(case when sold_quantity>0 then sold_quantity end,.25) qt1_sold_quantity \n",
        "  , percentile_approx(case when sold_quantity>0 then sold_quantity end,.75) qt3_sold_quantity \n",
        "\n",
        "  , sum(current_price*sold_quantity) total_fat \n",
        "  , max(current_price*sold_quantity) max_fat  \n",
        "  , min(case when sold_quantity>0 then current_price*sold_quantity end) min_fat \n",
        "  , avg(case when sold_quantity>0 then current_price*sold_quantity end) avg_fat\n",
        "  , percentile_approx(case when sold_quantity>0 then current_price*sold_quantity end,.5) median_fat\n",
        "  , percentile_approx(case when sold_quantity>0 then current_price*sold_quantity end,.25) qt1_fat\n",
        "  , percentile_approx(case when sold_quantity>0 then current_price*sold_quantity end,.75) qt3_fat\n",
        "\n",
        "  , sum(case when sold_quantity>0 then current_price*sold_quantity end)/sum(sold_quantity) avg_price\n",
        "  , percentile_approx(case when sold_quantity>0 then current_price*sold_quantity end,.5)/sum(sold_quantity) median_price\n",
        "  , percentile_approx(case when sold_quantity>0 then current_price*sold_quantity end,.25)/sum(sold_quantity) qt1_price\n",
        "  , percentile_approx(case when sold_quantity>0 then current_price*sold_quantity end,.75)/sum(sold_quantity) qt3_price\n",
        "FROM df\n",
        "GROUP BY sku\n",
        "\"\"\").repartition(1).write.mode('overwrite').format('parquet').save('drive/MyDrive/MeLi-2021/refine/agreg/')"
      ],
      "execution_count": null,
      "outputs": []
    },
    {
      "cell_type": "code",
      "metadata": {
        "id": "8Wldb2kjtiA3"
      },
      "source": [
        "g_df = spark.read.format('parquet').load('drive/MyDrive/MeLi-2021/refine/agreg/')\n",
        "g_df.createOrReplaceTempView('g_df')"
      ],
      "execution_count": 30,
      "outputs": []
    },
    {
      "cell_type": "code",
      "metadata": {
        "id": "mAtN4YIxvIjT"
      },
      "source": [
        "spark.read.format('json').load('drive/MyDrive/MeLi-2021/row/items_static_metadata_full.jl').createOrReplaceTempView('items')"
      ],
      "execution_count": 31,
      "outputs": []
    },
    {
      "cell_type": "code",
      "metadata": {
        "id": "kOMyJpuqtD3K"
      },
      "source": [
        "spark.sql(\"\"\"\n",
        "SELECT df_final.sku ,\n",
        "  date ,\n",
        "  current_price ,\n",
        "  currency ,\n",
        "  listing_type ,\n",
        "  shipping_logistic_type ,\n",
        "  shipping_payment ,\n",
        "  sum_sold_quantity ,\n",
        "  avg_current_price ,\n",
        "  days_active_nround ,\n",
        "  days_active ,\n",
        "  FLG_ruptura ,\n",
        "\n",
        "  total_sold_quantity ,\n",
        "  max_sold_quantity ,\n",
        "  min_sold_quantity ,\n",
        "  avg_sold_quantity ,\n",
        "  median_sold_quantity ,\n",
        "  qt1_sold_quantity ,\n",
        "  qt3_sold_quantity ,\n",
        "  total_fat ,\n",
        "  max_fat ,\n",
        "  min_fat ,\n",
        "  avg_fat ,\n",
        "  median_fat ,\n",
        "  qt1_fat ,\n",
        "  qt3_fat ,\n",
        "  avg_price ,\n",
        "  median_price ,\n",
        "  qt1_price ,\n",
        "  qt3_price ,\n",
        "  item_domain_id ,\n",
        "  item_id ,\n",
        "  item_title ,\n",
        "  product_family_id ,\n",
        "  product_id ,\n",
        "  site_id \n",
        "\n",
        "FROM df_final\n",
        "LEFT JOIN g_df \n",
        "  ON g_df.sku = df_final.sku\n",
        "LEFT JOIN items \n",
        "  ON items.sku = df_final.sku\n",
        "\"\"\").createOrReplaceTempView('df_final_join')"
      ],
      "execution_count": 32,
      "outputs": []
    },
    {
      "cell_type": "code",
      "metadata": {
        "id": "zQeusiqOwB9p"
      },
      "source": [
        "spark.read.option(\"header\",True).format('csv').load('drive/MyDrive/MeLi-2021/row/test_data.csv').createOrReplaceTempView('test_data')\n"
      ],
      "execution_count": 33,
      "outputs": []
    },
    {
      "cell_type": "code",
      "metadata": {
        "id": "EZ8kW-kQu3mX"
      },
      "source": [
        "spark.sql(\"\"\"\n",
        "SELECT test_data.sku ,\n",
        "  target_stock ,\n",
        "  total_sold_quantity ,\n",
        "  max_sold_quantity ,\n",
        "  min_sold_quantity ,\n",
        "  avg_sold_quantity ,\n",
        "  median_sold_quantity ,\n",
        "  qt1_sold_quantity ,\n",
        "  qt3_sold_quantity ,\n",
        "  total_fat ,\n",
        "  max_fat ,\n",
        "  min_fat ,\n",
        "  avg_fat ,\n",
        "  median_fat ,\n",
        "  qt1_fat ,\n",
        "  qt3_fat ,\n",
        "  avg_price ,\n",
        "  median_price ,\n",
        "  qt1_price ,\n",
        "  qt3_price ,\n",
        "  item_domain_id ,\n",
        "  item_id ,\n",
        "  item_title ,\n",
        "  product_family_id ,\n",
        "  product_id ,\n",
        "  site_id \n",
        "FROM test_data\n",
        "LEFT JOIN g_df \n",
        "  ON g_df.sku = test_data.sku\n",
        "LEFT JOIN items \n",
        "  ON items.sku = test_data.sku\n",
        "\"\"\").createOrReplaceTempView('test_data_join')"
      ],
      "execution_count": 34,
      "outputs": []
    },
    {
      "cell_type": "code",
      "metadata": {
        "id": "9SuKoRegMvoJ",
        "colab": {
          "base_uri": "https://localhost:8080/"
        },
        "outputId": "da16d340-750f-4d9b-d9ca-ba2a522665f0"
      },
      "source": [
        "%%time\n",
        "spark.sql(\"\"\"\n",
        "SELECT *\n",
        "FROM df_final_join\n",
        "\"\"\").repartition(1).write.mode('overwrite').format('parquet').save('drive/MyDrive/MeLi-2021/final/df_final_join/')"
      ],
      "execution_count": 35,
      "outputs": [
        {
          "output_type": "stream",
          "text": [
            "CPU times: user 1.56 s, sys: 196 ms, total: 1.75 s\n",
            "Wall time: 5min 47s\n"
          ],
          "name": "stdout"
        }
      ]
    },
    {
      "cell_type": "code",
      "metadata": {
        "id": "uiga4fDSxt5Y",
        "colab": {
          "base_uri": "https://localhost:8080/"
        },
        "outputId": "8ff03300-bafa-46f8-b416-f33c6525441a"
      },
      "source": [
        "%%time\n",
        "spark.sql(\"\"\"\n",
        "SELECT *\n",
        "FROM test_data_join\n",
        "\"\"\").repartition(1).write.mode('overwrite').format('parquet').save('drive/MyDrive/MeLi-2021/final/test_data_join/')"
      ],
      "execution_count": 36,
      "outputs": [
        {
          "output_type": "stream",
          "text": [
            "CPU times: user 80.2 ms, sys: 7.08 ms, total: 87.3 ms\n",
            "Wall time: 16.8 s\n"
          ],
          "name": "stdout"
        }
      ]
    },
    {
      "cell_type": "code",
      "metadata": {
        "id": "ulSN-TTW24AG"
      },
      "source": [
        "df_final = spark.read.format('parquet').load('drive/MyDrive/MeLi-2021/final/df_final_join/')\n",
        "submit_data = spark.read.format('parquet').load('drive/MyDrive/MeLi-2021/final/test_data_join/')"
      ],
      "execution_count": 97,
      "outputs": []
    },
    {
      "cell_type": "code",
      "metadata": {
        "id": "a7lVKdAXR0Oy"
      },
      "source": [
        "submit_data = submit_data.withColumn('sum_sold_quantity',submit_data.target_stock)\n",
        "#df_final = df_final.withColumn('target_stock',df_final.sum_sold_quantity)"
      ],
      "execution_count": 98,
      "outputs": []
    },
    {
      "cell_type": "code",
      "metadata": {
        "id": "DE85O6zyUvub"
      },
      "source": [
        "df_final = df_final.filter(\"sum_sold_quantity>0\") # estou na dúvida se deveriamos considerar como days como 30 nesse caso \n",
        "df_final = df_final.join(submit_data.select('sku','target_stock'),on='sku',how='left')"
      ],
      "execution_count": 99,
      "outputs": []
    },
    {
      "cell_type": "code",
      "metadata": {
        "id": "RntFdcLBvrOg"
      },
      "source": [
        "df_final = df_final.filter(F.expr(\"abs(sum_sold_quantity/target_stock-1)<=0.3\"))\n",
        "#df_final = df_final.withColumn('target_stock',df_final.sum_sold_quantity)"
      ],
      "execution_count": 100,
      "outputs": []
    },
    {
      "cell_type": "code",
      "metadata": {
        "colab": {
          "base_uri": "https://localhost:8080/"
        },
        "id": "ePY34cwsXusx",
        "outputId": "52bfb510-6abe-46b0-d396-c4e3990cd184"
      },
      "source": [
        "df_final.count()"
      ],
      "execution_count": 101,
      "outputs": [
        {
          "output_type": "execute_result",
          "data": {
            "text/plain": [
              "3748193"
            ]
          },
          "metadata": {
            "tags": []
          },
          "execution_count": 101
        }
      ]
    },
    {
      "cell_type": "code",
      "metadata": {
        "id": "pDgA5aQaW-2V"
      },
      "source": [
        "df_train, df_test = df_final.sample(fraction=400000/df_final.count(),seed=123).randomSplit([10.,3.],seed=123)"
      ],
      "execution_count": 153,
      "outputs": []
    },
    {
      "cell_type": "code",
      "metadata": {
        "id": "0NgQVdb65-Y3",
        "outputId": "6011182d-caf7-4922-b48a-47aa995af683",
        "colab": {
          "base_uri": "https://localhost:8080/"
        }
      },
      "source": [
        "df_train.count(),df_test.count()"
      ],
      "execution_count": 154,
      "outputs": [
        {
          "output_type": "execute_result",
          "data": {
            "text/plain": [
              "(307432, 92126)"
            ]
          },
          "metadata": {
            "tags": []
          },
          "execution_count": 154
        }
      ]
    },
    {
      "cell_type": "code",
      "metadata": {
        "id": "-b0XxqtOzUT_"
      },
      "source": [
        "from catboost import Pool, CatBoostClassifier"
      ],
      "execution_count": 165,
      "outputs": []
    },
    {
      "cell_type": "code",
      "metadata": {
        "id": "xJWMoN2UEl_S",
        "outputId": "6a4d2b59-a8c9-4576-a8b3-6a735100b3a8",
        "colab": {
          "base_uri": "https://localhost:8080/"
        }
      },
      "source": [
        "df_final.columns"
      ],
      "execution_count": 176,
      "outputs": [
        {
          "output_type": "execute_result",
          "data": {
            "text/plain": [
              "['sku',\n",
              " 'date',\n",
              " 'current_price',\n",
              " 'currency',\n",
              " 'listing_type',\n",
              " 'shipping_logistic_type',\n",
              " 'shipping_payment',\n",
              " 'sum_sold_quantity',\n",
              " 'avg_current_price',\n",
              " 'days_active_nround',\n",
              " 'days_active',\n",
              " 'FLG_ruptura',\n",
              " 'total_sold_quantity',\n",
              " 'max_sold_quantity',\n",
              " 'min_sold_quantity',\n",
              " 'avg_sold_quantity',\n",
              " 'median_sold_quantity',\n",
              " 'qt1_sold_quantity',\n",
              " 'qt3_sold_quantity',\n",
              " 'total_fat',\n",
              " 'max_fat',\n",
              " 'min_fat',\n",
              " 'avg_fat',\n",
              " 'median_fat',\n",
              " 'qt1_fat',\n",
              " 'qt3_fat',\n",
              " 'avg_price',\n",
              " 'median_price',\n",
              " 'qt1_price',\n",
              " 'qt3_price',\n",
              " 'item_domain_id',\n",
              " 'item_id',\n",
              " 'item_title',\n",
              " 'product_family_id',\n",
              " 'product_id',\n",
              " 'site_id',\n",
              " 'target_stock']"
            ]
          },
          "metadata": {
            "tags": []
          },
          "execution_count": 176
        }
      ]
    },
    {
      "cell_type": "code",
      "metadata": {
        "id": "PczvuvFFVBiw"
      },
      "source": [
        "vars = [#'sku',\n",
        " 'sum_sold_quantity','site_id','product_id','product_family_id'\n",
        " ]\n",
        "cat_vars =  [#'sku',\n",
        "             'site_id','product_id','product_family_id'\n",
        " ]"
      ],
      "execution_count": 177,
      "outputs": []
    },
    {
      "cell_type": "code",
      "metadata": {
        "id": "VHZtNjJTr6GO"
      },
      "source": [
        "df_train = df_train.fillna('sem_id', subset=cat_vars)\n",
        "df_test = df_test.fillna('sem_id', subset=cat_vars) \n",
        "submit_data = submit_data.fillna('sem_id', subset=cat_vars) "
      ],
      "execution_count": 178,
      "outputs": []
    },
    {
      "cell_type": "code",
      "metadata": {
        "id": "m3WTgheKda5i"
      },
      "source": [
        "train_data = df_train.select(*vars+['days_active']).toPandas()\n",
        "test_data = df_test.select(*vars+['days_active']).toPandas()\n",
        "train_label = train_data.days_active\n",
        "test_label = test_data.days_active"
      ],
      "execution_count": 179,
      "outputs": []
    },
    {
      "cell_type": "code",
      "metadata": {
        "colab": {
          "base_uri": "https://localhost:8080/"
        },
        "id": "EoM4ZSXgD569",
        "outputId": "abd3cdae-ccab-4044-c3d0-f0f5384e633a"
      },
      "source": [
        "# initialize data\n",
        "#train_data = g_df.loc[:,vars].sample(frac=.01,random_state=123)\n",
        "#train_label = g_df.loc[:,'days_active'].apply(lambda x : x if x<30. else 30.).round().astype(int).sample(frac=.01,random_state=123)\n",
        "#test_data = g_df.loc[~g_df.sku.isnull(),'current_price_count':'shipping_payment_shipping_payment']#.sample(frac=.1,random_state=1234)\n",
        "# initialize Pool\n",
        "train_pool = Pool(train_data.loc[:,vars], \n",
        "                  train_label, \n",
        "                  cat_features=cat_vars)\n",
        "test_pool = Pool(test_data.loc[:,vars], \n",
        "                  test_label, \n",
        "                  cat_features=cat_vars)\n",
        "\n",
        "# specify the training parameters \n",
        "model = CatBoostClassifier(task_type='GPU',metric_period=100,learning_rate=0.02)\n",
        "#train the model\n",
        "model.fit(train_pool,eval_set=test_pool)\n",
        "# make the prediction using the resulting model"
      ],
      "execution_count": 169,
      "outputs": [
        {
          "output_type": "stream",
          "text": [
            "0:\tlearn: 4.0865988\ttest: 4.0867009\tbest: 4.0867009 (0)\ttotal: 377ms\tremaining: 6m 16s\n",
            "100:\tlearn: 3.7955637\ttest: 3.8024475\tbest: 3.8024475 (100)\ttotal: 34s\tremaining: 5m 2s\n",
            "200:\tlearn: 3.7808702\ttest: 3.7907943\tbest: 3.7907943 (200)\ttotal: 1m 7s\tremaining: 4m 28s\n",
            "300:\tlearn: 3.7780859\ttest: 3.7897910\tbest: 3.7897910 (300)\ttotal: 1m 41s\tremaining: 3m 54s\n",
            "400:\tlearn: 3.7762619\ttest: 3.7896868\tbest: 3.7896868 (400)\ttotal: 2m 14s\tremaining: 3m 20s\n",
            "500:\tlearn: 3.7750039\ttest: 3.7897119\tbest: 3.7896868 (400)\ttotal: 2m 47s\tremaining: 2m 46s\n",
            "600:\tlearn: 3.7737902\ttest: 3.7898727\tbest: 3.7896868 (400)\ttotal: 3m 21s\tremaining: 2m 13s\n",
            "700:\tlearn: 3.7727274\ttest: 3.7900789\tbest: 3.7896868 (400)\ttotal: 3m 54s\tremaining: 1m 39s\n",
            "800:\tlearn: 3.7716613\ttest: 3.7902906\tbest: 3.7896868 (400)\ttotal: 4m 27s\tremaining: 1m 6s\n",
            "900:\tlearn: 3.7707306\ttest: 3.7905291\tbest: 3.7896868 (400)\ttotal: 5m 1s\tremaining: 33.1s\n",
            "999:\tlearn: 3.7698332\ttest: 3.7907689\tbest: 3.7896868 (400)\ttotal: 5m 34s\tremaining: 0us\n",
            "bestTest = 3.789686815\n",
            "bestIteration = 400\n",
            "Shrink model to first 401 iterations.\n"
          ],
          "name": "stdout"
        },
        {
          "output_type": "execute_result",
          "data": {
            "text/plain": [
              "<catboost.core.CatBoostClassifier at 0x7f6dfbb17d50>"
            ]
          },
          "metadata": {
            "tags": []
          },
          "execution_count": 169
        }
      ]
    },
    {
      "cell_type": "code",
      "metadata": {
        "colab": {
          "base_uri": "https://localhost:8080/"
        },
        "id": "rBNrJ-QDo5OW",
        "outputId": "51b57cfa-b8ff-45d3-d921-3dc4c2e2652f"
      },
      "source": [
        "pd.Series(model.feature_importances_,model.feature_names_).sort_values(ascending=False).cumsum()"
      ],
      "execution_count": 170,
      "outputs": [
        {
          "output_type": "execute_result",
          "data": {
            "text/plain": [
              "sum_sold_quantity     81.807325\n",
              "site_id               91.345939\n",
              "product_id           100.000000\n",
              "dtype: float64"
            ]
          },
          "metadata": {
            "tags": []
          },
          "execution_count": 170
        }
      ]
    },
    {
      "cell_type": "code",
      "metadata": {
        "colab": {
          "base_uri": "https://localhost:8080/"
        },
        "id": "gKxfo2DXo1nj",
        "outputId": "cf23e2a9-7f50-48b6-f776-439b0aabfe56"
      },
      "source": [
        "model.score(test_pool),model.score(train_pool)"
      ],
      "execution_count": 171,
      "outputs": [
        {
          "output_type": "execute_result",
          "data": {
            "text/plain": [
              "(0.04198597572889304, 0.046081735147935156)"
            ]
          },
          "metadata": {
            "tags": []
          },
          "execution_count": 171
        }
      ]
    },
    {
      "cell_type": "code",
      "metadata": {
        "colab": {
          "base_uri": "https://localhost:8080/"
        },
        "id": "xOkK0kqNo4db",
        "outputId": "46631856-9429-44b3-eb73-4681a0fa3d91"
      },
      "source": [
        "model.score(test_pool),model.score(train_pool)"
      ],
      "execution_count": 172,
      "outputs": [
        {
          "output_type": "execute_result",
          "data": {
            "text/plain": [
              "(0.04198597572889304, 0.046081735147935156)"
            ]
          },
          "metadata": {
            "tags": []
          },
          "execution_count": 172
        }
      ]
    },
    {
      "cell_type": "code",
      "metadata": {
        "colab": {
          "base_uri": "https://localhost:8080/",
          "height": 285
        },
        "id": "nEJhAlNMkmyh",
        "outputId": "8f022db5-9df2-4028-9a99-8155e69f10db"
      },
      "source": [
        "list_pd = [pd.DataFrame.from_dict(model.evals_result_[i]) for i in model.evals_result_]\n",
        "\n",
        "list_pd = pd.concat(list_pd,axis=1)\n",
        "list_pd.columns=[i for i in model.evals_result_]\n",
        "list_pd.plot()\n"
      ],
      "execution_count": 173,
      "outputs": [
        {
          "output_type": "execute_result",
          "data": {
            "text/plain": [
              "<matplotlib.axes._subplots.AxesSubplot at 0x7f6dd4171e90>"
            ]
          },
          "metadata": {
            "tags": []
          },
          "execution_count": 173
        },
        {
          "output_type": "display_data",
          "data": {
            "image/png": "[encoded data removed]",
            "text/plain": [
              "<Figure size 432x288 with 1 Axes>"
            ]
          },
          "metadata": {
            "tags": [],
            "needs_background": "light"
          }
        }
      ]
    },
    {
      "cell_type": "code",
      "metadata": {
        "id": "XgbeOOMEeFe5"
      },
      "source": [
        "submit_pool = Pool(submit_data.select(*vars).toPandas(),\n",
        "                 cat_features=cat_vars) \n"
      ],
      "execution_count": 174,
      "outputs": []
    },
    {
      "cell_type": "code",
      "metadata": {
        "id": "WK8KYe1846YC",
        "colab": {
          "base_uri": "https://localhost:8080/",
          "height": 300
        },
        "outputId": "848dfe50-2190-48bf-dc05-838f545f2a62"
      },
      "source": [
        "preds= model.predict(submit_pool)\n",
        "pd.DataFrame(preds).describe()#.hist()"
      ],
      "execution_count": 175,
      "outputs": [
        {
          "output_type": "execute_result",
          "data": {
            "text/html": [
              "<div>\n",
              "<style scoped>\n",
              "    .dataframe tbody tr th:only-of-type {\n",
              "        vertical-align: middle;\n",
              "    }\n",
              "\n",
              "    .dataframe tbody tr th {\n",
              "        vertical-align: top;\n",
              "    }\n",
              "\n",
              "    .dataframe thead th {\n",
              "        text-align: right;\n",
              "    }\n",
              "</style>\n",
              "<table border=\"1\" class=\"dataframe\">\n",
              "  <thead>\n",
              "    <tr style=\"text-align: right;\">\n",
              "      <th></th>\n",
              "      <th>0</th>\n",
              "    </tr>\n",
              "  </thead>\n",
              "  <tbody>\n",
              "    <tr>\n",
              "      <th>count</th>\n",
              "      <td>551472.000000</td>\n",
              "    </tr>\n",
              "    <tr>\n",
              "      <th>mean</th>\n",
              "      <td>9.468847</td>\n",
              "    </tr>\n",
              "    <tr>\n",
              "      <th>std</th>\n",
              "      <td>5.956388</td>\n",
              "    </tr>\n",
              "    <tr>\n",
              "      <th>min</th>\n",
              "      <td>1.000000</td>\n",
              "    </tr>\n",
              "    <tr>\n",
              "      <th>25%</th>\n",
              "      <td>4.000000</td>\n",
              "    </tr>\n",
              "    <tr>\n",
              "      <th>50%</th>\n",
              "      <td>10.000000</td>\n",
              "    </tr>\n",
              "    <tr>\n",
              "      <th>75%</th>\n",
              "      <td>13.000000</td>\n",
              "    </tr>\n",
              "    <tr>\n",
              "      <th>max</th>\n",
              "      <td>48.000000</td>\n",
              "    </tr>\n",
              "  </tbody>\n",
              "</table>\n",
              "</div>"
            ],
            "text/plain": [
              "                   0\n",
              "count  551472.000000\n",
              "mean        9.468847\n",
              "std         5.956388\n",
              "min         1.000000\n",
              "25%         4.000000\n",
              "50%        10.000000\n",
              "75%        13.000000\n",
              "max        48.000000"
            ]
          },
          "metadata": {
            "tags": []
          },
          "execution_count": 175
        }
      ]
    },
    {
      "cell_type": "code",
      "metadata": {
        "id": "C44mz6xFF01G",
        "colab": {
          "base_uri": "https://localhost:8080/",
          "height": 316
        },
        "outputId": "b0e96ccc-8adc-45eb-b6ba-a32de7f3b2a7"
      },
      "source": [
        "pd.DataFrame(preds).hist(bins=30)"
      ],
      "execution_count": 91,
      "outputs": [
        {
          "output_type": "execute_result",
          "data": {
            "text/plain": [
              "array([[<matplotlib.axes._subplots.AxesSubplot object at 0x7f6dcc5f1290>]],\n",
              "      dtype=object)"
            ]
          },
          "metadata": {
            "tags": []
          },
          "execution_count": 91
        },
        {
          "output_type": "display_data",
          "data": {
            "image/png": "[encoded data removed]",
            "text/plain": [
              "<Figure size 432x288 with 1 Axes>"
            ]
          },
          "metadata": {
            "tags": [],
            "needs_background": "light"
          }
        }
      ]
    },
    {
      "cell_type": "code",
      "metadata": {
        "id": "XDZsKkBM_DeR",
        "colab": {
          "base_uri": "https://localhost:8080/",
          "height": 282
        },
        "outputId": "4df5497c-4032-4e49-a34c-031659522e3e"
      },
      "source": [
        "pd.DataFrame(preds).apply(lambda x : x[0] if x[0]<30 else 30,axis=1).hist(bins=30)"
      ],
      "execution_count": 92,
      "outputs": [
        {
          "output_type": "execute_result",
          "data": {
            "text/plain": [
              "<matplotlib.axes._subplots.AxesSubplot at 0x7f6dd1304210>"
            ]
          },
          "metadata": {
            "tags": []
          },
          "execution_count": 92
        },
        {
          "output_type": "display_data",
          "data": {
            "image/png": "[encoded data removed]",
            "text/plain": [
              "<Figure size 432x288 with 1 Axes>"
            ]
          },
          "metadata": {
            "tags": [],
            "needs_background": "light"
          }
        }
      ]
    },
    {
      "cell_type": "code",
      "metadata": {
        "id": "wJdV89FQ-spU"
      },
      "source": [
        "result = pd.DataFrame(model.predict_proba(submit_pool))#.round(4)#.to_csv(\"test_inner.csv.gz\",compression='gzip',index=False,header=False)"
      ],
      "execution_count": 93,
      "outputs": []
    },
    {
      "cell_type": "code",
      "metadata": {
        "id": "RqxIen69-AuD"
      },
      "source": [
        "result.loc[:,29] = result.loc[:,29:].sum(axis=1)#.apply(lambda x : x if x<1. else 1. )"
      ],
      "execution_count": 94,
      "outputs": []
    },
    {
      "cell_type": "code",
      "metadata": {
        "colab": {
          "base_uri": "https://localhost:8080/"
        },
        "id": "zYNiCZmctEty",
        "outputId": "de93e6ec-0f15-4c89-c12e-e048a7ec156f"
      },
      "source": [
        "(result.loc[:,:29].round(4)>1).any(axis=1).sum()"
      ],
      "execution_count": 95,
      "outputs": [
        {
          "output_type": "execute_result",
          "data": {
            "text/plain": [
              "0"
            ]
          },
          "metadata": {
            "tags": []
          },
          "execution_count": 95
        }
      ]
    },
    {
      "cell_type": "code",
      "metadata": {
        "id": "WgrVe4Zy-hDX"
      },
      "source": [
        "result.loc[:,:29].round(4).to_csv(\"test_inner.csv.gz\",compression='gzip',index=False,header=False)"
      ],
      "execution_count": 96,
      "outputs": []
    },
    {
      "cell_type": "code",
      "metadata": {
        "id": "BhgL54ZS2sv1"
      },
      "source": [
        ""
      ],
      "execution_count": null,
      "outputs": []
    }
  ]
}
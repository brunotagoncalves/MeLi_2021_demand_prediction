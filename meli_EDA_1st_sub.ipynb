{
  "nbformat": 4,
  "nbformat_minor": 0,
  "metadata": {
    "colab": {
      "name": "meli_EDA_1st_sub.ipynb",
      "provenance": [],
      "authorship_tag": "ABX9TyOOpGIXAYXNgyBVtMTJ1n/T",
      "include_colab_link": true
    },
    "kernelspec": {
      "name": "python3",
      "display_name": "Python 3"
    },
    "language_info": {
      "name": "python"
    }
  },
  "cells": [
    {
      "cell_type": "markdown",
      "metadata": {
        "id": "view-in-github",
        "colab_type": "text"
      },
      "source": [
        "<a href=\"https://colab.research.google.com/github/brunotagoncalves/MeLi_2021_demand_prediction/blob/main/meli_EDA_1st_sub.ipynb\" target=\"_parent\"><img src=\"https://colab.research.google.com/assets/colab-badge.svg\" alt=\"Open In Colab\"/></a>"
      ]
    },
    {
      "cell_type": "markdown",
      "metadata": {
        "id": "-ZbsoPU-AJ4N"
      },
      "source": [
        "# Read Data "
      ]
    },
    {
      "cell_type": "code",
      "metadata": {
        "colab": {
          "base_uri": "https://localhost:8080/"
        },
        "id": "37hIzI0UANWB",
        "outputId": "5c063acd-67e8-4936-8a11-4da78a70eb8b"
      },
      "source": [
        "#!wget https://meli-data-challenge.s3.amazonaws.com/2021/test_data.csv\n",
        "#!wget https://meli-data-challenge.s3.amazonaws.com/2021/train_data.parquet\n",
        "#!wget https://meli-data-challenge.s3.amazonaws.com/2021/items_static_metadata_full.jl\n",
        "#!wget https://meli-data-challenge.s3.amazonaws.com/2021/sample_submission.csv.gz"
      ],
      "execution_count": 3,
      "outputs": [
        {
          "output_type": "stream",
          "text": [
            "--2021-07-16 20:30:35--  https://meli-data-challenge.s3.amazonaws.com/2021/items_static_metadata_full.jl\n",
            "Resolving meli-data-challenge.s3.amazonaws.com (meli-data-challenge.s3.amazonaws.com)... 52.217.199.153\n",
            "Connecting to meli-data-challenge.s3.amazonaws.com (meli-data-challenge.s3.amazonaws.com)|52.217.199.153|:443... connected.\n",
            "HTTP request sent, awaiting response... 200 OK\n",
            "Length: 135913048 (130M) [application/x-www-form-urlencoded]\n",
            "Saving to: ‘items_static_metadata_full.jl’\n",
            "\n",
            "items_static_metada 100%[===================>] 129.62M  29.8MB/s    in 5.0s    \n",
            "\n",
            "2021-07-16 20:30:40 (25.9 MB/s) - ‘items_static_metadata_full.jl’ saved [135913048/135913048]\n",
            "\n",
            "--2021-07-16 20:30:40--  https://meli-data-challenge.s3.amazonaws.com/2021/sample_submission.csv.gz\n",
            "Resolving meli-data-challenge.s3.amazonaws.com (meli-data-challenge.s3.amazonaws.com)... 52.217.9.196\n",
            "Connecting to meli-data-challenge.s3.amazonaws.com (meli-data-challenge.s3.amazonaws.com)|52.217.9.196|:443... connected.\n",
            "HTTP request sent, awaiting response... 200 OK\n",
            "Length: 19776711 (19M) [application/x-gzip]\n",
            "Saving to: ‘sample_submission.csv.gz’\n",
            "\n",
            "sample_submission.c 100%[===================>]  18.86M  14.7MB/s    in 1.3s    \n",
            "\n",
            "2021-07-16 20:30:42 (14.7 MB/s) - ‘sample_submission.csv.gz’ saved [19776711/19776711]\n",
            "\n"
          ],
          "name": "stdout"
        }
      ]
    },
    {
      "cell_type": "code",
      "metadata": {
        "id": "NcLjJFcUAVdR"
      },
      "source": [
        ""
      ],
      "execution_count": null,
      "outputs": []
    }
  ]
}
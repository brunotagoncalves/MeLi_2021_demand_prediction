{
  "nbformat": 4,
  "nbformat_minor": 0,
  "metadata": {
    "colab": {
      "name": "meli_EDA_1st_sub.ipynb",
      "provenance": [],
      "authorship_tag": "ABX9TyPq5dzCtidAhIFbswatcfMc",
      "include_colab_link": true
    },
    "kernelspec": {
      "name": "python3",
      "display_name": "Python 3"
    },
    "language_info": {
      "name": "python"
    }
  },
  "cells": [
    {
      "cell_type": "markdown",
      "metadata": {
        "id": "view-in-github",
        "colab_type": "text"
      },
      "source": [
        "<a href=\"https://colab.research.google.com/github/brunotagoncalves/MeLi_2021_demand_prediction/blob/main/meli_EDA_1st_sub.ipynb\" target=\"_parent\"><img src=\"https://colab.research.google.com/assets/colab-badge.svg\" alt=\"Open In Colab\"/></a>"
      ]
    },
    {
      "cell_type": "markdown",
      "metadata": {
        "id": "-ZbsoPU-AJ4N"
      },
      "source": [
        "# Read Data "
      ]
    },
    {
      "cell_type": "code",
      "metadata": {
        "colab": {
          "base_uri": "https://localhost:8080/"
        },
        "id": "37hIzI0UANWB",
        "outputId": "84d5366f-f9e8-4808-bb04-ae82db4dcf2d"
      },
      "source": [
        "!wget https://meli-data-challenge.s3.amazonaws.com/2021/test_data.csv\n",
        "!wget https://meli-data-challenge.s3.amazonaws.com/2021/train_data.parquet\n",
        "!wget https://meli-data-challenge.s3.amazonaws.com/2021/items_static_metadata_full.jl\n",
        "!wget https://meli-data-challenge.s3.amazonaws.com/2021/sample_submission.csv.gz"
      ],
      "execution_count": null,
      "outputs": [
        {
          "output_type": "stream",
          "text": [
            "--2021-07-19 20:14:45--  https://meli-data-challenge.s3.amazonaws.com/2021/test_data.csv\n",
            "Resolving meli-data-challenge.s3.amazonaws.com (meli-data-challenge.s3.amazonaws.com)... 52.216.1.80\n",
            "Connecting to meli-data-challenge.s3.amazonaws.com (meli-data-challenge.s3.amazonaws.com)|52.216.1.80|:443... connected.\n",
            "HTTP request sent, awaiting response... 200 OK\n",
            "Length: 5075979 (4.8M) [text/csv]\n",
            "Saving to: ‘test_data.csv’\n",
            "\n",
            "test_data.csv       100%[===================>]   4.84M  8.11MB/s    in 0.6s    \n",
            "\n",
            "2021-07-19 20:14:46 (8.11 MB/s) - ‘test_data.csv’ saved [5075979/5075979]\n",
            "\n",
            "--2021-07-19 20:14:46--  https://meli-data-challenge.s3.amazonaws.com/2021/train_data.parquet\n",
            "Resolving meli-data-challenge.s3.amazonaws.com (meli-data-challenge.s3.amazonaws.com)... 52.216.1.80\n",
            "Connecting to meli-data-challenge.s3.amazonaws.com (meli-data-challenge.s3.amazonaws.com)|52.216.1.80|:443... connected.\n",
            "HTTP request sent, awaiting response... 200 OK\n",
            "Length: 81456239 (78M) [application/x-www-form-urlencoded]\n",
            "Saving to: ‘train_data.parquet’\n",
            "\n",
            "train_data.parquet  100%[===================>]  77.68M  29.5MB/s    in 2.6s    \n",
            "\n",
            "2021-07-19 20:14:49 (29.5 MB/s) - ‘train_data.parquet’ saved [81456239/81456239]\n",
            "\n",
            "--2021-07-19 20:14:49--  https://meli-data-challenge.s3.amazonaws.com/2021/items_static_metadata_full.jl\n",
            "Resolving meli-data-challenge.s3.amazonaws.com (meli-data-challenge.s3.amazonaws.com)... 52.216.232.3\n",
            "Connecting to meli-data-challenge.s3.amazonaws.com (meli-data-challenge.s3.amazonaws.com)|52.216.232.3|:443... connected.\n",
            "HTTP request sent, awaiting response... 200 OK\n",
            "Length: 135913048 (130M) [application/x-www-form-urlencoded]\n",
            "Saving to: ‘items_static_metadata_full.jl’\n",
            "\n",
            "items_static_metada 100%[===================>] 129.62M  33.9MB/s    in 3.8s    \n",
            "\n",
            "2021-07-19 20:14:53 (33.9 MB/s) - ‘items_static_metadata_full.jl’ saved [135913048/135913048]\n",
            "\n",
            "--2021-07-19 20:14:53--  https://meli-data-challenge.s3.amazonaws.com/2021/sample_submission.csv.gz\n",
            "Resolving meli-data-challenge.s3.amazonaws.com (meli-data-challenge.s3.amazonaws.com)... 52.216.86.91\n",
            "Connecting to meli-data-challenge.s3.amazonaws.com (meli-data-challenge.s3.amazonaws.com)|52.216.86.91|:443... connected.\n",
            "HTTP request sent, awaiting response... 200 OK\n",
            "Length: 19776711 (19M) [application/x-gzip]\n",
            "Saving to: ‘sample_submission.csv.gz’\n",
            "\n",
            "sample_submission.c 100%[===================>]  18.86M  20.6MB/s    in 0.9s    \n",
            "\n",
            "2021-07-19 20:14:54 (20.6 MB/s) - ‘sample_submission.csv.gz’ saved [19776711/19776711]\n",
            "\n"
          ],
          "name": "stdout"
        }
      ]
    },
    {
      "cell_type": "code",
      "metadata": {
        "id": "NcLjJFcUAVdR"
      },
      "source": [
        "import pandas as pd "
      ],
      "execution_count": 4,
      "outputs": []
    },
    {
      "cell_type": "code",
      "metadata": {
        "id": "4pNRaVNnCNuP"
      },
      "source": [
        "df = pd.read_parquet('train_data.parquet')"
      ],
      "execution_count": 5,
      "outputs": []
    },
    {
      "cell_type": "code",
      "metadata": {
        "colab": {
          "base_uri": "https://localhost:8080/",
          "height": 206
        },
        "id": "q7At4HCRCWIW",
        "outputId": "218f097e-1c57-4050-d398-56aca8505b6a"
      },
      "source": [
        "df.head()"
      ],
      "execution_count": 6,
      "outputs": [
        {
          "output_type": "execute_result",
          "data": {
            "text/html": [
              "<div>\n",
              "<style scoped>\n",
              "    .dataframe tbody tr th:only-of-type {\n",
              "        vertical-align: middle;\n",
              "    }\n",
              "\n",
              "    .dataframe tbody tr th {\n",
              "        vertical-align: top;\n",
              "    }\n",
              "\n",
              "    .dataframe thead th {\n",
              "        text-align: right;\n",
              "    }\n",
              "</style>\n",
              "<table border=\"1\" class=\"dataframe\">\n",
              "  <thead>\n",
              "    <tr style=\"text-align: right;\">\n",
              "      <th></th>\n",
              "      <th>sku</th>\n",
              "      <th>date</th>\n",
              "      <th>sold_quantity</th>\n",
              "      <th>current_price</th>\n",
              "      <th>currency</th>\n",
              "      <th>listing_type</th>\n",
              "      <th>shipping_logistic_type</th>\n",
              "      <th>shipping_payment</th>\n",
              "      <th>minutes_active</th>\n",
              "    </tr>\n",
              "  </thead>\n",
              "  <tbody>\n",
              "    <tr>\n",
              "      <th>0</th>\n",
              "      <td>464801</td>\n",
              "      <td>2021-02-01</td>\n",
              "      <td>0</td>\n",
              "      <td>156.78</td>\n",
              "      <td>REA</td>\n",
              "      <td>classic</td>\n",
              "      <td>fulfillment</td>\n",
              "      <td>free_shipping</td>\n",
              "      <td>1440.0</td>\n",
              "    </tr>\n",
              "    <tr>\n",
              "      <th>1</th>\n",
              "      <td>464801</td>\n",
              "      <td>2021-02-02</td>\n",
              "      <td>0</td>\n",
              "      <td>156.78</td>\n",
              "      <td>REA</td>\n",
              "      <td>classic</td>\n",
              "      <td>fulfillment</td>\n",
              "      <td>free_shipping</td>\n",
              "      <td>1440.0</td>\n",
              "    </tr>\n",
              "    <tr>\n",
              "      <th>2</th>\n",
              "      <td>464801</td>\n",
              "      <td>2021-02-03</td>\n",
              "      <td>0</td>\n",
              "      <td>156.78</td>\n",
              "      <td>REA</td>\n",
              "      <td>classic</td>\n",
              "      <td>fulfillment</td>\n",
              "      <td>free_shipping</td>\n",
              "      <td>1440.0</td>\n",
              "    </tr>\n",
              "    <tr>\n",
              "      <th>3</th>\n",
              "      <td>464801</td>\n",
              "      <td>2021-02-04</td>\n",
              "      <td>0</td>\n",
              "      <td>156.78</td>\n",
              "      <td>REA</td>\n",
              "      <td>classic</td>\n",
              "      <td>fulfillment</td>\n",
              "      <td>free_shipping</td>\n",
              "      <td>1440.0</td>\n",
              "    </tr>\n",
              "    <tr>\n",
              "      <th>4</th>\n",
              "      <td>464801</td>\n",
              "      <td>2021-02-05</td>\n",
              "      <td>1</td>\n",
              "      <td>156.78</td>\n",
              "      <td>REA</td>\n",
              "      <td>classic</td>\n",
              "      <td>fulfillment</td>\n",
              "      <td>free_shipping</td>\n",
              "      <td>1440.0</td>\n",
              "    </tr>\n",
              "  </tbody>\n",
              "</table>\n",
              "</div>"
            ],
            "text/plain": [
              "      sku        date  ...  shipping_payment  minutes_active\n",
              "0  464801  2021-02-01  ...     free_shipping          1440.0\n",
              "1  464801  2021-02-02  ...     free_shipping          1440.0\n",
              "2  464801  2021-02-03  ...     free_shipping          1440.0\n",
              "3  464801  2021-02-04  ...     free_shipping          1440.0\n",
              "4  464801  2021-02-05  ...     free_shipping          1440.0\n",
              "\n",
              "[5 rows x 9 columns]"
            ]
          },
          "metadata": {
            "tags": []
          },
          "execution_count": 6
        }
      ]
    },
    {
      "cell_type": "code",
      "metadata": {
        "colab": {
          "base_uri": "https://localhost:8080/"
        },
        "id": "T6awArEvGMdY",
        "outputId": "7405399b-24c6-490b-e613-d03300c3fa80"
      },
      "source": [
        "df.shape"
      ],
      "execution_count": 7,
      "outputs": [
        {
          "output_type": "execute_result",
          "data": {
            "text/plain": [
              "(37660279, 9)"
            ]
          },
          "metadata": {
            "tags": []
          },
          "execution_count": 7
        }
      ]
    },
    {
      "cell_type": "code",
      "metadata": {
        "colab": {
          "base_uri": "https://localhost:8080/"
        },
        "id": "Ch42d6A-pJmw",
        "outputId": "1c71aa7a-d699-48e7-aa21-7ec7067fad4e"
      },
      "source": [
        "(df.minutes_active/60).value_counts()"
      ],
      "execution_count": 28,
      "outputs": [
        {
          "output_type": "execute_result",
          "data": {
            "text/plain": [
              "24.000000    26322765\n",
              "0.000000      9564117\n",
              "14.301111         145\n",
              "9.503333          132\n",
              "23.953894         126\n",
              "               ...   \n",
              "9.230520            1\n",
              "6.546176            1\n",
              "23.763444           1\n",
              "6.236596            1\n",
              "17.102807           1\n",
              "Name: minutes_active, Length: 1008868, dtype: int64"
            ]
          },
          "metadata": {
            "tags": []
          },
          "execution_count": 28
        }
      ]
    },
    {
      "cell_type": "code",
      "metadata": {
        "colab": {
          "base_uri": "https://localhost:8080/"
        },
        "id": "S_4wWb5jrACZ",
        "outputId": "66af22a4-6595-48e7-a330-f774db0bffe8"
      },
      "source": [
        "df.shipping_payment.value_counts()"
      ],
      "execution_count": 29,
      "outputs": [
        {
          "output_type": "execute_result",
          "data": {
            "text/plain": [
              "paid_shipping    24947755\n",
              "free_shipping    12712524\n",
              "Name: shipping_payment, dtype: int64"
            ]
          },
          "metadata": {
            "tags": []
          },
          "execution_count": 29
        }
      ]
    },
    {
      "cell_type": "code",
      "metadata": {
        "colab": {
          "base_uri": "https://localhost:8080/"
        },
        "id": "JOwTuuxsrDvy",
        "outputId": "84595b29-67c0-44e3-972e-0524e48bf7c9"
      },
      "source": [
        "df.listing_type.value_counts()"
      ],
      "execution_count": 30,
      "outputs": [
        {
          "output_type": "execute_result",
          "data": {
            "text/plain": [
              "classic    18860849\n",
              "premium    18799430\n",
              "Name: listing_type, dtype: int64"
            ]
          },
          "metadata": {
            "tags": []
          },
          "execution_count": 30
        }
      ]
    },
    {
      "cell_type": "code",
      "metadata": {
        "colab": {
          "base_uri": "https://localhost:8080/"
        },
        "id": "2NVrENbgsMrt",
        "outputId": "ca2caedb-67c0-46b7-b257-7dcf46de7070"
      },
      "source": [
        "df.currency.value_counts()"
      ],
      "execution_count": null,
      "outputs": [
        {
          "output_type": "execute_result",
          "data": {
            "text/plain": [
              "REA    19229164\n",
              "MEX    15157756\n",
              "ARG     3273179\n",
              "DOL         180\n",
              "Name: currency, dtype: int64"
            ]
          },
          "metadata": {
            "tags": []
          },
          "execution_count": 32
        }
      ]
    },
    {
      "cell_type": "code",
      "metadata": {
        "colab": {
          "base_uri": "https://localhost:8080/"
        },
        "id": "IW6KexDD1vbH",
        "outputId": "1c6b326f-90fe-492c-a999-f7b2e6c28680"
      },
      "source": [
        "df.loc[:,'date'].min(),df.loc[:,'date'].max()"
      ],
      "execution_count": null,
      "outputs": [
        {
          "output_type": "execute_result",
          "data": {
            "text/plain": [
              "('2021-02-01', '2021-03-31')"
            ]
          },
          "metadata": {
            "tags": []
          },
          "execution_count": 39
        }
      ]
    },
    {
      "cell_type": "code",
      "metadata": {
        "colab": {
          "base_uri": "https://localhost:8080/",
          "height": 294
        },
        "id": "_ER87nXE3oiE",
        "outputId": "b5437520-8f22-4c5c-95d3-ff23e8aff7c1"
      },
      "source": [
        "(df.loc[df.loc[:,'sold_quantity']>0,:].groupby('sku').std()).describe()"
      ],
      "execution_count": null,
      "outputs": [
        {
          "output_type": "execute_result",
          "data": {
            "text/html": [
              "<div>\n",
              "<style scoped>\n",
              "    .dataframe tbody tr th:only-of-type {\n",
              "        vertical-align: middle;\n",
              "    }\n",
              "\n",
              "    .dataframe tbody tr th {\n",
              "        vertical-align: top;\n",
              "    }\n",
              "\n",
              "    .dataframe thead th {\n",
              "        text-align: right;\n",
              "    }\n",
              "</style>\n",
              "<table border=\"1\" class=\"dataframe\">\n",
              "  <thead>\n",
              "    <tr style=\"text-align: right;\">\n",
              "      <th></th>\n",
              "      <th>sold_quantity</th>\n",
              "      <th>current_price</th>\n",
              "      <th>minutes_active</th>\n",
              "    </tr>\n",
              "  </thead>\n",
              "  <tbody>\n",
              "    <tr>\n",
              "      <th>count</th>\n",
              "      <td>628041.000000</td>\n",
              "      <td>6.280410e+05</td>\n",
              "      <td>628041.000000</td>\n",
              "    </tr>\n",
              "    <tr>\n",
              "      <th>mean</th>\n",
              "      <td>1.877152</td>\n",
              "      <td>3.808598e+01</td>\n",
              "      <td>145.439505</td>\n",
              "    </tr>\n",
              "    <tr>\n",
              "      <th>std</th>\n",
              "      <td>9.298632</td>\n",
              "      <td>9.046592e+03</td>\n",
              "      <td>147.349121</td>\n",
              "    </tr>\n",
              "    <tr>\n",
              "      <th>min</th>\n",
              "      <td>0.000000</td>\n",
              "      <td>0.000000e+00</td>\n",
              "      <td>0.000000</td>\n",
              "    </tr>\n",
              "    <tr>\n",
              "      <th>25%</th>\n",
              "      <td>0.500000</td>\n",
              "      <td>0.000000e+00</td>\n",
              "      <td>0.000000</td>\n",
              "    </tr>\n",
              "    <tr>\n",
              "      <th>50%</th>\n",
              "      <td>0.892582</td>\n",
              "      <td>1.068611e+00</td>\n",
              "      <td>119.163403</td>\n",
              "    </tr>\n",
              "    <tr>\n",
              "      <th>75%</th>\n",
              "      <td>1.674938</td>\n",
              "      <td>6.416680e+00</td>\n",
              "      <td>243.517809</td>\n",
              "    </tr>\n",
              "    <tr>\n",
              "      <th>max</th>\n",
              "      <td>3461.287694</td>\n",
              "      <td>7.071064e+06</td>\n",
              "      <td>1018.233765</td>\n",
              "    </tr>\n",
              "  </tbody>\n",
              "</table>\n",
              "</div>"
            ],
            "text/plain": [
              "       sold_quantity  current_price  minutes_active\n",
              "count  628041.000000   6.280410e+05   628041.000000\n",
              "mean        1.877152   3.808598e+01      145.439505\n",
              "std         9.298632   9.046592e+03      147.349121\n",
              "min         0.000000   0.000000e+00        0.000000\n",
              "25%         0.500000   0.000000e+00        0.000000\n",
              "50%         0.892582   1.068611e+00      119.163403\n",
              "75%         1.674938   6.416680e+00      243.517809\n",
              "max      3461.287694   7.071064e+06     1018.233765"
            ]
          },
          "metadata": {
            "tags": []
          },
          "execution_count": 55
        }
      ]
    },
    {
      "cell_type": "code",
      "metadata": {
        "colab": {
          "base_uri": "https://localhost:8080/",
          "height": 202
        },
        "id": "O7lqZwdA0qri",
        "outputId": "c3f5beb9-3431-48d4-adbf-5a3bb42f2881"
      },
      "source": [
        "df.loc[df.loc[:,'sku']==464801,:].head()"
      ],
      "execution_count": null,
      "outputs": [
        {
          "output_type": "execute_result",
          "data": {
            "text/html": [
              "<div>\n",
              "<style scoped>\n",
              "    .dataframe tbody tr th:only-of-type {\n",
              "        vertical-align: middle;\n",
              "    }\n",
              "\n",
              "    .dataframe tbody tr th {\n",
              "        vertical-align: top;\n",
              "    }\n",
              "\n",
              "    .dataframe thead th {\n",
              "        text-align: right;\n",
              "    }\n",
              "</style>\n",
              "<table border=\"1\" class=\"dataframe\">\n",
              "  <thead>\n",
              "    <tr style=\"text-align: right;\">\n",
              "      <th></th>\n",
              "      <th>sku</th>\n",
              "      <th>date</th>\n",
              "      <th>sold_quantity</th>\n",
              "      <th>current_price</th>\n",
              "      <th>currency</th>\n",
              "      <th>listing_type</th>\n",
              "      <th>shipping_logistic_type</th>\n",
              "      <th>shipping_payment</th>\n",
              "      <th>minutes_active</th>\n",
              "    </tr>\n",
              "  </thead>\n",
              "  <tbody>\n",
              "    <tr>\n",
              "      <th>0</th>\n",
              "      <td>464801</td>\n",
              "      <td>2021-02-01</td>\n",
              "      <td>0</td>\n",
              "      <td>156.78</td>\n",
              "      <td>REA</td>\n",
              "      <td>classic</td>\n",
              "      <td>fulfillment</td>\n",
              "      <td>free_shipping</td>\n",
              "      <td>1440.0</td>\n",
              "    </tr>\n",
              "    <tr>\n",
              "      <th>1</th>\n",
              "      <td>464801</td>\n",
              "      <td>2021-02-02</td>\n",
              "      <td>0</td>\n",
              "      <td>156.78</td>\n",
              "      <td>REA</td>\n",
              "      <td>classic</td>\n",
              "      <td>fulfillment</td>\n",
              "      <td>free_shipping</td>\n",
              "      <td>1440.0</td>\n",
              "    </tr>\n",
              "    <tr>\n",
              "      <th>2</th>\n",
              "      <td>464801</td>\n",
              "      <td>2021-02-03</td>\n",
              "      <td>0</td>\n",
              "      <td>156.78</td>\n",
              "      <td>REA</td>\n",
              "      <td>classic</td>\n",
              "      <td>fulfillment</td>\n",
              "      <td>free_shipping</td>\n",
              "      <td>1440.0</td>\n",
              "    </tr>\n",
              "    <tr>\n",
              "      <th>3</th>\n",
              "      <td>464801</td>\n",
              "      <td>2021-02-04</td>\n",
              "      <td>0</td>\n",
              "      <td>156.78</td>\n",
              "      <td>REA</td>\n",
              "      <td>classic</td>\n",
              "      <td>fulfillment</td>\n",
              "      <td>free_shipping</td>\n",
              "      <td>1440.0</td>\n",
              "    </tr>\n",
              "    <tr>\n",
              "      <th>4</th>\n",
              "      <td>464801</td>\n",
              "      <td>2021-02-05</td>\n",
              "      <td>1</td>\n",
              "      <td>156.78</td>\n",
              "      <td>REA</td>\n",
              "      <td>classic</td>\n",
              "      <td>fulfillment</td>\n",
              "      <td>free_shipping</td>\n",
              "      <td>1440.0</td>\n",
              "    </tr>\n",
              "  </tbody>\n",
              "</table>\n",
              "</div>"
            ],
            "text/plain": [
              "      sku        date  ...  shipping_payment  minutes_active\n",
              "0  464801  2021-02-01  ...     free_shipping          1440.0\n",
              "1  464801  2021-02-02  ...     free_shipping          1440.0\n",
              "2  464801  2021-02-03  ...     free_shipping          1440.0\n",
              "3  464801  2021-02-04  ...     free_shipping          1440.0\n",
              "4  464801  2021-02-05  ...     free_shipping          1440.0\n",
              "\n",
              "[5 rows x 9 columns]"
            ]
          },
          "metadata": {
            "tags": []
          },
          "execution_count": 56
        }
      ]
    },
    {
      "cell_type": "code",
      "metadata": {
        "colab": {
          "base_uri": "https://localhost:8080/"
        },
        "id": "5UB0i8Z4HcNZ",
        "outputId": "5f72751b-784c-4ef7-e406-4e13edbf0972"
      },
      "source": [
        "#Existe skus comuns em currency,listing_type,shipping_logistic_type,shipping_payment ou estes são chave também? \n",
        "print(df.sku.nunique(),\n",
        "      (df.sku.astype('str')+df.currency.astype('str')).nunique(),\n",
        "      (df.sku.astype('str')+df.currency.astype('str')+df.listing_type.astype('str')).nunique(),\n",
        "      (df.sku.astype('str')+df.currency.astype('str')+df.listing_type.astype('str')+df.shipping_logistic_type.astype('str')).nunique(),\n",
        "      (df.sku.astype('str')+df.currency.astype('str')+df.listing_type.astype('str')+df.shipping_logistic_type.astype('str')+df.shipping_payment.astype('str')).nunique()\n",
        "      )"
      ],
      "execution_count": null,
      "outputs": [
        {
          "output_type": "stream",
          "text": [
            "660916 660918 704540 946079 1003406\n"
          ],
          "name": "stdout"
        }
      ]
    },
    {
      "cell_type": "markdown",
      "metadata": {
        "id": "mW6RcHV3-Lna"
      },
      "source": [
        "Trial 1 :\n",
        "Considerando que Taxas de consumo são constantes podemos considerar  que :  \n",
        "$t_i = \\frac{QTD_i}{Tx_i}$ \n",
        "\n",
        "$t_i$ : inventory days do sku nº i\n",
        "\n",
        "$QTD$ : Quantidade de itens do sku nº i\n",
        "\n",
        "$Tx_i$ : Taxa de consumo do sku nº i, considerada invariável no tempo*\n",
        "\n",
        "\n"
      ]
    },
    {
      "cell_type": "code",
      "metadata": {
        "id": "Z7q1ZuH9-H4Q"
      },
      "source": [
        "g_df = df.loc[:#df.loc[:,'sku']==464801\n",
        "              ,:].groupby(['sku']).agg({'sold_quantity':'sum','minutes_active':'sum','current_price':'describe','currency':'nunique','listing_type':'nunique','shipping_logistic_type':'nunique','shipping_payment':'nunique'})"
      ],
      "execution_count": null,
      "outputs": []
    },
    {
      "cell_type": "code",
      "metadata": {
        "id": "NibqLE_OHDpB"
      },
      "source": [
        "g_df.to_csv('g_df.csv')"
      ],
      "execution_count": null,
      "outputs": []
    },
    {
      "cell_type": "code",
      "metadata": {
        "id": "5XCsuG6mUZuL"
      },
      "source": [
        "g_df = pd.read_csv('g_df.csv',index_col=0,header=[0,1])"
      ],
      "execution_count": 48,
      "outputs": []
    },
    {
      "cell_type": "code",
      "metadata": {
        "colab": {
          "base_uri": "https://localhost:8080/",
          "height": 520
        },
        "id": "EyV3OeBfsEHp",
        "outputId": "b311c8fe-bf6d-4fb9-e06b-0ad2f8e6758b"
      },
      "source": [
        "g_df.corr()"
      ],
      "execution_count": 49,
      "outputs": [
        {
          "output_type": "execute_result",
          "data": {
            "text/html": [
              "<div>\n",
              "<style scoped>\n",
              "    .dataframe tbody tr th:only-of-type {\n",
              "        vertical-align: middle;\n",
              "    }\n",
              "\n",
              "    .dataframe tbody tr th {\n",
              "        vertical-align: top;\n",
              "    }\n",
              "\n",
              "    .dataframe thead tr th {\n",
              "        text-align: left;\n",
              "    }\n",
              "</style>\n",
              "<table border=\"1\" class=\"dataframe\">\n",
              "  <thead>\n",
              "    <tr>\n",
              "      <th></th>\n",
              "      <th></th>\n",
              "      <th>sold_quantity</th>\n",
              "      <th>minutes_active</th>\n",
              "      <th colspan=\"8\" halign=\"left\">current_price</th>\n",
              "      <th>currency</th>\n",
              "      <th>listing_type</th>\n",
              "      <th>shipping_logistic_type</th>\n",
              "      <th>shipping_payment</th>\n",
              "    </tr>\n",
              "    <tr>\n",
              "      <th></th>\n",
              "      <th></th>\n",
              "      <th>sold_quantity</th>\n",
              "      <th>minutes_active</th>\n",
              "      <th>count</th>\n",
              "      <th>mean</th>\n",
              "      <th>std</th>\n",
              "      <th>min</th>\n",
              "      <th>25%</th>\n",
              "      <th>50%</th>\n",
              "      <th>75%</th>\n",
              "      <th>max</th>\n",
              "      <th>currency</th>\n",
              "      <th>listing_type</th>\n",
              "      <th>shipping_logistic_type</th>\n",
              "      <th>shipping_payment</th>\n",
              "    </tr>\n",
              "  </thead>\n",
              "  <tbody>\n",
              "    <tr>\n",
              "      <th>sold_quantity</th>\n",
              "      <th>sold_quantity</th>\n",
              "      <td>1.000000</td>\n",
              "      <td>0.030416</td>\n",
              "      <td>0.021477</td>\n",
              "      <td>-0.000214</td>\n",
              "      <td>-0.000064</td>\n",
              "      <td>-0.000204</td>\n",
              "      <td>-0.000209</td>\n",
              "      <td>-0.000211</td>\n",
              "      <td>-0.000214</td>\n",
              "      <td>-0.000165</td>\n",
              "      <td>-0.000038</td>\n",
              "      <td>0.009254</td>\n",
              "      <td>-0.020466</td>\n",
              "      <td>0.002865</td>\n",
              "    </tr>\n",
              "    <tr>\n",
              "      <th>minutes_active</th>\n",
              "      <th>minutes_active</th>\n",
              "      <td>0.030416</td>\n",
              "      <td>1.000000</td>\n",
              "      <td>0.358708</td>\n",
              "      <td>-0.003457</td>\n",
              "      <td>-0.001190</td>\n",
              "      <td>-0.003278</td>\n",
              "      <td>-0.003356</td>\n",
              "      <td>-0.003392</td>\n",
              "      <td>-0.003472</td>\n",
              "      <td>-0.002653</td>\n",
              "      <td>0.001577</td>\n",
              "      <td>0.023653</td>\n",
              "      <td>0.046871</td>\n",
              "      <td>0.022734</td>\n",
              "    </tr>\n",
              "    <tr>\n",
              "      <th rowspan=\"8\" valign=\"top\">current_price</th>\n",
              "      <th>count</th>\n",
              "      <td>0.021477</td>\n",
              "      <td>0.358708</td>\n",
              "      <td>1.000000</td>\n",
              "      <td>-0.000563</td>\n",
              "      <td>-0.002668</td>\n",
              "      <td>-0.000451</td>\n",
              "      <td>-0.000449</td>\n",
              "      <td>-0.000532</td>\n",
              "      <td>-0.000532</td>\n",
              "      <td>-0.001960</td>\n",
              "      <td>0.000434</td>\n",
              "      <td>-0.007349</td>\n",
              "      <td>-0.125818</td>\n",
              "      <td>0.018316</td>\n",
              "    </tr>\n",
              "    <tr>\n",
              "      <th>mean</th>\n",
              "      <td>-0.000214</td>\n",
              "      <td>-0.003457</td>\n",
              "      <td>-0.000563</td>\n",
              "      <td>1.000000</td>\n",
              "      <td>0.027305</td>\n",
              "      <td>0.999389</td>\n",
              "      <td>0.999532</td>\n",
              "      <td>0.999549</td>\n",
              "      <td>0.999478</td>\n",
              "      <td>0.722721</td>\n",
              "      <td>-0.000003</td>\n",
              "      <td>-0.000321</td>\n",
              "      <td>0.001634</td>\n",
              "      <td>-0.000172</td>\n",
              "    </tr>\n",
              "    <tr>\n",
              "      <th>std</th>\n",
              "      <td>-0.000064</td>\n",
              "      <td>-0.001190</td>\n",
              "      <td>-0.002668</td>\n",
              "      <td>0.027305</td>\n",
              "      <td>1.000000</td>\n",
              "      <td>0.000005</td>\n",
              "      <td>0.000253</td>\n",
              "      <td>0.000616</td>\n",
              "      <td>0.003430</td>\n",
              "      <td>0.701663</td>\n",
              "      <td>-0.000003</td>\n",
              "      <td>-0.000143</td>\n",
              "      <td>0.002431</td>\n",
              "      <td>0.004672</td>\n",
              "    </tr>\n",
              "    <tr>\n",
              "      <th>min</th>\n",
              "      <td>-0.000204</td>\n",
              "      <td>-0.003278</td>\n",
              "      <td>-0.000451</td>\n",
              "      <td>0.999389</td>\n",
              "      <td>0.000005</td>\n",
              "      <td>1.000000</td>\n",
              "      <td>0.999852</td>\n",
              "      <td>0.999801</td>\n",
              "      <td>0.999351</td>\n",
              "      <td>0.705254</td>\n",
              "      <td>-0.000003</td>\n",
              "      <td>-0.000321</td>\n",
              "      <td>0.001485</td>\n",
              "      <td>-0.000457</td>\n",
              "    </tr>\n",
              "    <tr>\n",
              "      <th>25%</th>\n",
              "      <td>-0.000209</td>\n",
              "      <td>-0.003356</td>\n",
              "      <td>-0.000449</td>\n",
              "      <td>0.999532</td>\n",
              "      <td>0.000253</td>\n",
              "      <td>0.999852</td>\n",
              "      <td>1.000000</td>\n",
              "      <td>0.999949</td>\n",
              "      <td>0.999500</td>\n",
              "      <td>0.705360</td>\n",
              "      <td>-0.000003</td>\n",
              "      <td>-0.000321</td>\n",
              "      <td>0.001525</td>\n",
              "      <td>-0.000354</td>\n",
              "    </tr>\n",
              "    <tr>\n",
              "      <th>50%</th>\n",
              "      <td>-0.000211</td>\n",
              "      <td>-0.003392</td>\n",
              "      <td>-0.000532</td>\n",
              "      <td>0.999549</td>\n",
              "      <td>0.000616</td>\n",
              "      <td>0.999801</td>\n",
              "      <td>0.999949</td>\n",
              "      <td>1.000000</td>\n",
              "      <td>0.999559</td>\n",
              "      <td>0.705401</td>\n",
              "      <td>-0.000003</td>\n",
              "      <td>-0.000320</td>\n",
              "      <td>0.001546</td>\n",
              "      <td>-0.000302</td>\n",
              "    </tr>\n",
              "    <tr>\n",
              "      <th>75%</th>\n",
              "      <td>-0.000214</td>\n",
              "      <td>-0.003472</td>\n",
              "      <td>-0.000532</td>\n",
              "      <td>0.999478</td>\n",
              "      <td>0.003430</td>\n",
              "      <td>0.999351</td>\n",
              "      <td>0.999500</td>\n",
              "      <td>0.999559</td>\n",
              "      <td>1.000000</td>\n",
              "      <td>0.705712</td>\n",
              "      <td>-0.000003</td>\n",
              "      <td>-0.000318</td>\n",
              "      <td>0.001600</td>\n",
              "      <td>-0.000165</td>\n",
              "    </tr>\n",
              "    <tr>\n",
              "      <th>max</th>\n",
              "      <td>-0.000165</td>\n",
              "      <td>-0.002653</td>\n",
              "      <td>-0.001960</td>\n",
              "      <td>0.722721</td>\n",
              "      <td>0.701663</td>\n",
              "      <td>0.705254</td>\n",
              "      <td>0.705360</td>\n",
              "      <td>0.705401</td>\n",
              "      <td>0.705712</td>\n",
              "      <td>1.000000</td>\n",
              "      <td>-0.000004</td>\n",
              "      <td>-0.000390</td>\n",
              "      <td>0.002453</td>\n",
              "      <td>0.002797</td>\n",
              "    </tr>\n",
              "    <tr>\n",
              "      <th>currency</th>\n",
              "      <th>currency</th>\n",
              "      <td>-0.000038</td>\n",
              "      <td>0.001577</td>\n",
              "      <td>0.000434</td>\n",
              "      <td>-0.000003</td>\n",
              "      <td>-0.000003</td>\n",
              "      <td>-0.000003</td>\n",
              "      <td>-0.000003</td>\n",
              "      <td>-0.000003</td>\n",
              "      <td>-0.000003</td>\n",
              "      <td>-0.000004</td>\n",
              "      <td>1.000000</td>\n",
              "      <td>0.003041</td>\n",
              "      <td>0.002224</td>\n",
              "      <td>-0.000520</td>\n",
              "    </tr>\n",
              "    <tr>\n",
              "      <th>listing_type</th>\n",
              "      <th>listing_type</th>\n",
              "      <td>0.009254</td>\n",
              "      <td>0.023653</td>\n",
              "      <td>-0.007349</td>\n",
              "      <td>-0.000321</td>\n",
              "      <td>-0.000143</td>\n",
              "      <td>-0.000321</td>\n",
              "      <td>-0.000321</td>\n",
              "      <td>-0.000320</td>\n",
              "      <td>-0.000318</td>\n",
              "      <td>-0.000390</td>\n",
              "      <td>0.003041</td>\n",
              "      <td>1.000000</td>\n",
              "      <td>0.036998</td>\n",
              "      <td>0.053996</td>\n",
              "    </tr>\n",
              "    <tr>\n",
              "      <th>shipping_logistic_type</th>\n",
              "      <th>shipping_logistic_type</th>\n",
              "      <td>-0.020466</td>\n",
              "      <td>0.046871</td>\n",
              "      <td>-0.125818</td>\n",
              "      <td>0.001634</td>\n",
              "      <td>0.002431</td>\n",
              "      <td>0.001485</td>\n",
              "      <td>0.001525</td>\n",
              "      <td>0.001546</td>\n",
              "      <td>0.001600</td>\n",
              "      <td>0.002453</td>\n",
              "      <td>0.002224</td>\n",
              "      <td>0.036998</td>\n",
              "      <td>1.000000</td>\n",
              "      <td>0.034628</td>\n",
              "    </tr>\n",
              "    <tr>\n",
              "      <th>shipping_payment</th>\n",
              "      <th>shipping_payment</th>\n",
              "      <td>0.002865</td>\n",
              "      <td>0.022734</td>\n",
              "      <td>0.018316</td>\n",
              "      <td>-0.000172</td>\n",
              "      <td>0.004672</td>\n",
              "      <td>-0.000457</td>\n",
              "      <td>-0.000354</td>\n",
              "      <td>-0.000302</td>\n",
              "      <td>-0.000165</td>\n",
              "      <td>0.002797</td>\n",
              "      <td>-0.000520</td>\n",
              "      <td>0.053996</td>\n",
              "      <td>0.034628</td>\n",
              "      <td>1.000000</td>\n",
              "    </tr>\n",
              "  </tbody>\n",
              "</table>\n",
              "</div>"
            ],
            "text/plain": [
              "                                              sold_quantity  ... shipping_payment\n",
              "                                              sold_quantity  ... shipping_payment\n",
              "sold_quantity          sold_quantity               1.000000  ...         0.002865\n",
              "minutes_active         minutes_active              0.030416  ...         0.022734\n",
              "current_price          count                       0.021477  ...         0.018316\n",
              "                       mean                       -0.000214  ...        -0.000172\n",
              "                       std                        -0.000064  ...         0.004672\n",
              "                       min                        -0.000204  ...        -0.000457\n",
              "                       25%                        -0.000209  ...        -0.000354\n",
              "                       50%                        -0.000211  ...        -0.000302\n",
              "                       75%                        -0.000214  ...        -0.000165\n",
              "                       max                        -0.000165  ...         0.002797\n",
              "currency               currency                   -0.000038  ...        -0.000520\n",
              "listing_type           listing_type                0.009254  ...         0.053996\n",
              "shipping_logistic_type shipping_logistic_type     -0.020466  ...         0.034628\n",
              "shipping_payment       shipping_payment            0.002865  ...         1.000000\n",
              "\n",
              "[14 rows x 14 columns]"
            ]
          },
          "metadata": {
            "tags": []
          },
          "execution_count": 49
        }
      ]
    },
    {
      "cell_type": "code",
      "metadata": {
        "id": "QM43-UgoUf1S"
      },
      "source": [
        "g_df = g_df.reset_index()"
      ],
      "execution_count": 50,
      "outputs": []
    },
    {
      "cell_type": "code",
      "metadata": {
        "id": "BKX9HRVQCZ7N"
      },
      "source": [
        "df_test = pd.read_csv('test_data.csv')"
      ],
      "execution_count": 51,
      "outputs": []
    },
    {
      "cell_type": "code",
      "metadata": {
        "colab": {
          "base_uri": "https://localhost:8080/"
        },
        "id": "rzeqUexTU7FS",
        "outputId": "149310c9-8cb0-4779-aae1-4dc941cdd913"
      },
      "source": [
        "pd.merge(df_test,g_df,on='sku').sku.count(),df_test.count()"
      ],
      "execution_count": 52,
      "outputs": [
        {
          "output_type": "stream",
          "text": [
            "/usr/local/lib/python3.7/dist-packages/pandas/core/reshape/merge.py:643: UserWarning: merging between different levels can give an unintended result (1 levels on the left,2 on the right)\n",
            "  warnings.warn(msg, UserWarning)\n",
            "/usr/local/lib/python3.7/dist-packages/pandas/core/generic.py:3889: PerformanceWarning: dropping on a non-lexsorted multi-index without a level parameter may impact performance.\n",
            "  obj = obj._drop_axis(labels, axis, level=level, errors=errors)\n"
          ],
          "name": "stderr"
        },
        {
          "output_type": "execute_result",
          "data": {
            "text/plain": [
              "(551472, sku             551472\n",
              " target_stock    551472\n",
              " dtype: int64)"
            ]
          },
          "metadata": {
            "tags": []
          },
          "execution_count": 52
        }
      ]
    },
    {
      "cell_type": "code",
      "metadata": {
        "id": "nmOPN7ZGtw8-"
      },
      "source": [
        "g_df.columns = g_df.columns.to_flat_index()\n"
      ],
      "execution_count": 53,
      "outputs": []
    },
    {
      "cell_type": "code",
      "metadata": {
        "id": "UGhUYoV9vSkU"
      },
      "source": [
        "g_df.columns = ['_'.join(i) for i in g_df.columns]"
      ],
      "execution_count": 54,
      "outputs": []
    },
    {
      "cell_type": "code",
      "metadata": {
        "id": "fvXanXE6v645"
      },
      "source": [
        "g_df.loc[:,'Tx'] = (g_df.sold_quantity_sold_quantity)/(g_df.minutes_active_minutes_active/60./24.).apply(lambda x : x if x>1 else 1)"
      ],
      "execution_count": 55,
      "outputs": []
    },
    {
      "cell_type": "code",
      "metadata": {
        "colab": {
          "base_uri": "https://localhost:8080/",
          "height": 284
        },
        "id": "Zp2U9BHi2xCc",
        "outputId": "a90300e5-83d4-44fc-97a0-492f0a33ad7d"
      },
      "source": [
        "np.log1p(g_df.loc[:,'Tx']).plot.density()"
      ],
      "execution_count": 56,
      "outputs": [
        {
          "output_type": "execute_result",
          "data": {
            "text/plain": [
              "<matplotlib.axes._subplots.AxesSubplot at 0x7fc1819671d0>"
            ]
          },
          "metadata": {
            "tags": []
          },
          "execution_count": 56
        },
        {
          "output_type": "display_data",
          "data": {
            "image/png": "[encoded data removed]",
            "text/plain": [
              "<Figure size 432x288 with 1 Axes>"
            ]
          },
          "metadata": {
            "tags": [],
            "needs_background": "light"
          }
        }
      ]
    },
    {
      "cell_type": "code",
      "metadata": {
        "colab": {
          "base_uri": "https://localhost:8080/"
        },
        "id": "XGsVMA6wzcyK",
        "outputId": "ad9932e9-301e-4cf5-9c46-642c6f5b34f5"
      },
      "source": [
        "!pip install catboost"
      ],
      "execution_count": 57,
      "outputs": [
        {
          "output_type": "stream",
          "text": [
            "Requirement already satisfied: catboost in /usr/local/lib/python3.7/dist-packages (0.26)\n",
            "Requirement already satisfied: graphviz in /usr/local/lib/python3.7/dist-packages (from catboost) (0.10.1)\n",
            "Requirement already satisfied: matplotlib in /usr/local/lib/python3.7/dist-packages (from catboost) (3.2.2)\n",
            "Requirement already satisfied: scipy in /usr/local/lib/python3.7/dist-packages (from catboost) (1.4.1)\n",
            "Requirement already satisfied: six in /usr/local/lib/python3.7/dist-packages (from catboost) (1.15.0)\n",
            "Requirement already satisfied: numpy>=1.16.0 in /usr/local/lib/python3.7/dist-packages (from catboost) (1.19.5)\n",
            "Requirement already satisfied: pandas>=0.24.0 in /usr/local/lib/python3.7/dist-packages (from catboost) (1.1.5)\n",
            "Requirement already satisfied: plotly in /usr/local/lib/python3.7/dist-packages (from catboost) (4.4.1)\n",
            "Requirement already satisfied: pytz>=2017.2 in /usr/local/lib/python3.7/dist-packages (from pandas>=0.24.0->catboost) (2018.9)\n",
            "Requirement already satisfied: python-dateutil>=2.7.3 in /usr/local/lib/python3.7/dist-packages (from pandas>=0.24.0->catboost) (2.8.1)\n",
            "Requirement already satisfied: pyparsing!=2.0.4,!=2.1.2,!=2.1.6,>=2.0.1 in /usr/local/lib/python3.7/dist-packages (from matplotlib->catboost) (2.4.7)\n",
            "Requirement already satisfied: kiwisolver>=1.0.1 in /usr/local/lib/python3.7/dist-packages (from matplotlib->catboost) (1.3.1)\n",
            "Requirement already satisfied: cycler>=0.10 in /usr/local/lib/python3.7/dist-packages (from matplotlib->catboost) (0.10.0)\n",
            "Requirement already satisfied: retrying>=1.3.3 in /usr/local/lib/python3.7/dist-packages (from plotly->catboost) (1.3.3)\n"
          ],
          "name": "stdout"
        }
      ]
    },
    {
      "cell_type": "code",
      "metadata": {
        "id": "-b0XxqtOzUT_"
      },
      "source": [
        "from catboost import Pool, CatBoostClassifier\n"
      ],
      "execution_count": 69,
      "outputs": []
    },
    {
      "cell_type": "code",
      "metadata": {
        "id": "IGwnQPgM5fGN"
      },
      "source": [
        "g_df = pd.merge(g_df,df_test,left_on='sku_',right_on='sku', how='left')"
      ],
      "execution_count": 59,
      "outputs": []
    },
    {
      "cell_type": "code",
      "metadata": {
        "colab": {
          "base_uri": "https://localhost:8080/",
          "height": 282
        },
        "id": "cM5FooTB6MFv",
        "outputId": "35720669-45a1-4e53-95f9-a0ecc9c8d8f5"
      },
      "source": [
        "np.log1p(g_df.target_stock).plot.density()"
      ],
      "execution_count": 63,
      "outputs": [
        {
          "output_type": "execute_result",
          "data": {
            "text/plain": [
              "<matplotlib.axes._subplots.AxesSubplot at 0x7fc1690a2c10>"
            ]
          },
          "metadata": {
            "tags": []
          },
          "execution_count": 63
        },
        {
          "output_type": "display_data",
          "data": {
            "image/png": "[encoded data removed]",
            "text/plain": [
              "<Figure size 432x288 with 1 Axes>"
            ]
          },
          "metadata": {
            "tags": [],
            "needs_background": "light"
          }
        }
      ]
    },
    {
      "cell_type": "code",
      "metadata": {
        "id": "fn_ZP8eQ7Fgi"
      },
      "source": [
        "g_df.loc[:,'target'] = (g_df.target_stock.fillna(g_df.target_stock.median())/g_df.Tx).apply(lambda x : x if x <30 else 30).apply(lambda x : x if x > 1 else 1).round(0)"
      ],
      "execution_count": 68,
      "outputs": []
    },
    {
      "cell_type": "code",
      "metadata": {
        "id": "EoM4ZSXgD569"
      },
      "source": [
        "# initialize data\n",
        "train_data = g_df.loc[:,'current_price_count':'shipping_payment_shipping_payment'].sample(frac=.1,random_state=123)\n",
        "train_label = g_df.loc[:,'target'].sample(frac=.1,random_state=123)\n",
        "test_data = g_df.loc[~g_df.sku.isnull(),'current_price_count':'shipping_payment_shipping_payment']#.sample(frac=.1,random_state=1234)\n",
        "# initialize Pool\n",
        "train_pool = Pool(train_data, \n",
        "                  train_label)#, \n",
        "                  #cat_features=[0,2,5])\n",
        "test_pool = Pool(test_data)#, \n",
        "                 #cat_features=[0,2,5]) \n",
        "\n",
        "# specify the training parameters \n",
        "model = CatBoostClassifier()\n",
        "#train the model\n",
        "model.fit(train_pool)\n",
        "# make the prediction using the resulting model\n",
        "\n"
      ],
      "execution_count": 77,
      "outputs": []
    },
    {
      "cell_type": "code",
      "metadata": {
        "colab": {
          "base_uri": "https://localhost:8080/",
          "height": 316
        },
        "id": "WK8KYe1846YC",
        "outputId": "62dbfe29-6d21-4d25-ea36-1398c74c35f2"
      },
      "source": [
        "pd.DataFrame(model.predict(test_data)).hist()"
      ],
      "execution_count": 78,
      "outputs": [
        {
          "output_type": "execute_result",
          "data": {
            "text/plain": [
              "array([[<matplotlib.axes._subplots.AxesSubplot object at 0x7fc166652550>]],\n",
              "      dtype=object)"
            ]
          },
          "metadata": {
            "tags": []
          },
          "execution_count": 78
        },
        {
          "output_type": "display_data",
          "data": {
            "image/png": "[encoded data removed]",
            "text/plain": [
              "<Figure size 432x288 with 1 Axes>"
            ]
          },
          "metadata": {
            "tags": [],
            "needs_background": "light"
          }
        }
      ]
    },
    {
      "cell_type": "code",
      "metadata": {
        "id": "wJdV89FQ-spU"
      },
      "source": [
        "pd.DataFrame(model.predict_proba(test_data)).round(4).to_csv(\"test.csv.gz\",compression='gzip',index=False,header=False)"
      ],
      "execution_count": null,
      "outputs": []
    }
  ]
}
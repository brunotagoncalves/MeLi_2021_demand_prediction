{
  "nbformat": 4,
  "nbformat_minor": 0,
  "metadata": {
    "colab": {
      "name": "meli_EDA_2nd_sub.ipynb",
      "provenance": [],
      "mount_file_id": "https://github.com/brunotagoncalves/MeLi_2021_demand_prediction/blob/main/meli_EDA_4th_sub.ipynb",
      "authorship_tag": "ABX9TyOIZKfZ5eqqHLBMDcVUi1BH",
      "include_colab_link": true
    },
    "kernelspec": {
      "name": "python3",
      "display_name": "Python 3"
    },
    "language_info": {
      "name": "python"
    }
  },
  "cells": [
    {
      "cell_type": "markdown",
      "metadata": {
        "id": "view-in-github",
        "colab_type": "text"
      },
      "source": [
        "<a href=\"https://colab.research.google.com/github/brunotagoncalves/MeLi_2021_demand_prediction/blob/main/meli_EDA_7th_sub.ipynb\" target=\"_parent\"><img src=\"https://colab.research.google.com/assets/colab-badge.svg\" alt=\"Open In Colab\"/></a>"
      ]
    },
    {
      "cell_type": "markdown",
      "metadata": {
        "id": "-ZbsoPU-AJ4N"
      },
      "source": [
        "# Read Data "
      ]
    },
    {
      "cell_type": "code",
      "metadata": {
        "colab": {
          "base_uri": "https://localhost:8080/"
        },
        "id": "iFJbX7UCbXfq",
        "outputId": "5d3c27ea-5f63-41b1-a151-8420c9c9a008"
      },
      "source": [
        "from google.colab import drive\n",
        "drive.mount('/content/drive')"
      ],
      "execution_count": 1,
      "outputs": [
        {
          "output_type": "stream",
          "text": [
            "Drive already mounted at /content/drive; to attempt to forcibly remount, call drive.mount(\"/content/drive\", force_remount=True).\n"
          ],
          "name": "stdout"
        }
      ]
    },
    {
      "cell_type": "code",
      "metadata": {
        "id": "xPnEDAXf5UJt",
        "colab": {
          "base_uri": "https://localhost:8080/"
        },
        "outputId": "67476d2b-da0e-4ac3-bad3-7bc3832dc0b2"
      },
      "source": [
        "!pip install catboost"
      ],
      "execution_count": 2,
      "outputs": [
        {
          "output_type": "stream",
          "text": [
            "Collecting catboost\n",
            "  Downloading catboost-0.26-cp37-none-manylinux1_x86_64.whl (69.2 MB)\n",
            "\u001b[K     |████████████████████████████████| 69.2 MB 4.7 kB/s \n",
            "\u001b[?25hRequirement already satisfied: pandas>=0.24.0 in /usr/local/lib/python3.7/dist-packages (from catboost) (1.1.5)\n",
            "Requirement already satisfied: graphviz in /usr/local/lib/python3.7/dist-packages (from catboost) (0.10.1)\n",
            "Requirement already satisfied: numpy>=1.16.0 in /usr/local/lib/python3.7/dist-packages (from catboost) (1.19.5)\n",
            "Requirement already satisfied: six in /usr/local/lib/python3.7/dist-packages (from catboost) (1.15.0)\n",
            "Requirement already satisfied: scipy in /usr/local/lib/python3.7/dist-packages (from catboost) (1.4.1)\n",
            "Requirement already satisfied: matplotlib in /usr/local/lib/python3.7/dist-packages (from catboost) (3.2.2)\n",
            "Requirement already satisfied: plotly in /usr/local/lib/python3.7/dist-packages (from catboost) (4.4.1)\n",
            "Requirement already satisfied: pytz>=2017.2 in /usr/local/lib/python3.7/dist-packages (from pandas>=0.24.0->catboost) (2018.9)\n",
            "Requirement already satisfied: python-dateutil>=2.7.3 in /usr/local/lib/python3.7/dist-packages (from pandas>=0.24.0->catboost) (2.8.1)\n",
            "Requirement already satisfied: cycler>=0.10 in /usr/local/lib/python3.7/dist-packages (from matplotlib->catboost) (0.10.0)\n",
            "Requirement already satisfied: kiwisolver>=1.0.1 in /usr/local/lib/python3.7/dist-packages (from matplotlib->catboost) (1.3.1)\n",
            "Requirement already satisfied: pyparsing!=2.0.4,!=2.1.2,!=2.1.6,>=2.0.1 in /usr/local/lib/python3.7/dist-packages (from matplotlib->catboost) (2.4.7)\n",
            "Requirement already satisfied: retrying>=1.3.3 in /usr/local/lib/python3.7/dist-packages (from plotly->catboost) (1.3.3)\n",
            "Installing collected packages: catboost\n",
            "Successfully installed catboost-0.26\n"
          ],
          "name": "stdout"
        }
      ]
    },
    {
      "cell_type": "code",
      "metadata": {
        "colab": {
          "base_uri": "https://localhost:8080/"
        },
        "id": "37hIzI0UANWB",
        "outputId": "c609da72-b90d-4ed2-e4b4-42046ae9a67d"
      },
      "source": [
        "!wget https://meli-data-challenge.s3.amazonaws.com/2021/test_data.csv -P drive/MyDrive/MeLi-2021/row/\n",
        "!wget https://meli-data-challenge.s3.amazonaws.com/2021/train_data.parquet -P drive/MyDrive/MeLi-2021/row/\n",
        "!wget https://meli-data-challenge.s3.amazonaws.com/2021/items_static_metadata_full.jl -P drive/MyDrive/MeLi-2021/row/\n",
        "!wget https://meli-data-challenge.s3.amazonaws.com/2021/sample_submission.csv.gz -P drive/MyDrive/MeLi-2021/row/"
      ],
      "execution_count": 3,
      "outputs": [
        {
          "output_type": "stream",
          "text": [
            "--2021-07-29 14:56:46--  https://meli-data-challenge.s3.amazonaws.com/2021/test_data.csv\n",
            "Resolving meli-data-challenge.s3.amazonaws.com (meli-data-challenge.s3.amazonaws.com)... 52.217.109.108\n",
            "Connecting to meli-data-challenge.s3.amazonaws.com (meli-data-challenge.s3.amazonaws.com)|52.217.109.108|:443... connected.\n",
            "HTTP request sent, awaiting response... 200 OK\n",
            "Length: 5075979 (4.8M) [text/csv]\n",
            "Saving to: ‘drive/MyDrive/MeLi-2021/row/test_data.csv.1’\n",
            "\n",
            "test_data.csv.1     100%[===================>]   4.84M  --.-KB/s    in 0.1s    \n",
            "\n",
            "2021-07-29 14:56:46 (39.3 MB/s) - ‘drive/MyDrive/MeLi-2021/row/test_data.csv.1’ saved [5075979/5075979]\n",
            "\n",
            "--2021-07-29 14:56:46--  https://meli-data-challenge.s3.amazonaws.com/2021/train_data.parquet\n",
            "Resolving meli-data-challenge.s3.amazonaws.com (meli-data-challenge.s3.amazonaws.com)... 52.217.109.108\n",
            "Connecting to meli-data-challenge.s3.amazonaws.com (meli-data-challenge.s3.amazonaws.com)|52.217.109.108|:443... connected.\n",
            "HTTP request sent, awaiting response... 200 OK\n",
            "Length: 81456239 (78M) [application/x-www-form-urlencoded]\n",
            "Saving to: ‘drive/MyDrive/MeLi-2021/row/train_data.parquet.1’\n",
            "\n",
            "train_data.parquet. 100%[===================>]  77.68M  47.4MB/s    in 1.6s    \n",
            "\n",
            "2021-07-29 14:56:48 (47.4 MB/s) - ‘drive/MyDrive/MeLi-2021/row/train_data.parquet.1’ saved [81456239/81456239]\n",
            "\n",
            "--2021-07-29 14:56:48--  https://meli-data-challenge.s3.amazonaws.com/2021/items_static_metadata_full.jl\n",
            "Resolving meli-data-challenge.s3.amazonaws.com (meli-data-challenge.s3.amazonaws.com)... 52.216.139.107\n",
            "Connecting to meli-data-challenge.s3.amazonaws.com (meli-data-challenge.s3.amazonaws.com)|52.216.139.107|:443... connected.\n",
            "HTTP request sent, awaiting response... 200 OK\n",
            "Length: 135913048 (130M) [application/x-www-form-urlencoded]\n",
            "Saving to: ‘drive/MyDrive/MeLi-2021/row/items_static_metadata_full.jl.1’\n",
            "\n",
            "items_static_metada 100%[===================>] 129.62M  46.9MB/s    in 2.8s    \n",
            "\n",
            "2021-07-29 14:56:51 (46.9 MB/s) - ‘drive/MyDrive/MeLi-2021/row/items_static_metadata_full.jl.1’ saved [135913048/135913048]\n",
            "\n",
            "--2021-07-29 14:56:51--  https://meli-data-challenge.s3.amazonaws.com/2021/sample_submission.csv.gz\n",
            "Resolving meli-data-challenge.s3.amazonaws.com (meli-data-challenge.s3.amazonaws.com)... 52.217.91.52\n",
            "Connecting to meli-data-challenge.s3.amazonaws.com (meli-data-challenge.s3.amazonaws.com)|52.217.91.52|:443... connected.\n",
            "HTTP request sent, awaiting response... 200 OK\n",
            "Length: 19776711 (19M) [application/x-gzip]\n",
            "Saving to: ‘drive/MyDrive/MeLi-2021/row/sample_submission.csv.gz.1’\n",
            "\n",
            "sample_submission.c 100%[===================>]  18.86M  48.6MB/s    in 0.4s    \n",
            "\n",
            "2021-07-29 14:56:51 (48.6 MB/s) - ‘drive/MyDrive/MeLi-2021/row/sample_submission.csv.gz.1’ saved [19776711/19776711]\n",
            "\n"
          ],
          "name": "stdout"
        }
      ]
    },
    {
      "cell_type": "code",
      "metadata": {
        "colab": {
          "base_uri": "https://localhost:8080/"
        },
        "id": "GL6kFn3IcDH1",
        "outputId": "ab989b3c-79af-4d0e-db02-ea932d348667"
      },
      "source": [
        "!apt-get install openjdk-8-jdk-headless -qq > /dev/null\n",
        "#!wget http://www-eu.apache.org/dist/spark/spark-2.4.8/spark-2.4.8-bin-hadoop2.7.tgz \n",
        "!wget -P spark_tgz/ http://www-eu.apache.org/dist/spark/spark-2.4.8/spark-2.4.8-bin-hadoop2.7.tgz"
      ],
      "execution_count": 3,
      "outputs": [
        {
          "output_type": "stream",
          "text": [
            "--2021-07-29 23:29:46--  http://www-eu.apache.org/dist/spark/spark-2.4.8/spark-2.4.8-bin-hadoop2.7.tgz\n",
            "Resolving www-eu.apache.org (www-eu.apache.org)... 95.216.26.30, 2a01:4f9:2a:1a61::2\n",
            "Connecting to www-eu.apache.org (www-eu.apache.org)|95.216.26.30|:80... connected.\n",
            "HTTP request sent, awaiting response... 302 Found\n",
            "Location: https://downloads.apache.org/spark/spark-2.4.8/spark-2.4.8-bin-hadoop2.7.tgz [following]\n",
            "--2021-07-29 23:29:46--  https://downloads.apache.org/spark/spark-2.4.8/spark-2.4.8-bin-hadoop2.7.tgz\n",
            "Resolving downloads.apache.org (downloads.apache.org)... 135.181.214.104, 88.99.95.219, 135.181.209.10, ...\n",
            "Connecting to downloads.apache.org (downloads.apache.org)|135.181.214.104|:443... connected.\n",
            "HTTP request sent, awaiting response... 200 OK\n",
            "Length: 235899716 (225M) [application/x-gzip]\n",
            "Saving to: ‘spark_tgz/spark-2.4.8-bin-hadoop2.7.tgz’\n",
            "\n",
            "spark-2.4.8-bin-had 100%[===================>] 224.97M  23.8MB/s    in 10s     \n",
            "\n",
            "2021-07-29 23:29:57 (22.0 MB/s) - ‘spark_tgz/spark-2.4.8-bin-hadoop2.7.tgz’ saved [235899716/235899716]\n",
            "\n"
          ],
          "name": "stdout"
        }
      ]
    },
    {
      "cell_type": "code",
      "metadata": {
        "colab": {
          "base_uri": "https://localhost:8080/"
        },
        "id": "MXldW4KjcF8h",
        "outputId": "cc2fb443-a2d4-4f53-97b6-d9560f1ff2e3"
      },
      "source": [
        "!tar -xf spark_tgz/spark-2.4.8-bin-hadoop2.7.tgz -C spark_tgz/\n",
        "!pip install -q findspark\n",
        "!pip install -q pyspark"
      ],
      "execution_count": 4,
      "outputs": [
        {
          "output_type": "stream",
          "text": [
            "\u001b[K     |████████████████████████████████| 212.4 MB 66 kB/s \n",
            "\u001b[K     |████████████████████████████████| 198 kB 56.5 MB/s \n",
            "\u001b[?25h  Building wheel for pyspark (setup.py) ... \u001b[?25l\u001b[?25hdone\n"
          ],
          "name": "stdout"
        }
      ]
    },
    {
      "cell_type": "code",
      "metadata": {
        "id": "DwlQZAD5cJrK"
      },
      "source": [
        "import os\n",
        "os.environ[\"JAVA_HOME\"] = \"/usr/lib/jvm/java-8-openjdk-amd64\"\n",
        "os.environ[\"SPARK_HOME\"] = \"/content/spark_tgz/spark-2.4.8-bin-hadoop2.7\""
      ],
      "execution_count": 5,
      "outputs": []
    },
    {
      "cell_type": "code",
      "metadata": {
        "id": "XjwlnWfvcNyT"
      },
      "source": [
        "import findspark\n",
        "findspark.init()\n",
        "from pyspark.sql import SparkSession\n",
        "spark = SparkSession.builder.master(\"local[*]\").getOrCreate()\n"
      ],
      "execution_count": 6,
      "outputs": []
    },
    {
      "cell_type": "code",
      "metadata": {
        "id": "dfMcGqorv3l5"
      },
      "source": [
        "import pyspark.sql.functions  as F\n",
        "from pyspark.sql.window import *"
      ],
      "execution_count": 7,
      "outputs": []
    },
    {
      "cell_type": "code",
      "metadata": {
        "id": "NcLjJFcUAVdR"
      },
      "source": [
        "import pandas as pd \n",
        "import numpy as np\n"
      ],
      "execution_count": 8,
      "outputs": []
    },
    {
      "cell_type": "code",
      "metadata": {
        "id": "4nuN_PXPcPcT"
      },
      "source": [
        "df_spark = spark.read.format('parquet').load(\"drive/MyDrive/MeLi-2021/row/train_data.parquet\")"
      ],
      "execution_count": 9,
      "outputs": []
    },
    {
      "cell_type": "code",
      "metadata": {
        "colab": {
          "base_uri": "https://localhost:8080/"
        },
        "id": "f3Kkho_vcdt-",
        "outputId": "6f82e701-705d-4368-a409-10fe7b98d410"
      },
      "source": [
        "df_spark.count()"
      ],
      "execution_count": 10,
      "outputs": [
        {
          "output_type": "execute_result",
          "data": {
            "text/plain": [
              "37660279"
            ]
          },
          "metadata": {
            "tags": []
          },
          "execution_count": 10
        }
      ]
    },
    {
      "cell_type": "code",
      "metadata": {
        "id": "15mQ-Xwwchv7"
      },
      "source": [
        "df_spark.createOrReplaceTempView('df')"
      ],
      "execution_count": 11,
      "outputs": []
    },
    {
      "cell_type": "code",
      "metadata": {
        "id": "6ff7dxebga47"
      },
      "source": [
        "spark.sql(\"\"\"\n",
        "SELECT df.*\n",
        "  ,minutes_active - lag(minutes_active,1) over (partition by sku order by date asc) diff_minutes_active\n",
        "  ,(CASE WHEN minutes_active - lag(minutes_active,1) over (partition by sku order by date asc) < 0 THEN 'Ruptura'END) Ruptura\n",
        "  ,(CASE WHEN minutes_active - lag(minutes_active,1) over (partition by sku order by date asc) > 0 THEN 'Estoque'END) Estoque\n",
        "  \n",
        "FROM df\n",
        "--where sku = 645793\n",
        "--order by sku, date\n",
        "\"\"\").createOrReplaceTempView('df_re')"
      ],
      "execution_count": 12,
      "outputs": []
    },
    {
      "cell_type": "code",
      "metadata": {
        "id": "nHyIniUBglfx"
      },
      "source": [
        "spark.sql(\"\"\"\n",
        "SELECT df_re.*\n",
        "  ,CASE WHEN Ruptura is null and Estoque is null and minutes_active>0 and diff_minutes_active is null then 'Estoque'\n",
        "        --WHEN Estoque is not null then 'Estoque'\n",
        "        WHEN minutes_active = diff_minutes_active\tand Estoque is not null then 'Estoque'\n",
        "        --WHEN Ruptura is not null and Estoque is null then 'Ruptura'\n",
        "        WHEN Ruptura is not null and Estoque is null and minutes_active=0  then 'Ruptura'\n",
        "        END STATUS_RUPTURA\n",
        "FROM df_re\n",
        "--where sku = 645793\n",
        "--order by sku, date\n",
        "\"\"\").createOrReplaceTempView('df_re')#.toPandas()"
      ],
      "execution_count": 13,
      "outputs": []
    },
    {
      "cell_type": "code",
      "metadata": {
        "id": "J7jz7MUM9QCy"
      },
      "source": [
        "spark.sql(\"\"\"\n",
        "SELECT df_re.*\n",
        "  ,COUNT(CASE WHEN STATUS_RUPTURA IS NOT NULL THEN 1 END) over (partition by sku order by date ) ciclo_ruptura\n",
        "FROM df_re\n",
        "--where sku = 645793\n",
        "--order by sku, date\n",
        "\"\"\").createOrReplaceTempView('df_re')#.toPandas()"
      ],
      "execution_count": 14,
      "outputs": []
    },
    {
      "cell_type": "code",
      "metadata": {
        "id": "fS4JxQefo97e"
      },
      "source": [
        "spark.sql(\"\"\"\n",
        "SELECT df_re.*\n",
        "  ,SUM(sold_quantity) over (partition by sku,ciclo_ruptura order by date desc) sum_sold_quantity \n",
        "  ,sum(case when sold_quantity >0 then current_price*sold_quantity end) over (partition by sku,ciclo_ruptura order by date desc)/SUM(sold_quantity) over (partition by sku,ciclo_ruptura order by date desc) avg_current_price \n",
        "  ,SUM(minutes_active) over (partition by sku,ciclo_ruptura order by date desc)/60/24 days_active_nround\n",
        "  ,round(SUM(minutes_active) over (partition by sku,ciclo_ruptura order by date desc) /60/24 + 0.5,0) days_active \n",
        "FROM df_re\n",
        "--where sku = 645793\n",
        "--order by sku, date\n",
        "\"\"\").createOrReplaceTempView('df_re')#.toPandas()"
      ],
      "execution_count": 15,
      "outputs": []
    },
    {
      "cell_type": "code",
      "metadata": {
        "id": "Bro3AOIrkDQc"
      },
      "source": [
        "spark.sql(\"\"\"\n",
        "SELECT df_re.*  \n",
        "  ,min(days_active_nround) over (partition by sku,ciclo_ruptura order by date desc)>0 FLG_ruptura \n",
        "FROM df_re\n",
        "--where sku = 0\n",
        "--order by sku, date\n",
        "\"\"\").filter('FLG_ruptura=True').drop(*['sold_quantity','minutes_active','diff_minutes_active',\t'Ruptura',\t'Estoque',\t'STATUS_RUPTURA',\t'ciclo_ruptura']).createOrReplaceTempView('df_final')#.toPandas()"
      ],
      "execution_count": 16,
      "outputs": []
    },
    {
      "cell_type": "code",
      "metadata": {
        "id": "OOVZxzIfr9D6",
        "colab": {
          "base_uri": "https://localhost:8080/"
        },
        "outputId": "f107f967-1dc9-4201-f57c-eae7c2dc90e9"
      },
      "source": [
        "%%time\n",
        "spark.sql(\"\"\"\n",
        "SELECT *\n",
        "FROM df_final\n",
        "\"\"\").repartition(1).write.mode('overwrite').format('parquet').save('drive/MyDrive/MeLi-2021/refine/df_final/')"
      ],
      "execution_count": 26,
      "outputs": [
        {
          "output_type": "stream",
          "text": [
            "CPU times: user 886 ms, sys: 99.2 ms, total: 986 ms\n",
            "Wall time: 3min 20s\n"
          ],
          "name": "stdout"
        }
      ]
    },
    {
      "cell_type": "code",
      "metadata": {
        "id": "lWELtLngxNJJ"
      },
      "source": [
        "df = spark.read.format('parquet').load('drive/MyDrive/MeLi-2021/refine/df_final/')"
      ],
      "execution_count": 17,
      "outputs": []
    },
    {
      "cell_type": "code",
      "metadata": {
        "colab": {
          "base_uri": "https://localhost:8080/"
        },
        "id": "zre2tnJkzomq",
        "outputId": "4d4c7a5e-c562-4f04-8e16-68927d0a6be7"
      },
      "source": [
        "df.count()"
      ],
      "execution_count": 6,
      "outputs": [
        {
          "output_type": "execute_result",
          "data": {
            "text/plain": [
              "28096162"
            ]
          },
          "metadata": {
            "tags": []
          },
          "execution_count": 6
        }
      ]
    },
    {
      "cell_type": "code",
      "metadata": {
        "id": "lA9aFdgdCOdE"
      },
      "source": [
        "spark.sql(\"\"\"\n",
        "SELECT sku\n",
        "  , sum(sold_quantity) total_sold_quantity \n",
        "  , max(sold_quantity) max_sold_quantity \n",
        "  , min(case when sold_quantity>0 then sold_quantity end) min_sold_quantity \n",
        "  , avg(case when sold_quantity>0 then sold_quantity end) avg_sold_quantity \n",
        "  , percentile_approx(case when sold_quantity>0 then sold_quantity end,.5) median_sold_quantity \n",
        "  , percentile_approx(case when sold_quantity>0 then sold_quantity end,.25) qt1_sold_quantity \n",
        "  , percentile_approx(case when sold_quantity>0 then sold_quantity end,.75) qt3_sold_quantity \n",
        "\n",
        "  , sum(current_price*sold_quantity) total_fat \n",
        "  , max(current_price*sold_quantity) max_fat  \n",
        "  , min(case when sold_quantity>0 then current_price*sold_quantity end) min_fat \n",
        "  , avg(case when sold_quantity>0 then current_price*sold_quantity end) avg_fat\n",
        "  , percentile_approx(case when sold_quantity>0 then current_price*sold_quantity end,.5) median_fat\n",
        "  , percentile_approx(case when sold_quantity>0 then current_price*sold_quantity end,.25) qt1_fat\n",
        "  , percentile_approx(case when sold_quantity>0 then current_price*sold_quantity end,.75) qt3_fat\n",
        "\n",
        "  , sum(case when sold_quantity>0 then current_price*sold_quantity end)/sum(sold_quantity) avg_price\n",
        "  , percentile_approx(case when sold_quantity>0 then current_price*sold_quantity end,.5)/sum(sold_quantity) median_price\n",
        "  , percentile_approx(case when sold_quantity>0 then current_price*sold_quantity end,.25)/sum(sold_quantity) qt1_price\n",
        "  , percentile_approx(case when sold_quantity>0 then current_price*sold_quantity end,.75)/sum(sold_quantity) qt3_price\n",
        "FROM df\n",
        "GROUP BY sku\n",
        "\"\"\").repartition(1).write.mode('overwrite').format('parquet').save('drive/MyDrive/MeLi-2021/refine/agreg/')"
      ],
      "execution_count": null,
      "outputs": []
    },
    {
      "cell_type": "code",
      "metadata": {
        "id": "8Wldb2kjtiA3"
      },
      "source": [
        "g_df = spark.read.format('parquet').load('drive/MyDrive/MeLi-2021/refine/agreg/')\n",
        "g_df.createOrReplaceTempView('g_df')"
      ],
      "execution_count": 30,
      "outputs": []
    },
    {
      "cell_type": "code",
      "metadata": {
        "id": "mAtN4YIxvIjT"
      },
      "source": [
        "spark.read.format('json').load('drive/MyDrive/MeLi-2021/row/items_static_metadata_full.jl').createOrReplaceTempView('items')"
      ],
      "execution_count": 90,
      "outputs": []
    },
    {
      "cell_type": "code",
      "metadata": {
        "id": "NH-8ig6vyBmJ",
        "outputId": "864081de-ae43-4b43-e5a8-ed83cb79d600",
        "colab": {
          "base_uri": "https://localhost:8080/",
          "height": 424
        }
      },
      "source": [
        "spark.sql(\"\"\"SELECT * FROM items \"\"\").toPandas()"
      ],
      "execution_count": 91,
      "outputs": [
        {
          "output_type": "execute_result",
          "data": {
            "text/html": [
              "<div>\n",
              "<style scoped>\n",
              "    .dataframe tbody tr th:only-of-type {\n",
              "        vertical-align: middle;\n",
              "    }\n",
              "\n",
              "    .dataframe tbody tr th {\n",
              "        vertical-align: top;\n",
              "    }\n",
              "\n",
              "    .dataframe thead th {\n",
              "        text-align: right;\n",
              "    }\n",
              "</style>\n",
              "<table border=\"1\" class=\"dataframe\">\n",
              "  <thead>\n",
              "    <tr style=\"text-align: right;\">\n",
              "      <th></th>\n",
              "      <th>item_domain_id</th>\n",
              "      <th>item_id</th>\n",
              "      <th>item_title</th>\n",
              "      <th>product_family_id</th>\n",
              "      <th>product_id</th>\n",
              "      <th>site_id</th>\n",
              "      <th>sku</th>\n",
              "    </tr>\n",
              "  </thead>\n",
              "  <tbody>\n",
              "    <tr>\n",
              "      <th>0</th>\n",
              "      <td>MLB-SNEAKERS</td>\n",
              "      <td>492155</td>\n",
              "      <td>Tênis Masculino Olympikus Cyber Barato Promoçao</td>\n",
              "      <td>MLB15832732</td>\n",
              "      <td>None</td>\n",
              "      <td>MLB</td>\n",
              "      <td>0</td>\n",
              "    </tr>\n",
              "    <tr>\n",
              "      <th>1</th>\n",
              "      <td>MLB-SURFBOARD_RACKS</td>\n",
              "      <td>300279</td>\n",
              "      <td>Suporte Rack Prancha Parede C/ Regulagem Horiz...</td>\n",
              "      <td>None</td>\n",
              "      <td>None</td>\n",
              "      <td>MLB</td>\n",
              "      <td>1</td>\n",
              "    </tr>\n",
              "    <tr>\n",
              "      <th>2</th>\n",
              "      <td>MLM-NECKLACES</td>\n",
              "      <td>69847</td>\n",
              "      <td>5 Collares Plateados Dama Gargantilla Choker -...</td>\n",
              "      <td>None</td>\n",
              "      <td>None</td>\n",
              "      <td>MLM</td>\n",
              "      <td>2</td>\n",
              "    </tr>\n",
              "    <tr>\n",
              "      <th>3</th>\n",
              "      <td>MLM-RINGS</td>\n",
              "      <td>298603</td>\n",
              "      <td>Lindo Anillo De Bella Crepusculo Twilight Prom...</td>\n",
              "      <td>None</td>\n",
              "      <td>None</td>\n",
              "      <td>MLM</td>\n",
              "      <td>3</td>\n",
              "    </tr>\n",
              "    <tr>\n",
              "      <th>4</th>\n",
              "      <td>MLB-WEBCAMS</td>\n",
              "      <td>345949</td>\n",
              "      <td>Webcam Com Microfone Hd 720p Knup Youtube Pc V...</td>\n",
              "      <td>None</td>\n",
              "      <td>None</td>\n",
              "      <td>MLB</td>\n",
              "      <td>4</td>\n",
              "    </tr>\n",
              "    <tr>\n",
              "      <th>...</th>\n",
              "      <td>...</td>\n",
              "      <td>...</td>\n",
              "      <td>...</td>\n",
              "      <td>...</td>\n",
              "      <td>...</td>\n",
              "      <td>...</td>\n",
              "      <td>...</td>\n",
              "    </tr>\n",
              "    <tr>\n",
              "      <th>660911</th>\n",
              "      <td>MLB-CELLPHONE_PARTS</td>\n",
              "      <td>320792</td>\n",
              "      <td>2 Parafuso Pentalobe Torx iPhone 5 5c 5s 6 6s ...</td>\n",
              "      <td>None</td>\n",
              "      <td>None</td>\n",
              "      <td>MLB</td>\n",
              "      <td>660911</td>\n",
              "    </tr>\n",
              "    <tr>\n",
              "      <th>660912</th>\n",
              "      <td>MLM-AUTOMOTIVE_EMBLEMS</td>\n",
              "      <td>90441</td>\n",
              "      <td>Emblema Circular Wolfsburg Edition 5cm</td>\n",
              "      <td>None</td>\n",
              "      <td>None</td>\n",
              "      <td>MLM</td>\n",
              "      <td>660912</td>\n",
              "    </tr>\n",
              "    <tr>\n",
              "      <th>660913</th>\n",
              "      <td>MLB-SOFA_AND_FUTON_COVERS</td>\n",
              "      <td>202580</td>\n",
              "      <td>Kit Capa De Sofá Coladinha Jogo 2e3 Lugares Ma...</td>\n",
              "      <td>None</td>\n",
              "      <td>None</td>\n",
              "      <td>MLB</td>\n",
              "      <td>660913</td>\n",
              "    </tr>\n",
              "    <tr>\n",
              "      <th>660914</th>\n",
              "      <td>MLB-SNEAKERS</td>\n",
              "      <td>490874</td>\n",
              "      <td>Calçado Sapatênis Clássico Baltic 234 Ollie</td>\n",
              "      <td>None</td>\n",
              "      <td>None</td>\n",
              "      <td>MLB</td>\n",
              "      <td>660914</td>\n",
              "    </tr>\n",
              "    <tr>\n",
              "      <th>660915</th>\n",
              "      <td>MLM-SURGICAL_MASKS</td>\n",
              "      <td>423179</td>\n",
              "      <td>Cubrebocas Kn95 20 Piezas Pack Válvula Geométr...</td>\n",
              "      <td>None</td>\n",
              "      <td>None</td>\n",
              "      <td>MLM</td>\n",
              "      <td>660915</td>\n",
              "    </tr>\n",
              "  </tbody>\n",
              "</table>\n",
              "<p>660916 rows × 7 columns</p>\n",
              "</div>"
            ],
            "text/plain": [
              "                   item_domain_id  item_id  ... site_id     sku\n",
              "0                    MLB-SNEAKERS   492155  ...     MLB       0\n",
              "1             MLB-SURFBOARD_RACKS   300279  ...     MLB       1\n",
              "2                   MLM-NECKLACES    69847  ...     MLM       2\n",
              "3                       MLM-RINGS   298603  ...     MLM       3\n",
              "4                     MLB-WEBCAMS   345949  ...     MLB       4\n",
              "...                           ...      ...  ...     ...     ...\n",
              "660911        MLB-CELLPHONE_PARTS   320792  ...     MLB  660911\n",
              "660912     MLM-AUTOMOTIVE_EMBLEMS    90441  ...     MLM  660912\n",
              "660913  MLB-SOFA_AND_FUTON_COVERS   202580  ...     MLB  660913\n",
              "660914               MLB-SNEAKERS   490874  ...     MLB  660914\n",
              "660915         MLM-SURGICAL_MASKS   423179  ...     MLM  660915\n",
              "\n",
              "[660916 rows x 7 columns]"
            ]
          },
          "metadata": {
            "tags": []
          },
          "execution_count": 91
        }
      ]
    },
    {
      "cell_type": "code",
      "metadata": {
        "id": "kOMyJpuqtD3K"
      },
      "source": [
        "spark.sql(\"\"\"\n",
        "SELECT df_final.sku ,\n",
        "  date ,\n",
        "  current_price ,\n",
        "  currency ,\n",
        "  listing_type ,\n",
        "  shipping_logistic_type ,\n",
        "  shipping_payment ,\n",
        "  sum_sold_quantity ,\n",
        "  avg_current_price ,\n",
        "  days_active_nround ,\n",
        "  days_active ,\n",
        "  FLG_ruptura ,\n",
        "\n",
        "  total_sold_quantity ,\n",
        "  max_sold_quantity ,\n",
        "  min_sold_quantity ,\n",
        "  avg_sold_quantity ,\n",
        "  median_sold_quantity ,\n",
        "  qt1_sold_quantity ,\n",
        "  qt3_sold_quantity ,\n",
        "  total_fat ,\n",
        "  max_fat ,\n",
        "  min_fat ,\n",
        "  avg_fat ,\n",
        "  median_fat ,\n",
        "  qt1_fat ,\n",
        "  qt3_fat ,\n",
        "  avg_price ,\n",
        "  median_price ,\n",
        "  qt1_price ,\n",
        "  qt3_price ,\n",
        "  item_domain_id ,\n",
        "  item_id ,\n",
        "  item_title ,\n",
        "  product_family_id ,\n",
        "  product_id ,\n",
        "  site_id \n",
        "\n",
        "FROM df_final\n",
        "LEFT JOIN g_df \n",
        "  ON g_df.sku = df_final.sku\n",
        "LEFT JOIN items \n",
        "  ON items.sku = df_final.sku\n",
        "\"\"\").createOrReplaceTempView('df_final_join')"
      ],
      "execution_count": 32,
      "outputs": []
    },
    {
      "cell_type": "code",
      "metadata": {
        "id": "zQeusiqOwB9p"
      },
      "source": [
        "spark.read.option(\"header\",True).format('csv').load('drive/MyDrive/MeLi-2021/row/test_data.csv').createOrReplaceTempView('test_data')\n"
      ],
      "execution_count": 33,
      "outputs": []
    },
    {
      "cell_type": "code",
      "metadata": {
        "id": "EZ8kW-kQu3mX"
      },
      "source": [
        "spark.sql(\"\"\"\n",
        "SELECT test_data.sku ,\n",
        "  target_stock ,\n",
        "  total_sold_quantity ,\n",
        "  max_sold_quantity ,\n",
        "  min_sold_quantity ,\n",
        "  avg_sold_quantity ,\n",
        "  median_sold_quantity ,\n",
        "  qt1_sold_quantity ,\n",
        "  qt3_sold_quantity ,\n",
        "  total_fat ,\n",
        "  max_fat ,\n",
        "  min_fat ,\n",
        "  avg_fat ,\n",
        "  median_fat ,\n",
        "  qt1_fat ,\n",
        "  qt3_fat ,\n",
        "  avg_price ,\n",
        "  median_price ,\n",
        "  qt1_price ,\n",
        "  qt3_price ,\n",
        "  item_domain_id ,\n",
        "  item_id ,\n",
        "  item_title ,\n",
        "  product_family_id ,\n",
        "  product_id ,\n",
        "  site_id \n",
        "FROM test_data\n",
        "LEFT JOIN g_df \n",
        "  ON g_df.sku = test_data.sku\n",
        "LEFT JOIN items \n",
        "  ON items.sku = test_data.sku\n",
        "\"\"\").createOrReplaceTempView('test_data_join')"
      ],
      "execution_count": 34,
      "outputs": []
    },
    {
      "cell_type": "code",
      "metadata": {
        "id": "9SuKoRegMvoJ",
        "colab": {
          "base_uri": "https://localhost:8080/"
        },
        "outputId": "da16d340-750f-4d9b-d9ca-ba2a522665f0"
      },
      "source": [
        "%%time\n",
        "spark.sql(\"\"\"\n",
        "SELECT *\n",
        "FROM df_final_join\n",
        "\"\"\").repartition(1).write.mode('overwrite').format('parquet').save('drive/MyDrive/MeLi-2021/final/df_final_join/')"
      ],
      "execution_count": 35,
      "outputs": [
        {
          "output_type": "stream",
          "text": [
            "CPU times: user 1.56 s, sys: 196 ms, total: 1.75 s\n",
            "Wall time: 5min 47s\n"
          ],
          "name": "stdout"
        }
      ]
    },
    {
      "cell_type": "code",
      "metadata": {
        "id": "uiga4fDSxt5Y",
        "colab": {
          "base_uri": "https://localhost:8080/"
        },
        "outputId": "8ff03300-bafa-46f8-b416-f33c6525441a"
      },
      "source": [
        "%%time\n",
        "spark.sql(\"\"\"\n",
        "SELECT *\n",
        "FROM test_data_join\n",
        "\"\"\").repartition(1).write.mode('overwrite').format('parquet').save('drive/MyDrive/MeLi-2021/final/test_data_join/')"
      ],
      "execution_count": 36,
      "outputs": [
        {
          "output_type": "stream",
          "text": [
            "CPU times: user 80.2 ms, sys: 7.08 ms, total: 87.3 ms\n",
            "Wall time: 16.8 s\n"
          ],
          "name": "stdout"
        }
      ]
    },
    {
      "cell_type": "code",
      "metadata": {
        "id": "ulSN-TTW24AG"
      },
      "source": [
        "df_final = spark.read.format('parquet').load('drive/MyDrive/MeLi-2021/final/df_final_join/')\n"
      ],
      "execution_count": 18,
      "outputs": []
    },
    {
      "cell_type": "code",
      "metadata": {
        "id": "AlcugYi9yErc"
      },
      "source": [
        "submit_data = spark.read.format('parquet').load('drive/MyDrive/MeLi-2021/final/test_data_join/')"
      ],
      "execution_count": 19,
      "outputs": []
    },
    {
      "cell_type": "code",
      "metadata": {
        "id": "a7lVKdAXR0Oy"
      },
      "source": [
        "submit_data = submit_data.withColumn('sum_sold_quantity',submit_data.target_stock)\n",
        "#df_final = df_final.withColumn('target_stock',df_final.sum_sold_quantity)"
      ],
      "execution_count": 20,
      "outputs": []
    },
    {
      "cell_type": "code",
      "metadata": {
        "id": "DE85O6zyUvub"
      },
      "source": [
        "df_final = df_final.filter(\"sum_sold_quantity>0\") # estou na dúvida se deveriamos considerar como days como 30 nesse caso \n",
        "df_final = df_final.join(submit_data.select('sku','target_stock'),on='sku',how='left')"
      ],
      "execution_count": 11,
      "outputs": []
    },
    {
      "cell_type": "code",
      "metadata": {
        "id": "RntFdcLBvrOg"
      },
      "source": [
        "df_final = df_final.filter(F.expr(\"abs(sum_sold_quantity/target_stock-1)<0.3\"))\n",
        "#df_final = df_final.withColumn('target_stock',df_final.sum_sold_quantity)"
      ],
      "execution_count": 12,
      "outputs": []
    },
    {
      "cell_type": "code",
      "metadata": {
        "id": "oPVEW4DqYnfL",
        "outputId": "2897e426-06ee-4e7c-bd34-f5c3ff70dfff",
        "colab": {
          "base_uri": "https://localhost:8080/"
        }
      },
      "source": [
        "numerador = df_final.select('sku').distinct().count()\n",
        "denominador = df_final.count()\n",
        "numerador, denominador, numerador/denominador"
      ],
      "execution_count": 16,
      "outputs": [
        {
          "output_type": "execute_result",
          "data": {
            "text/plain": [
              "(422914, 3748193, 0.1128314363748078)"
            ]
          },
          "metadata": {
            "tags": []
          },
          "execution_count": 16
        }
      ]
    },
    {
      "cell_type": "code",
      "metadata": {
        "id": "cJqciTraaBQ2"
      },
      "source": [
        "df_final = df_final.withColumn(\"rand\",F.rand())"
      ],
      "execution_count": 17,
      "outputs": []
    },
    {
      "cell_type": "code",
      "metadata": {
        "id": "yh6dzOv7bKTn"
      },
      "source": [
        "df_final = df_final.withColumn('rand_order',F.row_number().over(Window.partitionBy(\"sku\").orderBy(\"rand\")))"
      ],
      "execution_count": 18,
      "outputs": []
    },
    {
      "cell_type": "code",
      "metadata": {
        "id": "M51aVrcicSnI"
      },
      "source": [
        "part_2 = df_final.filter('rand_order>1 and rand_order<=3').count()"
      ],
      "execution_count": 20,
      "outputs": []
    },
    {
      "cell_type": "code",
      "metadata": {
        "id": "HDh0URQZZ9L-"
      },
      "source": [
        "df_final_part_1 = df_final.filter('rand_order==1')#.count()\n",
        "df_final_part_2 = df_final.filter('rand_order>1 and rand_order<=3').sample(fraction=(1./0.85-1)*numerador/part_2)"
      ],
      "execution_count": 29,
      "outputs": []
    },
    {
      "cell_type": "code",
      "metadata": {
        "id": "xovhrccDd8WG"
      },
      "source": [
        "df_final = df_final_part_1.union(df_final_part_2)"
      ],
      "execution_count": 30,
      "outputs": []
    },
    {
      "cell_type": "code",
      "metadata": {
        "id": "TxLxTfrLcR5q"
      },
      "source": [
        "#df_test = df_final.filter('rand_order==1')\n",
        "#df_train = df_final.filter('rand_order>1 and rand_order<=3').sample(fraction=0.1)"
      ],
      "execution_count": 19,
      "outputs": []
    },
    {
      "cell_type": "code",
      "metadata": {
        "id": "pDgA5aQaW-2V"
      },
      "source": [
        "#df_train, df_test = df_final.sample(fraction=150000/df_final.count(),seed=90).randomSplit([1.,1.],seed=123)\n",
        "df_train, df_test = df_final.randomSplit([3.,1.],seed=123)"
      ],
      "execution_count": 31,
      "outputs": []
    },
    {
      "cell_type": "code",
      "metadata": {
        "colab": {
          "base_uri": "https://localhost:8080/"
        },
        "id": "0NgQVdb65-Y3",
        "outputId": "65642e7b-7f41-4f7f-c573-2e829a307853"
      },
      "source": [
        "df_train.count(),df_test.count()"
      ],
      "execution_count": 32,
      "outputs": [
        {
          "output_type": "execute_result",
          "data": {
            "text/plain": [
              "(372946, 124653)"
            ]
          },
          "metadata": {
            "tags": []
          },
          "execution_count": 32
        }
      ]
    },
    {
      "cell_type": "code",
      "metadata": {
        "id": "V_O8WKBwe_eV",
        "outputId": "77bdf9e6-b800-40ef-a8ca-e61c5ab4ead1",
        "colab": {
          "base_uri": "https://localhost:8080/"
        }
      },
      "source": [
        "df_train.select('sku').distinct().count()/df_train.count(),df_test.select('sku').distinct().count()/df_test.count()"
      ],
      "execution_count": 33,
      "outputs": [
        {
          "output_type": "execute_result",
          "data": {
            "text/plain": [
              "(0.8858467445689189, 0.9604341652427137)"
            ]
          },
          "metadata": {
            "tags": []
          },
          "execution_count": 33
        }
      ]
    },
    {
      "cell_type": "code",
      "metadata": {
        "id": "67nPJtHUgTXq"
      },
      "source": [
        "df_train.repartition(1).write.mode('overwrite').format('parquet').save('drive/MyDrive/MeLi-2021/final/train_data/')\n",
        "df_test.repartition(1).write.mode('overwrite').format('parquet').save('drive/MyDrive/MeLi-2021/final/valid_data/')"
      ],
      "execution_count": 34,
      "outputs": []
    },
    {
      "cell_type": "code",
      "metadata": {
        "id": "QtZQUMC6_Gv8"
      },
      "source": [
        "df_train = spark.read.format('parquet').load('drive/MyDrive/MeLi-2021/final/train_data/')\n",
        "df_test = spark.read.format('parquet').load('drive/MyDrive/MeLi-2021/final/valid_data/')"
      ],
      "execution_count": 11,
      "outputs": []
    },
    {
      "cell_type": "code",
      "metadata": {
        "id": "-b0XxqtOzUT_"
      },
      "source": [
        "from catboost import Pool, CatBoostClassifier"
      ],
      "execution_count": 12,
      "outputs": []
    },
    {
      "cell_type": "code",
      "metadata": {
        "colab": {
          "base_uri": "https://localhost:8080/"
        },
        "id": "xJWMoN2UEl_S",
        "outputId": "69fbd765-ed66-4103-af3b-79d58921cb01"
      },
      "source": [
        "df_train.columns"
      ],
      "execution_count": 15,
      "outputs": [
        {
          "output_type": "execute_result",
          "data": {
            "text/plain": [
              "['sku',\n",
              " 'date',\n",
              " 'current_price',\n",
              " 'currency',\n",
              " 'listing_type',\n",
              " 'shipping_logistic_type',\n",
              " 'shipping_payment',\n",
              " 'sum_sold_quantity',\n",
              " 'avg_current_price',\n",
              " 'days_active_nround',\n",
              " 'days_active',\n",
              " 'FLG_ruptura',\n",
              " 'total_sold_quantity',\n",
              " 'max_sold_quantity',\n",
              " 'min_sold_quantity',\n",
              " 'avg_sold_quantity',\n",
              " 'median_sold_quantity',\n",
              " 'qt1_sold_quantity',\n",
              " 'qt3_sold_quantity',\n",
              " 'total_fat',\n",
              " 'max_fat',\n",
              " 'min_fat',\n",
              " 'avg_fat',\n",
              " 'median_fat',\n",
              " 'qt1_fat',\n",
              " 'qt3_fat',\n",
              " 'avg_price',\n",
              " 'median_price',\n",
              " 'qt1_price',\n",
              " 'qt3_price',\n",
              " 'item_domain_id',\n",
              " 'item_id',\n",
              " 'item_title',\n",
              " 'product_family_id',\n",
              " 'product_id',\n",
              " 'site_id',\n",
              " 'target_stock',\n",
              " 'rand',\n",
              " 'rand_order']"
            ]
          },
          "metadata": {
            "tags": []
          },
          "execution_count": 15
        }
      ]
    },
    {
      "cell_type": "code",
      "metadata": {
        "id": "PczvuvFFVBiw"
      },
      "source": [
        "vars = ['sku',\n",
        " 'sum_sold_quantity','site_id','product_id','product_family_id','item_domain_id','item_title'\n",
        " ]\n",
        "cat_vars =  ['sku',\n",
        "             'site_id','product_id','product_family_id','item_domain_id'\n",
        " ]\n",
        "text_vars =['item_title']"
      ],
      "execution_count": 17,
      "outputs": []
    },
    {
      "cell_type": "code",
      "metadata": {
        "id": "VHZtNjJTr6GO"
      },
      "source": [
        "df_train = df_train.fillna('sem_id', subset=cat_vars)\n",
        "df_test = df_test.fillna('sem_id', subset=cat_vars) \n",
        "submit_data = submit_data.fillna('sem_id', subset=cat_vars) "
      ],
      "execution_count": 21,
      "outputs": []
    },
    {
      "cell_type": "code",
      "metadata": {
        "id": "m3WTgheKda5i"
      },
      "source": [
        "train_data = df_train.select(*vars+['days_active']).toPandas()\n",
        "test_data = df_test.select(*vars+['days_active']).toPandas()\n",
        "train_label = train_data.days_active\n",
        "test_label = test_data.days_active"
      ],
      "execution_count": 22,
      "outputs": []
    },
    {
      "cell_type": "code",
      "metadata": {
        "colab": {
          "base_uri": "https://localhost:8080/",
          "height": 300
        },
        "id": "ih2sHIPkcEKr",
        "outputId": "c23cf0fa-93a1-45c3-811d-84b2da7e83d1"
      },
      "source": [
        "train_data.describe()"
      ],
      "execution_count": 23,
      "outputs": [
        {
          "output_type": "execute_result",
          "data": {
            "text/html": [
              "<div>\n",
              "<style scoped>\n",
              "    .dataframe tbody tr th:only-of-type {\n",
              "        vertical-align: middle;\n",
              "    }\n",
              "\n",
              "    .dataframe tbody tr th {\n",
              "        vertical-align: top;\n",
              "    }\n",
              "\n",
              "    .dataframe thead th {\n",
              "        text-align: right;\n",
              "    }\n",
              "</style>\n",
              "<table border=\"1\" class=\"dataframe\">\n",
              "  <thead>\n",
              "    <tr style=\"text-align: right;\">\n",
              "      <th></th>\n",
              "      <th>sku</th>\n",
              "      <th>sum_sold_quantity</th>\n",
              "      <th>days_active</th>\n",
              "    </tr>\n",
              "  </thead>\n",
              "  <tbody>\n",
              "    <tr>\n",
              "      <th>count</th>\n",
              "      <td>372946.000000</td>\n",
              "      <td>372946.000000</td>\n",
              "      <td>372946.000000</td>\n",
              "    </tr>\n",
              "    <tr>\n",
              "      <th>mean</th>\n",
              "      <td>330084.279649</td>\n",
              "      <td>16.896508</td>\n",
              "      <td>14.071868</td>\n",
              "    </tr>\n",
              "    <tr>\n",
              "      <th>std</th>\n",
              "      <td>190794.613735</td>\n",
              "      <td>111.660584</td>\n",
              "      <td>12.198635</td>\n",
              "    </tr>\n",
              "    <tr>\n",
              "      <th>min</th>\n",
              "      <td>0.000000</td>\n",
              "      <td>1.000000</td>\n",
              "      <td>1.000000</td>\n",
              "    </tr>\n",
              "    <tr>\n",
              "      <th>25%</th>\n",
              "      <td>165003.500000</td>\n",
              "      <td>3.000000</td>\n",
              "      <td>5.000000</td>\n",
              "    </tr>\n",
              "    <tr>\n",
              "      <th>50%</th>\n",
              "      <td>329887.500000</td>\n",
              "      <td>6.000000</td>\n",
              "      <td>10.000000</td>\n",
              "    </tr>\n",
              "    <tr>\n",
              "      <th>75%</th>\n",
              "      <td>495242.000000</td>\n",
              "      <td>12.000000</td>\n",
              "      <td>20.000000</td>\n",
              "    </tr>\n",
              "    <tr>\n",
              "      <th>max</th>\n",
              "      <td>660914.000000</td>\n",
              "      <td>23867.000000</td>\n",
              "      <td>60.000000</td>\n",
              "    </tr>\n",
              "  </tbody>\n",
              "</table>\n",
              "</div>"
            ],
            "text/plain": [
              "                 sku  sum_sold_quantity    days_active\n",
              "count  372946.000000      372946.000000  372946.000000\n",
              "mean   330084.279649          16.896508      14.071868\n",
              "std    190794.613735         111.660584      12.198635\n",
              "min         0.000000           1.000000       1.000000\n",
              "25%    165003.500000           3.000000       5.000000\n",
              "50%    329887.500000           6.000000      10.000000\n",
              "75%    495242.000000          12.000000      20.000000\n",
              "max    660914.000000       23867.000000      60.000000"
            ]
          },
          "metadata": {
            "tags": []
          },
          "execution_count": 23
        }
      ]
    },
    {
      "cell_type": "code",
      "metadata": {
        "colab": {
          "base_uri": "https://localhost:8080/",
          "height": 300
        },
        "id": "leYv8jjndNai",
        "outputId": "bf56b816-3d5f-427e-d5b1-13f64fae179a"
      },
      "source": [
        "test_data.describe()"
      ],
      "execution_count": 24,
      "outputs": [
        {
          "output_type": "execute_result",
          "data": {
            "text/html": [
              "<div>\n",
              "<style scoped>\n",
              "    .dataframe tbody tr th:only-of-type {\n",
              "        vertical-align: middle;\n",
              "    }\n",
              "\n",
              "    .dataframe tbody tr th {\n",
              "        vertical-align: top;\n",
              "    }\n",
              "\n",
              "    .dataframe thead th {\n",
              "        text-align: right;\n",
              "    }\n",
              "</style>\n",
              "<table border=\"1\" class=\"dataframe\">\n",
              "  <thead>\n",
              "    <tr style=\"text-align: right;\">\n",
              "      <th></th>\n",
              "      <th>sku</th>\n",
              "      <th>sum_sold_quantity</th>\n",
              "      <th>days_active</th>\n",
              "    </tr>\n",
              "  </thead>\n",
              "  <tbody>\n",
              "    <tr>\n",
              "      <th>count</th>\n",
              "      <td>124653.000000</td>\n",
              "      <td>124653.000000</td>\n",
              "      <td>124653.000000</td>\n",
              "    </tr>\n",
              "    <tr>\n",
              "      <th>mean</th>\n",
              "      <td>330811.224567</td>\n",
              "      <td>17.072930</td>\n",
              "      <td>14.124417</td>\n",
              "    </tr>\n",
              "    <tr>\n",
              "      <th>std</th>\n",
              "      <td>190814.091741</td>\n",
              "      <td>132.256167</td>\n",
              "      <td>12.232487</td>\n",
              "    </tr>\n",
              "    <tr>\n",
              "      <th>min</th>\n",
              "      <td>16.000000</td>\n",
              "      <td>1.000000</td>\n",
              "      <td>1.000000</td>\n",
              "    </tr>\n",
              "    <tr>\n",
              "      <th>25%</th>\n",
              "      <td>165215.000000</td>\n",
              "      <td>3.000000</td>\n",
              "      <td>5.000000</td>\n",
              "    </tr>\n",
              "    <tr>\n",
              "      <th>50%</th>\n",
              "      <td>330800.000000</td>\n",
              "      <td>6.000000</td>\n",
              "      <td>10.000000</td>\n",
              "    </tr>\n",
              "    <tr>\n",
              "      <th>75%</th>\n",
              "      <td>496074.000000</td>\n",
              "      <td>12.000000</td>\n",
              "      <td>20.000000</td>\n",
              "    </tr>\n",
              "    <tr>\n",
              "      <th>max</th>\n",
              "      <td>660908.000000</td>\n",
              "      <td>26223.000000</td>\n",
              "      <td>60.000000</td>\n",
              "    </tr>\n",
              "  </tbody>\n",
              "</table>\n",
              "</div>"
            ],
            "text/plain": [
              "                 sku  sum_sold_quantity    days_active\n",
              "count  124653.000000      124653.000000  124653.000000\n",
              "mean   330811.224567          17.072930      14.124417\n",
              "std    190814.091741         132.256167      12.232487\n",
              "min        16.000000           1.000000       1.000000\n",
              "25%    165215.000000           3.000000       5.000000\n",
              "50%    330800.000000           6.000000      10.000000\n",
              "75%    496074.000000          12.000000      20.000000\n",
              "max    660908.000000       26223.000000      60.000000"
            ]
          },
          "metadata": {
            "tags": []
          },
          "execution_count": 24
        }
      ]
    },
    {
      "cell_type": "code",
      "metadata": {
        "id": "EoM4ZSXgD569"
      },
      "source": [
        "# initialize data\n",
        "#train_data = g_df.loc[:,vars].sample(frac=.01,random_state=123)\n",
        "#train_label = g_df.loc[:,'days_active'].apply(lambda x : x if x<30. else 30.).round().astype(int).sample(frac=.01,random_state=123)\n",
        "#test_data = g_df.loc[~g_df.sku.isnull(),'current_price_count':'shipping_payment_shipping_payment']#.sample(frac=.1,random_state=1234)\n",
        "# initialize Pool\n",
        "train_pool = Pool(train_data.loc[:,vars], \n",
        "                  train_label, \n",
        "                  cat_features=cat_vars,\n",
        "                  text_features = text_vars)\n",
        "test_pool = Pool(test_data.loc[:,vars], \n",
        "                  test_label, \n",
        "                  cat_features=cat_vars,\n",
        "                 text_features = text_vars)\n",
        "\n",
        "# specify the training parameters \n",
        "model = CatBoostClassifier(metric_period=100,learning_rate=0.01,task_type='GPU')\n",
        "#train the model\n",
        "#model.fit(train_pool,eval_set=test_pool)\n",
        "# make the prediction using the resulting model"
      ],
      "execution_count": 64,
      "outputs": []
    },
    {
      "cell_type": "code",
      "metadata": {
        "id": "K-o15PoIyfT8",
        "outputId": "633d2d11-17ec-4e49-e74f-51ccb443a833",
        "colab": {
          "base_uri": "https://localhost:8080/"
        }
      },
      "source": [
        "grid = {'learning_rate': [0.01,0.02,0.03],\n",
        "        'depth': [4, 6, 8],\n",
        "        'l2_leaf_reg': [1, 3, 5, 7, 9]}\n",
        "\n",
        "randomized_search_result = model.randomized_search(grid,train_pool)"
      ],
      "execution_count": null,
      "outputs": [
        {
          "output_type": "stream",
          "text": [
            "0:\tlearn: 4.0819717\ttest: 4.0845698\tbest: 4.0845698 (0)\ttotal: 321ms\tremaining: 5m 20s\n",
            "100:\tlearn: 3.5542192\ttest: 3.5439121\tbest: 3.5439121 (100)\ttotal: 30.1s\tremaining: 4m 27s\n",
            "200:\tlearn: 3.4635813\ttest: 3.4484901\tbest: 3.4484901 (200)\ttotal: 1m\tremaining: 3m 58s\n",
            "300:\tlearn: 3.4402742\ttest: 3.4230001\tbest: 3.4230001 (300)\ttotal: 1m 30s\tremaining: 3m 29s\n",
            "400:\tlearn: 3.4324766\ttest: 3.4147224\tbest: 3.4147224 (400)\ttotal: 1m 59s\tremaining: 2m 59s\n",
            "500:\tlearn: 3.4285916\ttest: 3.4105615\tbest: 3.4105615 (500)\ttotal: 2m 29s\tremaining: 2m 29s\n",
            "600:\tlearn: 3.4261486\ttest: 3.4085285\tbest: 3.4085285 (600)\ttotal: 2m 59s\tremaining: 1m 59s\n",
            "700:\tlearn: 3.4243823\ttest: 3.4071195\tbest: 3.4071195 (700)\ttotal: 3m 29s\tremaining: 1m 29s\n",
            "800:\tlearn: 3.4228336\ttest: 3.4059670\tbest: 3.4059670 (800)\ttotal: 3m 59s\tremaining: 59.5s\n",
            "900:\tlearn: 3.4217007\ttest: 3.4055087\tbest: 3.4055087 (900)\ttotal: 4m 29s\tremaining: 29.6s\n",
            "999:\tlearn: 3.4206292\ttest: 3.4050273\tbest: 3.4050273 (999)\ttotal: 4m 59s\tremaining: 0us\n",
            "bestTest = 3.405027274\n",
            "bestIteration = 999\n",
            "0:\tloss: 3.4050273\tbest: 3.4050273 (0)\ttotal: 5m 3s\tremaining: 45m 32s\n",
            "0:\tlearn: 4.0697279\ttest: 4.0748919\tbest: 4.0748919 (0)\ttotal: 296ms\tremaining: 4m 56s\n",
            "100:\tlearn: 3.4633100\ttest: 3.4476419\tbest: 3.4476419 (100)\ttotal: 30.4s\tremaining: 4m 30s\n",
            "200:\tlearn: 3.4325680\ttest: 3.4149645\tbest: 3.4149645 (200)\ttotal: 1m\tremaining: 4m 1s\n",
            "300:\tlearn: 3.4261065\ttest: 3.4088695\tbest: 3.4088695 (300)\ttotal: 1m 30s\tremaining: 3m 30s\n",
            "400:\tlearn: 3.4229658\ttest: 3.4067674\tbest: 3.4067674 (400)\ttotal: 2m\tremaining: 3m\n",
            "500:\tlearn: 3.4206070\ttest: 3.4053245\tbest: 3.4053245 (500)\ttotal: 2m 30s\tremaining: 2m 30s\n",
            "600:\tlearn: 3.4187158\ttest: 3.4046341\tbest: 3.4046341 (600)\ttotal: 3m\tremaining: 1m 59s\n",
            "700:\tlearn: 3.4169514\ttest: 3.4041146\tbest: 3.4041146 (700)\ttotal: 3m 30s\tremaining: 1m 29s\n",
            "800:\tlearn: 3.4152696\ttest: 3.4037469\tbest: 3.4037469 (800)\ttotal: 4m\tremaining: 59.7s\n",
            "900:\tlearn: 3.4137364\ttest: 3.4034891\tbest: 3.4034891 (900)\ttotal: 4m 30s\tremaining: 29.7s\n",
            "999:\tlearn: 3.4125093\ttest: 3.4033546\tbest: 3.4033546 (999)\ttotal: 4m 59s\tremaining: 0us\n",
            "bestTest = 3.403354588\n",
            "bestIteration = 999\n",
            "1:\tloss: 3.4033546\tbest: 3.4033546 (1)\ttotal: 10m 4s\tremaining: 40m 19s\n",
            "0:\tlearn: 4.0578089\ttest: 4.0654867\tbest: 4.0654867 (0)\ttotal: 296ms\tremaining: 4m 56s\n",
            "100:\tlearn: 3.4410484\ttest: 3.4246412\tbest: 3.4246412 (100)\ttotal: 30.5s\tremaining: 4m 31s\n",
            "200:\tlearn: 3.4275651\ttest: 3.4094100\tbest: 3.4094100 (200)\ttotal: 1m\tremaining: 4m 1s\n",
            "300:\tlearn: 3.4236441\ttest: 3.4063669\tbest: 3.4063669 (300)\ttotal: 1m 30s\tremaining: 3m 30s\n",
            "400:\tlearn: 3.4211485\ttest: 3.4052437\tbest: 3.4052437 (400)\ttotal: 2m\tremaining: 2m 59s\n",
            "500:\tlearn: 3.4192200\ttest: 3.4044309\tbest: 3.4044309 (500)\ttotal: 2m 30s\tremaining: 2m 29s\n",
            "600:\tlearn: 3.4175974\ttest: 3.4038192\tbest: 3.4038192 (600)\ttotal: 3m\tremaining: 1m 59s\n",
            "700:\tlearn: 3.4162343\ttest: 3.4035023\tbest: 3.4035023 (700)\ttotal: 3m 30s\tremaining: 1m 29s\n",
            "800:\tlearn: 3.4149684\ttest: 3.4033814\tbest: 3.4033814 (800)\ttotal: 4m\tremaining: 59.7s\n",
            "900:\tlearn: 3.4137469\ttest: 3.4034149\tbest: 3.4033814 (800)\ttotal: 4m 30s\tremaining: 29.7s\n",
            "999:\tlearn: 3.4127632\ttest: 3.4033841\tbest: 3.4033814 (800)\ttotal: 4m 59s\tremaining: 0us\n",
            "bestTest = 3.403381402\n",
            "bestIteration = 800\n",
            "2:\tloss: 3.4033814\tbest: 3.4033546 (1)\ttotal: 15m 5s\tremaining: 35m 13s\n",
            "0:\tlearn: 4.0820957\ttest: 4.0846578\tbest: 4.0846578 (0)\ttotal: 297ms\tremaining: 4m 56s\n",
            "100:\tlearn: 3.5571398\ttest: 3.5480560\tbest: 3.5480560 (100)\ttotal: 30.4s\tremaining: 4m 30s\n",
            "200:\tlearn: 3.4659631\ttest: 3.4515805\tbest: 3.4515805 (200)\ttotal: 1m\tremaining: 4m\n",
            "300:\tlearn: 3.4422917\ttest: 3.4253838\tbest: 3.4253838 (300)\ttotal: 1m 30s\tremaining: 3m 31s\n",
            "400:\tlearn: 3.4344619\ttest: 3.4165329\tbest: 3.4165329 (400)\ttotal: 2m 1s\tremaining: 3m 1s\n",
            "500:\tlearn: 3.4307013\ttest: 3.4121028\tbest: 3.4121028 (500)\ttotal: 2m 31s\tremaining: 2m 30s\n",
            "600:\tlearn: 3.4283813\ttest: 3.4097443\tbest: 3.4097443 (600)\ttotal: 3m 1s\tremaining: 2m\n",
            "700:\tlearn: 3.4268068\ttest: 3.4082847\tbest: 3.4082847 (700)\ttotal: 3m 31s\tremaining: 1m 30s\n",
            "800:\tlearn: 3.4255036\ttest: 3.4070601\tbest: 3.4070601 (800)\ttotal: 4m 1s\tremaining: 1m\n",
            "900:\tlearn: 3.4245635\ttest: 3.4063876\tbest: 3.4063876 (900)\ttotal: 4m 31s\tremaining: 29.8s\n",
            "999:\tlearn: 3.4237067\ttest: 3.4058149\tbest: 3.4058149 (999)\ttotal: 5m 1s\tremaining: 0us\n",
            "bestTest = 3.405814913\n",
            "bestIteration = 999\n",
            "3:\tloss: 3.4058149\tbest: 3.4033546 (1)\ttotal: 20m 8s\tremaining: 30m 12s\n",
            "0:\tlearn: 4.0699776\ttest: 4.0750369\tbest: 4.0750369 (0)\ttotal: 332ms\tremaining: 5m 31s\n",
            "100:\tlearn: 3.4584647\ttest: 3.4492209\tbest: 3.4492209 (100)\ttotal: 34.3s\tremaining: 5m 5s\n",
            "200:\tlearn: 3.4265464\ttest: 3.4148552\tbest: 3.4148552 (200)\ttotal: 1m 9s\tremaining: 4m 35s\n",
            "300:\tlearn: 3.4193939\ttest: 3.4092667\tbest: 3.4092667 (300)\ttotal: 1m 43s\tremaining: 4m 1s\n",
            "400:\tlearn: 3.4149399\ttest: 3.4073793\tbest: 3.4073793 (400)\ttotal: 2m 18s\tremaining: 3m 26s\n",
            "500:\tlearn: 3.4116018\ttest: 3.4061855\tbest: 3.4061855 (500)\ttotal: 2m 52s\tremaining: 2m 51s\n",
            "600:\tlearn: 3.4086454\ttest: 3.4056266\tbest: 3.4056266 (600)\ttotal: 3m 26s\tremaining: 2m 16s\n",
            "700:\tlearn: 3.4058097\ttest: 3.4053404\tbest: 3.4053404 (700)\ttotal: 4m\tremaining: 1m 42s\n",
            "800:\tlearn: 3.4031340\ttest: 3.4052525\tbest: 3.4052525 (800)\ttotal: 4m 34s\tremaining: 1m 8s\n",
            "900:\tlearn: 3.4007098\ttest: 3.4052571\tbest: 3.4052525 (800)\ttotal: 5m 8s\tremaining: 33.9s\n",
            "999:\tlearn: 3.3985589\ttest: 3.4053048\tbest: 3.4052525 (800)\ttotal: 5m 41s\tremaining: 0us\n",
            "bestTest = 3.405252463\n",
            "bestIteration = 800\n",
            "4:\tloss: 3.4052525\tbest: 3.4033546 (1)\ttotal: 25m 51s\tremaining: 25m 51s\n",
            "0:\tlearn: 4.0579760\ttest: 4.0655307\tbest: 4.0655307 (0)\ttotal: 328ms\tremaining: 5m 27s\n",
            "100:\tlearn: 3.4345966\ttest: 3.4229182\tbest: 3.4229182 (100)\ttotal: 34.6s\tremaining: 5m 8s\n",
            "200:\tlearn: 3.4191511\ttest: 3.4092296\tbest: 3.4092296 (200)\ttotal: 1m 9s\tremaining: 4m 35s\n",
            "300:\tlearn: 3.4130154\ttest: 3.4065896\tbest: 3.4065896 (300)\ttotal: 1m 43s\tremaining: 4m\n",
            "400:\tlearn: 3.4084550\ttest: 3.4058392\tbest: 3.4058392 (400)\ttotal: 2m 17s\tremaining: 3m 25s\n",
            "500:\tlearn: 3.4048578\ttest: 3.4053532\tbest: 3.4053532 (500)\ttotal: 2m 51s\tremaining: 2m 50s\n",
            "600:\tlearn: 3.4010963\ttest: 3.4052179\tbest: 3.4052179 (600)\ttotal: 3m 25s\tremaining: 2m 16s\n",
            "700:\tlearn: 3.3977180\ttest: 3.4052996\tbest: 3.4052179 (600)\ttotal: 3m 59s\tremaining: 1m 41s\n",
            "800:\tlearn: 3.3943261\ttest: 3.4055573\tbest: 3.4052179 (600)\ttotal: 4m 33s\tremaining: 1m 7s\n",
            "900:\tlearn: 3.3915050\ttest: 3.4058719\tbest: 3.4052179 (600)\ttotal: 5m 6s\tremaining: 33.7s\n",
            "999:\tlearn: 3.3887336\ttest: 3.4061247\tbest: 3.4052179 (600)\ttotal: 5m 40s\tremaining: 0us\n",
            "bestTest = 3.4052179\n",
            "bestIteration = 600\n",
            "5:\tloss: 3.4052179\tbest: 3.4033546 (1)\ttotal: 31m 33s\tremaining: 21m 2s\n",
            "0:\tlearn: 4.0822222\ttest: 4.0846658\tbest: 4.0846658 (0)\ttotal: 338ms\tremaining: 5m 37s\n",
            "100:\tlearn: 3.5524864\ttest: 3.5465143\tbest: 3.5465143 (100)\ttotal: 33.9s\tremaining: 5m 1s\n",
            "200:\tlearn: 3.4612604\ttest: 3.4516574\tbest: 3.4516574 (200)\ttotal: 1m 8s\tremaining: 4m 30s\n",
            "300:\tlearn: 3.4371887\ttest: 3.4252482\tbest: 3.4252482 (300)\ttotal: 1m 43s\tremaining: 3m 59s\n",
            "400:\tlearn: 3.4285623\ttest: 3.4159920\tbest: 3.4159920 (400)\ttotal: 2m 18s\tremaining: 3m 26s\n",
            "500:\tlearn: 3.4242824\ttest: 3.4119480\tbest: 3.4119480 (500)\ttotal: 2m 52s\tremaining: 2m 52s\n",
            "600:\tlearn: 3.4214162\ttest: 3.4098840\tbest: 3.4098840 (600)\ttotal: 3m 27s\tremaining: 2m 17s\n",
            "700:\tlearn: 3.4191243\ttest: 3.4086990\tbest: 3.4086990 (700)\ttotal: 4m 1s\tremaining: 1m 43s\n",
            "800:\tlearn: 3.4171560\ttest: 3.4078186\tbest: 3.4078186 (800)\ttotal: 4m 35s\tremaining: 1m 8s\n",
            "900:\tlearn: 3.4155317\ttest: 3.4071602\tbest: 3.4071602 (900)\ttotal: 5m 10s\tremaining: 34.1s\n",
            "999:\tlearn: 3.4140333\ttest: 3.4066606\tbest: 3.4066606 (999)\ttotal: 5m 43s\tremaining: 0us\n",
            "bestTest = 3.406660578\n",
            "bestIteration = 999\n",
            "6:\tloss: 3.4066606\tbest: 3.4033546 (1)\ttotal: 37m 18s\tremaining: 15m 59s\n",
            "0:\tlearn: 4.0697254\ttest: 4.0749036\tbest: 4.0749036 (0)\ttotal: 450ms\tremaining: 7m 29s\n",
            "100:\tlearn: 3.4467304\ttest: 3.4509862\tbest: 3.4509862 (100)\ttotal: 49s\tremaining: 7m 16s\n",
            "200:\tlearn: 3.4060667\ttest: 3.4161709\tbest: 3.4161709 (200)\ttotal: 1m 39s\tremaining: 6m 37s\n",
            "300:\tlearn: 3.3907015\ttest: 3.4112050\tbest: 3.4112050 (300)\ttotal: 2m 29s\tremaining: 5m 48s\n",
            "400:\tlearn: 3.3791465\ttest: 3.4097223\tbest: 3.4097223 (400)\ttotal: 3m 18s\tremaining: 4m 56s\n",
            "500:\tlearn: 3.3692317\ttest: 3.4095149\tbest: 3.4095149 (500)\ttotal: 4m 7s\tremaining: 4m 6s\n",
            "600:\tlearn: 3.3590199\ttest: 3.4098943\tbest: 3.4095149 (500)\ttotal: 4m 56s\tremaining: 3m 16s\n",
            "700:\tlearn: 3.3487654\ttest: 3.4105667\tbest: 3.4095149 (500)\ttotal: 5m 45s\tremaining: 2m 27s\n",
            "800:\tlearn: 3.3394035\ttest: 3.4113849\tbest: 3.4095149 (500)\ttotal: 6m 34s\tremaining: 1m 38s\n",
            "900:\tlearn: 3.3299668\ttest: 3.4123563\tbest: 3.4095149 (500)\ttotal: 7m 24s\tremaining: 48.8s\n",
            "999:\tlearn: 3.3212186\ttest: 3.4133362\tbest: 3.4095149 (500)\ttotal: 8m 13s\tremaining: 0us\n",
            "bestTest = 3.409514932\n",
            "bestIteration = 500\n",
            "7:\tloss: 3.4095149\tbest: 3.4033546 (1)\ttotal: 45m 32s\tremaining: 11m 23s\n",
            "0:\tlearn: 4.0576090\ttest: 4.0653355\tbest: 4.0653355 (0)\ttotal: 442ms\tremaining: 7m 21s\n",
            "100:\tlearn: 3.4185721\ttest: 3.4239637\tbest: 3.4239637 (100)\ttotal: 50.1s\tremaining: 7m 25s\n",
            "200:\tlearn: 3.3915905\ttest: 3.4109834\tbest: 3.4109834 (200)\ttotal: 1m 39s\tremaining: 6m 36s\n",
            "300:\tlearn: 3.3743470\ttest: 3.4095786\tbest: 3.4095786 (300)\ttotal: 2m 28s\tremaining: 5m 44s\n",
            "400:\tlearn: 3.3603483\ttest: 3.4096852\tbest: 3.4095786 (300)\ttotal: 3m 16s\tremaining: 4m 53s\n",
            "500:\tlearn: 3.3455551\ttest: 3.4107712\tbest: 3.4095786 (300)\ttotal: 4m 6s\tremaining: 4m 5s\n",
            "600:\tlearn: 3.3309599\ttest: 3.4122118\tbest: 3.4095786 (300)\ttotal: 4m 56s\tremaining: 3m 17s\n",
            "700:\tlearn: 3.3174404\ttest: 3.4137562\tbest: 3.4095786 (300)\ttotal: 5m 45s\tremaining: 2m 27s\n",
            "800:\tlearn: 3.3035464\ttest: 3.4155123\tbest: 3.4095786 (300)\ttotal: 6m 36s\tremaining: 1m 38s\n",
            "900:\tlearn: 3.2906612\ttest: 3.4173320\tbest: 3.4095786 (300)\ttotal: 7m 26s\tremaining: 49.1s\n",
            "999:\tlearn: 3.2785969\ttest: 3.4190850\tbest: 3.4095786 (300)\ttotal: 8m 16s\tremaining: 0us\n",
            "bestTest = 3.409578613\n",
            "bestIteration = 300\n",
            "8:\tloss: 3.4095786\tbest: 3.4033546 (1)\ttotal: 53m 50s\tremaining: 5m 58s\n",
            "0:\tlearn: 4.0701972\ttest: 4.0752233\tbest: 4.0752233 (0)\ttotal: 416ms\tremaining: 6m 55s\n",
            "100:\tlearn: 3.4550480\ttest: 3.4589816\tbest: 3.4589816 (100)\ttotal: 48.8s\tremaining: 7m 14s\n",
            "200:\tlearn: 3.4172448\ttest: 3.4199602\tbest: 3.4199602 (200)\ttotal: 1m 40s\tremaining: 6m 38s\n",
            "300:\tlearn: 3.4054659\ttest: 3.4130185\tbest: 3.4130185 (300)\ttotal: 2m 30s\tremaining: 5m 49s\n",
            "400:\tlearn: 3.3979185\ttest: 3.4107791\tbest: 3.4107791 (400)\ttotal: 3m 19s\tremaining: 4m 57s\n",
            "500:\tlearn: 3.3913025\ttest: 3.4101132\tbest: 3.4101132 (500)\ttotal: 4m 8s\tremaining: 4m 7s\n",
            "600:\tlearn: 3.3850042\ttest: 3.4099540\tbest: 3.4099540 (600)\ttotal: 4m 57s\tremaining: 3m 17s\n",
            "700:\tlearn: 3.3789839\ttest: 3.4101201\tbest: 3.4099540 (600)\ttotal: 5m 47s\tremaining: 2m 28s\n",
            "800:\tlearn: 3.3735908\ttest: 3.4103549\tbest: 3.4099540 (600)\ttotal: 6m 35s\tremaining: 1m 38s\n",
            "900:\tlearn: 3.3685038\ttest: 3.4108451\tbest: 3.4099540 (600)\ttotal: 7m 23s\tremaining: 48.8s\n",
            "999:\tlearn: 3.3638032\ttest: 3.4112926\tbest: 3.4099540 (600)\ttotal: 8m 11s\tremaining: 0us\n",
            "bestTest = 3.409953999\n",
            "bestIteration = 600\n",
            "9:\tloss: 3.4099540\tbest: 3.4033546 (1)\ttotal: 1h 2m 3s\tremaining: 0us\n",
            "Estimating final quality...\n",
            "0:\tlearn: 4.0701625\ttest: 4.0744722\tbest: 4.0744722 (0)\ttotal: 7.68s\tremaining: 2h 7m 57s\n",
            "100:\tlearn: 3.4819331\ttest: 3.5010837\tbest: 3.5010837 (100)\ttotal: 13m 22s\tremaining: 1h 59m 3s\n",
            "200:\tlearn: 3.4451264\ttest: 3.4449950\tbest: 3.4449950 (200)\ttotal: 27m 58s\tremaining: 1h 51m 13s\n",
            "300:\tlearn: 3.4374038\ttest: 3.4339043\tbest: 3.4339043 (300)\ttotal: 44m 35s\tremaining: 1h 43m 33s\n",
            "400:\tlearn: 3.4345171\ttest: 3.4306569\tbest: 3.4306569 (400)\ttotal: 1h 2m 43s\tremaining: 1h 33m 42s\n",
            "500:\tlearn: 3.4330062\ttest: 3.4293530\tbest: 3.4293530 (500)\ttotal: 1h 22m 39s\tremaining: 1h 22m 19s\n",
            "600:\tlearn: 3.4318485\ttest: 3.4286282\tbest: 3.4286282 (600)\ttotal: 1h 44m 17s\tremaining: 1h 9m 14s\n",
            "700:\tlearn: 3.4309054\ttest: 3.4282044\tbest: 3.4282044 (700)\ttotal: 2h 7m 28s\tremaining: 54m 22s\n",
            "800:\tlearn: 3.4299042\ttest: 3.4279183\tbest: 3.4279183 (800)\ttotal: 2h 32m 23s\tremaining: 37m 51s\n"
          ],
          "name": "stdout"
        }
      ]
    },
    {
      "cell_type": "code",
      "metadata": {
        "colab": {
          "base_uri": "https://localhost:8080/"
        },
        "id": "rBNrJ-QDo5OW",
        "outputId": "6a20a985-91d4-40e3-828a-159a509ded28"
      },
      "source": [
        "pd.Series(model.feature_importances_,model.feature_names_).sort_values(ascending=False).cumsum()"
      ],
      "execution_count": 26,
      "outputs": [
        {
          "output_type": "execute_result",
          "data": {
            "text/plain": [
              "item_title            42.686562\n",
              "sum_sold_quantity     77.721207\n",
              "sku                   91.188637\n",
              "item_domain_id        96.994869\n",
              "site_id               98.269165\n",
              "product_family_id     99.154241\n",
              "product_id           100.000000\n",
              "dtype: float64"
            ]
          },
          "metadata": {
            "tags": []
          },
          "execution_count": 26
        }
      ]
    },
    {
      "cell_type": "code",
      "metadata": {
        "colab": {
          "base_uri": "https://localhost:8080/"
        },
        "id": "gKxfo2DXo1nj",
        "outputId": "05dcfc18-d2ec-48c9-8f03-aca6428a61f3"
      },
      "source": [
        "model.score(test_pool),model.score(train_pool)"
      ],
      "execution_count": 27,
      "outputs": [
        {
          "output_type": "execute_result",
          "data": {
            "text/plain": [
              "(0.0891274177115673, 0.07508057466764625)"
            ]
          },
          "metadata": {
            "tags": []
          },
          "execution_count": 27
        }
      ]
    },
    {
      "cell_type": "code",
      "metadata": {
        "colab": {
          "base_uri": "https://localhost:8080/"
        },
        "id": "xOkK0kqNo4db",
        "outputId": "95610b85-a6cd-4670-b6dd-2335a8c5d502"
      },
      "source": [
        "model.score(test_pool),model.score(train_pool)"
      ],
      "execution_count": 28,
      "outputs": [
        {
          "output_type": "execute_result",
          "data": {
            "text/plain": [
              "(0.0891274177115673, 0.07508057466764625)"
            ]
          },
          "metadata": {
            "tags": []
          },
          "execution_count": 28
        }
      ]
    },
    {
      "cell_type": "code",
      "metadata": {
        "colab": {
          "base_uri": "https://localhost:8080/",
          "height": 282
        },
        "id": "nEJhAlNMkmyh",
        "outputId": "3644b19c-c894-4b2f-ced9-72ae4ab519e8"
      },
      "source": [
        "list_pd = [pd.DataFrame.from_dict(model.evals_result_[i]) for i in model.evals_result_]\n",
        "\n",
        "list_pd = pd.concat(list_pd,axis=1)\n",
        "list_pd.columns=[i for i in model.evals_result_]\n",
        "list_pd.plot()\n"
      ],
      "execution_count": 29,
      "outputs": [
        {
          "output_type": "execute_result",
          "data": {
            "text/plain": [
              "<matplotlib.axes._subplots.AxesSubplot at 0x7f2442eee610>"
            ]
          },
          "metadata": {
            "tags": []
          },
          "execution_count": 29
        },
        {
          "output_type": "display_data",
          "data": {
            "image/png": "[encoded data removed]",
            "text/plain": [
              "<Figure size 432x288 with 1 Axes>"
            ]
          },
          "metadata": {
            "tags": [],
            "needs_background": "light"
          }
        }
      ]
    },
    {
      "cell_type": "code",
      "metadata": {
        "id": "XgbeOOMEeFe5"
      },
      "source": [
        "submit_pool = Pool(submit_data.select(*vars).toPandas(),\n",
        "                 cat_features=cat_vars,\n",
        "                 text_features = text_vars) \n"
      ],
      "execution_count": 31,
      "outputs": []
    },
    {
      "cell_type": "code",
      "metadata": {
        "id": "WK8KYe1846YC",
        "colab": {
          "base_uri": "https://localhost:8080/",
          "height": 300
        },
        "outputId": "24ba7103-6dd4-4740-bffa-05ac62da1cad"
      },
      "source": [
        "preds= model.predict(submit_pool)\n",
        "pd.DataFrame(preds).describe()#.hist()"
      ],
      "execution_count": 32,
      "outputs": [
        {
          "output_type": "execute_result",
          "data": {
            "text/html": [
              "<div>\n",
              "<style scoped>\n",
              "    .dataframe tbody tr th:only-of-type {\n",
              "        vertical-align: middle;\n",
              "    }\n",
              "\n",
              "    .dataframe tbody tr th {\n",
              "        vertical-align: top;\n",
              "    }\n",
              "\n",
              "    .dataframe thead th {\n",
              "        text-align: right;\n",
              "    }\n",
              "</style>\n",
              "<table border=\"1\" class=\"dataframe\">\n",
              "  <thead>\n",
              "    <tr style=\"text-align: right;\">\n",
              "      <th></th>\n",
              "      <th>0</th>\n",
              "    </tr>\n",
              "  </thead>\n",
              "  <tbody>\n",
              "    <tr>\n",
              "      <th>count</th>\n",
              "      <td>551472.000000</td>\n",
              "    </tr>\n",
              "    <tr>\n",
              "      <th>mean</th>\n",
              "      <td>7.748705</td>\n",
              "    </tr>\n",
              "    <tr>\n",
              "      <th>std</th>\n",
              "      <td>5.400683</td>\n",
              "    </tr>\n",
              "    <tr>\n",
              "      <th>min</th>\n",
              "      <td>1.000000</td>\n",
              "    </tr>\n",
              "    <tr>\n",
              "      <th>25%</th>\n",
              "      <td>3.000000</td>\n",
              "    </tr>\n",
              "    <tr>\n",
              "      <th>50%</th>\n",
              "      <td>6.000000</td>\n",
              "    </tr>\n",
              "    <tr>\n",
              "      <th>75%</th>\n",
              "      <td>14.000000</td>\n",
              "    </tr>\n",
              "    <tr>\n",
              "      <th>max</th>\n",
              "      <td>23.000000</td>\n",
              "    </tr>\n",
              "  </tbody>\n",
              "</table>\n",
              "</div>"
            ],
            "text/plain": [
              "                   0\n",
              "count  551472.000000\n",
              "mean        7.748705\n",
              "std         5.400683\n",
              "min         1.000000\n",
              "25%         3.000000\n",
              "50%         6.000000\n",
              "75%        14.000000\n",
              "max        23.000000"
            ]
          },
          "metadata": {
            "tags": []
          },
          "execution_count": 32
        }
      ]
    },
    {
      "cell_type": "code",
      "metadata": {
        "id": "C44mz6xFF01G",
        "colab": {
          "base_uri": "https://localhost:8080/",
          "height": 316
        },
        "outputId": "5997b1cd-0472-41ac-c9ad-23a07d6a3b03"
      },
      "source": [
        "pd.DataFrame(preds).hist(bins=30)"
      ],
      "execution_count": 33,
      "outputs": [
        {
          "output_type": "execute_result",
          "data": {
            "text/plain": [
              "array([[<matplotlib.axes._subplots.AxesSubplot object at 0x7f2453988f10>]],\n",
              "      dtype=object)"
            ]
          },
          "metadata": {
            "tags": []
          },
          "execution_count": 33
        },
        {
          "output_type": "display_data",
          "data": {
            "image/png": "[encoded data removed]",
            "text/plain": [
              "<Figure size 432x288 with 1 Axes>"
            ]
          },
          "metadata": {
            "tags": [],
            "needs_background": "light"
          }
        }
      ]
    },
    {
      "cell_type": "code",
      "metadata": {
        "id": "XDZsKkBM_DeR",
        "colab": {
          "base_uri": "https://localhost:8080/",
          "height": 282
        },
        "outputId": "2e30db49-3dc8-4bb3-ee44-f60ea05c2c9a"
      },
      "source": [
        "pd.DataFrame(preds).apply(lambda x : x[0] if x[0]<30 else 30,axis=1).hist(bins=30)"
      ],
      "execution_count": 34,
      "outputs": [
        {
          "output_type": "execute_result",
          "data": {
            "text/plain": [
              "<matplotlib.axes._subplots.AxesSubplot at 0x7f2453988490>"
            ]
          },
          "metadata": {
            "tags": []
          },
          "execution_count": 34
        },
        {
          "output_type": "display_data",
          "data": {
            "image/png": "[encoded data removed]",
            "text/plain": [
              "<Figure size 432x288 with 1 Axes>"
            ]
          },
          "metadata": {
            "tags": [],
            "needs_background": "light"
          }
        }
      ]
    },
    {
      "cell_type": "code",
      "metadata": {
        "id": "wJdV89FQ-spU"
      },
      "source": [
        "result = pd.DataFrame(model.predict_proba(submit_pool))#.round(4)#.to_csv(\"test_inner.csv.gz\",compression='gzip',index=False,header=False)"
      ],
      "execution_count": 35,
      "outputs": []
    },
    {
      "cell_type": "code",
      "metadata": {
        "id": "RqxIen69-AuD"
      },
      "source": [
        "result.loc[:,29] = result.loc[:,29:].sum(axis=1)#.apply(lambda x : x if x<1. else 1. )"
      ],
      "execution_count": 36,
      "outputs": []
    },
    {
      "cell_type": "code",
      "metadata": {
        "colab": {
          "base_uri": "https://localhost:8080/"
        },
        "id": "zYNiCZmctEty",
        "outputId": "cb5fe577-9b77-4c0d-fff5-32acc6ccaa5b"
      },
      "source": [
        "(result.loc[:,:29].round(4)>1).any(axis=1).sum()"
      ],
      "execution_count": 37,
      "outputs": [
        {
          "output_type": "execute_result",
          "data": {
            "text/plain": [
              "0"
            ]
          },
          "metadata": {
            "tags": []
          },
          "execution_count": 37
        }
      ]
    },
    {
      "cell_type": "code",
      "metadata": {
        "id": "WgrVe4Zy-hDX"
      },
      "source": [
        "result.loc[:,:29].round(4).to_csv(\"drive/MyDrive/MeLi-2021/results/challenger.csv.gz\",compression='gzip',index=False,header=False)"
      ],
      "execution_count": 38,
      "outputs": []
    },
    {
      "cell_type": "code",
      "metadata": {
        "id": "BhgL54ZS2sv1"
      },
      "source": [
        "result = pd.read_csv(\"drive/MyDrive/MeLi-2021/results/challenger.csv.gz\",header=None)\n",
        "winner = pd.read_csv(\"drive/MyDrive/MeLi-2021/results/test_inner (16).csv.gz\",header=None)"
      ],
      "execution_count": 59,
      "outputs": []
    },
    {
      "cell_type": "code",
      "metadata": {
        "id": "NA-c3wKopKbA",
        "outputId": "2fe701e4-a9df-45ed-9f40-c2d2101ba4a7",
        "colab": {
          "base_uri": "https://localhost:8080/"
        }
      },
      "source": [
        "result.idxmax(axis=1).describe()"
      ],
      "execution_count": 60,
      "outputs": [
        {
          "output_type": "execute_result",
          "data": {
            "text/plain": [
              "count    551472.000000\n",
              "mean         17.007473\n",
              "std          13.210564\n",
              "min           0.000000\n",
              "25%           2.000000\n",
              "50%          29.000000\n",
              "75%          29.000000\n",
              "max          29.000000\n",
              "dtype: float64"
            ]
          },
          "metadata": {
            "tags": []
          },
          "execution_count": 60
        }
      ]
    },
    {
      "cell_type": "code",
      "metadata": {
        "id": "cOygfQkrqNsG",
        "outputId": "a54b229f-ec2f-4675-e414-1d657d25e397",
        "colab": {
          "base_uri": "https://localhost:8080/"
        }
      },
      "source": [
        "winner.idxmax(axis=1).describe()"
      ],
      "execution_count": 61,
      "outputs": [
        {
          "output_type": "execute_result",
          "data": {
            "text/plain": [
              "count    551472.000000\n",
              "mean         19.563399\n",
              "std          12.809139\n",
              "min           0.000000\n",
              "25%           3.000000\n",
              "50%          29.000000\n",
              "75%          29.000000\n",
              "max          29.000000\n",
              "dtype: float64"
            ]
          },
          "metadata": {
            "tags": []
          },
          "execution_count": 61
        }
      ]
    },
    {
      "cell_type": "code",
      "metadata": {
        "id": "t3s1hEKCqO7p",
        "outputId": "f21b8c50-ce00-43ee-84b2-9ce0d3ecae07",
        "colab": {
          "base_uri": "https://localhost:8080/",
          "height": 282
        }
      },
      "source": [
        "result.idxmax(axis=1).hist()\n",
        "winner.idxmax(axis=1).hist(alpha=0.5)"
      ],
      "execution_count": 62,
      "outputs": [
        {
          "output_type": "execute_result",
          "data": {
            "text/plain": [
              "<matplotlib.axes._subplots.AxesSubplot at 0x7f2416298510>"
            ]
          },
          "metadata": {
            "tags": []
          },
          "execution_count": 62
        },
        {
          "output_type": "display_data",
          "data": {
            "image/png": "[encoded data removed]",
            "text/plain": [
              "<Figure size 432x288 with 1 Axes>"
            ]
          },
          "metadata": {
            "tags": [],
            "needs_background": "light"
          }
        }
      ]
    },
    {
      "cell_type": "code",
      "metadata": {
        "id": "fs4KrvrMq2ur",
        "outputId": "ae788f4d-9f6e-49d8-922e-4c3104b1d75d",
        "colab": {
          "base_uri": "https://localhost:8080/"
        }
      },
      "source": [
        "np.corrcoef(result.idxmax(axis=1),winner.idxmax(axis=1))"
      ],
      "execution_count": 63,
      "outputs": [
        {
          "output_type": "execute_result",
          "data": {
            "text/plain": [
              "array([[1.        , 0.66051745],\n",
              "       [0.66051745, 1.        ]])"
            ]
          },
          "metadata": {
            "tags": []
          },
          "execution_count": 63
        }
      ]
    }
  ]
}